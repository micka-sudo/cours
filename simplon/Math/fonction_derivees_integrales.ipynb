{
 "cells": [
  {
   "cell_type": "markdown",
   "metadata": {
    "heading_collapsed": true
   },
   "source": [
    "# Etudes de fonctions"
   ]
  },
  {
   "cell_type": "markdown",
   "metadata": {
    "hidden": true
   },
   "source": [
    "Soit la fonction f définie sur $\\mathbb{R}$ par : $f(x)= \\frac{2x}{x²+9}$ "
   ]
  },
  {
   "cell_type": "markdown",
   "metadata": {
    "hidden": true
   },
   "source": [
    "## 1) Variations de la fonction "
   ]
  },
  {
   "cell_type": "markdown",
   "metadata": {
    "hidden": true
   },
   "source": [
    "### a) Vérifier que : $f'(x) = \\frac{2(3+x)(3-x)}{(x²+9)²} $"
   ]
  },
  {
   "cell_type": "markdown",
   "metadata": {
    "hidden": true
   },
   "source": [
    "$\\frac{u}{v} -> \\frac{u'v-uv'}{v²} = \\frac{u'v-uv'}{(x²+9)²} = \\frac{-2x² +18}{(x²+9)²} = \\frac{2(3+x)(3-x)}{(x²+9)²}$\n",
    "\n",
    "$u'=2$\n",
    "\n",
    "$v'=2x$\n",
    "\n",
    "$u'v-uv' = 2(x² +9) - 4x² = 2x² + 18 - 4x² = -2x² +18$\n",
    "\n",
    "$2(3+x)(3-x) = (6 + 2x)(3-x) = 18 + 6x - 6x - 2x² = - 2x² + 18$\n"
   ]
  },
  {
   "cell_type": "markdown",
   "metadata": {
    "heading_collapsed": true,
    "hidden": true
   },
   "source": [
    "### b) Etudier le signe de f ’ sur ℝ. On pourra s’aider d’un tableau de signes. "
   ]
  },
  {
   "cell_type": "markdown",
   "metadata": {
    "hidden": true
   },
   "source": [
    "$(x²+9)² > 0$\n",
    "\n",
    "$2(3+x)(3-x)=0$\n",
    "\n",
    "on a trois facteur, on cherche les facteur de x = 0\n",
    "\n",
    "$(3 + x) = 0$ pour $x = -3$\n",
    "\n",
    "$(3 - x) = 0$ pour $x = 3$\n",
    "\n",
    "$ \\hspace{3cm} -\\infty \\hspace{1cm} -3 \\hspace{1cm} 3 \\hspace{1cm} +\\infty$\n",
    "\n",
    "$(3+x)\\hspace{1.3cm} - \\hspace{1cm} 0 \\hspace{1cm} + \\hspace{1cm} 0 \\hspace{1cm} +$\n",
    "\n",
    "$(3-x)\\hspace{1.3cm} + \\hspace{1cm} 0 \\hspace{1cm} + \\hspace{1cm} 0 \\hspace{1cm} -$\n",
    "\n",
    "$(x²+9)²\\hspace{1cm} + \\hspace{1cm} 0 \\hspace{1cm} + \\hspace{1cm} 0 \\hspace{1cm} +$\n",
    "\n",
    "$f'(x)\\hspace{1.8cm} - \\hspace{1cm} 0 \\hspace{1cm} + \\hspace{1cm} 0 \\hspace{1cm} -$\n"
   ]
  },
  {
   "cell_type": "markdown",
   "metadata": {
    "hidden": true
   },
   "source": [
    "### c) En déduire les variations de la fonction f sur ℝ. On présentera les résultats dans un tableau de variations."
   ]
  },
  {
   "cell_type": "markdown",
   "metadata": {
    "hidden": true
   },
   "source": [
    "$ \\hspace{3cm} -\\infty \\hspace{1cm} -3 \\hspace{1cm} 3 \\hspace{1cm} +\\infty$\n",
    "\n",
    "$(3+x)\\hspace{1.3cm} - \\hspace{1cm} 0 \\hspace{1cm} + \\hspace{1cm} 0 \\hspace{1cm} +$\n",
    "\n",
    "$(3-x)\\hspace{1.3cm} + \\hspace{1cm} 0 \\hspace{1cm} + \\hspace{1cm} 0 \\hspace{1cm} -$\n",
    "\n",
    "$(x²+9)²\\hspace{1cm} + \\hspace{1cm} 0 \\hspace{1cm} + \\hspace{1cm} 0 \\hspace{1cm} +$\n",
    "\n",
    "$f'(x)\\hspace{1.8cm} - \\hspace{1cm} 0 \\hspace{1cm} + \\hspace{1cm} 0 \\hspace{1cm} -$\n",
    "\n",
    "$f(x)\\hspace{2cm} |\\hspace{0.5cm}\\searrow\\hspace{0.5cm}|\\hspace{1cm}\\nearrow\\hspace{1cm}|\\hspace{0.5cm}\\searrow$\n",
    "\n"
   ]
  },
  {
   "cell_type": "markdown",
   "metadata": {
    "hidden": true
   },
   "source": [
    "### a) Calculer les limites de la fonction $f$ en $+\\infty$ et en $-\\infty$. Compléter les résultats dans le tableau de variations de la question 1c."
   ]
  },
  {
   "cell_type": "markdown",
   "metadata": {
    "hidden": true
   },
   "source": [
    "## 2) Limites aux bornes"
   ]
  },
  {
   "cell_type": "markdown",
   "metadata": {
    "hidden": true
   },
   "source": [
    "L'exposant le plus fort étant dans le dénomiteur, les limites tenderont vers $-0, 0+$\n",
    "\n",
    "$\\lim_{x\\to+\\infty} f(x) = \\frac{2(+\\infty)}{+\\infty²+9} = 0$\n",
    "\n",
    "$\\lim_{x\\to-\\infty} f(x) = 0$\n",
    "\n",
    "$ \\hspace{3cm} -\\infty \\hspace{1cm} -3 \\hspace{1cm} 3 \\hspace{1cm} +\\infty$\n",
    "\n",
    "$(3+x)\\hspace{1.3cm} - \\hspace{1cm} 0 \\hspace{1cm} + \\hspace{1cm} 0 \\hspace{1cm} +$\n",
    "\n",
    "$(3-x)\\hspace{1.3cm} + \\hspace{1cm} 0 \\hspace{1cm} + \\hspace{1cm} 0 \\hspace{1cm} -$\n",
    "\n",
    "$(x²+9)²\\hspace{1cm} + \\hspace{1cm} 0 \\hspace{1cm} + \\hspace{1cm} 0 \\hspace{1cm} +$\n",
    "\n",
    "$f'(x)\\hspace{1.8cm} - \\hspace{1cm} 0 \\hspace{1cm} + \\hspace{1cm} 0 \\hspace{1cm} -$\n",
    "\n",
    "$f(x)\\hspace{2.2cm} 0\\hspace{0.2cm}\\searrow\\hspace{0.2cm}|\\hspace{0.9cm}\\nearrow\\hspace{0.9cm}|\\hspace{0.2cm}\\searrow\\hspace{0.2cm}0$"
   ]
  },
  {
   "cell_type": "markdown",
   "metadata": {
    "hidden": true
   },
   "source": [
    "### b) En déduire l’existence d’une asymptote à la courbe dont on donnera l’équation."
   ]
  },
  {
   "cell_type": "markdown",
   "metadata": {
    "hidden": true
   },
   "source": [
    "Pour une limite en $-\\infty$ et $+\\infty$ à 0\n",
    "\n",
    "l'asymptote a pour équiation f(x) = 0"
   ]
  },
  {
   "cell_type": "markdown",
   "metadata": {
    "hidden": true
   },
   "source": [
    "## 3) Tangentes à la courbe"
   ]
  },
  {
   "cell_type": "markdown",
   "metadata": {
    "hidden": true
   },
   "source": [
    "### a) Donner les équations de tangentes horizontales à la courbe. Pour chacune d’elles, on précisera en quel point. "
   ]
  },
  {
   "cell_type": "markdown",
   "metadata": {
    "hidden": true
   },
   "source": [
    "$f(-3) = \\frac{-6}{18} = -\\frac{1}{3}$\n",
    "\n",
    "$f(-3) = \\frac{6}{18} = \\frac{1}{3}$"
   ]
  },
  {
   "cell_type": "markdown",
   "metadata": {
    "hidden": true
   },
   "source": [
    "### b) Déterminer l’équation de la tangente à la courbe en 0."
   ]
  },
  {
   "cell_type": "markdown",
   "metadata": {
    "hidden": true
   },
   "source": [
    "$ax + b = f'(0)x + f(0)$\n",
    "\n",
    "$f(0) = \\frac{2*0}{x²+9} = 0$\n",
    "\n",
    "$f'(0) = \\frac{2(3+0)(3-0)}{9²} = \\frac{18}{91} = \\frac{2}{9} $\n",
    "\n",
    "$ax + b = f'(0)x + f(0) = \\frac{2}{9}x$"
   ]
  },
  {
   "cell_type": "markdown",
   "metadata": {
    "hidden": true
   },
   "source": [
    "### c) Simplifier l’expression $𝑓(𝑥) - \\frac{−2}{9}𝑥$  et en déduire la position relative de la tangente en 0 avec la courbe de la fonction f. "
   ]
  },
  {
   "cell_type": "markdown",
   "metadata": {
    "hidden": true
   },
   "source": [
    "$f(x)-(-\\frac{2}{9}x) =\\frac{2x}{x²+9} + \\frac{2x}{9} =\\frac{2x}{x²+9} + \\frac{2x(\\frac{x²}{9} + 1)}{9(\\frac{x²}{9} + 1)} = \\frac{\\frac{2x²}{9}}{x+9} = \\frac{2x²}{9x + 81}$ "
   ]
  },
  {
   "cell_type": "markdown",
   "metadata": {
    "hidden": true
   },
   "source": []
  },
  {
   "cell_type": "markdown",
   "metadata": {
    "hidden": true
   },
   "source": [
    "## 4) Représentation graphique "
   ]
  },
  {
   "cell_type": "markdown",
   "metadata": {
    "hidden": true
   },
   "source": [
    "### a) Tracer dans un repère, l’asymptote et les trois tangentes déterminées dans les questions précédentes. "
   ]
  },
  {
   "cell_type": "code",
   "execution_count": 23,
   "metadata": {
    "hidden": true
   },
   "outputs": [
    {
     "ename": "ValueError",
     "evalue": "x and y must have same first dimension, but have shapes (21,) and (1,)",
     "output_type": "error",
     "traceback": [
      "\u001b[1;31m---------------------------------------------------------------------------\u001b[0m",
      "\u001b[1;31mValueError\u001b[0m                                Traceback (most recent call last)",
      "\u001b[1;32m<ipython-input-23-5b2e4f0ae686>\u001b[0m in \u001b[0;36m<module>\u001b[1;34m\u001b[0m\n\u001b[0;32m     38\u001b[0m \u001b[0mplt\u001b[0m\u001b[1;33m.\u001b[0m\u001b[0mplot\u001b[0m\u001b[1;33m(\u001b[0m\u001b[0mx\u001b[0m\u001b[1;33m,\u001b[0m\u001b[0myd\u001b[0m\u001b[1;33m,\u001b[0m \u001b[0mcolor\u001b[0m\u001b[1;33m=\u001b[0m\u001b[1;34m'red'\u001b[0m\u001b[1;33m)\u001b[0m\u001b[1;33m\u001b[0m\u001b[1;33m\u001b[0m\u001b[0m\n\u001b[0;32m     39\u001b[0m \u001b[0mplt\u001b[0m\u001b[1;33m.\u001b[0m\u001b[0mplot\u001b[0m\u001b[1;33m(\u001b[0m\u001b[0mx\u001b[0m\u001b[1;33m,\u001b[0m\u001b[0mya\u001b[0m\u001b[1;33m,\u001b[0m \u001b[0mcolor\u001b[0m\u001b[1;33m=\u001b[0m\u001b[1;34m'yellow'\u001b[0m\u001b[1;33m)\u001b[0m\u001b[1;33m\u001b[0m\u001b[1;33m\u001b[0m\u001b[0m\n\u001b[1;32m---> 40\u001b[1;33m \u001b[0mplt\u001b[0m\u001b[1;33m.\u001b[0m\u001b[0mplot\u001b[0m\u001b[1;33m(\u001b[0m\u001b[0mx\u001b[0m\u001b[1;33m,\u001b[0m\u001b[0mt1\u001b[0m\u001b[1;33m,\u001b[0m \u001b[0mcolor\u001b[0m\u001b[1;33m=\u001b[0m\u001b[1;34m'blue'\u001b[0m\u001b[1;33m)\u001b[0m\u001b[1;33m\u001b[0m\u001b[1;33m\u001b[0m\u001b[0m\n\u001b[0m\u001b[0;32m     41\u001b[0m \u001b[0mplt\u001b[0m\u001b[1;33m.\u001b[0m\u001b[0mplot\u001b[0m\u001b[1;33m(\u001b[0m\u001b[0mx\u001b[0m\u001b[1;33m,\u001b[0m\u001b[0mt2\u001b[0m\u001b[1;33m,\u001b[0m \u001b[0mcolor\u001b[0m\u001b[1;33m=\u001b[0m\u001b[1;34m'orange'\u001b[0m\u001b[1;33m)\u001b[0m\u001b[1;33m\u001b[0m\u001b[1;33m\u001b[0m\u001b[0m\n\u001b[0;32m     42\u001b[0m \u001b[0mplt\u001b[0m\u001b[1;33m.\u001b[0m\u001b[0mplot\u001b[0m\u001b[1;33m(\u001b[0m\u001b[0mx\u001b[0m\u001b[1;33m,\u001b[0m\u001b[0mt3\u001b[0m\u001b[1;33m,\u001b[0m \u001b[0mcolor\u001b[0m\u001b[1;33m=\u001b[0m\u001b[1;34m'purple'\u001b[0m\u001b[1;33m)\u001b[0m\u001b[1;33m\u001b[0m\u001b[1;33m\u001b[0m\u001b[0m\n",
      "\u001b[1;32m~\\Anaconda3\\lib\\site-packages\\matplotlib\\pyplot.py\u001b[0m in \u001b[0;36mplot\u001b[1;34m(scalex, scaley, data, *args, **kwargs)\u001b[0m\n\u001b[0;32m   2793\u001b[0m     return gca().plot(\n\u001b[0;32m   2794\u001b[0m         *args, scalex=scalex, scaley=scaley, **({\"data\": data} if data\n\u001b[1;32m-> 2795\u001b[1;33m         is not None else {}), **kwargs)\n\u001b[0m\u001b[0;32m   2796\u001b[0m \u001b[1;33m\u001b[0m\u001b[0m\n\u001b[0;32m   2797\u001b[0m \u001b[1;33m\u001b[0m\u001b[0m\n",
      "\u001b[1;32m~\\Anaconda3\\lib\\site-packages\\matplotlib\\axes\\_axes.py\u001b[0m in \u001b[0;36mplot\u001b[1;34m(self, scalex, scaley, data, *args, **kwargs)\u001b[0m\n\u001b[0;32m   1664\u001b[0m         \"\"\"\n\u001b[0;32m   1665\u001b[0m         \u001b[0mkwargs\u001b[0m \u001b[1;33m=\u001b[0m \u001b[0mcbook\u001b[0m\u001b[1;33m.\u001b[0m\u001b[0mnormalize_kwargs\u001b[0m\u001b[1;33m(\u001b[0m\u001b[0mkwargs\u001b[0m\u001b[1;33m,\u001b[0m \u001b[0mmlines\u001b[0m\u001b[1;33m.\u001b[0m\u001b[0mLine2D\u001b[0m\u001b[1;33m.\u001b[0m\u001b[0m_alias_map\u001b[0m\u001b[1;33m)\u001b[0m\u001b[1;33m\u001b[0m\u001b[1;33m\u001b[0m\u001b[0m\n\u001b[1;32m-> 1666\u001b[1;33m         \u001b[0mlines\u001b[0m \u001b[1;33m=\u001b[0m \u001b[1;33m[\u001b[0m\u001b[1;33m*\u001b[0m\u001b[0mself\u001b[0m\u001b[1;33m.\u001b[0m\u001b[0m_get_lines\u001b[0m\u001b[1;33m(\u001b[0m\u001b[1;33m*\u001b[0m\u001b[0margs\u001b[0m\u001b[1;33m,\u001b[0m \u001b[0mdata\u001b[0m\u001b[1;33m=\u001b[0m\u001b[0mdata\u001b[0m\u001b[1;33m,\u001b[0m \u001b[1;33m**\u001b[0m\u001b[0mkwargs\u001b[0m\u001b[1;33m)\u001b[0m\u001b[1;33m]\u001b[0m\u001b[1;33m\u001b[0m\u001b[1;33m\u001b[0m\u001b[0m\n\u001b[0m\u001b[0;32m   1667\u001b[0m         \u001b[1;32mfor\u001b[0m \u001b[0mline\u001b[0m \u001b[1;32min\u001b[0m \u001b[0mlines\u001b[0m\u001b[1;33m:\u001b[0m\u001b[1;33m\u001b[0m\u001b[1;33m\u001b[0m\u001b[0m\n\u001b[0;32m   1668\u001b[0m             \u001b[0mself\u001b[0m\u001b[1;33m.\u001b[0m\u001b[0madd_line\u001b[0m\u001b[1;33m(\u001b[0m\u001b[0mline\u001b[0m\u001b[1;33m)\u001b[0m\u001b[1;33m\u001b[0m\u001b[1;33m\u001b[0m\u001b[0m\n",
      "\u001b[1;32m~\\Anaconda3\\lib\\site-packages\\matplotlib\\axes\\_base.py\u001b[0m in \u001b[0;36m__call__\u001b[1;34m(self, *args, **kwargs)\u001b[0m\n\u001b[0;32m    223\u001b[0m                 \u001b[0mthis\u001b[0m \u001b[1;33m+=\u001b[0m \u001b[0margs\u001b[0m\u001b[1;33m[\u001b[0m\u001b[1;36m0\u001b[0m\u001b[1;33m]\u001b[0m\u001b[1;33m,\u001b[0m\u001b[1;33m\u001b[0m\u001b[1;33m\u001b[0m\u001b[0m\n\u001b[0;32m    224\u001b[0m                 \u001b[0margs\u001b[0m \u001b[1;33m=\u001b[0m \u001b[0margs\u001b[0m\u001b[1;33m[\u001b[0m\u001b[1;36m1\u001b[0m\u001b[1;33m:\u001b[0m\u001b[1;33m]\u001b[0m\u001b[1;33m\u001b[0m\u001b[1;33m\u001b[0m\u001b[0m\n\u001b[1;32m--> 225\u001b[1;33m             \u001b[1;32myield\u001b[0m \u001b[1;32mfrom\u001b[0m \u001b[0mself\u001b[0m\u001b[1;33m.\u001b[0m\u001b[0m_plot_args\u001b[0m\u001b[1;33m(\u001b[0m\u001b[0mthis\u001b[0m\u001b[1;33m,\u001b[0m \u001b[0mkwargs\u001b[0m\u001b[1;33m)\u001b[0m\u001b[1;33m\u001b[0m\u001b[1;33m\u001b[0m\u001b[0m\n\u001b[0m\u001b[0;32m    226\u001b[0m \u001b[1;33m\u001b[0m\u001b[0m\n\u001b[0;32m    227\u001b[0m     \u001b[1;32mdef\u001b[0m \u001b[0mget_next_color\u001b[0m\u001b[1;33m(\u001b[0m\u001b[0mself\u001b[0m\u001b[1;33m)\u001b[0m\u001b[1;33m:\u001b[0m\u001b[1;33m\u001b[0m\u001b[1;33m\u001b[0m\u001b[0m\n",
      "\u001b[1;32m~\\Anaconda3\\lib\\site-packages\\matplotlib\\axes\\_base.py\u001b[0m in \u001b[0;36m_plot_args\u001b[1;34m(self, tup, kwargs)\u001b[0m\n\u001b[0;32m    389\u001b[0m             \u001b[0mx\u001b[0m\u001b[1;33m,\u001b[0m \u001b[0my\u001b[0m \u001b[1;33m=\u001b[0m \u001b[0mindex_of\u001b[0m\u001b[1;33m(\u001b[0m\u001b[0mtup\u001b[0m\u001b[1;33m[\u001b[0m\u001b[1;33m-\u001b[0m\u001b[1;36m1\u001b[0m\u001b[1;33m]\u001b[0m\u001b[1;33m)\u001b[0m\u001b[1;33m\u001b[0m\u001b[1;33m\u001b[0m\u001b[0m\n\u001b[0;32m    390\u001b[0m \u001b[1;33m\u001b[0m\u001b[0m\n\u001b[1;32m--> 391\u001b[1;33m         \u001b[0mx\u001b[0m\u001b[1;33m,\u001b[0m \u001b[0my\u001b[0m \u001b[1;33m=\u001b[0m \u001b[0mself\u001b[0m\u001b[1;33m.\u001b[0m\u001b[0m_xy_from_xy\u001b[0m\u001b[1;33m(\u001b[0m\u001b[0mx\u001b[0m\u001b[1;33m,\u001b[0m \u001b[0my\u001b[0m\u001b[1;33m)\u001b[0m\u001b[1;33m\u001b[0m\u001b[1;33m\u001b[0m\u001b[0m\n\u001b[0m\u001b[0;32m    392\u001b[0m \u001b[1;33m\u001b[0m\u001b[0m\n\u001b[0;32m    393\u001b[0m         \u001b[1;32mif\u001b[0m \u001b[0mself\u001b[0m\u001b[1;33m.\u001b[0m\u001b[0mcommand\u001b[0m \u001b[1;33m==\u001b[0m \u001b[1;34m'plot'\u001b[0m\u001b[1;33m:\u001b[0m\u001b[1;33m\u001b[0m\u001b[1;33m\u001b[0m\u001b[0m\n",
      "\u001b[1;32m~\\Anaconda3\\lib\\site-packages\\matplotlib\\axes\\_base.py\u001b[0m in \u001b[0;36m_xy_from_xy\u001b[1;34m(self, x, y)\u001b[0m\n\u001b[0;32m    268\u001b[0m         \u001b[1;32mif\u001b[0m \u001b[0mx\u001b[0m\u001b[1;33m.\u001b[0m\u001b[0mshape\u001b[0m\u001b[1;33m[\u001b[0m\u001b[1;36m0\u001b[0m\u001b[1;33m]\u001b[0m \u001b[1;33m!=\u001b[0m \u001b[0my\u001b[0m\u001b[1;33m.\u001b[0m\u001b[0mshape\u001b[0m\u001b[1;33m[\u001b[0m\u001b[1;36m0\u001b[0m\u001b[1;33m]\u001b[0m\u001b[1;33m:\u001b[0m\u001b[1;33m\u001b[0m\u001b[1;33m\u001b[0m\u001b[0m\n\u001b[0;32m    269\u001b[0m             raise ValueError(\"x and y must have same first dimension, but \"\n\u001b[1;32m--> 270\u001b[1;33m                              \"have shapes {} and {}\".format(x.shape, y.shape))\n\u001b[0m\u001b[0;32m    271\u001b[0m         \u001b[1;32mif\u001b[0m \u001b[0mx\u001b[0m\u001b[1;33m.\u001b[0m\u001b[0mndim\u001b[0m \u001b[1;33m>\u001b[0m \u001b[1;36m2\u001b[0m \u001b[1;32mor\u001b[0m \u001b[0my\u001b[0m\u001b[1;33m.\u001b[0m\u001b[0mndim\u001b[0m \u001b[1;33m>\u001b[0m \u001b[1;36m2\u001b[0m\u001b[1;33m:\u001b[0m\u001b[1;33m\u001b[0m\u001b[1;33m\u001b[0m\u001b[0m\n\u001b[0;32m    272\u001b[0m             raise ValueError(\"x and y can be no greater than 2-D, but have \"\n",
      "\u001b[1;31mValueError\u001b[0m: x and y must have same first dimension, but have shapes (21,) and (1,)"
     ]
    },
    {
     "data": {
      "image/png": "[encoded data removed]",
      "text/plain": [
       "<Figure size 432x288 with 1 Axes>"
      ]
     },
     "metadata": {
      "needs_background": "light"
     },
     "output_type": "display_data"
    }
   ],
   "source": [
    "##### %matplotlib inline\n",
    "\n",
    "def f(x):\n",
    "    return (2*x)/(x**2+9)\n",
    "def fd(x):\n",
    "    return (2*(2+x)*(2-x))/((x**2 +9) ** 2)\n",
    "def fa(x):\n",
    "    return 0\n",
    "def t1(x):\n",
    "    return f(-3)\n",
    "def t2(x):\n",
    "    return f(3)\n",
    "def t3(x):\n",
    "    return (2*x)/ 9\n",
    "\n",
    "import numpy as np\n",
    "from matplotlib import pyplot as plt\n",
    "\n",
    "# Create an array of x values to plot\n",
    "x = list(range(-10, 11))\n",
    "\n",
    "# Use the function to get the y values\n",
    "y = np.array([f(i) for i in x])\n",
    "yd = np.array([fd(i) for i in x])\n",
    "ya = np.array([fa(i) for i in x])\n",
    "yt1 = np.array([t1(i) for i in x])\n",
    "yt2 = np.array([t2(i) for i in x])\n",
    "yt3 = np.array([t3(i) for i in x])\n",
    "# Set up the graph\n",
    "plt.xlabel('x')\n",
    "plt.ylabel('y')\n",
    "plt.xticks(x)\n",
    "plt.yticks(np.arange(-10, 10) / 10)\n",
    "plt.grid()\n",
    "\n",
    "# Plot the function\n",
    "plt.plot(x,y, color='green')\n",
    "plt.plot(x,yd, color='red')\n",
    "plt.plot(x,ya, color='yellow')\n",
    "plt.plot(x,yt1, color='blue')\n",
    "plt.plot(x,yt2, color='orange')\n",
    "plt.plot(x,yt3, color='purple')\n",
    "\n",
    "\n",
    "plt.show()"
   ]
  },
  {
   "cell_type": "markdown",
   "metadata": {
    "hidden": true
   },
   "source": [
    "### b) Tracer dans le même repère, une représentation graphique de la fonction f en s’appuyant sur ces droites particulières et s’aidant du tableau de variations de la fonction."
   ]
  }
 ],
 "metadata": {
  "kernelspec": {
   "display_name": "Python 3",
   "language": "python",
   "name": "python3"
  },
  "language_info": {
   "codemirror_mode": {
    "name": "ipython",
    "version": 3
   },
   "file_extension": ".py",
   "mimetype": "text/x-python",
   "name": "python",
   "nbconvert_exporter": "python",
   "pygments_lexer": "ipython3",
   "version": "3.7.4"
  }
 },
 "nbformat": 4,
 "nbformat_minor": 2
}
