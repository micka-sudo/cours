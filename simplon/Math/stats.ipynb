{
 "cells": [
  {
   "cell_type": "code",
   "execution_count": 22,
   "metadata": {},
   "outputs": [],
   "source": [
    "# fonction de répartition = primitive de fonction de densité"
   ]
  },
  {
   "cell_type": "markdown",
   "metadata": {},
   "source": [
    "# Imports"
   ]
  },
  {
   "cell_type": "code",
   "execution_count": 1,
   "metadata": {},
   "outputs": [],
   "source": [
    "import matplotlib.pyplot as plt\n",
    "import numpy as np\n",
    "from sklearn import datasets, linear_model\n",
    "from sklearn.metrics import mean_squared_error, r2_score\n",
    "import seaborn as sns\n",
    "import decimal\n",
    "sns.set_style('darkgrid', {'legend.frameon':True})\n",
    "# $\\hat{y}(w, x) = w_0 + w_1 x_1 + ... + w_p x_p$"
   ]
  },
  {
   "cell_type": "markdown",
   "metadata": {},
   "source": [
    "# Functions"
   ]
  },
  {
   "cell_type": "markdown",
   "metadata": {},
   "source": [
    "Table de la lois normale\n",
    "\n",
    "https://fr.wikipedia.org/wiki/Loi_normale#Tables_num%C3%A9riques_et_calculs"
   ]
  },
  {
   "cell_type": "code",
   "execution_count": 2,
   "metadata": {},
   "outputs": [],
   "source": [
    "def normale_center(x, mu, sig):\n",
    "    return (x-mu)/sig"
   ]
  },
  {
   "cell_type": "markdown",
   "metadata": {},
   "source": [
    "$P(X=x)=e^{-\\lambda}\\frac{\\lambda^x}{x!}$"
   ]
  },
  {
   "cell_type": "code",
   "execution_count": 3,
   "metadata": {},
   "outputs": [],
   "source": [
    "def poisson(x, la):\n",
    "    return np.exp(-la)*float(decimal.Decimal(la**x)/decimal.Decimal(np.math.factorial(x)))"
   ]
  },
  {
   "cell_type": "markdown",
   "metadata": {},
   "source": [
    "$f(x) = \\frac{1}{\\sigma\\sqrt{2\\pi}}e^{-\\frac{1}{2}(\\frac{x-\\mu}{\\sigma})}$"
   ]
  },
  {
   "cell_type": "code",
   "execution_count": 4,
   "metadata": {},
   "outputs": [],
   "source": [
    "def normale(x, mu, sig):\n",
    "    return (1/(sig*np.sqrt(2*np.pi)))*np.exp(-.5*((x-mu)/sig)**2)"
   ]
  },
  {
   "cell_type": "markdown",
   "metadata": {},
   "source": [
    "# Exercice 1"
   ]
  },
  {
   "cell_type": "markdown",
   "metadata": {},
   "source": [
    "    Le nombre d’erreurs effectuées par un individu au cours d’une période de quatre heures, affecté à la\n",
    "    saisie de données dans une entreprise de service est distribué selon la loi de probabilité ci-contre."
   ]
  },
  {
   "cell_type": "markdown",
   "metadata": {},
   "source": [
    "|Nombre d'erreurs $x_i$|$P(X=x_i)$|\n",
    "|--|--|\n",
    "|0|0.30|\n",
    "|1|0.25|\n",
    "|2|0.18|\n",
    "|3|0.14|\n",
    "|4|0.10|\n",
    "|5|?|"
   ]
  },
  {
   "cell_type": "markdown",
   "metadata": {},
   "source": [
    "### 1. Déterminez la probabilité manquante"
   ]
  },
  {
   "cell_type": "markdown",
   "metadata": {},
   "source": [
    "La somme des probabilités du tableau doit être égale à 1\n",
    "    \n",
    "$P(X=5) = 1-0.30-0.25-0.18-0.14-0.10 = .03$"
   ]
  },
  {
   "cell_type": "markdown",
   "metadata": {},
   "source": [
    "### 2. Déterminez la fonction de répartition"
   ]
  },
  {
   "cell_type": "markdown",
   "metadata": {},
   "source": [
    "|Nombre d'erreurs $x_i$|$P(X<x_i)$|\n",
    "|--|--|\n",
    "|0|0|\n",
    "|1|0.30|\n",
    "|2|0.55|\n",
    "|3|0.73|\n",
    "|4|0.87|\n",
    "|5|0.97|\n"
   ]
  },
  {
   "cell_type": "markdown",
   "metadata": {},
   "source": [
    "# Exercice 2 "
   ]
  },
  {
   "cell_type": "markdown",
   "metadata": {},
   "source": [
    "    Le responsable du comité de sécurité de l’entreprise NICOM a effectué une compilation du nombre \n",
    "    d’accidents de travail qui se sont produits depuis 2 ans dans l’usine. Ceci a permis d’établir que le taux \n",
    "    moyen d’accidents de travail a été de 1.6 accident/jour.  "
   ]
  },
  {
   "cell_type": "markdown",
   "metadata": {},
   "source": [
    "### 1. En admettant que le nombre d’accidents de travail en une journée obéit à la loi de Poisson, quelle est l’expression qui permettrait de calculer la probabilité d’observer x accidents de travail par jour ? "
   ]
  },
  {
   "cell_type": "markdown",
   "metadata": {},
   "source": [
    "$P(X=x)=e^{-\\lambda}\\frac{\\lambda^x}{x!}$"
   ]
  },
  {
   "cell_type": "markdown",
   "metadata": {},
   "source": [
    "### 2. Quel est l’écart-type de la variable aléatoire concernée ?"
   ]
  },
  {
   "cell_type": "markdown",
   "metadata": {},
   "source": [
    "$\\sigma = \\sqrt{\\lambda} = \\sqrt{1.6}$"
   ]
  },
  {
   "cell_type": "code",
   "execution_count": 5,
   "metadata": {},
   "outputs": [
    {
     "data": {
      "text/plain": [
       "1.2649110640673518"
      ]
     },
     "execution_count": 5,
     "metadata": {},
     "output_type": "execute_result"
    }
   ],
   "source": [
    "std = np.sqrt(1.6)\n",
    "std"
   ]
  },
  {
   "cell_type": "markdown",
   "metadata": {},
   "source": [
    "### 3. Quelle est la probabilité d’observer plus de 2 accidents par jour ?"
   ]
  },
  {
   "cell_type": "markdown",
   "metadata": {},
   "source": [
    "$1 - P(X<=2)$"
   ]
  },
  {
   "cell_type": "code",
   "execution_count": 6,
   "metadata": {},
   "outputs": [
    {
     "data": {
      "text/plain": [
       "0.21664151018073707"
      ]
     },
     "execution_count": 6,
     "metadata": {},
     "output_type": "execute_result"
    }
   ],
   "source": [
    "P = 0\n",
    "for x in range(3):\n",
    "    P += poisson(x, 1.6)\n",
    "P = 1 - P\n",
    "P"
   ]
  },
  {
   "cell_type": "markdown",
   "metadata": {},
   "source": [
    "### 4. Tracez la distribution du nombre d’accidents par jour."
   ]
  },
  {
   "cell_type": "code",
   "execution_count": 7,
   "metadata": {},
   "outputs": [
    {
     "name": "stdout",
     "output_type": "stream",
     "text": [
      "0.999992857708199\n"
     ]
    },
    {
     "data": {
      "image/png": "[encoded data removed]",
      "text/plain": [
       "<Figure size 432x288 with 1 Axes>"
      ]
     },
     "metadata": {
      "needs_background": "light"
     },
     "output_type": "display_data"
    }
   ],
   "source": [
    "X, y = [], []\n",
    "nbAccident = 10\n",
    "for x in range(nbAccident):\n",
    "    X.append(x)\n",
    "    y.append(poisson(x, 1.6))\n",
    "plt.plot(X, y, color='blue', linewidth=3)\n",
    "print(np.sum(y))"
   ]
  },
  {
   "cell_type": "markdown",
   "metadata": {},
   "source": [
    "### 5. Quel est le nombre d’accidents par jour qui est le plus probable et quelle en est sa probabilité ?"
   ]
  },
  {
   "cell_type": "markdown",
   "metadata": {},
   "source": [
    "Graphiquement on peut lire que c'est 1 avec $P(X=1)\\approx.35$ "
   ]
  },
  {
   "cell_type": "code",
   "execution_count": 8,
   "metadata": {},
   "outputs": [
    {
     "name": "stdout",
     "output_type": "stream",
     "text": [
      "x : 1, y : 0.323034\n"
     ]
    }
   ],
   "source": [
    "print('x : %s, y : %2f'%(X[y.index(np.max(y))], np.max(y)))"
   ]
  },
  {
   "cell_type": "markdown",
   "metadata": {},
   "source": [
    "# Exercice 3"
   ]
  },
  {
   "cell_type": "markdown",
   "metadata": {},
   "source": [
    "    La firme Matrex se spécialise dans le développement de systèmes et de télétraitement ; elle recherche \n",
    "    des analystes capables d’effectuer la conception informatique d’algorithmes complexes dans le \n",
    "    domaine de la simulation et de la statistique. Cette firme fait subir d’abord aux postulants un test \n",
    "    d’aptitude dont les résultats sont distribués normalement avec espérance µ=73.2 et un écart type σ=8.\n",
    "    La firme engage les postulants qui sont dans le 1% meilleur."
   ]
  },
  {
   "cell_type": "markdown",
   "metadata": {},
   "source": [
    "### 1. Quel est le résultat minimal avec lequel les postulants doivent réussir le test pour avoir la possibilité d’être engagés ?  "
   ]
  },
  {
   "cell_type": "markdown",
   "metadata": {},
   "source": [
    "    On sait que le test d’aptitude est distribué normalement avec µ=73.2 et σ=8. "
   ]
  },
  {
   "cell_type": "markdown",
   "metadata": {},
   "source": [
    "En utilisant la table de lois normal centré réduitie. On trouve pour 0.9901 donc $\\approx .01$ un résultat de $2.3 + 0.3=2.33$\n",
    "\n",
    "Pour passer à une loi normale général on pose $P(Y\\le \\frac{x-\\mu}{\\sigma}) = 0.01$\n",
    "\n",
    "donc :\n",
    "\n",
    "$\\frac{x-\\mu}{\\sigma} = 2.33$\n",
    "\n",
    "$x=2.33\\sigma+\\mu=2.33\\times8+73.2=91.84$\n",
    "\n",
    "Donc le résultat minimal avec lequel les postulants doivent réussir le test est 91.84"
   ]
  },
  {
   "cell_type": "markdown",
   "metadata": {},
   "source": [
    "### Quelque test (pour voir)"
   ]
  },
  {
   "cell_type": "code",
   "execution_count": 9,
   "metadata": {},
   "outputs": [
    {
     "name": "stdout",
     "output_type": "stream",
     "text": [
      "0.9994984221765622\n"
     ]
    },
    {
     "data": {
      "text/plain": [
       "[<matplotlib.lines.Line2D at 0x24845f786c8>]"
      ]
     },
     "execution_count": 9,
     "metadata": {},
     "output_type": "execute_result"
    },
    {
     "data": {
      "image/png": "[encoded data removed]",
      "text/plain": [
       "<Figure size 432x288 with 1 Axes>"
      ]
     },
     "metadata": {
      "needs_background": "light"
     },
     "output_type": "display_data"
    }
   ],
   "source": [
    "X = np.arange(-100,100)\n",
    "y = normale(X, 73.2, 8)\n",
    "print(np.sum(y))\n",
    "plt.plot(X, y, color='blue', linewidth=3)"
   ]
  },
  {
   "cell_type": "markdown",
   "metadata": {},
   "source": [
    "# Exercice 4 "
   ]
  },
  {
   "cell_type": "markdown",
   "metadata": {},
   "source": [
    "    Sur une chaîne de production, un processus automatique fait que les pièces ayant une longueur inférieure à 9 cm ou supérieure à 11 cm sont éliminées. Sachant que la longueur des pièces est distribuée normalement de moyenne µ=10 cm et un écart-type σ=0.4 cm, combien doit-on fabriquer de pièces pour en avoir 1000 utilisables ? "
   ]
  },
  {
   "cell_type": "code",
   "execution_count": 10,
   "metadata": {},
   "outputs": [
    {
     "data": {
      "text/plain": [
       "[<matplotlib.lines.Line2D at 0x24845fede08>]"
      ]
     },
     "execution_count": 10,
     "metadata": {},
     "output_type": "execute_result"
    },
    {
     "data": {
      "image/png": "[encoded data removed]",
      "text/plain": [
       "<Figure size 432x288 with 1 Axes>"
      ]
     },
     "metadata": {
      "needs_background": "light"
     },
     "output_type": "display_data"
    }
   ],
   "source": [
    "X = np.arange(10-.4*3, 10+.4*3, .001)\n",
    "y = normale(X, 10, .4)\n",
    "plt.plot(X, y, color='blue', linewidth=3)"
   ]
  },
  {
   "cell_type": "markdown",
   "metadata": {},
   "source": [
    "$x\\sim N(10,0.4)$\n",
    "\n",
    "$y\\sim N(0,1)$\n",
    "\n",
    "$y=\\frac{x-10}{0.4}$\n",
    "\n",
    "$P(9 \\le x \\le 11) = P( \\frac{9 - 10}{0.4} \\le y \\le \\frac{11 - 10}{0.4})$"
   ]
  },
  {
   "cell_type": "markdown",
   "metadata": {},
   "source": [
    "$x\\times center = 1000$\n",
    "\n",
    "$x = \\frac{1000}{center}$"
   ]
  },
  {
   "cell_type": "code",
   "execution_count": 11,
   "metadata": {},
   "outputs": [
    {
     "name": "stdout",
     "output_type": "stream",
     "text": [
      "x = 9 : -2.5\n",
      "x = 9 : 2.5\n",
      "le nombre de pièce nécéssaire pour en avoir 10000 correct est : 1013.0\n"
     ]
    }
   ],
   "source": [
    "print('x = 9 : %s'%(normale_center(9, 10, .4)))\n",
    "print('x = 9 : %s'%(normale_center(11, 10, .4)))\n",
    "# la super table nous donne pour 2.5 (et donc -2.5) : .9938\n",
    "print('le nombre de pièce nécéssaire pour en avoir 10000 correct est : %s'%np.ceil(1000/(.9938-(1-.9938))))"
   ]
  },
  {
   "cell_type": "markdown",
   "metadata": {},
   "source": [
    "# Exercice 5"
   ]
  },
  {
   "cell_type": "markdown",
   "metadata": {},
   "source": [
    "    La durée de vie d’une pièce mécanique est distribuée selon une loi exponentielle dont le taux moyen de défaillance est 0.002 pièces par heure de fonctionnement. "
   ]
  },
  {
   "cell_type": "markdown",
   "metadata": {},
   "source": [
    "pour x la durée de vie d'une pièce mécanique\n",
    "\n",
    "$x \\sim \\varepsilon(\\lambda) \\sim \\varepsilon(0.002), \\lambda>0$"
   ]
  },
  {
   "cell_type": "markdown",
   "metadata": {},
   "source": [
    "### 1. Quelle est l’expression de la loi de probabilité pour la variable aléatoire « durée de vie » ?   "
   ]
  },
  {
   "cell_type": "markdown",
   "metadata": {},
   "source": [
    "$f(x)=\\lambda e^{-\\lambda x} 1_{x \\le 0} = 0.002e^{-0.002 x} 1_{x \\le 0}$"
   ]
  },
  {
   "cell_type": "markdown",
   "metadata": {},
   "source": [
    "### 2. Quelle est la moyenne des temps de bon fonctionnement de cette pièce ?   "
   ]
  },
  {
   "cell_type": "markdown",
   "metadata": {},
   "source": [
    "Pour calculer la moyenne on peut directement calcuer l'esperance\n",
    "\n",
    "$E(x) = \\frac{1}{\\lambda} = \\frac{1}{.002} = 500$"
   ]
  },
  {
   "cell_type": "code",
   "execution_count": 12,
   "metadata": {},
   "outputs": [
    {
     "name": "stdout",
     "output_type": "stream",
     "text": [
      "La moyenne est égale à : 500.0\n"
     ]
    }
   ],
   "source": [
    "print('La moyenne est égale à : %s'%(1/.002))"
   ]
  },
  {
   "cell_type": "markdown",
   "metadata": {},
   "source": [
    "### 3. Quelle est la variance de la durée ?"
   ]
  },
  {
   "cell_type": "markdown",
   "metadata": {},
   "source": [
    "$E(x) = \\frac{1}{\\lambda^2} = \\frac{1}{.002^2} = 250000$"
   ]
  },
  {
   "cell_type": "code",
   "execution_count": 13,
   "metadata": {},
   "outputs": [
    {
     "name": "stdout",
     "output_type": "stream",
     "text": [
      "La variance est égale à : 250000.0\n"
     ]
    }
   ],
   "source": [
    "print('La variance est égale à : %s'%(1/(.002**2)))"
   ]
  },
  {
   "cell_type": "markdown",
   "metadata": {},
   "source": [
    "### 4. Quelle est la probabilité que cette pièce survivra au-delà de son temps de bon fonctionnement ?"
   ]
  },
  {
   "cell_type": "markdown",
   "metadata": {},
   "source": [
    "$P(x >= 500) = \\int_{500}^{+\\infty}0.002e^{-0.002 x}dx$\n",
    "\n",
    "$P(x >= 500) = \\int_{500}^{+\\infty}0.002e^{-0.002 x}dx$\n",
    "\n",
    "$P(x >= 500) = [-e^{-0.002 x}]_{500}^{+\\infty}$\n",
    "\n",
    "$P(x >= 500) = -e^{-0.002\\times+\\infty} -(-e^{-0.002\\times500})$\n",
    "\n",
    "$P(x >= 500) = -e^{-\\infty} + e^{-1}$\n",
    "\n",
    "$P(x >= 500) = 0 + e^{-1}$\n",
    "\n",
    "$P(x >= 500) \\approx 0.37$\n",
    "\n"
   ]
  },
  {
   "cell_type": "code",
   "execution_count": 14,
   "metadata": {},
   "outputs": [
    {
     "name": "stdout",
     "output_type": "stream",
     "text": [
      "la probabilité que cette pièce survivra au-delà de son temps de bon fonctionnement est 0.36787944117144233\n"
     ]
    }
   ],
   "source": [
    "print(\n",
    "    'la probabilité que cette pièce survivra au-delà de son temps de bon fonctionnement est %s'%\n",
    "    np.exp(-0.002*500))"
   ]
  },
  {
   "cell_type": "markdown",
   "metadata": {},
   "source": [
    "### 5. Quelle est la probabilité que cette pièce dure au moins un autre 200heures sachant qu’elle fonctionne depuis au moins 500 heures ? "
   ]
  },
  {
   "cell_type": "markdown",
   "metadata": {},
   "source": [
    "$P(x >= 700) = \\int_{700}^{+\\infty}0.002e^{-0.002 x}dx$\n",
    "\n",
    "$P(x >= 700) = \\int_{700}^{+\\infty}0.002e^{-0.002 x}dx$\n",
    "\n",
    "$P(x >= 700) = [-e^{-0.002 x}]_{700}^{+\\infty}$\n",
    "\n",
    "$P(x >= 700) = -e^{-0.002\\times+\\infty} -(-e^{-0.002\\times700})$\n",
    "\n",
    "$P(x >= 700) = -e^{-\\infty} + e^{-1.4}$\n",
    "\n",
    "$P(x >= 700) = 0 + e^{-1.4}$\n",
    "\n",
    "$P(x >= 700) \\approx 0.25$"
   ]
  },
  {
   "cell_type": "code",
   "execution_count": 15,
   "metadata": {},
   "outputs": [
    {
     "name": "stdout",
     "output_type": "stream",
     "text": [
      "la probabilité que cette pièce survivra au-delà de son temps de bon fonctionnement est 0.24659696394160643\n"
     ]
    }
   ],
   "source": [
    "print(\n",
    "    'la probabilité que cette pièce survivra au-delà de son temps de bon fonctionnement est %s'%\n",
    "    np.exp(-0.002*700))"
   ]
  },
  {
   "cell_type": "markdown",
   "metadata": {},
   "source": [
    "# Exercice 6"
   ]
  },
  {
   "cell_type": "markdown",
   "metadata": {},
   "source": [
    "    Le temps jusqu’à défaillance d’un composant électronique est distribué selon une loi log-normale avec \n",
    "    E(X) = 250 heures et var(X) = 102 400 heures²."
   ]
  },
  {
   "cell_type": "markdown",
   "metadata": {},
   "source": [
    "Pour X le temps judqu'à la défaillance d’un composant électronique.\n",
    "\n",
    "$x\\sim LN(250, 102400)\\hspace{1cm}y \\sim N(250, 102400)\\hspace{1cm}z \\sim N(1,0)$"
   ]
  },
  {
   "cell_type": "markdown",
   "metadata": {
    "heading_collapsed": true
   },
   "source": [
    "### 1. Quelles est la probabilité que ce composant soit défaillant avant 175 heures ?"
   ]
  },
  {
   "cell_type": "markdown",
   "metadata": {
    "hidden": true
   },
   "source": [
    "Pour passer d'une loi log normale a une loi normale on utilise le log népérien : ln\n",
    "\n",
    "$P(Y \\le y) = ln(x)$ \n",
    "\n",
    "Passage à une loi normale centrée réduite\n",
    "\n",
    "$P(Z \\le z) = \\frac{Y-\\mu}{\\sigma}$\n",
    "\n",
    "Application :\n",
    "\n",
    "$P(X \\le 175) = P(Y \\le ln(175)) = P(Z \\le \\frac{ln(175) - 250}{\\sqrt(102400)}) = P(Z \\le -0.765)$\n",
    "\n",
    "On utilise la table pour trouver la valeur pour $x = 0.7$ et $y = 0.65 \\approx .07$ càd 0.77935 \n",
    "\n",
    "$P(Z \\le -0.765) = P(Z \\ge 0.765) = 1 - P(Z \\ge 0.77) = 1 - 0.77935 = 0.22065$\n",
    "\n",
    "La probabilité que le composant défaille avant 175 heures est de 22.2%"
   ]
  },
  {
   "cell_type": "markdown",
   "metadata": {},
   "source": [
    "### 2. Quelle est la fiabilité du composant à 250 heures ? \n",
    "Notes :\n",
    "\n",
    "$\\sigma𝑌² = ln(\\frac{1+VAR(𝑋)}{𝐸(𝑋)²})$\n",
    "\n",
    "$\\mu𝑌 = ln(𝐸(𝑋))−\\frac{\\sigma𝑌²}{2} $"
   ]
  },
  {
   "cell_type": "code",
   "execution_count": 38,
   "metadata": {},
   "outputs": [
    {
     "name": "stdout",
     "output_type": "stream",
     "text": [
      "syy : 0.49372992144036826, my : 5.274595957142062\n"
     ]
    }
   ],
   "source": [
    "syy = np.log((1+102400) / 250**2)\n",
    "my = np.log(250) - syy / 2\n",
    "print('syy : %s, my : %s'%(syy, my))"
   ]
  },
  {
   "cell_type": "markdown",
   "metadata": {
    "heading_collapsed": true
   },
   "source": [
    "### 3. 90% des composants ont une durée jusqu’à défaillance inférieure à quelle heure ? "
   ]
  },
  {
   "cell_type": "markdown",
   "metadata": {
    "hidden": true
   },
   "source": [
    "$P(Z \\le x) = 0.9$\n",
    "\n",
    "$P(Y \\le \\frac{x - 250}{\\sqrt(102400)}) = 0.9$\n",
    "\n",
    "$P(X \\le \\ln(\\frac{x - 250}{\\sqrt(102400)}) = 0.9$\n",
    "\n",
    "on trouve dans la table pour $x \\approx 0.9 = 0,90147$\n",
    "\n",
    "càd $x = 1.2$ $y = 0.09$ \n",
    "\n",
    "on doit donc résoudre l'équation\n",
    "\n",
    "$ln(\\frac{x - 250}{\\sqrt(102400)}) = 1.29$\n",
    "\n",
    "$\\frac{x - 250}{\\sqrt(102400)} = e^{1.29}$\n",
    "\n",
    "$x - 250 = e^{1.29} * \\sqrt(102400)$\n",
    "\n",
    "$x = e^{1.29} * \\sqrt(102400) + 250$"
   ]
  },
  {
   "cell_type": "code",
   "execution_count": 8,
   "metadata": {
    "hidden": true
   },
   "outputs": [
    {
     "data": {
      "text/plain": [
       "1412.491697840899"
      ]
     },
     "execution_count": 8,
     "metadata": {},
     "output_type": "execute_result"
    }
   ],
   "source": [
    "np.exp(1.29) * np.sqrt(102400) + 250"
   ]
  },
  {
   "cell_type": "markdown",
   "metadata": {
    "hidden": true
   },
   "source": [
    "90% des composants ont un durée de défaillance inférieur à 1412.49"
   ]
  },
  {
   "cell_type": "code",
   "execution_count": null,
   "metadata": {
    "hidden": true
   },
   "outputs": [],
   "source": []
  }
 ],
 "metadata": {
  "file_extension": ".py",
  "kernelspec": {
   "display_name": "Python 3",
   "language": "python",
   "name": "python3"
  },
  "language_info": {
   "codemirror_mode": {
    "name": "ipython",
    "version": 3
   },
   "file_extension": ".py",
   "mimetype": "text/x-python",
   "name": "python",
   "nbconvert_exporter": "python",
   "pygments_lexer": "ipython3",
   "version": "3.7.4"
  },
  "mimetype": "text/x-python",
  "name": "python",
  "npconvert_exporter": "python",
  "pygments_lexer": "ipython3",
  "version": 3
 },
 "nbformat": 4,
 "nbformat_minor": 2
}
