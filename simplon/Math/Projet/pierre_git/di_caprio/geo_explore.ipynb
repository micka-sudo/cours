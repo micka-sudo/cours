{
 "cells": [
  {
   "cell_type": "markdown",
   "metadata": {},
   "source": [
    "# Import"
   ]
  },
  {
   "cell_type": "code",
   "execution_count": 80,
   "metadata": {},
   "outputs": [],
   "source": [
    "import pandas as pd\n",
    "import numpy as np\n",
    "import seaborn as sns\n",
    "import matplotlib.pyplot as plt\n",
    "sns.set_style('darkgrid', {'legend.frameon':True})"
   ]
  },
  {
   "cell_type": "markdown",
   "metadata": {},
   "source": [
    "# Load"
   ]
  },
  {
   "cell_type": "code",
   "execution_count": 81,
   "metadata": {},
   "outputs": [],
   "source": [
    "df = pd.read_csv('csv/geo.csv', encoding = 'utf-8')"
   ]
  },
  {
   "cell_type": "code",
   "execution_count": 82,
   "metadata": {},
   "outputs": [
    {
     "data": {
      "text/html": [
       "<div>\n",
       "<style scoped>\n",
       "    .dataframe tbody tr th:only-of-type {\n",
       "        vertical-align: middle;\n",
       "    }\n",
       "\n",
       "    .dataframe tbody tr th {\n",
       "        vertical-align: top;\n",
       "    }\n",
       "\n",
       "    .dataframe thead th {\n",
       "        text-align: right;\n",
       "    }\n",
       "</style>\n",
       "<table border=\"1\" class=\"dataframe\">\n",
       "  <thead>\n",
       "    <tr style=\"text-align: right;\">\n",
       "      <th></th>\n",
       "      <th>url</th>\n",
       "      <th>nat</th>\n",
       "      <th>cap</th>\n",
       "      <th>survived</th>\n",
       "    </tr>\n",
       "  </thead>\n",
       "  <tbody>\n",
       "    <tr>\n",
       "      <th>0</th>\n",
       "      <td>/titanic-survivor/elisabeth-walton-allen.html</td>\n",
       "      <td>American</td>\n",
       "      <td>Washington</td>\n",
       "      <td>dicted</td>\n",
       "    </tr>\n",
       "    <tr>\n",
       "      <th>1</th>\n",
       "      <td>/titanic-survivor/harry-anderson.html</td>\n",
       "      <td>American</td>\n",
       "      <td>Washington</td>\n",
       "      <td>dicted</td>\n",
       "    </tr>\n",
       "    <tr>\n",
       "      <th>2</th>\n",
       "      <td>/titanic-survivor/kornelia-theodosia-andrews.html</td>\n",
       "      <td>American</td>\n",
       "      <td>Washington</td>\n",
       "      <td>dicted</td>\n",
       "    </tr>\n",
       "    <tr>\n",
       "      <th>3</th>\n",
       "      <td>/titanic-survivor/charlotte-appleton.html</td>\n",
       "      <td>American</td>\n",
       "      <td>Washington</td>\n",
       "      <td>dicted</td>\n",
       "    </tr>\n",
       "    <tr>\n",
       "      <th>4</th>\n",
       "      <td>/titanic-survivor/madeleine-talmage-astor.html</td>\n",
       "      <td>American</td>\n",
       "      <td>Washington</td>\n",
       "      <td>dicted</td>\n",
       "    </tr>\n",
       "  </tbody>\n",
       "</table>\n",
       "</div>"
      ],
      "text/plain": [
       "                                                 url       nat         cap  \\\n",
       "0      /titanic-survivor/elisabeth-walton-allen.html  American  Washington   \n",
       "1              /titanic-survivor/harry-anderson.html  American  Washington   \n",
       "2  /titanic-survivor/kornelia-theodosia-andrews.html  American  Washington   \n",
       "3          /titanic-survivor/charlotte-appleton.html  American  Washington   \n",
       "4     /titanic-survivor/madeleine-talmage-astor.html  American  Washington   \n",
       "\n",
       "  survived  \n",
       "0   dicted  \n",
       "1   dicted  \n",
       "2   dicted  \n",
       "3   dicted  \n",
       "4   dicted  "
      ]
     },
     "execution_count": 82,
     "metadata": {},
     "output_type": "execute_result"
    }
   ],
   "source": [
    "df.head()"
   ]
  },
  {
   "cell_type": "markdown",
   "metadata": {},
   "source": [
    "# Create Cap"
   ]
  },
  {
   "cell_type": "code",
   "execution_count": 83,
   "metadata": {},
   "outputs": [
    {
     "data": {
      "text/plain": [
       "English             320\n",
       "American            259\n",
       "Irish               126\n",
       "Swedish             112\n",
       "Syrian               86\n",
       "Finnish              60\n",
       "Canadian             36\n",
       "French               32\n",
       "Croatian             30\n",
       "Norwegian            29\n",
       "Bulgarian            26\n",
       "Welsh                18\n",
       "Swiss                17\n",
       "Scottish             17\n",
       "Russian              15\n",
       "Channel Islander     15\n",
       "Belgian              15\n",
       "Danish               10\n",
       "German               10\n",
       "Italian               9\n",
       "Spanish               9\n",
       "Chinese               8\n",
       "Austrian              8\n",
       "Polish                7\n",
       "Turkish               6\n",
       "South African         4\n",
       "Greek                 4\n",
       "Slovenian             4\n",
       "Portuguese            4\n",
       "Bosnian               4\n",
       "Uruguayan             3\n",
       "Lithuanian            2\n",
       "Australian            2\n",
       "Hungarian             1\n",
       "Macedonian            1\n",
       "Dutch                 1\n",
       "Japanese              1\n",
       "Siamese               1\n",
       "Czech                 1\n",
       "Latvian               1\n",
       "Mexican               1\n",
       "Egyptian              1\n",
       "Argentinian           1\n",
       "Name: nat, dtype: int64"
      ]
     },
     "execution_count": 83,
     "metadata": {},
     "output_type": "execute_result"
    }
   ],
   "source": [
    "df['nat'].value_counts()"
   ]
  },
  {
   "cell_type": "code",
   "execution_count": 84,
   "metadata": {},
   "outputs": [],
   "source": [
    "capitals = {\n",
    "    'English':'London',\n",
    "    'American':'Washington',\n",
    "    'Irish':'Dublin',\n",
    "    'Swedish':'Stockholm',\n",
    "    'Syrian':'Damascus',\n",
    "    'Finnish':'Helsinki',\n",
    "    'Canadian':'Ottawa',\n",
    "    'French':'Paris',\n",
    "    'Croatian':'Zagreb',\n",
    "    'Norwegian':'Oslo',\n",
    "    'Bulgarian':'Sofia',\n",
    "    'Welsh':'Cardiff',\n",
    "    'Scottish':'Edinburgh',\n",
    "    'Swiss':'Bern',\n",
    "    'Channel Islander':'Saint Peter Port',\n",
    "    'Belgian':'Brussels',\n",
    "    'Russian':'Moscow',\n",
    "    'Danish':'Copenhagen',\n",
    "    'German':'Berlin',\n",
    "    'Spanish':'Madrid',\n",
    "    'Italian':'Rome',\n",
    "    'Austrian':'Vienna',\n",
    "    'Chinese':'Beijing',\n",
    "    'Polish':'Warsaw',\n",
    "    'Turkish':'Ankara',\n",
    "    'Greek':'Athens',\n",
    "    'Slovenian':'Ljubljana',\n",
    "    'South African':'Pretoria',\n",
    "    'Bosnian':'Sarajevo',\n",
    "    'Portuguese':'Lisbon',\n",
    "    'Uruguayan':'Montevideo',\n",
    "    'Lithuanian':'Vilnius',\n",
    "    'Australian':'Canberra',\n",
    "    'Latvian':'Riga',\n",
    "    'Siamese':'Bangkok',\n",
    "    'Dutch':'Amsterdam',\n",
    "    'Egyptian':'Cairo',\n",
    "    'Hungarian':'Budapest',\n",
    "    'Argentinian':'Buenos Aires',\n",
    "    'Mexican':'Mexico City',\n",
    "    'Czech':'Prague',\n",
    "    'Macedonian':'Skopje',\n",
    "    'Japanese':'Tokyo'\n",
    "}"
   ]
  },
  {
   "cell_type": "code",
   "execution_count": 85,
   "metadata": {},
   "outputs": [],
   "source": [
    "df['cap'] = df['nat'].apply(lambda x: capitals[x])"
   ]
  },
  {
   "cell_type": "code",
   "execution_count": 86,
   "metadata": {},
   "outputs": [
    {
     "data": {
      "text/html": [
       "<div>\n",
       "<style scoped>\n",
       "    .dataframe tbody tr th:only-of-type {\n",
       "        vertical-align: middle;\n",
       "    }\n",
       "\n",
       "    .dataframe tbody tr th {\n",
       "        vertical-align: top;\n",
       "    }\n",
       "\n",
       "    .dataframe thead th {\n",
       "        text-align: right;\n",
       "    }\n",
       "</style>\n",
       "<table border=\"1\" class=\"dataframe\">\n",
       "  <thead>\n",
       "    <tr style=\"text-align: right;\">\n",
       "      <th></th>\n",
       "      <th>url</th>\n",
       "      <th>nat</th>\n",
       "      <th>cap</th>\n",
       "      <th>survived</th>\n",
       "    </tr>\n",
       "  </thead>\n",
       "  <tbody>\n",
       "    <tr>\n",
       "      <th>0</th>\n",
       "      <td>/titanic-survivor/elisabeth-walton-allen.html</td>\n",
       "      <td>American</td>\n",
       "      <td>Washington</td>\n",
       "      <td>dicted</td>\n",
       "    </tr>\n",
       "    <tr>\n",
       "      <th>1</th>\n",
       "      <td>/titanic-survivor/harry-anderson.html</td>\n",
       "      <td>American</td>\n",
       "      <td>Washington</td>\n",
       "      <td>dicted</td>\n",
       "    </tr>\n",
       "    <tr>\n",
       "      <th>2</th>\n",
       "      <td>/titanic-survivor/kornelia-theodosia-andrews.html</td>\n",
       "      <td>American</td>\n",
       "      <td>Washington</td>\n",
       "      <td>dicted</td>\n",
       "    </tr>\n",
       "    <tr>\n",
       "      <th>3</th>\n",
       "      <td>/titanic-survivor/charlotte-appleton.html</td>\n",
       "      <td>American</td>\n",
       "      <td>Washington</td>\n",
       "      <td>dicted</td>\n",
       "    </tr>\n",
       "    <tr>\n",
       "      <th>4</th>\n",
       "      <td>/titanic-survivor/madeleine-talmage-astor.html</td>\n",
       "      <td>American</td>\n",
       "      <td>Washington</td>\n",
       "      <td>dicted</td>\n",
       "    </tr>\n",
       "  </tbody>\n",
       "</table>\n",
       "</div>"
      ],
      "text/plain": [
       "                                                 url       nat         cap  \\\n",
       "0      /titanic-survivor/elisabeth-walton-allen.html  American  Washington   \n",
       "1              /titanic-survivor/harry-anderson.html  American  Washington   \n",
       "2  /titanic-survivor/kornelia-theodosia-andrews.html  American  Washington   \n",
       "3          /titanic-survivor/charlotte-appleton.html  American  Washington   \n",
       "4     /titanic-survivor/madeleine-talmage-astor.html  American  Washington   \n",
       "\n",
       "  survived  \n",
       "0   dicted  \n",
       "1   dicted  \n",
       "2   dicted  \n",
       "3   dicted  \n",
       "4   dicted  "
      ]
     },
     "execution_count": 86,
     "metadata": {},
     "output_type": "execute_result"
    }
   ],
   "source": [
    "df.head()"
   ]
  },
  {
   "cell_type": "code",
   "execution_count": 97,
   "metadata": {},
   "outputs": [
    {
     "name": "stdout",
     "output_type": "stream",
     "text": [
      "titanic-victim      817\n",
      "titanic-survivor    500\n",
      "Name: survived, dtype: int64\n"
     ]
    },
    {
     "data": {
      "text/html": [
       "<div>\n",
       "<style scoped>\n",
       "    .dataframe tbody tr th:only-of-type {\n",
       "        vertical-align: middle;\n",
       "    }\n",
       "\n",
       "    .dataframe tbody tr th {\n",
       "        vertical-align: top;\n",
       "    }\n",
       "\n",
       "    .dataframe thead th {\n",
       "        text-align: right;\n",
       "    }\n",
       "</style>\n",
       "<table border=\"1\" class=\"dataframe\">\n",
       "  <thead>\n",
       "    <tr style=\"text-align: right;\">\n",
       "      <th></th>\n",
       "      <th>url</th>\n",
       "      <th>nat</th>\n",
       "      <th>cap</th>\n",
       "      <th>survived</th>\n",
       "    </tr>\n",
       "  </thead>\n",
       "  <tbody>\n",
       "    <tr>\n",
       "      <th>0</th>\n",
       "      <td>/titanic-survivor/elisabeth-walton-allen.html</td>\n",
       "      <td>American</td>\n",
       "      <td>Washington</td>\n",
       "      <td>survived</td>\n",
       "    </tr>\n",
       "    <tr>\n",
       "      <th>1</th>\n",
       "      <td>/titanic-survivor/harry-anderson.html</td>\n",
       "      <td>American</td>\n",
       "      <td>Washington</td>\n",
       "      <td>survived</td>\n",
       "    </tr>\n",
       "    <tr>\n",
       "      <th>2</th>\n",
       "      <td>/titanic-survivor/kornelia-theodosia-andrews.html</td>\n",
       "      <td>American</td>\n",
       "      <td>Washington</td>\n",
       "      <td>survived</td>\n",
       "    </tr>\n",
       "    <tr>\n",
       "      <th>3</th>\n",
       "      <td>/titanic-survivor/charlotte-appleton.html</td>\n",
       "      <td>American</td>\n",
       "      <td>Washington</td>\n",
       "      <td>survived</td>\n",
       "    </tr>\n",
       "    <tr>\n",
       "      <th>4</th>\n",
       "      <td>/titanic-survivor/madeleine-talmage-astor.html</td>\n",
       "      <td>American</td>\n",
       "      <td>Washington</td>\n",
       "      <td>survived</td>\n",
       "    </tr>\n",
       "  </tbody>\n",
       "</table>\n",
       "</div>"
      ],
      "text/plain": [
       "                                                 url       nat         cap  \\\n",
       "0      /titanic-survivor/elisabeth-walton-allen.html  American  Washington   \n",
       "1              /titanic-survivor/harry-anderson.html  American  Washington   \n",
       "2  /titanic-survivor/kornelia-theodosia-andrews.html  American  Washington   \n",
       "3          /titanic-survivor/charlotte-appleton.html  American  Washington   \n",
       "4     /titanic-survivor/madeleine-talmage-astor.html  American  Washington   \n",
       "\n",
       "   survived  \n",
       "0  survived  \n",
       "1  survived  \n",
       "2  survived  \n",
       "3  survived  \n",
       "4  survived  "
      ]
     },
     "execution_count": 97,
     "metadata": {},
     "output_type": "execute_result"
    }
   ],
   "source": [
    "df['survived'] = df['url'].apply(lambda x : x.split('/')[1])\n",
    "print(df['survived'].value_counts())\n",
    "df['survived'] = df['survived'].map({'titanic-victim':'died', 'titanic-survivor':'survived'})\n",
    "df.head()"
   ]
  },
  {
   "cell_type": "code",
   "execution_count": 98,
   "metadata": {
    "scrolled": true
   },
   "outputs": [],
   "source": [
    "df.to_csv('csv/geo.csv', index=False, encoding='utf-8')"
   ]
  },
  {
   "cell_type": "code",
   "execution_count": 99,
   "metadata": {},
   "outputs": [
    {
     "data": {
      "text/html": [
       "<div>\n",
       "<style scoped>\n",
       "    .dataframe tbody tr th:only-of-type {\n",
       "        vertical-align: middle;\n",
       "    }\n",
       "\n",
       "    .dataframe tbody tr th {\n",
       "        vertical-align: top;\n",
       "    }\n",
       "\n",
       "    .dataframe thead th {\n",
       "        text-align: right;\n",
       "    }\n",
       "</style>\n",
       "<table border=\"1\" class=\"dataframe\">\n",
       "  <thead>\n",
       "    <tr style=\"text-align: right;\">\n",
       "      <th></th>\n",
       "      <th>url</th>\n",
       "      <th>nat</th>\n",
       "      <th>cap</th>\n",
       "      <th>survived</th>\n",
       "    </tr>\n",
       "  </thead>\n",
       "  <tbody>\n",
       "    <tr>\n",
       "      <th>979</th>\n",
       "      <td>/titanic-survivor/masabumi-hosono.html</td>\n",
       "      <td>Japanese</td>\n",
       "      <td>Tokyo</td>\n",
       "      <td>survived</td>\n",
       "    </tr>\n",
       "  </tbody>\n",
       "</table>\n",
       "</div>"
      ],
      "text/plain": [
       "                                        url       nat    cap  survived\n",
       "979  /titanic-survivor/masabumi-hosono.html  Japanese  Tokyo  survived"
      ]
     },
     "execution_count": 99,
     "metadata": {},
     "output_type": "execute_result"
    }
   ],
   "source": [
    "df[df['nat'] == 'Japanese']"
   ]
  },
  {
   "cell_type": "markdown",
   "metadata": {},
   "source": [
    "# Some Graphs"
   ]
  },
  {
   "cell_type": "code",
   "execution_count": 100,
   "metadata": {},
   "outputs": [
    {
     "data": {
      "application/vnd.plotly.v1+json": {
       "config": {
        "plotlyServerURL": "https://plot.ly"
       },
       "data": [
        {
         "labels": [
          "English",
          "American",
          "Irish",
          "Swedish",
          "Syrian",
          "Finnish",
          "Canadian",
          "French",
          "Croatian",
          "Norwegian",
          "Bulgarian",
          "Welsh",
          "Swiss",
          "Scottish",
          "Russian",
          "Channel Islander",
          "Belgian",
          "Danish",
          "German",
          "Italian",
          "Spanish",
          "Chinese",
          "Austrian",
          "Polish",
          "Turkish",
          "South African",
          "Greek",
          "Slovenian",
          "Portuguese",
          "Bosnian",
          "Uruguayan",
          "Lithuanian",
          "Australian",
          "Hungarian",
          "Macedonian",
          "Dutch",
          "Japanese",
          "Siamese",
          "Czech",
          "Latvian",
          "Mexican",
          "Egyptian",
          "Argentinian"
         ],
         "pull": [
          0,
          0,
          0,
          0,
          0.25,
          0,
          0,
          0,
          0,
          0,
          0,
          0,
          0,
          0,
          0,
          0,
          0,
          0,
          0,
          0,
          0,
          0,
          0,
          0,
          0,
          0,
          0,
          0,
          0,
          0,
          0,
          0,
          0,
          0,
          0,
          0,
          0,
          0,
          0,
          0,
          0,
          0,
          0
         ],
         "textinfo": "label+percent",
         "textposition": "inside",
         "type": "pie",
         "values": [
          320,
          259,
          126,
          112,
          86,
          60,
          36,
          32,
          30,
          29,
          26,
          18,
          17,
          17,
          15,
          15,
          15,
          10,
          10,
          9,
          9,
          8,
          8,
          7,
          6,
          4,
          4,
          4,
          4,
          4,
          3,
          2,
          2,
          1,
          1,
          1,
          1,
          1,
          1,
          1,
          1,
          1,
          1
         ]
        }
       ],
       "layout": {
        "template": {
         "data": {
          "bar": [
           {
            "error_x": {
             "color": "#2a3f5f"
            },
            "error_y": {
             "color": "#2a3f5f"
            },
            "marker": {
             "line": {
              "color": "#E5ECF6",
              "width": 0.5
             }
            },
            "type": "bar"
           }
          ],
          "barpolar": [
           {
            "marker": {
             "line": {
              "color": "#E5ECF6",
              "width": 0.5
             }
            },
            "type": "barpolar"
           }
          ],
          "carpet": [
           {
            "aaxis": {
             "endlinecolor": "#2a3f5f",
             "gridcolor": "white",
             "linecolor": "white",
             "minorgridcolor": "white",
             "startlinecolor": "#2a3f5f"
            },
            "baxis": {
             "endlinecolor": "#2a3f5f",
             "gridcolor": "white",
             "linecolor": "white",
             "minorgridcolor": "white",
             "startlinecolor": "#2a3f5f"
            },
            "type": "carpet"
           }
          ],
          "choropleth": [
           {
            "colorbar": {
             "outlinewidth": 0,
             "ticks": ""
            },
            "type": "choropleth"
           }
          ],
          "contour": [
           {
            "colorbar": {
             "outlinewidth": 0,
             "ticks": ""
            },
            "colorscale": [
             [
              0,
              "#0d0887"
             ],
             [
              0.1111111111111111,
              "#46039f"
             ],
             [
              0.2222222222222222,
              "#7201a8"
             ],
             [
              0.3333333333333333,
              "#9c179e"
             ],
             [
              0.4444444444444444,
              "#bd3786"
             ],
             [
              0.5555555555555556,
              "#d8576b"
             ],
             [
              0.6666666666666666,
              "#ed7953"
             ],
             [
              0.7777777777777778,
              "#fb9f3a"
             ],
             [
              0.8888888888888888,
              "#fdca26"
             ],
             [
              1,
              "#f0f921"
             ]
            ],
            "type": "contour"
           }
          ],
          "contourcarpet": [
           {
            "colorbar": {
             "outlinewidth": 0,
             "ticks": ""
            },
            "type": "contourcarpet"
           }
          ],
          "heatmap": [
           {
            "colorbar": {
             "outlinewidth": 0,
             "ticks": ""
            },
            "colorscale": [
             [
              0,
              "#0d0887"
             ],
             [
              0.1111111111111111,
              "#46039f"
             ],
             [
              0.2222222222222222,
              "#7201a8"
             ],
             [
              0.3333333333333333,
              "#9c179e"
             ],
             [
              0.4444444444444444,
              "#bd3786"
             ],
             [
              0.5555555555555556,
              "#d8576b"
             ],
             [
              0.6666666666666666,
              "#ed7953"
             ],
             [
              0.7777777777777778,
              "#fb9f3a"
             ],
             [
              0.8888888888888888,
              "#fdca26"
             ],
             [
              1,
              "#f0f921"
             ]
            ],
            "type": "heatmap"
           }
          ],
          "heatmapgl": [
           {
            "colorbar": {
             "outlinewidth": 0,
             "ticks": ""
            },
            "colorscale": [
             [
              0,
              "#0d0887"
             ],
             [
              0.1111111111111111,
              "#46039f"
             ],
             [
              0.2222222222222222,
              "#7201a8"
             ],
             [
              0.3333333333333333,
              "#9c179e"
             ],
             [
              0.4444444444444444,
              "#bd3786"
             ],
             [
              0.5555555555555556,
              "#d8576b"
             ],
             [
              0.6666666666666666,
              "#ed7953"
             ],
             [
              0.7777777777777778,
              "#fb9f3a"
             ],
             [
              0.8888888888888888,
              "#fdca26"
             ],
             [
              1,
              "#f0f921"
             ]
            ],
            "type": "heatmapgl"
           }
          ],
          "histogram": [
           {
            "marker": {
             "colorbar": {
              "outlinewidth": 0,
              "ticks": ""
             }
            },
            "type": "histogram"
           }
          ],
          "histogram2d": [
           {
            "colorbar": {
             "outlinewidth": 0,
             "ticks": ""
            },
            "colorscale": [
             [
              0,
              "#0d0887"
             ],
             [
              0.1111111111111111,
              "#46039f"
             ],
             [
              0.2222222222222222,
              "#7201a8"
             ],
             [
              0.3333333333333333,
              "#9c179e"
             ],
             [
              0.4444444444444444,
              "#bd3786"
             ],
             [
              0.5555555555555556,
              "#d8576b"
             ],
             [
              0.6666666666666666,
              "#ed7953"
             ],
             [
              0.7777777777777778,
              "#fb9f3a"
             ],
             [
              0.8888888888888888,
              "#fdca26"
             ],
             [
              1,
              "#f0f921"
             ]
            ],
            "type": "histogram2d"
           }
          ],
          "histogram2dcontour": [
           {
            "colorbar": {
             "outlinewidth": 0,
             "ticks": ""
            },
            "colorscale": [
             [
              0,
              "#0d0887"
             ],
             [
              0.1111111111111111,
              "#46039f"
             ],
             [
              0.2222222222222222,
              "#7201a8"
             ],
             [
              0.3333333333333333,
              "#9c179e"
             ],
             [
              0.4444444444444444,
              "#bd3786"
             ],
             [
              0.5555555555555556,
              "#d8576b"
             ],
             [
              0.6666666666666666,
              "#ed7953"
             ],
             [
              0.7777777777777778,
              "#fb9f3a"
             ],
             [
              0.8888888888888888,
              "#fdca26"
             ],
             [
              1,
              "#f0f921"
             ]
            ],
            "type": "histogram2dcontour"
           }
          ],
          "mesh3d": [
           {
            "colorbar": {
             "outlinewidth": 0,
             "ticks": ""
            },
            "type": "mesh3d"
           }
          ],
          "parcoords": [
           {
            "line": {
             "colorbar": {
              "outlinewidth": 0,
              "ticks": ""
             }
            },
            "type": "parcoords"
           }
          ],
          "pie": [
           {
            "automargin": true,
            "type": "pie"
           }
          ],
          "scatter": [
           {
            "marker": {
             "colorbar": {
              "outlinewidth": 0,
              "ticks": ""
             }
            },
            "type": "scatter"
           }
          ],
          "scatter3d": [
           {
            "line": {
             "colorbar": {
              "outlinewidth": 0,
              "ticks": ""
             }
            },
            "marker": {
             "colorbar": {
              "outlinewidth": 0,
              "ticks": ""
             }
            },
            "type": "scatter3d"
           }
          ],
          "scattercarpet": [
           {
            "marker": {
             "colorbar": {
              "outlinewidth": 0,
              "ticks": ""
             }
            },
            "type": "scattercarpet"
           }
          ],
          "scattergeo": [
           {
            "marker": {
             "colorbar": {
              "outlinewidth": 0,
              "ticks": ""
             }
            },
            "type": "scattergeo"
           }
          ],
          "scattergl": [
           {
            "marker": {
             "colorbar": {
              "outlinewidth": 0,
              "ticks": ""
             }
            },
            "type": "scattergl"
           }
          ],
          "scattermapbox": [
           {
            "marker": {
             "colorbar": {
              "outlinewidth": 0,
              "ticks": ""
             }
            },
            "type": "scattermapbox"
           }
          ],
          "scatterpolar": [
           {
            "marker": {
             "colorbar": {
              "outlinewidth": 0,
              "ticks": ""
             }
            },
            "type": "scatterpolar"
           }
          ],
          "scatterpolargl": [
           {
            "marker": {
             "colorbar": {
              "outlinewidth": 0,
              "ticks": ""
             }
            },
            "type": "scatterpolargl"
           }
          ],
          "scatterternary": [
           {
            "marker": {
             "colorbar": {
              "outlinewidth": 0,
              "ticks": ""
             }
            },
            "type": "scatterternary"
           }
          ],
          "surface": [
           {
            "colorbar": {
             "outlinewidth": 0,
             "ticks": ""
            },
            "colorscale": [
             [
              0,
              "#0d0887"
             ],
             [
              0.1111111111111111,
              "#46039f"
             ],
             [
              0.2222222222222222,
              "#7201a8"
             ],
             [
              0.3333333333333333,
              "#9c179e"
             ],
             [
              0.4444444444444444,
              "#bd3786"
             ],
             [
              0.5555555555555556,
              "#d8576b"
             ],
             [
              0.6666666666666666,
              "#ed7953"
             ],
             [
              0.7777777777777778,
              "#fb9f3a"
             ],
             [
              0.8888888888888888,
              "#fdca26"
             ],
             [
              1,
              "#f0f921"
             ]
            ],
            "type": "surface"
           }
          ],
          "table": [
           {
            "cells": {
             "fill": {
              "color": "#EBF0F8"
             },
             "line": {
              "color": "white"
             }
            },
            "header": {
             "fill": {
              "color": "#C8D4E3"
             },
             "line": {
              "color": "white"
             }
            },
            "type": "table"
           }
          ]
         },
         "layout": {
          "annotationdefaults": {
           "arrowcolor": "#2a3f5f",
           "arrowhead": 0,
           "arrowwidth": 1
          },
          "coloraxis": {
           "colorbar": {
            "outlinewidth": 0,
            "ticks": ""
           }
          },
          "colorscale": {
           "diverging": [
            [
             0,
             "#8e0152"
            ],
            [
             0.1,
             "#c51b7d"
            ],
            [
             0.2,
             "#de77ae"
            ],
            [
             0.3,
             "#f1b6da"
            ],
            [
             0.4,
             "#fde0ef"
            ],
            [
             0.5,
             "#f7f7f7"
            ],
            [
             0.6,
             "#e6f5d0"
            ],
            [
             0.7,
             "#b8e186"
            ],
            [
             0.8,
             "#7fbc41"
            ],
            [
             0.9,
             "#4d9221"
            ],
            [
             1,
             "#276419"
            ]
           ],
           "sequential": [
            [
             0,
             "#0d0887"
            ],
            [
             0.1111111111111111,
             "#46039f"
            ],
            [
             0.2222222222222222,
             "#7201a8"
            ],
            [
             0.3333333333333333,
             "#9c179e"
            ],
            [
             0.4444444444444444,
             "#bd3786"
            ],
            [
             0.5555555555555556,
             "#d8576b"
            ],
            [
             0.6666666666666666,
             "#ed7953"
            ],
            [
             0.7777777777777778,
             "#fb9f3a"
            ],
            [
             0.8888888888888888,
             "#fdca26"
            ],
            [
             1,
             "#f0f921"
            ]
           ],
           "sequentialminus": [
            [
             0,
             "#0d0887"
            ],
            [
             0.1111111111111111,
             "#46039f"
            ],
            [
             0.2222222222222222,
             "#7201a8"
            ],
            [
             0.3333333333333333,
             "#9c179e"
            ],
            [
             0.4444444444444444,
             "#bd3786"
            ],
            [
             0.5555555555555556,
             "#d8576b"
            ],
            [
             0.6666666666666666,
             "#ed7953"
            ],
            [
             0.7777777777777778,
             "#fb9f3a"
            ],
            [
             0.8888888888888888,
             "#fdca26"
            ],
            [
             1,
             "#f0f921"
            ]
           ]
          },
          "colorway": [
           "#636efa",
           "#EF553B",
           "#00cc96",
           "#ab63fa",
           "#FFA15A",
           "#19d3f3",
           "#FF6692",
           "#B6E880",
           "#FF97FF",
           "#FECB52"
          ],
          "font": {
           "color": "#2a3f5f"
          },
          "geo": {
           "bgcolor": "white",
           "lakecolor": "white",
           "landcolor": "#E5ECF6",
           "showlakes": true,
           "showland": true,
           "subunitcolor": "white"
          },
          "hoverlabel": {
           "align": "left"
          },
          "hovermode": "closest",
          "mapbox": {
           "style": "light"
          },
          "paper_bgcolor": "white",
          "plot_bgcolor": "#E5ECF6",
          "polar": {
           "angularaxis": {
            "gridcolor": "white",
            "linecolor": "white",
            "ticks": ""
           },
           "bgcolor": "#E5ECF6",
           "radialaxis": {
            "gridcolor": "white",
            "linecolor": "white",
            "ticks": ""
           }
          },
          "scene": {
           "xaxis": {
            "backgroundcolor": "#E5ECF6",
            "gridcolor": "white",
            "gridwidth": 2,
            "linecolor": "white",
            "showbackground": true,
            "ticks": "",
            "zerolinecolor": "white"
           },
           "yaxis": {
            "backgroundcolor": "#E5ECF6",
            "gridcolor": "white",
            "gridwidth": 2,
            "linecolor": "white",
            "showbackground": true,
            "ticks": "",
            "zerolinecolor": "white"
           },
           "zaxis": {
            "backgroundcolor": "#E5ECF6",
            "gridcolor": "white",
            "gridwidth": 2,
            "linecolor": "white",
            "showbackground": true,
            "ticks": "",
            "zerolinecolor": "white"
           }
          },
          "shapedefaults": {
           "line": {
            "color": "#2a3f5f"
           }
          },
          "ternary": {
           "aaxis": {
            "gridcolor": "white",
            "linecolor": "white",
            "ticks": ""
           },
           "baxis": {
            "gridcolor": "white",
            "linecolor": "white",
            "ticks": ""
           },
           "bgcolor": "#E5ECF6",
           "caxis": {
            "gridcolor": "white",
            "linecolor": "white",
            "ticks": ""
           }
          },
          "title": {
           "x": 0.05
          },
          "xaxis": {
           "automargin": true,
           "gridcolor": "white",
           "linecolor": "white",
           "ticks": "",
           "title": {
            "standoff": 15
           },
           "zerolinecolor": "white",
           "zerolinewidth": 2
          },
          "yaxis": {
           "automargin": true,
           "gridcolor": "white",
           "linecolor": "white",
           "ticks": "",
           "title": {
            "standoff": 15
           },
           "zerolinecolor": "white",
           "zerolinewidth": 2
          }
         }
        }
       }
      },
      "text/html": [
       "<div>\n",
       "        \n",
       "        \n",
       "            <div id=\"adaf73a4-999f-422e-9732-16dede95a9ae\" class=\"plotly-graph-div\" style=\"height:525px; width:100%;\"></div>\n",
       "            <script type=\"text/javascript\">\n",
       "                require([\"plotly\"], function(Plotly) {\n",
       "                    window.PLOTLYENV=window.PLOTLYENV || {};\n",
       "                    \n",
       "                if (document.getElementById(\"adaf73a4-999f-422e-9732-16dede95a9ae\")) {\n",
       "                    Plotly.newPlot(\n",
       "                        'adaf73a4-999f-422e-9732-16dede95a9ae',\n",
       "                        [{\"labels\": [\"English\", \"American\", \"Irish\", \"Swedish\", \"Syrian\", \"Finnish\", \"Canadian\", \"French\", \"Croatian\", \"Norwegian\", \"Bulgarian\", \"Welsh\", \"Swiss\", \"Scottish\", \"Russian\", \"Channel Islander\", \"Belgian\", \"Danish\", \"German\", \"Italian\", \"Spanish\", \"Chinese\", \"Austrian\", \"Polish\", \"Turkish\", \"South African\", \"Greek\", \"Slovenian\", \"Portuguese\", \"Bosnian\", \"Uruguayan\", \"Lithuanian\", \"Australian\", \"Hungarian\", \"Macedonian\", \"Dutch\", \"Japanese\", \"Siamese\", \"Czech\", \"Latvian\", \"Mexican\", \"Egyptian\", \"Argentinian\"], \"pull\": [0, 0, 0, 0, 0.25, 0, 0, 0, 0, 0, 0, 0, 0, 0, 0, 0, 0, 0, 0, 0, 0, 0, 0, 0, 0, 0, 0, 0, 0, 0, 0, 0, 0, 0, 0, 0, 0, 0, 0, 0, 0, 0, 0], \"textinfo\": \"label+percent\", \"textposition\": \"inside\", \"type\": \"pie\", \"values\": [320, 259, 126, 112, 86, 60, 36, 32, 30, 29, 26, 18, 17, 17, 15, 15, 15, 10, 10, 9, 9, 8, 8, 7, 6, 4, 4, 4, 4, 4, 3, 2, 2, 1, 1, 1, 1, 1, 1, 1, 1, 1, 1]}],\n",
       "                        {\"template\": {\"data\": {\"bar\": [{\"error_x\": {\"color\": \"#2a3f5f\"}, \"error_y\": {\"color\": \"#2a3f5f\"}, \"marker\": {\"line\": {\"color\": \"#E5ECF6\", \"width\": 0.5}}, \"type\": \"bar\"}], \"barpolar\": [{\"marker\": {\"line\": {\"color\": \"#E5ECF6\", \"width\": 0.5}}, \"type\": \"barpolar\"}], \"carpet\": [{\"aaxis\": {\"endlinecolor\": \"#2a3f5f\", \"gridcolor\": \"white\", \"linecolor\": \"white\", \"minorgridcolor\": \"white\", \"startlinecolor\": \"#2a3f5f\"}, \"baxis\": {\"endlinecolor\": \"#2a3f5f\", \"gridcolor\": \"white\", \"linecolor\": \"white\", \"minorgridcolor\": \"white\", \"startlinecolor\": \"#2a3f5f\"}, \"type\": \"carpet\"}], \"choropleth\": [{\"colorbar\": {\"outlinewidth\": 0, \"ticks\": \"\"}, \"type\": \"choropleth\"}], \"contour\": [{\"colorbar\": {\"outlinewidth\": 0, \"ticks\": \"\"}, \"colorscale\": [[0.0, \"#0d0887\"], [0.1111111111111111, \"#46039f\"], [0.2222222222222222, \"#7201a8\"], [0.3333333333333333, \"#9c179e\"], [0.4444444444444444, \"#bd3786\"], [0.5555555555555556, \"#d8576b\"], [0.6666666666666666, \"#ed7953\"], [0.7777777777777778, \"#fb9f3a\"], [0.8888888888888888, \"#fdca26\"], [1.0, \"#f0f921\"]], \"type\": \"contour\"}], \"contourcarpet\": [{\"colorbar\": {\"outlinewidth\": 0, \"ticks\": \"\"}, \"type\": \"contourcarpet\"}], \"heatmap\": [{\"colorbar\": {\"outlinewidth\": 0, \"ticks\": \"\"}, \"colorscale\": [[0.0, \"#0d0887\"], [0.1111111111111111, \"#46039f\"], [0.2222222222222222, \"#7201a8\"], [0.3333333333333333, \"#9c179e\"], [0.4444444444444444, \"#bd3786\"], [0.5555555555555556, \"#d8576b\"], [0.6666666666666666, \"#ed7953\"], [0.7777777777777778, \"#fb9f3a\"], [0.8888888888888888, \"#fdca26\"], [1.0, \"#f0f921\"]], \"type\": \"heatmap\"}], \"heatmapgl\": [{\"colorbar\": {\"outlinewidth\": 0, \"ticks\": \"\"}, \"colorscale\": [[0.0, \"#0d0887\"], [0.1111111111111111, \"#46039f\"], [0.2222222222222222, \"#7201a8\"], [0.3333333333333333, \"#9c179e\"], [0.4444444444444444, \"#bd3786\"], [0.5555555555555556, \"#d8576b\"], [0.6666666666666666, \"#ed7953\"], [0.7777777777777778, \"#fb9f3a\"], [0.8888888888888888, \"#fdca26\"], [1.0, \"#f0f921\"]], \"type\": \"heatmapgl\"}], \"histogram\": [{\"marker\": {\"colorbar\": {\"outlinewidth\": 0, \"ticks\": \"\"}}, \"type\": \"histogram\"}], \"histogram2d\": [{\"colorbar\": {\"outlinewidth\": 0, \"ticks\": \"\"}, \"colorscale\": [[0.0, \"#0d0887\"], [0.1111111111111111, \"#46039f\"], [0.2222222222222222, \"#7201a8\"], [0.3333333333333333, \"#9c179e\"], [0.4444444444444444, \"#bd3786\"], [0.5555555555555556, \"#d8576b\"], [0.6666666666666666, \"#ed7953\"], [0.7777777777777778, \"#fb9f3a\"], [0.8888888888888888, \"#fdca26\"], [1.0, \"#f0f921\"]], \"type\": \"histogram2d\"}], \"histogram2dcontour\": [{\"colorbar\": {\"outlinewidth\": 0, \"ticks\": \"\"}, \"colorscale\": [[0.0, \"#0d0887\"], [0.1111111111111111, \"#46039f\"], [0.2222222222222222, \"#7201a8\"], [0.3333333333333333, \"#9c179e\"], [0.4444444444444444, \"#bd3786\"], [0.5555555555555556, \"#d8576b\"], [0.6666666666666666, \"#ed7953\"], [0.7777777777777778, \"#fb9f3a\"], [0.8888888888888888, \"#fdca26\"], [1.0, \"#f0f921\"]], \"type\": \"histogram2dcontour\"}], \"mesh3d\": [{\"colorbar\": {\"outlinewidth\": 0, \"ticks\": \"\"}, \"type\": \"mesh3d\"}], \"parcoords\": [{\"line\": {\"colorbar\": {\"outlinewidth\": 0, \"ticks\": \"\"}}, \"type\": \"parcoords\"}], \"pie\": [{\"automargin\": true, \"type\": \"pie\"}], \"scatter\": [{\"marker\": {\"colorbar\": {\"outlinewidth\": 0, \"ticks\": \"\"}}, \"type\": \"scatter\"}], \"scatter3d\": [{\"line\": {\"colorbar\": {\"outlinewidth\": 0, \"ticks\": \"\"}}, \"marker\": {\"colorbar\": {\"outlinewidth\": 0, \"ticks\": \"\"}}, \"type\": \"scatter3d\"}], \"scattercarpet\": [{\"marker\": {\"colorbar\": {\"outlinewidth\": 0, \"ticks\": \"\"}}, \"type\": \"scattercarpet\"}], \"scattergeo\": [{\"marker\": {\"colorbar\": {\"outlinewidth\": 0, \"ticks\": \"\"}}, \"type\": \"scattergeo\"}], \"scattergl\": [{\"marker\": {\"colorbar\": {\"outlinewidth\": 0, \"ticks\": \"\"}}, \"type\": \"scattergl\"}], \"scattermapbox\": [{\"marker\": {\"colorbar\": {\"outlinewidth\": 0, \"ticks\": \"\"}}, \"type\": \"scattermapbox\"}], \"scatterpolar\": [{\"marker\": {\"colorbar\": {\"outlinewidth\": 0, \"ticks\": \"\"}}, \"type\": \"scatterpolar\"}], \"scatterpolargl\": [{\"marker\": {\"colorbar\": {\"outlinewidth\": 0, \"ticks\": \"\"}}, \"type\": \"scatterpolargl\"}], \"scatterternary\": [{\"marker\": {\"colorbar\": {\"outlinewidth\": 0, \"ticks\": \"\"}}, \"type\": \"scatterternary\"}], \"surface\": [{\"colorbar\": {\"outlinewidth\": 0, \"ticks\": \"\"}, \"colorscale\": [[0.0, \"#0d0887\"], [0.1111111111111111, \"#46039f\"], [0.2222222222222222, \"#7201a8\"], [0.3333333333333333, \"#9c179e\"], [0.4444444444444444, \"#bd3786\"], [0.5555555555555556, \"#d8576b\"], [0.6666666666666666, \"#ed7953\"], [0.7777777777777778, \"#fb9f3a\"], [0.8888888888888888, \"#fdca26\"], [1.0, \"#f0f921\"]], \"type\": \"surface\"}], \"table\": [{\"cells\": {\"fill\": {\"color\": \"#EBF0F8\"}, \"line\": {\"color\": \"white\"}}, \"header\": {\"fill\": {\"color\": \"#C8D4E3\"}, \"line\": {\"color\": \"white\"}}, \"type\": \"table\"}]}, \"layout\": {\"annotationdefaults\": {\"arrowcolor\": \"#2a3f5f\", \"arrowhead\": 0, \"arrowwidth\": 1}, \"coloraxis\": {\"colorbar\": {\"outlinewidth\": 0, \"ticks\": \"\"}}, \"colorscale\": {\"diverging\": [[0, \"#8e0152\"], [0.1, \"#c51b7d\"], [0.2, \"#de77ae\"], [0.3, \"#f1b6da\"], [0.4, \"#fde0ef\"], [0.5, \"#f7f7f7\"], [0.6, \"#e6f5d0\"], [0.7, \"#b8e186\"], [0.8, \"#7fbc41\"], [0.9, \"#4d9221\"], [1, \"#276419\"]], \"sequential\": [[0.0, \"#0d0887\"], [0.1111111111111111, \"#46039f\"], [0.2222222222222222, \"#7201a8\"], [0.3333333333333333, \"#9c179e\"], [0.4444444444444444, \"#bd3786\"], [0.5555555555555556, \"#d8576b\"], [0.6666666666666666, \"#ed7953\"], [0.7777777777777778, \"#fb9f3a\"], [0.8888888888888888, \"#fdca26\"], [1.0, \"#f0f921\"]], \"sequentialminus\": [[0.0, \"#0d0887\"], [0.1111111111111111, \"#46039f\"], [0.2222222222222222, \"#7201a8\"], [0.3333333333333333, \"#9c179e\"], [0.4444444444444444, \"#bd3786\"], [0.5555555555555556, \"#d8576b\"], [0.6666666666666666, \"#ed7953\"], [0.7777777777777778, \"#fb9f3a\"], [0.8888888888888888, \"#fdca26\"], [1.0, \"#f0f921\"]]}, \"colorway\": [\"#636efa\", \"#EF553B\", \"#00cc96\", \"#ab63fa\", \"#FFA15A\", \"#19d3f3\", \"#FF6692\", \"#B6E880\", \"#FF97FF\", \"#FECB52\"], \"font\": {\"color\": \"#2a3f5f\"}, \"geo\": {\"bgcolor\": \"white\", \"lakecolor\": \"white\", \"landcolor\": \"#E5ECF6\", \"showlakes\": true, \"showland\": true, \"subunitcolor\": \"white\"}, \"hoverlabel\": {\"align\": \"left\"}, \"hovermode\": \"closest\", \"mapbox\": {\"style\": \"light\"}, \"paper_bgcolor\": \"white\", \"plot_bgcolor\": \"#E5ECF6\", \"polar\": {\"angularaxis\": {\"gridcolor\": \"white\", \"linecolor\": \"white\", \"ticks\": \"\"}, \"bgcolor\": \"#E5ECF6\", \"radialaxis\": {\"gridcolor\": \"white\", \"linecolor\": \"white\", \"ticks\": \"\"}}, \"scene\": {\"xaxis\": {\"backgroundcolor\": \"#E5ECF6\", \"gridcolor\": \"white\", \"gridwidth\": 2, \"linecolor\": \"white\", \"showbackground\": true, \"ticks\": \"\", \"zerolinecolor\": \"white\"}, \"yaxis\": {\"backgroundcolor\": \"#E5ECF6\", \"gridcolor\": \"white\", \"gridwidth\": 2, \"linecolor\": \"white\", \"showbackground\": true, \"ticks\": \"\", \"zerolinecolor\": \"white\"}, \"zaxis\": {\"backgroundcolor\": \"#E5ECF6\", \"gridcolor\": \"white\", \"gridwidth\": 2, \"linecolor\": \"white\", \"showbackground\": true, \"ticks\": \"\", \"zerolinecolor\": \"white\"}}, \"shapedefaults\": {\"line\": {\"color\": \"#2a3f5f\"}}, \"ternary\": {\"aaxis\": {\"gridcolor\": \"white\", \"linecolor\": \"white\", \"ticks\": \"\"}, \"baxis\": {\"gridcolor\": \"white\", \"linecolor\": \"white\", \"ticks\": \"\"}, \"bgcolor\": \"#E5ECF6\", \"caxis\": {\"gridcolor\": \"white\", \"linecolor\": \"white\", \"ticks\": \"\"}}, \"title\": {\"x\": 0.05}, \"xaxis\": {\"automargin\": true, \"gridcolor\": \"white\", \"linecolor\": \"white\", \"ticks\": \"\", \"title\": {\"standoff\": 15}, \"zerolinecolor\": \"white\", \"zerolinewidth\": 2}, \"yaxis\": {\"automargin\": true, \"gridcolor\": \"white\", \"linecolor\": \"white\", \"ticks\": \"\", \"title\": {\"standoff\": 15}, \"zerolinecolor\": \"white\", \"zerolinewidth\": 2}}}},\n",
       "                        {\"responsive\": true}\n",
       "                    ).then(function(){\n",
       "                            \n",
       "var gd = document.getElementById('adaf73a4-999f-422e-9732-16dede95a9ae');\n",
       "var x = new MutationObserver(function (mutations, observer) {{\n",
       "        var display = window.getComputedStyle(gd).display;\n",
       "        if (!display || display === 'none') {{\n",
       "            console.log([gd, 'removed!']);\n",
       "            Plotly.purge(gd);\n",
       "            observer.disconnect();\n",
       "        }}\n",
       "}});\n",
       "\n",
       "// Listen for the removal of the full notebook cells\n",
       "var notebookContainer = gd.closest('#notebook-container');\n",
       "if (notebookContainer) {{\n",
       "    x.observe(notebookContainer, {childList: true});\n",
       "}}\n",
       "\n",
       "// Listen for the clearing of the current output cell\n",
       "var outputEl = gd.closest('.output');\n",
       "if (outputEl) {{\n",
       "    x.observe(outputEl, {childList: true});\n",
       "}}\n",
       "\n",
       "                        })\n",
       "                };\n",
       "                });\n",
       "            </script>\n",
       "        </div>"
      ]
     },
     "metadata": {},
     "output_type": "display_data"
    }
   ],
   "source": [
    "import plotly.graph_objects as go\n",
    "\n",
    "labels=[]\n",
    "values=[]\n",
    "pull=[]\n",
    "\n",
    "for i in df['nat'].value_counts().items():\n",
    "    labels.append(i[0])\n",
    "    values.append(i[1])\n",
    "    if i[0] == 'Syrian':\n",
    "        pull.append(.25)\n",
    "    else:\n",
    "        pull.append(0)\n",
    "\n",
    "fig = go.Figure(data=[go.Pie(labels=labels, values=values, pull=pull, textinfo='label+percent')])\n",
    "fig.update_traces(textposition='inside')\n",
    "fig.show()"
   ]
  },
  {
   "cell_type": "code",
   "execution_count": 101,
   "metadata": {},
   "outputs": [
    {
     "data": {
      "application/vnd.plotly.v1+json": {
       "config": {
        "plotlyServerURL": "https://plot.ly"
       },
       "data": [
        {
         "alignmentgroup": "True",
         "bingroup": "x",
         "hoverlabel": {
          "namelength": 0
         },
         "hovertemplate": "nat=%{x}<br>count=%{y}",
         "legendgroup": "",
         "marker": {
          "color": "#636efa"
         },
         "name": "",
         "offsetgroup": "",
         "orientation": "v",
         "showlegend": false,
         "type": "histogram",
         "x": [
          "American",
          "American",
          "American",
          "American",
          "American",
          "American",
          "American",
          "American",
          "American",
          "American",
          "American",
          "American",
          "American",
          "American",
          "American",
          "American",
          "American",
          "American",
          "American",
          "American",
          "American",
          "American",
          "American",
          "American",
          "American",
          "American",
          "American",
          "American",
          "American",
          "American",
          "American",
          "American",
          "American",
          "American",
          "American",
          "American",
          "American",
          "American",
          "American",
          "American",
          "American",
          "American",
          "American",
          "American",
          "American",
          "American",
          "American",
          "American",
          "American",
          "American",
          "American",
          "American",
          "American",
          "American",
          "American",
          "American",
          "American",
          "American",
          "American",
          "American",
          "American",
          "American",
          "American",
          "American",
          "American",
          "American",
          "American",
          "American",
          "American",
          "American",
          "American",
          "American",
          "American",
          "American",
          "American",
          "American",
          "American",
          "American",
          "American",
          "American",
          "American",
          "American",
          "American",
          "American",
          "American",
          "American",
          "American",
          "American",
          "American",
          "American",
          "American",
          "American",
          "American",
          "American",
          "American",
          "American",
          "American",
          "American",
          "American",
          "American",
          "American",
          "American",
          "American",
          "American",
          "American",
          "American",
          "American",
          "American",
          "American",
          "American",
          "American",
          "American",
          "American",
          "American",
          "American",
          "American",
          "American",
          "American",
          "American",
          "American",
          "American",
          "American",
          "American",
          "American",
          "American",
          "American",
          "American",
          "American",
          "American",
          "American",
          "American",
          "American",
          "American",
          "American",
          "American",
          "American",
          "American",
          "American",
          "American",
          "American",
          "American",
          "American",
          "American",
          "American",
          "American",
          "American",
          "American",
          "American",
          "American",
          "American",
          "American",
          "American",
          "American",
          "American",
          "American",
          "American",
          "American",
          "American",
          "American",
          "American",
          "American",
          "American",
          "American",
          "American",
          "American",
          "American",
          "American",
          "American",
          "American",
          "American",
          "American",
          "American",
          "American",
          "American",
          "American",
          "American",
          "American",
          "American",
          "American",
          "American",
          "American",
          "American",
          "American",
          "American",
          "American",
          "American",
          "American",
          "American",
          "American",
          "American",
          "American",
          "American",
          "American",
          "American",
          "American",
          "American",
          "American",
          "American",
          "American",
          "American",
          "American",
          "American",
          "American",
          "American",
          "American",
          "American",
          "American",
          "American",
          "American",
          "American",
          "American",
          "American",
          "American",
          "American",
          "American",
          "American",
          "American",
          "American",
          "American",
          "American",
          "American",
          "American",
          "American",
          "American",
          "American",
          "American",
          "American",
          "American",
          "American",
          "American",
          "American",
          "American",
          "American",
          "American",
          "American",
          "American",
          "American",
          "American",
          "American",
          "American",
          "American",
          "American",
          "American",
          "American",
          "American",
          "American",
          "American",
          "American",
          "American",
          "American",
          "American",
          "American",
          "American",
          "American",
          "American",
          "American",
          "American",
          "American",
          "American",
          "Argentinian",
          "Australian",
          "Australian",
          "Austrian",
          "Austrian",
          "Austrian",
          "Austrian",
          "Austrian",
          "Austrian",
          "Austrian",
          "Austrian",
          "Belgian",
          "Belgian",
          "Belgian",
          "Belgian",
          "Belgian",
          "Belgian",
          "Belgian",
          "Belgian",
          "Belgian",
          "Belgian",
          "Belgian",
          "Belgian",
          "Belgian",
          "Belgian",
          "Belgian",
          "Bosnian",
          "Bosnian",
          "Bosnian",
          "Bosnian",
          "Bulgarian",
          "Bulgarian",
          "Bulgarian",
          "Bulgarian",
          "Bulgarian",
          "Bulgarian",
          "Bulgarian",
          "Bulgarian",
          "Bulgarian",
          "Bulgarian",
          "Bulgarian",
          "Bulgarian",
          "Bulgarian",
          "Bulgarian",
          "Bulgarian",
          "Bulgarian",
          "Bulgarian",
          "Bulgarian",
          "Bulgarian",
          "Bulgarian",
          "Bulgarian",
          "Bulgarian",
          "Bulgarian",
          "Bulgarian",
          "Bulgarian",
          "Bulgarian",
          "Canadian",
          "Canadian",
          "Canadian",
          "Canadian",
          "Canadian",
          "Canadian",
          "Canadian",
          "Canadian",
          "Canadian",
          "Canadian",
          "Canadian",
          "Canadian",
          "Canadian",
          "Canadian",
          "Canadian",
          "Canadian",
          "Canadian",
          "Canadian",
          "Canadian",
          "Canadian",
          "Canadian",
          "Canadian",
          "Canadian",
          "Canadian",
          "Canadian",
          "Canadian",
          "Canadian",
          "Canadian",
          "Canadian",
          "Canadian",
          "Canadian",
          "Canadian",
          "Canadian",
          "Canadian",
          "Canadian",
          "Canadian",
          "Channel Islander",
          "Channel Islander",
          "Channel Islander",
          "Channel Islander",
          "Channel Islander",
          "Channel Islander",
          "Channel Islander",
          "Channel Islander",
          "Channel Islander",
          "Channel Islander",
          "Channel Islander",
          "Channel Islander",
          "Channel Islander",
          "Channel Islander",
          "Channel Islander",
          "Chinese",
          "Chinese",
          "Chinese",
          "Chinese",
          "Chinese",
          "Chinese",
          "Chinese",
          "Chinese",
          "Croatian",
          "Croatian",
          "Croatian",
          "Croatian",
          "Croatian",
          "Croatian",
          "Croatian",
          "Croatian",
          "Croatian",
          "Croatian",
          "Croatian",
          "Croatian",
          "Croatian",
          "Croatian",
          "Croatian",
          "Croatian",
          "Croatian",
          "Croatian",
          "Croatian",
          "Croatian",
          "Croatian",
          "Croatian",
          "Croatian",
          "Croatian",
          "Croatian",
          "Croatian",
          "Croatian",
          "Croatian",
          "Croatian",
          "Croatian",
          "Czech",
          "Danish",
          "Danish",
          "Danish",
          "Danish",
          "Danish",
          "Danish",
          "Danish",
          "Danish",
          "Danish",
          "Danish",
          "Dutch",
          "Egyptian",
          "English",
          "English",
          "English",
          "English",
          "English",
          "English",
          "English",
          "English",
          "English",
          "English",
          "English",
          "English",
          "English",
          "English",
          "English",
          "English",
          "English",
          "English",
          "English",
          "English",
          "English",
          "English",
          "English",
          "English",
          "English",
          "English",
          "English",
          "English",
          "English",
          "English",
          "English",
          "English",
          "English",
          "English",
          "English",
          "English",
          "English",
          "English",
          "English",
          "English",
          "English",
          "English",
          "English",
          "English",
          "English",
          "English",
          "English",
          "English",
          "English",
          "English",
          "English",
          "English",
          "English",
          "English",
          "English",
          "English",
          "English",
          "English",
          "English",
          "English",
          "English",
          "English",
          "English",
          "English",
          "English",
          "English",
          "English",
          "English",
          "English",
          "English",
          "English",
          "English",
          "English",
          "English",
          "English",
          "English",
          "English",
          "English",
          "English",
          "English",
          "English",
          "English",
          "English",
          "English",
          "English",
          "English",
          "English",
          "English",
          "English",
          "English",
          "English",
          "English",
          "English",
          "English",
          "English",
          "English",
          "English",
          "English",
          "English",
          "English",
          "English",
          "English",
          "English",
          "English",
          "English",
          "English",
          "English",
          "English",
          "English",
          "English",
          "English",
          "English",
          "English",
          "English",
          "English",
          "English",
          "English",
          "English",
          "English",
          "English",
          "English",
          "English",
          "English",
          "English",
          "English",
          "English",
          "English",
          "English",
          "English",
          "English",
          "English",
          "English",
          "English",
          "English",
          "English",
          "English",
          "English",
          "English",
          "English",
          "English",
          "English",
          "English",
          "English",
          "English",
          "English",
          "English",
          "English",
          "English",
          "English",
          "English",
          "English",
          "English",
          "English",
          "English",
          "English",
          "English",
          "English",
          "English",
          "English",
          "English",
          "English",
          "English",
          "English",
          "English",
          "English",
          "English",
          "English",
          "English",
          "English",
          "English",
          "English",
          "English",
          "English",
          "English",
          "English",
          "English",
          "English",
          "English",
          "English",
          "English",
          "English",
          "English",
          "English",
          "English",
          "English",
          "English",
          "English",
          "English",
          "English",
          "English",
          "English",
          "English",
          "English",
          "English",
          "English",
          "English",
          "English",
          "English",
          "English",
          "English",
          "English",
          "English",
          "English",
          "English",
          "English",
          "English",
          "English",
          "English",
          "English",
          "English",
          "English",
          "English",
          "English",
          "English",
          "English",
          "English",
          "English",
          "English",
          "English",
          "English",
          "English",
          "English",
          "English",
          "English",
          "English",
          "English",
          "English",
          "English",
          "English",
          "English",
          "English",
          "English",
          "English",
          "English",
          "English",
          "English",
          "English",
          "English",
          "English",
          "English",
          "English",
          "English",
          "English",
          "English",
          "English",
          "English",
          "English",
          "English",
          "English",
          "English",
          "English",
          "English",
          "English",
          "English",
          "English",
          "English",
          "English",
          "English",
          "English",
          "English",
          "English",
          "English",
          "English",
          "English",
          "English",
          "English",
          "English",
          "English",
          "English",
          "English",
          "English",
          "English",
          "English",
          "English",
          "English",
          "English",
          "English",
          "English",
          "English",
          "English",
          "English",
          "English",
          "English",
          "English",
          "English",
          "English",
          "English",
          "English",
          "English",
          "English",
          "English",
          "English",
          "English",
          "English",
          "English",
          "English",
          "English",
          "English",
          "English",
          "English",
          "English",
          "English",
          "English",
          "English",
          "English",
          "English",
          "English",
          "English",
          "English",
          "English",
          "English",
          "English",
          "English",
          "English",
          "English",
          "English",
          "English",
          "English",
          "English",
          "English",
          "Finnish",
          "Finnish",
          "Finnish",
          "Finnish",
          "Finnish",
          "Finnish",
          "Finnish",
          "Finnish",
          "Finnish",
          "Finnish",
          "Finnish",
          "Finnish",
          "Finnish",
          "Finnish",
          "Finnish",
          "Finnish",
          "Finnish",
          "Finnish",
          "Finnish",
          "Finnish",
          "Finnish",
          "Finnish",
          "Finnish",
          "Finnish",
          "Finnish",
          "Finnish",
          "Finnish",
          "Finnish",
          "Finnish",
          "Finnish",
          "Finnish",
          "Finnish",
          "Finnish",
          "Finnish",
          "Finnish",
          "Finnish",
          "Finnish",
          "Finnish",
          "Finnish",
          "Finnish",
          "Finnish",
          "Finnish",
          "Finnish",
          "Finnish",
          "Finnish",
          "Finnish",
          "Finnish",
          "Finnish",
          "Finnish",
          "Finnish",
          "Finnish",
          "Finnish",
          "Finnish",
          "Finnish",
          "Finnish",
          "Finnish",
          "Finnish",
          "Finnish",
          "Finnish",
          "Finnish",
          "French",
          "French",
          "French",
          "French",
          "French",
          "French",
          "French",
          "French",
          "French",
          "French",
          "French",
          "French",
          "French",
          "French",
          "French",
          "French",
          "French",
          "French",
          "French",
          "French",
          "French",
          "French",
          "French",
          "French",
          "French",
          "French",
          "French",
          "French",
          "French",
          "French",
          "French",
          "French",
          "German",
          "German",
          "German",
          "German",
          "German",
          "German",
          "German",
          "German",
          "German",
          "German",
          "Greek",
          "Greek",
          "Greek",
          "Greek",
          "Hungarian",
          "Irish",
          "Irish",
          "Irish",
          "Irish",
          "Irish",
          "Irish",
          "Irish",
          "Irish",
          "Irish",
          "Irish",
          "Irish",
          "Irish",
          "Irish",
          "Irish",
          "Irish",
          "Irish",
          "Irish",
          "Irish",
          "Irish",
          "Irish",
          "Irish",
          "Irish",
          "Irish",
          "Irish",
          "Irish",
          "Irish",
          "Irish",
          "Irish",
          "Irish",
          "Irish",
          "Irish",
          "Irish",
          "Irish",
          "Irish",
          "Irish",
          "Irish",
          "Irish",
          "Irish",
          "Irish",
          "Irish",
          "Irish",
          "Irish",
          "Irish",
          "Irish",
          "Irish",
          "Irish",
          "Irish",
          "Irish",
          "Irish",
          "Irish",
          "Irish",
          "Irish",
          "Irish",
          "Irish",
          "Irish",
          "Irish",
          "Irish",
          "Irish",
          "Irish",
          "Irish",
          "Irish",
          "Irish",
          "Irish",
          "Irish",
          "Irish",
          "Irish",
          "Irish",
          "Irish",
          "Irish",
          "Irish",
          "Irish",
          "Irish",
          "Irish",
          "Irish",
          "Irish",
          "Irish",
          "Irish",
          "Irish",
          "Irish",
          "Irish",
          "Irish",
          "Irish",
          "Irish",
          "Irish",
          "Irish",
          "Irish",
          "Irish",
          "Irish",
          "Irish",
          "Irish",
          "Irish",
          "Irish",
          "Irish",
          "Irish",
          "Irish",
          "Irish",
          "Irish",
          "Irish",
          "Irish",
          "Irish",
          "Irish",
          "Irish",
          "Irish",
          "Irish",
          "Irish",
          "Irish",
          "Irish",
          "Irish",
          "Irish",
          "Irish",
          "Irish",
          "Irish",
          "Irish",
          "Irish",
          "Irish",
          "Irish",
          "Irish",
          "Irish",
          "Irish",
          "Irish",
          "Irish",
          "Irish",
          "Irish",
          "Irish",
          "Irish",
          "Irish",
          "Italian",
          "Italian",
          "Italian",
          "Italian",
          "Italian",
          "Italian",
          "Italian",
          "Italian",
          "Italian",
          "Japanese",
          "Latvian",
          "Lithuanian",
          "Lithuanian",
          "Macedonian",
          "Mexican",
          "Norwegian",
          "Norwegian",
          "Norwegian",
          "Norwegian",
          "Norwegian",
          "Norwegian",
          "Norwegian",
          "Norwegian",
          "Norwegian",
          "Norwegian",
          "Norwegian",
          "Norwegian",
          "Norwegian",
          "Norwegian",
          "Norwegian",
          "Norwegian",
          "Norwegian",
          "Norwegian",
          "Norwegian",
          "Norwegian",
          "Norwegian",
          "Norwegian",
          "Norwegian",
          "Norwegian",
          "Norwegian",
          "Norwegian",
          "Norwegian",
          "Norwegian",
          "Norwegian",
          "Polish",
          "Polish",
          "Polish",
          "Polish",
          "Polish",
          "Polish",
          "Polish",
          "Portuguese",
          "Portuguese",
          "Portuguese",
          "Portuguese",
          "Russian",
          "Russian",
          "Russian",
          "Russian",
          "Russian",
          "Russian",
          "Russian",
          "Russian",
          "Russian",
          "Russian",
          "Russian",
          "Russian",
          "Russian",
          "Russian",
          "Russian",
          "Scottish",
          "Scottish",
          "Scottish",
          "Scottish",
          "Scottish",
          "Scottish",
          "Scottish",
          "Scottish",
          "Scottish",
          "Scottish",
          "Scottish",
          "Scottish",
          "Scottish",
          "Scottish",
          "Scottish",
          "Scottish",
          "Scottish",
          "Siamese",
          "Slovenian",
          "Slovenian",
          "Slovenian",
          "Slovenian",
          "South African",
          "South African",
          "South African",
          "South African",
          "Spanish",
          "Spanish",
          "Spanish",
          "Spanish",
          "Spanish",
          "Spanish",
          "Spanish",
          "Spanish",
          "Spanish",
          "Swedish",
          "Swedish",
          "Swedish",
          "Swedish",
          "Swedish",
          "Swedish",
          "Swedish",
          "Swedish",
          "Swedish",
          "Swedish",
          "Swedish",
          "Swedish",
          "Swedish",
          "Swedish",
          "Swedish",
          "Swedish",
          "Swedish",
          "Swedish",
          "Swedish",
          "Swedish",
          "Swedish",
          "Swedish",
          "Swedish",
          "Swedish",
          "Swedish",
          "Swedish",
          "Swedish",
          "Swedish",
          "Swedish",
          "Swedish",
          "Swedish",
          "Swedish",
          "Swedish",
          "Swedish",
          "Swedish",
          "Swedish",
          "Swedish",
          "Swedish",
          "Swedish",
          "Swedish",
          "Swedish",
          "Swedish",
          "Swedish",
          "Swedish",
          "Swedish",
          "Swedish",
          "Swedish",
          "Swedish",
          "Swedish",
          "Swedish",
          "Swedish",
          "Swedish",
          "Swedish",
          "Swedish",
          "Swedish",
          "Swedish",
          "Swedish",
          "Swedish",
          "Swedish",
          "Swedish",
          "Swedish",
          "Swedish",
          "Swedish",
          "Swedish",
          "Swedish",
          "Swedish",
          "Swedish",
          "Swedish",
          "Swedish",
          "Swedish",
          "Swedish",
          "Swedish",
          "Swedish",
          "Swedish",
          "Swedish",
          "Swedish",
          "Swedish",
          "Swedish",
          "Swedish",
          "Swedish",
          "Swedish",
          "Swedish",
          "Swedish",
          "Swedish",
          "Swedish",
          "Swedish",
          "Swedish",
          "Swedish",
          "Swedish",
          "Swedish",
          "Swedish",
          "Swedish",
          "Swedish",
          "Swedish",
          "Swedish",
          "Swedish",
          "Swedish",
          "Swedish",
          "Swedish",
          "Swedish",
          "Swedish",
          "Swedish",
          "Swedish",
          "Swedish",
          "Swedish",
          "Swedish",
          "Swedish",
          "Swedish",
          "Swedish",
          "Swedish",
          "Swedish",
          "Swedish",
          "Swiss",
          "Swiss",
          "Swiss",
          "Swiss",
          "Swiss",
          "Swiss",
          "Swiss",
          "Swiss",
          "Swiss",
          "Swiss",
          "Swiss",
          "Swiss",
          "Swiss",
          "Swiss",
          "Swiss",
          "Swiss",
          "Swiss",
          "Syrian",
          "Syrian",
          "Syrian",
          "Syrian",
          "Syrian",
          "Syrian",
          "Syrian",
          "Syrian",
          "Syrian",
          "Syrian",
          "Syrian",
          "Syrian",
          "Syrian",
          "Syrian",
          "Syrian",
          "Syrian",
          "Syrian",
          "Syrian",
          "Syrian",
          "Syrian",
          "Syrian",
          "Syrian",
          "Syrian",
          "Syrian",
          "Syrian",
          "Syrian",
          "Syrian",
          "Syrian",
          "Syrian",
          "Syrian",
          "Syrian",
          "Syrian",
          "Syrian",
          "Syrian",
          "Syrian",
          "Syrian",
          "Syrian",
          "Syrian",
          "Syrian",
          "Syrian",
          "Syrian",
          "Syrian",
          "Syrian",
          "Syrian",
          "Syrian",
          "Syrian",
          "Syrian",
          "Syrian",
          "Syrian",
          "Syrian",
          "Syrian",
          "Syrian",
          "Syrian",
          "Syrian",
          "Syrian",
          "Syrian",
          "Syrian",
          "Syrian",
          "Syrian",
          "Syrian",
          "Syrian",
          "Syrian",
          "Syrian",
          "Syrian",
          "Syrian",
          "Syrian",
          "Syrian",
          "Syrian",
          "Syrian",
          "Syrian",
          "Syrian",
          "Syrian",
          "Syrian",
          "Syrian",
          "Syrian",
          "Syrian",
          "Syrian",
          "Syrian",
          "Syrian",
          "Syrian",
          "Syrian",
          "Syrian",
          "Syrian",
          "Syrian",
          "Syrian",
          "Syrian",
          "Turkish",
          "Turkish",
          "Turkish",
          "Turkish",
          "Turkish",
          "Turkish",
          "Uruguayan",
          "Uruguayan",
          "Uruguayan",
          "Welsh",
          "Welsh",
          "Welsh",
          "Welsh",
          "Welsh",
          "Welsh",
          "Welsh",
          "Welsh",
          "Welsh",
          "Welsh",
          "Welsh",
          "Welsh",
          "Welsh",
          "Welsh",
          "Welsh",
          "Welsh",
          "Welsh",
          "Welsh"
         ],
         "xaxis": "x",
         "yaxis": "y"
        }
       ],
       "layout": {
        "barmode": "relative",
        "legend": {
         "tracegroupgap": 0
        },
        "margin": {
         "t": 60
        },
        "template": {
         "data": {
          "bar": [
           {
            "error_x": {
             "color": "#2a3f5f"
            },
            "error_y": {
             "color": "#2a3f5f"
            },
            "marker": {
             "line": {
              "color": "#E5ECF6",
              "width": 0.5
             }
            },
            "type": "bar"
           }
          ],
          "barpolar": [
           {
            "marker": {
             "line": {
              "color": "#E5ECF6",
              "width": 0.5
             }
            },
            "type": "barpolar"
           }
          ],
          "carpet": [
           {
            "aaxis": {
             "endlinecolor": "#2a3f5f",
             "gridcolor": "white",
             "linecolor": "white",
             "minorgridcolor": "white",
             "startlinecolor": "#2a3f5f"
            },
            "baxis": {
             "endlinecolor": "#2a3f5f",
             "gridcolor": "white",
             "linecolor": "white",
             "minorgridcolor": "white",
             "startlinecolor": "#2a3f5f"
            },
            "type": "carpet"
           }
          ],
          "choropleth": [
           {
            "colorbar": {
             "outlinewidth": 0,
             "ticks": ""
            },
            "type": "choropleth"
           }
          ],
          "contour": [
           {
            "colorbar": {
             "outlinewidth": 0,
             "ticks": ""
            },
            "colorscale": [
             [
              0,
              "#0d0887"
             ],
             [
              0.1111111111111111,
              "#46039f"
             ],
             [
              0.2222222222222222,
              "#7201a8"
             ],
             [
              0.3333333333333333,
              "#9c179e"
             ],
             [
              0.4444444444444444,
              "#bd3786"
             ],
             [
              0.5555555555555556,
              "#d8576b"
             ],
             [
              0.6666666666666666,
              "#ed7953"
             ],
             [
              0.7777777777777778,
              "#fb9f3a"
             ],
             [
              0.8888888888888888,
              "#fdca26"
             ],
             [
              1,
              "#f0f921"
             ]
            ],
            "type": "contour"
           }
          ],
          "contourcarpet": [
           {
            "colorbar": {
             "outlinewidth": 0,
             "ticks": ""
            },
            "type": "contourcarpet"
           }
          ],
          "heatmap": [
           {
            "colorbar": {
             "outlinewidth": 0,
             "ticks": ""
            },
            "colorscale": [
             [
              0,
              "#0d0887"
             ],
             [
              0.1111111111111111,
              "#46039f"
             ],
             [
              0.2222222222222222,
              "#7201a8"
             ],
             [
              0.3333333333333333,
              "#9c179e"
             ],
             [
              0.4444444444444444,
              "#bd3786"
             ],
             [
              0.5555555555555556,
              "#d8576b"
             ],
             [
              0.6666666666666666,
              "#ed7953"
             ],
             [
              0.7777777777777778,
              "#fb9f3a"
             ],
             [
              0.8888888888888888,
              "#fdca26"
             ],
             [
              1,
              "#f0f921"
             ]
            ],
            "type": "heatmap"
           }
          ],
          "heatmapgl": [
           {
            "colorbar": {
             "outlinewidth": 0,
             "ticks": ""
            },
            "colorscale": [
             [
              0,
              "#0d0887"
             ],
             [
              0.1111111111111111,
              "#46039f"
             ],
             [
              0.2222222222222222,
              "#7201a8"
             ],
             [
              0.3333333333333333,
              "#9c179e"
             ],
             [
              0.4444444444444444,
              "#bd3786"
             ],
             [
              0.5555555555555556,
              "#d8576b"
             ],
             [
              0.6666666666666666,
              "#ed7953"
             ],
             [
              0.7777777777777778,
              "#fb9f3a"
             ],
             [
              0.8888888888888888,
              "#fdca26"
             ],
             [
              1,
              "#f0f921"
             ]
            ],
            "type": "heatmapgl"
           }
          ],
          "histogram": [
           {
            "marker": {
             "colorbar": {
              "outlinewidth": 0,
              "ticks": ""
             }
            },
            "type": "histogram"
           }
          ],
          "histogram2d": [
           {
            "colorbar": {
             "outlinewidth": 0,
             "ticks": ""
            },
            "colorscale": [
             [
              0,
              "#0d0887"
             ],
             [
              0.1111111111111111,
              "#46039f"
             ],
             [
              0.2222222222222222,
              "#7201a8"
             ],
             [
              0.3333333333333333,
              "#9c179e"
             ],
             [
              0.4444444444444444,
              "#bd3786"
             ],
             [
              0.5555555555555556,
              "#d8576b"
             ],
             [
              0.6666666666666666,
              "#ed7953"
             ],
             [
              0.7777777777777778,
              "#fb9f3a"
             ],
             [
              0.8888888888888888,
              "#fdca26"
             ],
             [
              1,
              "#f0f921"
             ]
            ],
            "type": "histogram2d"
           }
          ],
          "histogram2dcontour": [
           {
            "colorbar": {
             "outlinewidth": 0,
             "ticks": ""
            },
            "colorscale": [
             [
              0,
              "#0d0887"
             ],
             [
              0.1111111111111111,
              "#46039f"
             ],
             [
              0.2222222222222222,
              "#7201a8"
             ],
             [
              0.3333333333333333,
              "#9c179e"
             ],
             [
              0.4444444444444444,
              "#bd3786"
             ],
             [
              0.5555555555555556,
              "#d8576b"
             ],
             [
              0.6666666666666666,
              "#ed7953"
             ],
             [
              0.7777777777777778,
              "#fb9f3a"
             ],
             [
              0.8888888888888888,
              "#fdca26"
             ],
             [
              1,
              "#f0f921"
             ]
            ],
            "type": "histogram2dcontour"
           }
          ],
          "mesh3d": [
           {
            "colorbar": {
             "outlinewidth": 0,
             "ticks": ""
            },
            "type": "mesh3d"
           }
          ],
          "parcoords": [
           {
            "line": {
             "colorbar": {
              "outlinewidth": 0,
              "ticks": ""
             }
            },
            "type": "parcoords"
           }
          ],
          "pie": [
           {
            "automargin": true,
            "type": "pie"
           }
          ],
          "scatter": [
           {
            "marker": {
             "colorbar": {
              "outlinewidth": 0,
              "ticks": ""
             }
            },
            "type": "scatter"
           }
          ],
          "scatter3d": [
           {
            "line": {
             "colorbar": {
              "outlinewidth": 0,
              "ticks": ""
             }
            },
            "marker": {
             "colorbar": {
              "outlinewidth": 0,
              "ticks": ""
             }
            },
            "type": "scatter3d"
           }
          ],
          "scattercarpet": [
           {
            "marker": {
             "colorbar": {
              "outlinewidth": 0,
              "ticks": ""
             }
            },
            "type": "scattercarpet"
           }
          ],
          "scattergeo": [
           {
            "marker": {
             "colorbar": {
              "outlinewidth": 0,
              "ticks": ""
             }
            },
            "type": "scattergeo"
           }
          ],
          "scattergl": [
           {
            "marker": {
             "colorbar": {
              "outlinewidth": 0,
              "ticks": ""
             }
            },
            "type": "scattergl"
           }
          ],
          "scattermapbox": [
           {
            "marker": {
             "colorbar": {
              "outlinewidth": 0,
              "ticks": ""
             }
            },
            "type": "scattermapbox"
           }
          ],
          "scatterpolar": [
           {
            "marker": {
             "colorbar": {
              "outlinewidth": 0,
              "ticks": ""
             }
            },
            "type": "scatterpolar"
           }
          ],
          "scatterpolargl": [
           {
            "marker": {
             "colorbar": {
              "outlinewidth": 0,
              "ticks": ""
             }
            },
            "type": "scatterpolargl"
           }
          ],
          "scatterternary": [
           {
            "marker": {
             "colorbar": {
              "outlinewidth": 0,
              "ticks": ""
             }
            },
            "type": "scatterternary"
           }
          ],
          "surface": [
           {
            "colorbar": {
             "outlinewidth": 0,
             "ticks": ""
            },
            "colorscale": [
             [
              0,
              "#0d0887"
             ],
             [
              0.1111111111111111,
              "#46039f"
             ],
             [
              0.2222222222222222,
              "#7201a8"
             ],
             [
              0.3333333333333333,
              "#9c179e"
             ],
             [
              0.4444444444444444,
              "#bd3786"
             ],
             [
              0.5555555555555556,
              "#d8576b"
             ],
             [
              0.6666666666666666,
              "#ed7953"
             ],
             [
              0.7777777777777778,
              "#fb9f3a"
             ],
             [
              0.8888888888888888,
              "#fdca26"
             ],
             [
              1,
              "#f0f921"
             ]
            ],
            "type": "surface"
           }
          ],
          "table": [
           {
            "cells": {
             "fill": {
              "color": "#EBF0F8"
             },
             "line": {
              "color": "white"
             }
            },
            "header": {
             "fill": {
              "color": "#C8D4E3"
             },
             "line": {
              "color": "white"
             }
            },
            "type": "table"
           }
          ]
         },
         "layout": {
          "annotationdefaults": {
           "arrowcolor": "#2a3f5f",
           "arrowhead": 0,
           "arrowwidth": 1
          },
          "coloraxis": {
           "colorbar": {
            "outlinewidth": 0,
            "ticks": ""
           }
          },
          "colorscale": {
           "diverging": [
            [
             0,
             "#8e0152"
            ],
            [
             0.1,
             "#c51b7d"
            ],
            [
             0.2,
             "#de77ae"
            ],
            [
             0.3,
             "#f1b6da"
            ],
            [
             0.4,
             "#fde0ef"
            ],
            [
             0.5,
             "#f7f7f7"
            ],
            [
             0.6,
             "#e6f5d0"
            ],
            [
             0.7,
             "#b8e186"
            ],
            [
             0.8,
             "#7fbc41"
            ],
            [
             0.9,
             "#4d9221"
            ],
            [
             1,
             "#276419"
            ]
           ],
           "sequential": [
            [
             0,
             "#0d0887"
            ],
            [
             0.1111111111111111,
             "#46039f"
            ],
            [
             0.2222222222222222,
             "#7201a8"
            ],
            [
             0.3333333333333333,
             "#9c179e"
            ],
            [
             0.4444444444444444,
             "#bd3786"
            ],
            [
             0.5555555555555556,
             "#d8576b"
            ],
            [
             0.6666666666666666,
             "#ed7953"
            ],
            [
             0.7777777777777778,
             "#fb9f3a"
            ],
            [
             0.8888888888888888,
             "#fdca26"
            ],
            [
             1,
             "#f0f921"
            ]
           ],
           "sequentialminus": [
            [
             0,
             "#0d0887"
            ],
            [
             0.1111111111111111,
             "#46039f"
            ],
            [
             0.2222222222222222,
             "#7201a8"
            ],
            [
             0.3333333333333333,
             "#9c179e"
            ],
            [
             0.4444444444444444,
             "#bd3786"
            ],
            [
             0.5555555555555556,
             "#d8576b"
            ],
            [
             0.6666666666666666,
             "#ed7953"
            ],
            [
             0.7777777777777778,
             "#fb9f3a"
            ],
            [
             0.8888888888888888,
             "#fdca26"
            ],
            [
             1,
             "#f0f921"
            ]
           ]
          },
          "colorway": [
           "#636efa",
           "#EF553B",
           "#00cc96",
           "#ab63fa",
           "#FFA15A",
           "#19d3f3",
           "#FF6692",
           "#B6E880",
           "#FF97FF",
           "#FECB52"
          ],
          "font": {
           "color": "#2a3f5f"
          },
          "geo": {
           "bgcolor": "white",
           "lakecolor": "white",
           "landcolor": "#E5ECF6",
           "showlakes": true,
           "showland": true,
           "subunitcolor": "white"
          },
          "hoverlabel": {
           "align": "left"
          },
          "hovermode": "closest",
          "mapbox": {
           "style": "light"
          },
          "paper_bgcolor": "white",
          "plot_bgcolor": "#E5ECF6",
          "polar": {
           "angularaxis": {
            "gridcolor": "white",
            "linecolor": "white",
            "ticks": ""
           },
           "bgcolor": "#E5ECF6",
           "radialaxis": {
            "gridcolor": "white",
            "linecolor": "white",
            "ticks": ""
           }
          },
          "scene": {
           "xaxis": {
            "backgroundcolor": "#E5ECF6",
            "gridcolor": "white",
            "gridwidth": 2,
            "linecolor": "white",
            "showbackground": true,
            "ticks": "",
            "zerolinecolor": "white"
           },
           "yaxis": {
            "backgroundcolor": "#E5ECF6",
            "gridcolor": "white",
            "gridwidth": 2,
            "linecolor": "white",
            "showbackground": true,
            "ticks": "",
            "zerolinecolor": "white"
           },
           "zaxis": {
            "backgroundcolor": "#E5ECF6",
            "gridcolor": "white",
            "gridwidth": 2,
            "linecolor": "white",
            "showbackground": true,
            "ticks": "",
            "zerolinecolor": "white"
           }
          },
          "shapedefaults": {
           "line": {
            "color": "#2a3f5f"
           }
          },
          "ternary": {
           "aaxis": {
            "gridcolor": "white",
            "linecolor": "white",
            "ticks": ""
           },
           "baxis": {
            "gridcolor": "white",
            "linecolor": "white",
            "ticks": ""
           },
           "bgcolor": "#E5ECF6",
           "caxis": {
            "gridcolor": "white",
            "linecolor": "white",
            "ticks": ""
           }
          },
          "title": {
           "x": 0.05
          },
          "xaxis": {
           "automargin": true,
           "gridcolor": "white",
           "linecolor": "white",
           "ticks": "",
           "title": {
            "standoff": 15
           },
           "zerolinecolor": "white",
           "zerolinewidth": 2
          },
          "yaxis": {
           "automargin": true,
           "gridcolor": "white",
           "linecolor": "white",
           "ticks": "",
           "title": {
            "standoff": 15
           },
           "zerolinecolor": "white",
           "zerolinewidth": 2
          }
         }
        },
        "xaxis": {
         "anchor": "y",
         "categoryorder": "total descending",
         "domain": [
          0,
          1
         ],
         "title": {
          "text": "nat"
         }
        },
        "yaxis": {
         "anchor": "x",
         "domain": [
          0,
          1
         ],
         "title": {
          "text": "count"
         }
        }
       }
      },
      "text/html": [
       "<div>\n",
       "        \n",
       "        \n",
       "            <div id=\"ae4edfcb-f940-4190-8b8f-958ac32c16db\" class=\"plotly-graph-div\" style=\"height:525px; width:100%;\"></div>\n",
       "            <script type=\"text/javascript\">\n",
       "                require([\"plotly\"], function(Plotly) {\n",
       "                    window.PLOTLYENV=window.PLOTLYENV || {};\n",
       "                    \n",
       "                if (document.getElementById(\"ae4edfcb-f940-4190-8b8f-958ac32c16db\")) {\n",
       "                    Plotly.newPlot(\n",
       "                        'ae4edfcb-f940-4190-8b8f-958ac32c16db',\n",
       "                        [{\"alignmentgroup\": \"True\", \"bingroup\": \"x\", \"hoverlabel\": {\"namelength\": 0}, \"hovertemplate\": \"nat=%{x}<br>count=%{y}\", \"legendgroup\": \"\", \"marker\": {\"color\": \"#636efa\"}, \"name\": \"\", \"offsetgroup\": \"\", \"orientation\": \"v\", \"showlegend\": false, \"type\": \"histogram\", \"x\": [\"American\", \"American\", \"American\", \"American\", \"American\", \"American\", \"American\", \"American\", \"American\", \"American\", \"American\", \"American\", \"American\", \"American\", \"American\", \"American\", \"American\", \"American\", \"American\", \"American\", \"American\", \"American\", \"American\", \"American\", \"American\", \"American\", \"American\", \"American\", \"American\", \"American\", \"American\", \"American\", \"American\", \"American\", \"American\", \"American\", \"American\", \"American\", \"American\", \"American\", \"American\", \"American\", \"American\", \"American\", \"American\", \"American\", \"American\", \"American\", \"American\", \"American\", \"American\", \"American\", \"American\", \"American\", \"American\", \"American\", \"American\", \"American\", \"American\", \"American\", \"American\", \"American\", \"American\", \"American\", \"American\", \"American\", \"American\", \"American\", \"American\", \"American\", \"American\", \"American\", \"American\", \"American\", \"American\", \"American\", \"American\", \"American\", \"American\", \"American\", \"American\", \"American\", \"American\", \"American\", \"American\", \"American\", \"American\", \"American\", \"American\", \"American\", \"American\", \"American\", \"American\", \"American\", \"American\", \"American\", \"American\", \"American\", \"American\", \"American\", \"American\", \"American\", \"American\", \"American\", \"American\", \"American\", \"American\", \"American\", \"American\", \"American\", \"American\", \"American\", \"American\", \"American\", \"American\", \"American\", \"American\", \"American\", \"American\", \"American\", \"American\", \"American\", \"American\", \"American\", \"American\", \"American\", \"American\", \"American\", \"American\", \"American\", \"American\", \"American\", \"American\", \"American\", \"American\", \"American\", \"American\", \"American\", \"American\", \"American\", \"American\", \"American\", \"American\", \"American\", \"American\", \"American\", \"American\", \"American\", \"American\", \"American\", \"American\", \"American\", \"American\", \"American\", \"American\", \"American\", \"American\", \"American\", \"American\", \"American\", \"American\", \"American\", \"American\", \"American\", \"American\", \"American\", \"American\", \"American\", \"American\", \"American\", \"American\", \"American\", \"American\", \"American\", \"American\", \"American\", \"American\", \"American\", \"American\", \"American\", \"American\", \"American\", \"American\", \"American\", \"American\", \"American\", \"American\", \"American\", \"American\", \"American\", \"American\", \"American\", \"American\", \"American\", \"American\", \"American\", \"American\", \"American\", \"American\", \"American\", \"American\", \"American\", \"American\", \"American\", \"American\", \"American\", \"American\", \"American\", \"American\", \"American\", \"American\", \"American\", \"American\", \"American\", \"American\", \"American\", \"American\", \"American\", \"American\", \"American\", \"American\", \"American\", \"American\", \"American\", \"American\", \"American\", \"American\", \"American\", \"American\", \"American\", \"American\", \"American\", \"American\", \"American\", \"American\", \"American\", \"American\", \"American\", \"American\", \"American\", \"American\", \"American\", \"American\", \"American\", \"American\", \"American\", \"American\", \"American\", \"American\", \"American\", \"American\", \"American\", \"American\", \"American\", \"American\", \"American\", \"American\", \"American\", \"American\", \"Argentinian\", \"Australian\", \"Australian\", \"Austrian\", \"Austrian\", \"Austrian\", \"Austrian\", \"Austrian\", \"Austrian\", \"Austrian\", \"Austrian\", \"Belgian\", \"Belgian\", \"Belgian\", \"Belgian\", \"Belgian\", \"Belgian\", \"Belgian\", \"Belgian\", \"Belgian\", \"Belgian\", \"Belgian\", \"Belgian\", \"Belgian\", \"Belgian\", \"Belgian\", \"Bosnian\", \"Bosnian\", \"Bosnian\", \"Bosnian\", \"Bulgarian\", \"Bulgarian\", \"Bulgarian\", \"Bulgarian\", \"Bulgarian\", \"Bulgarian\", \"Bulgarian\", \"Bulgarian\", \"Bulgarian\", \"Bulgarian\", \"Bulgarian\", \"Bulgarian\", \"Bulgarian\", \"Bulgarian\", \"Bulgarian\", \"Bulgarian\", \"Bulgarian\", \"Bulgarian\", \"Bulgarian\", \"Bulgarian\", \"Bulgarian\", \"Bulgarian\", \"Bulgarian\", \"Bulgarian\", \"Bulgarian\", \"Bulgarian\", \"Canadian\", \"Canadian\", \"Canadian\", \"Canadian\", \"Canadian\", \"Canadian\", \"Canadian\", \"Canadian\", \"Canadian\", \"Canadian\", \"Canadian\", \"Canadian\", \"Canadian\", \"Canadian\", \"Canadian\", \"Canadian\", \"Canadian\", \"Canadian\", \"Canadian\", \"Canadian\", \"Canadian\", \"Canadian\", \"Canadian\", \"Canadian\", \"Canadian\", \"Canadian\", \"Canadian\", \"Canadian\", \"Canadian\", \"Canadian\", \"Canadian\", \"Canadian\", \"Canadian\", \"Canadian\", \"Canadian\", \"Canadian\", \"Channel Islander\", \"Channel Islander\", \"Channel Islander\", \"Channel Islander\", \"Channel Islander\", \"Channel Islander\", \"Channel Islander\", \"Channel Islander\", \"Channel Islander\", \"Channel Islander\", \"Channel Islander\", \"Channel Islander\", \"Channel Islander\", \"Channel Islander\", \"Channel Islander\", \"Chinese\", \"Chinese\", \"Chinese\", \"Chinese\", \"Chinese\", \"Chinese\", \"Chinese\", \"Chinese\", \"Croatian\", \"Croatian\", \"Croatian\", \"Croatian\", \"Croatian\", \"Croatian\", \"Croatian\", \"Croatian\", \"Croatian\", \"Croatian\", \"Croatian\", \"Croatian\", \"Croatian\", \"Croatian\", \"Croatian\", \"Croatian\", \"Croatian\", \"Croatian\", \"Croatian\", \"Croatian\", \"Croatian\", \"Croatian\", \"Croatian\", \"Croatian\", \"Croatian\", \"Croatian\", \"Croatian\", \"Croatian\", \"Croatian\", \"Croatian\", \"Czech\", \"Danish\", \"Danish\", \"Danish\", \"Danish\", \"Danish\", \"Danish\", \"Danish\", \"Danish\", \"Danish\", \"Danish\", \"Dutch\", \"Egyptian\", \"English\", \"English\", \"English\", \"English\", \"English\", \"English\", \"English\", \"English\", \"English\", \"English\", \"English\", \"English\", \"English\", \"English\", \"English\", \"English\", \"English\", \"English\", \"English\", \"English\", \"English\", \"English\", \"English\", \"English\", \"English\", \"English\", \"English\", \"English\", \"English\", \"English\", \"English\", \"English\", \"English\", \"English\", \"English\", \"English\", \"English\", \"English\", \"English\", \"English\", \"English\", \"English\", \"English\", \"English\", \"English\", \"English\", \"English\", \"English\", \"English\", \"English\", \"English\", \"English\", \"English\", \"English\", \"English\", \"English\", \"English\", \"English\", \"English\", \"English\", \"English\", \"English\", \"English\", \"English\", \"English\", \"English\", \"English\", \"English\", \"English\", \"English\", \"English\", \"English\", \"English\", \"English\", \"English\", \"English\", \"English\", \"English\", \"English\", \"English\", \"English\", \"English\", \"English\", \"English\", \"English\", \"English\", \"English\", \"English\", \"English\", \"English\", \"English\", \"English\", \"English\", \"English\", \"English\", \"English\", \"English\", \"English\", \"English\", \"English\", \"English\", \"English\", \"English\", \"English\", \"English\", \"English\", \"English\", \"English\", \"English\", \"English\", \"English\", \"English\", \"English\", \"English\", \"English\", \"English\", \"English\", \"English\", \"English\", \"English\", \"English\", \"English\", \"English\", \"English\", \"English\", \"English\", \"English\", \"English\", \"English\", \"English\", \"English\", \"English\", \"English\", \"English\", \"English\", \"English\", \"English\", \"English\", \"English\", \"English\", \"English\", \"English\", \"English\", \"English\", \"English\", \"English\", \"English\", \"English\", \"English\", \"English\", \"English\", \"English\", \"English\", \"English\", \"English\", \"English\", \"English\", \"English\", \"English\", \"English\", \"English\", \"English\", \"English\", \"English\", \"English\", \"English\", \"English\", \"English\", \"English\", \"English\", \"English\", \"English\", \"English\", \"English\", \"English\", \"English\", \"English\", \"English\", \"English\", \"English\", \"English\", \"English\", \"English\", \"English\", \"English\", \"English\", \"English\", \"English\", \"English\", \"English\", \"English\", \"English\", \"English\", \"English\", \"English\", \"English\", \"English\", \"English\", \"English\", \"English\", \"English\", \"English\", \"English\", \"English\", \"English\", \"English\", \"English\", \"English\", \"English\", \"English\", \"English\", \"English\", \"English\", \"English\", \"English\", \"English\", \"English\", \"English\", \"English\", \"English\", \"English\", \"English\", \"English\", \"English\", \"English\", \"English\", \"English\", \"English\", \"English\", \"English\", \"English\", \"English\", \"English\", \"English\", \"English\", \"English\", \"English\", \"English\", \"English\", \"English\", \"English\", \"English\", \"English\", \"English\", \"English\", \"English\", \"English\", \"English\", \"English\", \"English\", \"English\", \"English\", \"English\", \"English\", \"English\", \"English\", \"English\", \"English\", \"English\", \"English\", \"English\", \"English\", \"English\", \"English\", \"English\", \"English\", \"English\", \"English\", \"English\", \"English\", \"English\", \"English\", \"English\", \"English\", \"English\", \"English\", \"English\", \"English\", \"English\", \"English\", \"English\", \"English\", \"English\", \"English\", \"English\", \"English\", \"English\", \"English\", \"English\", \"English\", \"English\", \"English\", \"English\", \"English\", \"English\", \"English\", \"English\", \"English\", \"English\", \"English\", \"English\", \"English\", \"English\", \"English\", \"English\", \"English\", \"English\", \"English\", \"English\", \"English\", \"English\", \"English\", \"English\", \"English\", \"English\", \"English\", \"English\", \"English\", \"English\", \"English\", \"Finnish\", \"Finnish\", \"Finnish\", \"Finnish\", \"Finnish\", \"Finnish\", \"Finnish\", \"Finnish\", \"Finnish\", \"Finnish\", \"Finnish\", \"Finnish\", \"Finnish\", \"Finnish\", \"Finnish\", \"Finnish\", \"Finnish\", \"Finnish\", \"Finnish\", \"Finnish\", \"Finnish\", \"Finnish\", \"Finnish\", \"Finnish\", \"Finnish\", \"Finnish\", \"Finnish\", \"Finnish\", \"Finnish\", \"Finnish\", \"Finnish\", \"Finnish\", \"Finnish\", \"Finnish\", \"Finnish\", \"Finnish\", \"Finnish\", \"Finnish\", \"Finnish\", \"Finnish\", \"Finnish\", \"Finnish\", \"Finnish\", \"Finnish\", \"Finnish\", \"Finnish\", \"Finnish\", \"Finnish\", \"Finnish\", \"Finnish\", \"Finnish\", \"Finnish\", \"Finnish\", \"Finnish\", \"Finnish\", \"Finnish\", \"Finnish\", \"Finnish\", \"Finnish\", \"Finnish\", \"French\", \"French\", \"French\", \"French\", \"French\", \"French\", \"French\", \"French\", \"French\", \"French\", \"French\", \"French\", \"French\", \"French\", \"French\", \"French\", \"French\", \"French\", \"French\", \"French\", \"French\", \"French\", \"French\", \"French\", \"French\", \"French\", \"French\", \"French\", \"French\", \"French\", \"French\", \"French\", \"German\", \"German\", \"German\", \"German\", \"German\", \"German\", \"German\", \"German\", \"German\", \"German\", \"Greek\", \"Greek\", \"Greek\", \"Greek\", \"Hungarian\", \"Irish\", \"Irish\", \"Irish\", \"Irish\", \"Irish\", \"Irish\", \"Irish\", \"Irish\", \"Irish\", \"Irish\", \"Irish\", \"Irish\", \"Irish\", \"Irish\", \"Irish\", \"Irish\", \"Irish\", \"Irish\", \"Irish\", \"Irish\", \"Irish\", \"Irish\", \"Irish\", \"Irish\", \"Irish\", \"Irish\", \"Irish\", \"Irish\", \"Irish\", \"Irish\", \"Irish\", \"Irish\", \"Irish\", \"Irish\", \"Irish\", \"Irish\", \"Irish\", \"Irish\", \"Irish\", \"Irish\", \"Irish\", \"Irish\", \"Irish\", \"Irish\", \"Irish\", \"Irish\", \"Irish\", \"Irish\", \"Irish\", \"Irish\", \"Irish\", \"Irish\", \"Irish\", \"Irish\", \"Irish\", \"Irish\", \"Irish\", \"Irish\", \"Irish\", \"Irish\", \"Irish\", \"Irish\", \"Irish\", \"Irish\", \"Irish\", \"Irish\", \"Irish\", \"Irish\", \"Irish\", \"Irish\", \"Irish\", \"Irish\", \"Irish\", \"Irish\", \"Irish\", \"Irish\", \"Irish\", \"Irish\", \"Irish\", \"Irish\", \"Irish\", \"Irish\", \"Irish\", \"Irish\", \"Irish\", \"Irish\", \"Irish\", \"Irish\", \"Irish\", \"Irish\", \"Irish\", \"Irish\", \"Irish\", \"Irish\", \"Irish\", \"Irish\", \"Irish\", \"Irish\", \"Irish\", \"Irish\", \"Irish\", \"Irish\", \"Irish\", \"Irish\", \"Irish\", \"Irish\", \"Irish\", \"Irish\", \"Irish\", \"Irish\", \"Irish\", \"Irish\", \"Irish\", \"Irish\", \"Irish\", \"Irish\", \"Irish\", \"Irish\", \"Irish\", \"Irish\", \"Irish\", \"Irish\", \"Irish\", \"Irish\", \"Irish\", \"Irish\", \"Italian\", \"Italian\", \"Italian\", \"Italian\", \"Italian\", \"Italian\", \"Italian\", \"Italian\", \"Italian\", \"Japanese\", \"Latvian\", \"Lithuanian\", \"Lithuanian\", \"Macedonian\", \"Mexican\", \"Norwegian\", \"Norwegian\", \"Norwegian\", \"Norwegian\", \"Norwegian\", \"Norwegian\", \"Norwegian\", \"Norwegian\", \"Norwegian\", \"Norwegian\", \"Norwegian\", \"Norwegian\", \"Norwegian\", \"Norwegian\", \"Norwegian\", \"Norwegian\", \"Norwegian\", \"Norwegian\", \"Norwegian\", \"Norwegian\", \"Norwegian\", \"Norwegian\", \"Norwegian\", \"Norwegian\", \"Norwegian\", \"Norwegian\", \"Norwegian\", \"Norwegian\", \"Norwegian\", \"Polish\", \"Polish\", \"Polish\", \"Polish\", \"Polish\", \"Polish\", \"Polish\", \"Portuguese\", \"Portuguese\", \"Portuguese\", \"Portuguese\", \"Russian\", \"Russian\", \"Russian\", \"Russian\", \"Russian\", \"Russian\", \"Russian\", \"Russian\", \"Russian\", \"Russian\", \"Russian\", \"Russian\", \"Russian\", \"Russian\", \"Russian\", \"Scottish\", \"Scottish\", \"Scottish\", \"Scottish\", \"Scottish\", \"Scottish\", \"Scottish\", \"Scottish\", \"Scottish\", \"Scottish\", \"Scottish\", \"Scottish\", \"Scottish\", \"Scottish\", \"Scottish\", \"Scottish\", \"Scottish\", \"Siamese\", \"Slovenian\", \"Slovenian\", \"Slovenian\", \"Slovenian\", \"South African\", \"South African\", \"South African\", \"South African\", \"Spanish\", \"Spanish\", \"Spanish\", \"Spanish\", \"Spanish\", \"Spanish\", \"Spanish\", \"Spanish\", \"Spanish\", \"Swedish\", \"Swedish\", \"Swedish\", \"Swedish\", \"Swedish\", \"Swedish\", \"Swedish\", \"Swedish\", \"Swedish\", \"Swedish\", \"Swedish\", \"Swedish\", \"Swedish\", \"Swedish\", \"Swedish\", \"Swedish\", \"Swedish\", \"Swedish\", \"Swedish\", \"Swedish\", \"Swedish\", \"Swedish\", \"Swedish\", \"Swedish\", \"Swedish\", \"Swedish\", \"Swedish\", \"Swedish\", \"Swedish\", \"Swedish\", \"Swedish\", \"Swedish\", \"Swedish\", \"Swedish\", \"Swedish\", \"Swedish\", \"Swedish\", \"Swedish\", \"Swedish\", \"Swedish\", \"Swedish\", \"Swedish\", \"Swedish\", \"Swedish\", \"Swedish\", \"Swedish\", \"Swedish\", \"Swedish\", \"Swedish\", \"Swedish\", \"Swedish\", \"Swedish\", \"Swedish\", \"Swedish\", \"Swedish\", \"Swedish\", \"Swedish\", \"Swedish\", \"Swedish\", \"Swedish\", \"Swedish\", \"Swedish\", \"Swedish\", \"Swedish\", \"Swedish\", \"Swedish\", \"Swedish\", \"Swedish\", \"Swedish\", \"Swedish\", \"Swedish\", \"Swedish\", \"Swedish\", \"Swedish\", \"Swedish\", \"Swedish\", \"Swedish\", \"Swedish\", \"Swedish\", \"Swedish\", \"Swedish\", \"Swedish\", \"Swedish\", \"Swedish\", \"Swedish\", \"Swedish\", \"Swedish\", \"Swedish\", \"Swedish\", \"Swedish\", \"Swedish\", \"Swedish\", \"Swedish\", \"Swedish\", \"Swedish\", \"Swedish\", \"Swedish\", \"Swedish\", \"Swedish\", \"Swedish\", \"Swedish\", \"Swedish\", \"Swedish\", \"Swedish\", \"Swedish\", \"Swedish\", \"Swedish\", \"Swedish\", \"Swedish\", \"Swedish\", \"Swedish\", \"Swedish\", \"Swiss\", \"Swiss\", \"Swiss\", \"Swiss\", \"Swiss\", \"Swiss\", \"Swiss\", \"Swiss\", \"Swiss\", \"Swiss\", \"Swiss\", \"Swiss\", \"Swiss\", \"Swiss\", \"Swiss\", \"Swiss\", \"Swiss\", \"Syrian\", \"Syrian\", \"Syrian\", \"Syrian\", \"Syrian\", \"Syrian\", \"Syrian\", \"Syrian\", \"Syrian\", \"Syrian\", \"Syrian\", \"Syrian\", \"Syrian\", \"Syrian\", \"Syrian\", \"Syrian\", \"Syrian\", \"Syrian\", \"Syrian\", \"Syrian\", \"Syrian\", \"Syrian\", \"Syrian\", \"Syrian\", \"Syrian\", \"Syrian\", \"Syrian\", \"Syrian\", \"Syrian\", \"Syrian\", \"Syrian\", \"Syrian\", \"Syrian\", \"Syrian\", \"Syrian\", \"Syrian\", \"Syrian\", \"Syrian\", \"Syrian\", \"Syrian\", \"Syrian\", \"Syrian\", \"Syrian\", \"Syrian\", \"Syrian\", \"Syrian\", \"Syrian\", \"Syrian\", \"Syrian\", \"Syrian\", \"Syrian\", \"Syrian\", \"Syrian\", \"Syrian\", \"Syrian\", \"Syrian\", \"Syrian\", \"Syrian\", \"Syrian\", \"Syrian\", \"Syrian\", \"Syrian\", \"Syrian\", \"Syrian\", \"Syrian\", \"Syrian\", \"Syrian\", \"Syrian\", \"Syrian\", \"Syrian\", \"Syrian\", \"Syrian\", \"Syrian\", \"Syrian\", \"Syrian\", \"Syrian\", \"Syrian\", \"Syrian\", \"Syrian\", \"Syrian\", \"Syrian\", \"Syrian\", \"Syrian\", \"Syrian\", \"Syrian\", \"Syrian\", \"Turkish\", \"Turkish\", \"Turkish\", \"Turkish\", \"Turkish\", \"Turkish\", \"Uruguayan\", \"Uruguayan\", \"Uruguayan\", \"Welsh\", \"Welsh\", \"Welsh\", \"Welsh\", \"Welsh\", \"Welsh\", \"Welsh\", \"Welsh\", \"Welsh\", \"Welsh\", \"Welsh\", \"Welsh\", \"Welsh\", \"Welsh\", \"Welsh\", \"Welsh\", \"Welsh\", \"Welsh\"], \"xaxis\": \"x\", \"yaxis\": \"y\"}],\n",
       "                        {\"barmode\": \"relative\", \"legend\": {\"tracegroupgap\": 0}, \"margin\": {\"t\": 60}, \"template\": {\"data\": {\"bar\": [{\"error_x\": {\"color\": \"#2a3f5f\"}, \"error_y\": {\"color\": \"#2a3f5f\"}, \"marker\": {\"line\": {\"color\": \"#E5ECF6\", \"width\": 0.5}}, \"type\": \"bar\"}], \"barpolar\": [{\"marker\": {\"line\": {\"color\": \"#E5ECF6\", \"width\": 0.5}}, \"type\": \"barpolar\"}], \"carpet\": [{\"aaxis\": {\"endlinecolor\": \"#2a3f5f\", \"gridcolor\": \"white\", \"linecolor\": \"white\", \"minorgridcolor\": \"white\", \"startlinecolor\": \"#2a3f5f\"}, \"baxis\": {\"endlinecolor\": \"#2a3f5f\", \"gridcolor\": \"white\", \"linecolor\": \"white\", \"minorgridcolor\": \"white\", \"startlinecolor\": \"#2a3f5f\"}, \"type\": \"carpet\"}], \"choropleth\": [{\"colorbar\": {\"outlinewidth\": 0, \"ticks\": \"\"}, \"type\": \"choropleth\"}], \"contour\": [{\"colorbar\": {\"outlinewidth\": 0, \"ticks\": \"\"}, \"colorscale\": [[0.0, \"#0d0887\"], [0.1111111111111111, \"#46039f\"], [0.2222222222222222, \"#7201a8\"], [0.3333333333333333, \"#9c179e\"], [0.4444444444444444, \"#bd3786\"], [0.5555555555555556, \"#d8576b\"], [0.6666666666666666, \"#ed7953\"], [0.7777777777777778, \"#fb9f3a\"], [0.8888888888888888, \"#fdca26\"], [1.0, \"#f0f921\"]], \"type\": \"contour\"}], \"contourcarpet\": [{\"colorbar\": {\"outlinewidth\": 0, \"ticks\": \"\"}, \"type\": \"contourcarpet\"}], \"heatmap\": [{\"colorbar\": {\"outlinewidth\": 0, \"ticks\": \"\"}, \"colorscale\": [[0.0, \"#0d0887\"], [0.1111111111111111, \"#46039f\"], [0.2222222222222222, \"#7201a8\"], [0.3333333333333333, \"#9c179e\"], [0.4444444444444444, \"#bd3786\"], [0.5555555555555556, \"#d8576b\"], [0.6666666666666666, \"#ed7953\"], [0.7777777777777778, \"#fb9f3a\"], [0.8888888888888888, \"#fdca26\"], [1.0, \"#f0f921\"]], \"type\": \"heatmap\"}], \"heatmapgl\": [{\"colorbar\": {\"outlinewidth\": 0, \"ticks\": \"\"}, \"colorscale\": [[0.0, \"#0d0887\"], [0.1111111111111111, \"#46039f\"], [0.2222222222222222, \"#7201a8\"], [0.3333333333333333, \"#9c179e\"], [0.4444444444444444, \"#bd3786\"], [0.5555555555555556, \"#d8576b\"], [0.6666666666666666, \"#ed7953\"], [0.7777777777777778, \"#fb9f3a\"], [0.8888888888888888, \"#fdca26\"], [1.0, \"#f0f921\"]], \"type\": \"heatmapgl\"}], \"histogram\": [{\"marker\": {\"colorbar\": {\"outlinewidth\": 0, \"ticks\": \"\"}}, \"type\": \"histogram\"}], \"histogram2d\": [{\"colorbar\": {\"outlinewidth\": 0, \"ticks\": \"\"}, \"colorscale\": [[0.0, \"#0d0887\"], [0.1111111111111111, \"#46039f\"], [0.2222222222222222, \"#7201a8\"], [0.3333333333333333, \"#9c179e\"], [0.4444444444444444, \"#bd3786\"], [0.5555555555555556, \"#d8576b\"], [0.6666666666666666, \"#ed7953\"], [0.7777777777777778, \"#fb9f3a\"], [0.8888888888888888, \"#fdca26\"], [1.0, \"#f0f921\"]], \"type\": \"histogram2d\"}], \"histogram2dcontour\": [{\"colorbar\": {\"outlinewidth\": 0, \"ticks\": \"\"}, \"colorscale\": [[0.0, \"#0d0887\"], [0.1111111111111111, \"#46039f\"], [0.2222222222222222, \"#7201a8\"], [0.3333333333333333, \"#9c179e\"], [0.4444444444444444, \"#bd3786\"], [0.5555555555555556, \"#d8576b\"], [0.6666666666666666, \"#ed7953\"], [0.7777777777777778, \"#fb9f3a\"], [0.8888888888888888, \"#fdca26\"], [1.0, \"#f0f921\"]], \"type\": \"histogram2dcontour\"}], \"mesh3d\": [{\"colorbar\": {\"outlinewidth\": 0, \"ticks\": \"\"}, \"type\": \"mesh3d\"}], \"parcoords\": [{\"line\": {\"colorbar\": {\"outlinewidth\": 0, \"ticks\": \"\"}}, \"type\": \"parcoords\"}], \"pie\": [{\"automargin\": true, \"type\": \"pie\"}], \"scatter\": [{\"marker\": {\"colorbar\": {\"outlinewidth\": 0, \"ticks\": \"\"}}, \"type\": \"scatter\"}], \"scatter3d\": [{\"line\": {\"colorbar\": {\"outlinewidth\": 0, \"ticks\": \"\"}}, \"marker\": {\"colorbar\": {\"outlinewidth\": 0, \"ticks\": \"\"}}, \"type\": \"scatter3d\"}], \"scattercarpet\": [{\"marker\": {\"colorbar\": {\"outlinewidth\": 0, \"ticks\": \"\"}}, \"type\": \"scattercarpet\"}], \"scattergeo\": [{\"marker\": {\"colorbar\": {\"outlinewidth\": 0, \"ticks\": \"\"}}, \"type\": \"scattergeo\"}], \"scattergl\": [{\"marker\": {\"colorbar\": {\"outlinewidth\": 0, \"ticks\": \"\"}}, \"type\": \"scattergl\"}], \"scattermapbox\": [{\"marker\": {\"colorbar\": {\"outlinewidth\": 0, \"ticks\": \"\"}}, \"type\": \"scattermapbox\"}], \"scatterpolar\": [{\"marker\": {\"colorbar\": {\"outlinewidth\": 0, \"ticks\": \"\"}}, \"type\": \"scatterpolar\"}], \"scatterpolargl\": [{\"marker\": {\"colorbar\": {\"outlinewidth\": 0, \"ticks\": \"\"}}, \"type\": \"scatterpolargl\"}], \"scatterternary\": [{\"marker\": {\"colorbar\": {\"outlinewidth\": 0, \"ticks\": \"\"}}, \"type\": \"scatterternary\"}], \"surface\": [{\"colorbar\": {\"outlinewidth\": 0, \"ticks\": \"\"}, \"colorscale\": [[0.0, \"#0d0887\"], [0.1111111111111111, \"#46039f\"], [0.2222222222222222, \"#7201a8\"], [0.3333333333333333, \"#9c179e\"], [0.4444444444444444, \"#bd3786\"], [0.5555555555555556, \"#d8576b\"], [0.6666666666666666, \"#ed7953\"], [0.7777777777777778, \"#fb9f3a\"], [0.8888888888888888, \"#fdca26\"], [1.0, \"#f0f921\"]], \"type\": \"surface\"}], \"table\": [{\"cells\": {\"fill\": {\"color\": \"#EBF0F8\"}, \"line\": {\"color\": \"white\"}}, \"header\": {\"fill\": {\"color\": \"#C8D4E3\"}, \"line\": {\"color\": \"white\"}}, \"type\": \"table\"}]}, \"layout\": {\"annotationdefaults\": {\"arrowcolor\": \"#2a3f5f\", \"arrowhead\": 0, \"arrowwidth\": 1}, \"coloraxis\": {\"colorbar\": {\"outlinewidth\": 0, \"ticks\": \"\"}}, \"colorscale\": {\"diverging\": [[0, \"#8e0152\"], [0.1, \"#c51b7d\"], [0.2, \"#de77ae\"], [0.3, \"#f1b6da\"], [0.4, \"#fde0ef\"], [0.5, \"#f7f7f7\"], [0.6, \"#e6f5d0\"], [0.7, \"#b8e186\"], [0.8, \"#7fbc41\"], [0.9, \"#4d9221\"], [1, \"#276419\"]], \"sequential\": [[0.0, \"#0d0887\"], [0.1111111111111111, \"#46039f\"], [0.2222222222222222, \"#7201a8\"], [0.3333333333333333, \"#9c179e\"], [0.4444444444444444, \"#bd3786\"], [0.5555555555555556, \"#d8576b\"], [0.6666666666666666, \"#ed7953\"], [0.7777777777777778, \"#fb9f3a\"], [0.8888888888888888, \"#fdca26\"], [1.0, \"#f0f921\"]], \"sequentialminus\": [[0.0, \"#0d0887\"], [0.1111111111111111, \"#46039f\"], [0.2222222222222222, \"#7201a8\"], [0.3333333333333333, \"#9c179e\"], [0.4444444444444444, \"#bd3786\"], [0.5555555555555556, \"#d8576b\"], [0.6666666666666666, \"#ed7953\"], [0.7777777777777778, \"#fb9f3a\"], [0.8888888888888888, \"#fdca26\"], [1.0, \"#f0f921\"]]}, \"colorway\": [\"#636efa\", \"#EF553B\", \"#00cc96\", \"#ab63fa\", \"#FFA15A\", \"#19d3f3\", \"#FF6692\", \"#B6E880\", \"#FF97FF\", \"#FECB52\"], \"font\": {\"color\": \"#2a3f5f\"}, \"geo\": {\"bgcolor\": \"white\", \"lakecolor\": \"white\", \"landcolor\": \"#E5ECF6\", \"showlakes\": true, \"showland\": true, \"subunitcolor\": \"white\"}, \"hoverlabel\": {\"align\": \"left\"}, \"hovermode\": \"closest\", \"mapbox\": {\"style\": \"light\"}, \"paper_bgcolor\": \"white\", \"plot_bgcolor\": \"#E5ECF6\", \"polar\": {\"angularaxis\": {\"gridcolor\": \"white\", \"linecolor\": \"white\", \"ticks\": \"\"}, \"bgcolor\": \"#E5ECF6\", \"radialaxis\": {\"gridcolor\": \"white\", \"linecolor\": \"white\", \"ticks\": \"\"}}, \"scene\": {\"xaxis\": {\"backgroundcolor\": \"#E5ECF6\", \"gridcolor\": \"white\", \"gridwidth\": 2, \"linecolor\": \"white\", \"showbackground\": true, \"ticks\": \"\", \"zerolinecolor\": \"white\"}, \"yaxis\": {\"backgroundcolor\": \"#E5ECF6\", \"gridcolor\": \"white\", \"gridwidth\": 2, \"linecolor\": \"white\", \"showbackground\": true, \"ticks\": \"\", \"zerolinecolor\": \"white\"}, \"zaxis\": {\"backgroundcolor\": \"#E5ECF6\", \"gridcolor\": \"white\", \"gridwidth\": 2, \"linecolor\": \"white\", \"showbackground\": true, \"ticks\": \"\", \"zerolinecolor\": \"white\"}}, \"shapedefaults\": {\"line\": {\"color\": \"#2a3f5f\"}}, \"ternary\": {\"aaxis\": {\"gridcolor\": \"white\", \"linecolor\": \"white\", \"ticks\": \"\"}, \"baxis\": {\"gridcolor\": \"white\", \"linecolor\": \"white\", \"ticks\": \"\"}, \"bgcolor\": \"#E5ECF6\", \"caxis\": {\"gridcolor\": \"white\", \"linecolor\": \"white\", \"ticks\": \"\"}}, \"title\": {\"x\": 0.05}, \"xaxis\": {\"automargin\": true, \"gridcolor\": \"white\", \"linecolor\": \"white\", \"ticks\": \"\", \"title\": {\"standoff\": 15}, \"zerolinecolor\": \"white\", \"zerolinewidth\": 2}, \"yaxis\": {\"automargin\": true, \"gridcolor\": \"white\", \"linecolor\": \"white\", \"ticks\": \"\", \"title\": {\"standoff\": 15}, \"zerolinecolor\": \"white\", \"zerolinewidth\": 2}}}, \"xaxis\": {\"anchor\": \"y\", \"categoryorder\": \"total descending\", \"domain\": [0.0, 1.0], \"title\": {\"text\": \"nat\"}}, \"yaxis\": {\"anchor\": \"x\", \"domain\": [0.0, 1.0], \"title\": {\"text\": \"count\"}}},\n",
       "                        {\"responsive\": true}\n",
       "                    ).then(function(){\n",
       "                            \n",
       "var gd = document.getElementById('ae4edfcb-f940-4190-8b8f-958ac32c16db');\n",
       "var x = new MutationObserver(function (mutations, observer) {{\n",
       "        var display = window.getComputedStyle(gd).display;\n",
       "        if (!display || display === 'none') {{\n",
       "            console.log([gd, 'removed!']);\n",
       "            Plotly.purge(gd);\n",
       "            observer.disconnect();\n",
       "        }}\n",
       "}});\n",
       "\n",
       "// Listen for the removal of the full notebook cells\n",
       "var notebookContainer = gd.closest('#notebook-container');\n",
       "if (notebookContainer) {{\n",
       "    x.observe(notebookContainer, {childList: true});\n",
       "}}\n",
       "\n",
       "// Listen for the clearing of the current output cell\n",
       "var outputEl = gd.closest('.output');\n",
       "if (outputEl) {{\n",
       "    x.observe(outputEl, {childList: true});\n",
       "}}\n",
       "\n",
       "                        })\n",
       "                };\n",
       "                });\n",
       "            </script>\n",
       "        </div>"
      ]
     },
     "metadata": {},
     "output_type": "display_data"
    }
   ],
   "source": [
    "import plotly.express as px\n",
    "\n",
    "\n",
    "fig = px.histogram(df, x=\"nat\").update_xaxes(categoryorder='total descending')\n",
    "fig.show()"
   ]
  },
  {
   "cell_type": "code",
   "execution_count": 103,
   "metadata": {},
   "outputs": [
    {
     "data": {
      "application/vnd.plotly.v1+json": {
       "config": {
        "plotlyServerURL": "https://plot.ly"
       },
       "data": [
        {
         "alignmentgroup": "True",
         "bingroup": "x",
         "hoverlabel": {
          "namelength": 0
         },
         "hovertemplate": "survived=survived<br>nat=%{x}<br>count=%{y}",
         "legendgroup": "survived",
         "marker": {
          "color": "#636efa"
         },
         "name": "survived",
         "offsetgroup": "survived",
         "orientation": "v",
         "showlegend": true,
         "type": "histogram",
         "x": [
          "American",
          "American",
          "American",
          "American",
          "American",
          "American",
          "American",
          "American",
          "American",
          "American",
          "American",
          "American",
          "American",
          "American",
          "American",
          "American",
          "American",
          "American",
          "American",
          "American",
          "American",
          "American",
          "American",
          "American",
          "American",
          "American",
          "American",
          "American",
          "American",
          "American",
          "American",
          "American",
          "American",
          "American",
          "American",
          "American",
          "American",
          "American",
          "American",
          "American",
          "American",
          "American",
          "American",
          "American",
          "American",
          "American",
          "American",
          "American",
          "American",
          "American",
          "American",
          "American",
          "American",
          "American",
          "American",
          "American",
          "American",
          "American",
          "American",
          "American",
          "American",
          "American",
          "American",
          "American",
          "American",
          "American",
          "American",
          "American",
          "American",
          "American",
          "American",
          "American",
          "American",
          "American",
          "American",
          "American",
          "American",
          "American",
          "American",
          "American",
          "American",
          "American",
          "American",
          "American",
          "American",
          "American",
          "American",
          "American",
          "American",
          "American",
          "American",
          "American",
          "American",
          "American",
          "American",
          "American",
          "American",
          "American",
          "American",
          "American",
          "American",
          "American",
          "American",
          "American",
          "American",
          "American",
          "American",
          "American",
          "American",
          "American",
          "American",
          "American",
          "American",
          "American",
          "American",
          "American",
          "American",
          "American",
          "American",
          "American",
          "American",
          "American",
          "American",
          "American",
          "American",
          "American",
          "American",
          "American",
          "American",
          "American",
          "American",
          "American",
          "American",
          "American",
          "American",
          "American",
          "American",
          "American",
          "American",
          "American",
          "American",
          "American",
          "American",
          "American",
          "American",
          "American",
          "American",
          "American",
          "American",
          "American",
          "American",
          "American",
          "American",
          "American",
          "American",
          "American",
          "American",
          "Belgian",
          "Belgian",
          "Belgian",
          "Belgian",
          "Belgian",
          "Belgian",
          "Belgian",
          "Canadian",
          "Canadian",
          "Canadian",
          "Canadian",
          "Canadian",
          "Canadian",
          "Canadian",
          "Canadian",
          "Canadian",
          "Canadian",
          "Canadian",
          "Canadian",
          "Canadian",
          "Canadian",
          "Canadian",
          "Channel Islander",
          "Channel Islander",
          "Channel Islander",
          "Channel Islander",
          "Channel Islander",
          "Chinese",
          "Chinese",
          "Chinese",
          "Chinese",
          "Chinese",
          "Chinese",
          "Croatian",
          "Croatian",
          "Croatian",
          "Danish",
          "Egyptian",
          "English",
          "English",
          "English",
          "English",
          "English",
          "English",
          "English",
          "English",
          "English",
          "English",
          "English",
          "English",
          "English",
          "English",
          "English",
          "English",
          "English",
          "English",
          "English",
          "English",
          "English",
          "English",
          "English",
          "English",
          "English",
          "English",
          "English",
          "English",
          "English",
          "English",
          "English",
          "English",
          "English",
          "English",
          "English",
          "English",
          "English",
          "English",
          "English",
          "English",
          "English",
          "English",
          "English",
          "English",
          "English",
          "English",
          "English",
          "English",
          "English",
          "English",
          "English",
          "English",
          "English",
          "English",
          "English",
          "English",
          "English",
          "English",
          "English",
          "English",
          "English",
          "English",
          "English",
          "English",
          "English",
          "English",
          "English",
          "English",
          "English",
          "English",
          "English",
          "English",
          "English",
          "English",
          "English",
          "English",
          "English",
          "English",
          "English",
          "English",
          "English",
          "English",
          "English",
          "English",
          "English",
          "English",
          "English",
          "English",
          "English",
          "English",
          "English",
          "English",
          "English",
          "English",
          "English",
          "English",
          "English",
          "English",
          "English",
          "English",
          "English",
          "English",
          "English",
          "English",
          "Finnish",
          "Finnish",
          "Finnish",
          "Finnish",
          "Finnish",
          "Finnish",
          "Finnish",
          "Finnish",
          "Finnish",
          "Finnish",
          "Finnish",
          "Finnish",
          "Finnish",
          "Finnish",
          "Finnish",
          "Finnish",
          "Finnish",
          "Finnish",
          "Finnish",
          "Finnish",
          "French",
          "French",
          "French",
          "French",
          "French",
          "French",
          "French",
          "French",
          "French",
          "French",
          "French",
          "French",
          "French",
          "French",
          "French",
          "French",
          "French",
          "German",
          "German",
          "German",
          "German",
          "Irish",
          "Irish",
          "Irish",
          "Irish",
          "Irish",
          "Irish",
          "Irish",
          "Irish",
          "Irish",
          "Irish",
          "Irish",
          "Irish",
          "Irish",
          "Irish",
          "Irish",
          "Irish",
          "Irish",
          "Irish",
          "Irish",
          "Irish",
          "Irish",
          "Irish",
          "Irish",
          "Irish",
          "Irish",
          "Irish",
          "Irish",
          "Irish",
          "Irish",
          "Irish",
          "Irish",
          "Irish",
          "Irish",
          "Irish",
          "Irish",
          "Irish",
          "Irish",
          "Irish",
          "Irish",
          "Irish",
          "Irish",
          "Irish",
          "Irish",
          "Irish",
          "Italian",
          "Italian",
          "Italian",
          "Japanese",
          "Norwegian",
          "Norwegian",
          "Norwegian",
          "Norwegian",
          "Norwegian",
          "Norwegian",
          "Norwegian",
          "Norwegian",
          "Norwegian",
          "Polish",
          "Polish",
          "Polish",
          "Polish",
          "Russian",
          "Russian",
          "Russian",
          "Russian",
          "Russian",
          "Scottish",
          "Scottish",
          "Scottish",
          "Scottish",
          "Scottish",
          "Siamese",
          "Slovenian",
          "Slovenian",
          "South African",
          "Spanish",
          "Spanish",
          "Spanish",
          "Spanish",
          "Spanish",
          "Spanish",
          "Spanish",
          "Swedish",
          "Swedish",
          "Swedish",
          "Swedish",
          "Swedish",
          "Swedish",
          "Swedish",
          "Swedish",
          "Swedish",
          "Swedish",
          "Swedish",
          "Swedish",
          "Swedish",
          "Swedish",
          "Swedish",
          "Swedish",
          "Swedish",
          "Swedish",
          "Swedish",
          "Swedish",
          "Swedish",
          "Swedish",
          "Swedish",
          "Swedish",
          "Swedish",
          "Swedish",
          "Swedish",
          "Swedish",
          "Swedish",
          "Swedish",
          "Swedish",
          "Swiss",
          "Swiss",
          "Swiss",
          "Swiss",
          "Swiss",
          "Swiss",
          "Swiss",
          "Swiss",
          "Swiss",
          "Swiss",
          "Swiss",
          "Syrian",
          "Syrian",
          "Syrian",
          "Syrian",
          "Syrian",
          "Syrian",
          "Syrian",
          "Syrian",
          "Syrian",
          "Syrian",
          "Syrian",
          "Syrian",
          "Syrian",
          "Syrian",
          "Syrian",
          "Syrian",
          "Syrian",
          "Syrian",
          "Syrian",
          "Syrian",
          "Syrian",
          "Syrian",
          "Syrian",
          "Syrian",
          "Syrian",
          "Syrian",
          "Syrian",
          "Syrian",
          "Syrian",
          "Syrian",
          "Syrian",
          "Syrian",
          "Syrian",
          "Turkish",
          "Turkish",
          "Welsh"
         ],
         "xaxis": "x",
         "yaxis": "y"
        },
        {
         "alignmentgroup": "True",
         "bingroup": "x",
         "hoverlabel": {
          "namelength": 0
         },
         "hovertemplate": "survived=died<br>nat=%{x}<br>count=%{y}",
         "legendgroup": "died",
         "marker": {
          "color": "#EF553B"
         },
         "name": "died",
         "offsetgroup": "died",
         "orientation": "v",
         "showlegend": true,
         "type": "histogram",
         "x": [
          "American",
          "American",
          "American",
          "American",
          "American",
          "American",
          "American",
          "American",
          "American",
          "American",
          "American",
          "American",
          "American",
          "American",
          "American",
          "American",
          "American",
          "American",
          "American",
          "American",
          "American",
          "American",
          "American",
          "American",
          "American",
          "American",
          "American",
          "American",
          "American",
          "American",
          "American",
          "American",
          "American",
          "American",
          "American",
          "American",
          "American",
          "American",
          "American",
          "American",
          "American",
          "American",
          "American",
          "American",
          "American",
          "American",
          "American",
          "American",
          "American",
          "American",
          "American",
          "American",
          "American",
          "American",
          "American",
          "American",
          "American",
          "American",
          "American",
          "American",
          "American",
          "American",
          "American",
          "American",
          "American",
          "American",
          "American",
          "American",
          "American",
          "American",
          "American",
          "American",
          "American",
          "American",
          "American",
          "American",
          "American",
          "American",
          "American",
          "American",
          "American",
          "American",
          "American",
          "American",
          "American",
          "American",
          "American",
          "American",
          "American",
          "American",
          "American",
          "American",
          "American",
          "American",
          "American",
          "American",
          "American",
          "American",
          "American",
          "American",
          "American",
          "American",
          "Argentinian",
          "Australian",
          "Australian",
          "Austrian",
          "Austrian",
          "Austrian",
          "Austrian",
          "Austrian",
          "Austrian",
          "Austrian",
          "Austrian",
          "Belgian",
          "Belgian",
          "Belgian",
          "Belgian",
          "Belgian",
          "Belgian",
          "Belgian",
          "Belgian",
          "Bosnian",
          "Bosnian",
          "Bosnian",
          "Bosnian",
          "Bulgarian",
          "Bulgarian",
          "Bulgarian",
          "Bulgarian",
          "Bulgarian",
          "Bulgarian",
          "Bulgarian",
          "Bulgarian",
          "Bulgarian",
          "Bulgarian",
          "Bulgarian",
          "Bulgarian",
          "Bulgarian",
          "Bulgarian",
          "Bulgarian",
          "Bulgarian",
          "Bulgarian",
          "Bulgarian",
          "Bulgarian",
          "Bulgarian",
          "Bulgarian",
          "Bulgarian",
          "Bulgarian",
          "Bulgarian",
          "Bulgarian",
          "Bulgarian",
          "Canadian",
          "Canadian",
          "Canadian",
          "Canadian",
          "Canadian",
          "Canadian",
          "Canadian",
          "Canadian",
          "Canadian",
          "Canadian",
          "Canadian",
          "Canadian",
          "Canadian",
          "Canadian",
          "Canadian",
          "Canadian",
          "Canadian",
          "Canadian",
          "Canadian",
          "Canadian",
          "Canadian",
          "Channel Islander",
          "Channel Islander",
          "Channel Islander",
          "Channel Islander",
          "Channel Islander",
          "Channel Islander",
          "Channel Islander",
          "Channel Islander",
          "Channel Islander",
          "Channel Islander",
          "Chinese",
          "Chinese",
          "Croatian",
          "Croatian",
          "Croatian",
          "Croatian",
          "Croatian",
          "Croatian",
          "Croatian",
          "Croatian",
          "Croatian",
          "Croatian",
          "Croatian",
          "Croatian",
          "Croatian",
          "Croatian",
          "Croatian",
          "Croatian",
          "Croatian",
          "Croatian",
          "Croatian",
          "Croatian",
          "Croatian",
          "Croatian",
          "Croatian",
          "Croatian",
          "Croatian",
          "Croatian",
          "Croatian",
          "Czech",
          "Danish",
          "Danish",
          "Danish",
          "Danish",
          "Danish",
          "Danish",
          "Danish",
          "Danish",
          "Danish",
          "Dutch",
          "English",
          "English",
          "English",
          "English",
          "English",
          "English",
          "English",
          "English",
          "English",
          "English",
          "English",
          "English",
          "English",
          "English",
          "English",
          "English",
          "English",
          "English",
          "English",
          "English",
          "English",
          "English",
          "English",
          "English",
          "English",
          "English",
          "English",
          "English",
          "English",
          "English",
          "English",
          "English",
          "English",
          "English",
          "English",
          "English",
          "English",
          "English",
          "English",
          "English",
          "English",
          "English",
          "English",
          "English",
          "English",
          "English",
          "English",
          "English",
          "English",
          "English",
          "English",
          "English",
          "English",
          "English",
          "English",
          "English",
          "English",
          "English",
          "English",
          "English",
          "English",
          "English",
          "English",
          "English",
          "English",
          "English",
          "English",
          "English",
          "English",
          "English",
          "English",
          "English",
          "English",
          "English",
          "English",
          "English",
          "English",
          "English",
          "English",
          "English",
          "English",
          "English",
          "English",
          "English",
          "English",
          "English",
          "English",
          "English",
          "English",
          "English",
          "English",
          "English",
          "English",
          "English",
          "English",
          "English",
          "English",
          "English",
          "English",
          "English",
          "English",
          "English",
          "English",
          "English",
          "English",
          "English",
          "English",
          "English",
          "English",
          "English",
          "English",
          "English",
          "English",
          "English",
          "English",
          "English",
          "English",
          "English",
          "English",
          "English",
          "English",
          "English",
          "English",
          "English",
          "English",
          "English",
          "English",
          "English",
          "English",
          "English",
          "English",
          "English",
          "English",
          "English",
          "English",
          "English",
          "English",
          "English",
          "English",
          "English",
          "English",
          "English",
          "English",
          "English",
          "English",
          "English",
          "English",
          "English",
          "English",
          "English",
          "English",
          "English",
          "English",
          "English",
          "English",
          "English",
          "English",
          "English",
          "English",
          "English",
          "English",
          "English",
          "English",
          "English",
          "English",
          "English",
          "English",
          "English",
          "English",
          "English",
          "English",
          "English",
          "English",
          "English",
          "English",
          "English",
          "English",
          "English",
          "English",
          "English",
          "English",
          "English",
          "English",
          "English",
          "English",
          "English",
          "English",
          "English",
          "English",
          "English",
          "English",
          "English",
          "English",
          "English",
          "English",
          "English",
          "English",
          "English",
          "English",
          "English",
          "English",
          "English",
          "English",
          "English",
          "English",
          "English",
          "English",
          "English",
          "English",
          "English",
          "English",
          "English",
          "English",
          "English",
          "English",
          "English",
          "Finnish",
          "Finnish",
          "Finnish",
          "Finnish",
          "Finnish",
          "Finnish",
          "Finnish",
          "Finnish",
          "Finnish",
          "Finnish",
          "Finnish",
          "Finnish",
          "Finnish",
          "Finnish",
          "Finnish",
          "Finnish",
          "Finnish",
          "Finnish",
          "Finnish",
          "Finnish",
          "Finnish",
          "Finnish",
          "Finnish",
          "Finnish",
          "Finnish",
          "Finnish",
          "Finnish",
          "Finnish",
          "Finnish",
          "Finnish",
          "Finnish",
          "Finnish",
          "Finnish",
          "Finnish",
          "Finnish",
          "Finnish",
          "Finnish",
          "Finnish",
          "Finnish",
          "Finnish",
          "French",
          "French",
          "French",
          "French",
          "French",
          "French",
          "French",
          "French",
          "French",
          "French",
          "French",
          "French",
          "French",
          "French",
          "French",
          "German",
          "German",
          "German",
          "German",
          "German",
          "German",
          "Greek",
          "Greek",
          "Greek",
          "Greek",
          "Hungarian",
          "Irish",
          "Irish",
          "Irish",
          "Irish",
          "Irish",
          "Irish",
          "Irish",
          "Irish",
          "Irish",
          "Irish",
          "Irish",
          "Irish",
          "Irish",
          "Irish",
          "Irish",
          "Irish",
          "Irish",
          "Irish",
          "Irish",
          "Irish",
          "Irish",
          "Irish",
          "Irish",
          "Irish",
          "Irish",
          "Irish",
          "Irish",
          "Irish",
          "Irish",
          "Irish",
          "Irish",
          "Irish",
          "Irish",
          "Irish",
          "Irish",
          "Irish",
          "Irish",
          "Irish",
          "Irish",
          "Irish",
          "Irish",
          "Irish",
          "Irish",
          "Irish",
          "Irish",
          "Irish",
          "Irish",
          "Irish",
          "Irish",
          "Irish",
          "Irish",
          "Irish",
          "Irish",
          "Irish",
          "Irish",
          "Irish",
          "Irish",
          "Irish",
          "Irish",
          "Irish",
          "Irish",
          "Irish",
          "Irish",
          "Irish",
          "Irish",
          "Irish",
          "Irish",
          "Irish",
          "Irish",
          "Irish",
          "Irish",
          "Irish",
          "Irish",
          "Irish",
          "Irish",
          "Irish",
          "Irish",
          "Irish",
          "Irish",
          "Irish",
          "Irish",
          "Irish",
          "Italian",
          "Italian",
          "Italian",
          "Italian",
          "Italian",
          "Italian",
          "Latvian",
          "Lithuanian",
          "Lithuanian",
          "Macedonian",
          "Mexican",
          "Norwegian",
          "Norwegian",
          "Norwegian",
          "Norwegian",
          "Norwegian",
          "Norwegian",
          "Norwegian",
          "Norwegian",
          "Norwegian",
          "Norwegian",
          "Norwegian",
          "Norwegian",
          "Norwegian",
          "Norwegian",
          "Norwegian",
          "Norwegian",
          "Norwegian",
          "Norwegian",
          "Norwegian",
          "Norwegian",
          "Polish",
          "Polish",
          "Polish",
          "Portuguese",
          "Portuguese",
          "Portuguese",
          "Portuguese",
          "Russian",
          "Russian",
          "Russian",
          "Russian",
          "Russian",
          "Russian",
          "Russian",
          "Russian",
          "Russian",
          "Russian",
          "Scottish",
          "Scottish",
          "Scottish",
          "Scottish",
          "Scottish",
          "Scottish",
          "Scottish",
          "Scottish",
          "Scottish",
          "Scottish",
          "Scottish",
          "Scottish",
          "Slovenian",
          "Slovenian",
          "South African",
          "South African",
          "South African",
          "Spanish",
          "Spanish",
          "Swedish",
          "Swedish",
          "Swedish",
          "Swedish",
          "Swedish",
          "Swedish",
          "Swedish",
          "Swedish",
          "Swedish",
          "Swedish",
          "Swedish",
          "Swedish",
          "Swedish",
          "Swedish",
          "Swedish",
          "Swedish",
          "Swedish",
          "Swedish",
          "Swedish",
          "Swedish",
          "Swedish",
          "Swedish",
          "Swedish",
          "Swedish",
          "Swedish",
          "Swedish",
          "Swedish",
          "Swedish",
          "Swedish",
          "Swedish",
          "Swedish",
          "Swedish",
          "Swedish",
          "Swedish",
          "Swedish",
          "Swedish",
          "Swedish",
          "Swedish",
          "Swedish",
          "Swedish",
          "Swedish",
          "Swedish",
          "Swedish",
          "Swedish",
          "Swedish",
          "Swedish",
          "Swedish",
          "Swedish",
          "Swedish",
          "Swedish",
          "Swedish",
          "Swedish",
          "Swedish",
          "Swedish",
          "Swedish",
          "Swedish",
          "Swedish",
          "Swedish",
          "Swedish",
          "Swedish",
          "Swedish",
          "Swedish",
          "Swedish",
          "Swedish",
          "Swedish",
          "Swedish",
          "Swedish",
          "Swedish",
          "Swedish",
          "Swedish",
          "Swedish",
          "Swedish",
          "Swedish",
          "Swedish",
          "Swedish",
          "Swedish",
          "Swedish",
          "Swedish",
          "Swedish",
          "Swedish",
          "Swedish",
          "Swiss",
          "Swiss",
          "Swiss",
          "Swiss",
          "Swiss",
          "Swiss",
          "Syrian",
          "Syrian",
          "Syrian",
          "Syrian",
          "Syrian",
          "Syrian",
          "Syrian",
          "Syrian",
          "Syrian",
          "Syrian",
          "Syrian",
          "Syrian",
          "Syrian",
          "Syrian",
          "Syrian",
          "Syrian",
          "Syrian",
          "Syrian",
          "Syrian",
          "Syrian",
          "Syrian",
          "Syrian",
          "Syrian",
          "Syrian",
          "Syrian",
          "Syrian",
          "Syrian",
          "Syrian",
          "Syrian",
          "Syrian",
          "Syrian",
          "Syrian",
          "Syrian",
          "Syrian",
          "Syrian",
          "Syrian",
          "Syrian",
          "Syrian",
          "Syrian",
          "Syrian",
          "Syrian",
          "Syrian",
          "Syrian",
          "Syrian",
          "Syrian",
          "Syrian",
          "Syrian",
          "Syrian",
          "Syrian",
          "Syrian",
          "Syrian",
          "Syrian",
          "Syrian",
          "Turkish",
          "Turkish",
          "Turkish",
          "Turkish",
          "Uruguayan",
          "Uruguayan",
          "Uruguayan",
          "Welsh",
          "Welsh",
          "Welsh",
          "Welsh",
          "Welsh",
          "Welsh",
          "Welsh",
          "Welsh",
          "Welsh",
          "Welsh",
          "Welsh",
          "Welsh",
          "Welsh",
          "Welsh",
          "Welsh",
          "Welsh",
          "Welsh"
         ],
         "xaxis": "x",
         "yaxis": "y"
        }
       ],
       "layout": {
        "barmode": "relative",
        "legend": {
         "title": {
          "text": "survived"
         },
         "tracegroupgap": 0
        },
        "margin": {
         "t": 60
        },
        "template": {
         "data": {
          "bar": [
           {
            "error_x": {
             "color": "#2a3f5f"
            },
            "error_y": {
             "color": "#2a3f5f"
            },
            "marker": {
             "line": {
              "color": "#E5ECF6",
              "width": 0.5
             }
            },
            "type": "bar"
           }
          ],
          "barpolar": [
           {
            "marker": {
             "line": {
              "color": "#E5ECF6",
              "width": 0.5
             }
            },
            "type": "barpolar"
           }
          ],
          "carpet": [
           {
            "aaxis": {
             "endlinecolor": "#2a3f5f",
             "gridcolor": "white",
             "linecolor": "white",
             "minorgridcolor": "white",
             "startlinecolor": "#2a3f5f"
            },
            "baxis": {
             "endlinecolor": "#2a3f5f",
             "gridcolor": "white",
             "linecolor": "white",
             "minorgridcolor": "white",
             "startlinecolor": "#2a3f5f"
            },
            "type": "carpet"
           }
          ],
          "choropleth": [
           {
            "colorbar": {
             "outlinewidth": 0,
             "ticks": ""
            },
            "type": "choropleth"
           }
          ],
          "contour": [
           {
            "colorbar": {
             "outlinewidth": 0,
             "ticks": ""
            },
            "colorscale": [
             [
              0,
              "#0d0887"
             ],
             [
              0.1111111111111111,
              "#46039f"
             ],
             [
              0.2222222222222222,
              "#7201a8"
             ],
             [
              0.3333333333333333,
              "#9c179e"
             ],
             [
              0.4444444444444444,
              "#bd3786"
             ],
             [
              0.5555555555555556,
              "#d8576b"
             ],
             [
              0.6666666666666666,
              "#ed7953"
             ],
             [
              0.7777777777777778,
              "#fb9f3a"
             ],
             [
              0.8888888888888888,
              "#fdca26"
             ],
             [
              1,
              "#f0f921"
             ]
            ],
            "type": "contour"
           }
          ],
          "contourcarpet": [
           {
            "colorbar": {
             "outlinewidth": 0,
             "ticks": ""
            },
            "type": "contourcarpet"
           }
          ],
          "heatmap": [
           {
            "colorbar": {
             "outlinewidth": 0,
             "ticks": ""
            },
            "colorscale": [
             [
              0,
              "#0d0887"
             ],
             [
              0.1111111111111111,
              "#46039f"
             ],
             [
              0.2222222222222222,
              "#7201a8"
             ],
             [
              0.3333333333333333,
              "#9c179e"
             ],
             [
              0.4444444444444444,
              "#bd3786"
             ],
             [
              0.5555555555555556,
              "#d8576b"
             ],
             [
              0.6666666666666666,
              "#ed7953"
             ],
             [
              0.7777777777777778,
              "#fb9f3a"
             ],
             [
              0.8888888888888888,
              "#fdca26"
             ],
             [
              1,
              "#f0f921"
             ]
            ],
            "type": "heatmap"
           }
          ],
          "heatmapgl": [
           {
            "colorbar": {
             "outlinewidth": 0,
             "ticks": ""
            },
            "colorscale": [
             [
              0,
              "#0d0887"
             ],
             [
              0.1111111111111111,
              "#46039f"
             ],
             [
              0.2222222222222222,
              "#7201a8"
             ],
             [
              0.3333333333333333,
              "#9c179e"
             ],
             [
              0.4444444444444444,
              "#bd3786"
             ],
             [
              0.5555555555555556,
              "#d8576b"
             ],
             [
              0.6666666666666666,
              "#ed7953"
             ],
             [
              0.7777777777777778,
              "#fb9f3a"
             ],
             [
              0.8888888888888888,
              "#fdca26"
             ],
             [
              1,
              "#f0f921"
             ]
            ],
            "type": "heatmapgl"
           }
          ],
          "histogram": [
           {
            "marker": {
             "colorbar": {
              "outlinewidth": 0,
              "ticks": ""
             }
            },
            "type": "histogram"
           }
          ],
          "histogram2d": [
           {
            "colorbar": {
             "outlinewidth": 0,
             "ticks": ""
            },
            "colorscale": [
             [
              0,
              "#0d0887"
             ],
             [
              0.1111111111111111,
              "#46039f"
             ],
             [
              0.2222222222222222,
              "#7201a8"
             ],
             [
              0.3333333333333333,
              "#9c179e"
             ],
             [
              0.4444444444444444,
              "#bd3786"
             ],
             [
              0.5555555555555556,
              "#d8576b"
             ],
             [
              0.6666666666666666,
              "#ed7953"
             ],
             [
              0.7777777777777778,
              "#fb9f3a"
             ],
             [
              0.8888888888888888,
              "#fdca26"
             ],
             [
              1,
              "#f0f921"
             ]
            ],
            "type": "histogram2d"
           }
          ],
          "histogram2dcontour": [
           {
            "colorbar": {
             "outlinewidth": 0,
             "ticks": ""
            },
            "colorscale": [
             [
              0,
              "#0d0887"
             ],
             [
              0.1111111111111111,
              "#46039f"
             ],
             [
              0.2222222222222222,
              "#7201a8"
             ],
             [
              0.3333333333333333,
              "#9c179e"
             ],
             [
              0.4444444444444444,
              "#bd3786"
             ],
             [
              0.5555555555555556,
              "#d8576b"
             ],
             [
              0.6666666666666666,
              "#ed7953"
             ],
             [
              0.7777777777777778,
              "#fb9f3a"
             ],
             [
              0.8888888888888888,
              "#fdca26"
             ],
             [
              1,
              "#f0f921"
             ]
            ],
            "type": "histogram2dcontour"
           }
          ],
          "mesh3d": [
           {
            "colorbar": {
             "outlinewidth": 0,
             "ticks": ""
            },
            "type": "mesh3d"
           }
          ],
          "parcoords": [
           {
            "line": {
             "colorbar": {
              "outlinewidth": 0,
              "ticks": ""
             }
            },
            "type": "parcoords"
           }
          ],
          "pie": [
           {
            "automargin": true,
            "type": "pie"
           }
          ],
          "scatter": [
           {
            "marker": {
             "colorbar": {
              "outlinewidth": 0,
              "ticks": ""
             }
            },
            "type": "scatter"
           }
          ],
          "scatter3d": [
           {
            "line": {
             "colorbar": {
              "outlinewidth": 0,
              "ticks": ""
             }
            },
            "marker": {
             "colorbar": {
              "outlinewidth": 0,
              "ticks": ""
             }
            },
            "type": "scatter3d"
           }
          ],
          "scattercarpet": [
           {
            "marker": {
             "colorbar": {
              "outlinewidth": 0,
              "ticks": ""
             }
            },
            "type": "scattercarpet"
           }
          ],
          "scattergeo": [
           {
            "marker": {
             "colorbar": {
              "outlinewidth": 0,
              "ticks": ""
             }
            },
            "type": "scattergeo"
           }
          ],
          "scattergl": [
           {
            "marker": {
             "colorbar": {
              "outlinewidth": 0,
              "ticks": ""
             }
            },
            "type": "scattergl"
           }
          ],
          "scattermapbox": [
           {
            "marker": {
             "colorbar": {
              "outlinewidth": 0,
              "ticks": ""
             }
            },
            "type": "scattermapbox"
           }
          ],
          "scatterpolar": [
           {
            "marker": {
             "colorbar": {
              "outlinewidth": 0,
              "ticks": ""
             }
            },
            "type": "scatterpolar"
           }
          ],
          "scatterpolargl": [
           {
            "marker": {
             "colorbar": {
              "outlinewidth": 0,
              "ticks": ""
             }
            },
            "type": "scatterpolargl"
           }
          ],
          "scatterternary": [
           {
            "marker": {
             "colorbar": {
              "outlinewidth": 0,
              "ticks": ""
             }
            },
            "type": "scatterternary"
           }
          ],
          "surface": [
           {
            "colorbar": {
             "outlinewidth": 0,
             "ticks": ""
            },
            "colorscale": [
             [
              0,
              "#0d0887"
             ],
             [
              0.1111111111111111,
              "#46039f"
             ],
             [
              0.2222222222222222,
              "#7201a8"
             ],
             [
              0.3333333333333333,
              "#9c179e"
             ],
             [
              0.4444444444444444,
              "#bd3786"
             ],
             [
              0.5555555555555556,
              "#d8576b"
             ],
             [
              0.6666666666666666,
              "#ed7953"
             ],
             [
              0.7777777777777778,
              "#fb9f3a"
             ],
             [
              0.8888888888888888,
              "#fdca26"
             ],
             [
              1,
              "#f0f921"
             ]
            ],
            "type": "surface"
           }
          ],
          "table": [
           {
            "cells": {
             "fill": {
              "color": "#EBF0F8"
             },
             "line": {
              "color": "white"
             }
            },
            "header": {
             "fill": {
              "color": "#C8D4E3"
             },
             "line": {
              "color": "white"
             }
            },
            "type": "table"
           }
          ]
         },
         "layout": {
          "annotationdefaults": {
           "arrowcolor": "#2a3f5f",
           "arrowhead": 0,
           "arrowwidth": 1
          },
          "coloraxis": {
           "colorbar": {
            "outlinewidth": 0,
            "ticks": ""
           }
          },
          "colorscale": {
           "diverging": [
            [
             0,
             "#8e0152"
            ],
            [
             0.1,
             "#c51b7d"
            ],
            [
             0.2,
             "#de77ae"
            ],
            [
             0.3,
             "#f1b6da"
            ],
            [
             0.4,
             "#fde0ef"
            ],
            [
             0.5,
             "#f7f7f7"
            ],
            [
             0.6,
             "#e6f5d0"
            ],
            [
             0.7,
             "#b8e186"
            ],
            [
             0.8,
             "#7fbc41"
            ],
            [
             0.9,
             "#4d9221"
            ],
            [
             1,
             "#276419"
            ]
           ],
           "sequential": [
            [
             0,
             "#0d0887"
            ],
            [
             0.1111111111111111,
             "#46039f"
            ],
            [
             0.2222222222222222,
             "#7201a8"
            ],
            [
             0.3333333333333333,
             "#9c179e"
            ],
            [
             0.4444444444444444,
             "#bd3786"
            ],
            [
             0.5555555555555556,
             "#d8576b"
            ],
            [
             0.6666666666666666,
             "#ed7953"
            ],
            [
             0.7777777777777778,
             "#fb9f3a"
            ],
            [
             0.8888888888888888,
             "#fdca26"
            ],
            [
             1,
             "#f0f921"
            ]
           ],
           "sequentialminus": [
            [
             0,
             "#0d0887"
            ],
            [
             0.1111111111111111,
             "#46039f"
            ],
            [
             0.2222222222222222,
             "#7201a8"
            ],
            [
             0.3333333333333333,
             "#9c179e"
            ],
            [
             0.4444444444444444,
             "#bd3786"
            ],
            [
             0.5555555555555556,
             "#d8576b"
            ],
            [
             0.6666666666666666,
             "#ed7953"
            ],
            [
             0.7777777777777778,
             "#fb9f3a"
            ],
            [
             0.8888888888888888,
             "#fdca26"
            ],
            [
             1,
             "#f0f921"
            ]
           ]
          },
          "colorway": [
           "#636efa",
           "#EF553B",
           "#00cc96",
           "#ab63fa",
           "#FFA15A",
           "#19d3f3",
           "#FF6692",
           "#B6E880",
           "#FF97FF",
           "#FECB52"
          ],
          "font": {
           "color": "#2a3f5f"
          },
          "geo": {
           "bgcolor": "white",
           "lakecolor": "white",
           "landcolor": "#E5ECF6",
           "showlakes": true,
           "showland": true,
           "subunitcolor": "white"
          },
          "hoverlabel": {
           "align": "left"
          },
          "hovermode": "closest",
          "mapbox": {
           "style": "light"
          },
          "paper_bgcolor": "white",
          "plot_bgcolor": "#E5ECF6",
          "polar": {
           "angularaxis": {
            "gridcolor": "white",
            "linecolor": "white",
            "ticks": ""
           },
           "bgcolor": "#E5ECF6",
           "radialaxis": {
            "gridcolor": "white",
            "linecolor": "white",
            "ticks": ""
           }
          },
          "scene": {
           "xaxis": {
            "backgroundcolor": "#E5ECF6",
            "gridcolor": "white",
            "gridwidth": 2,
            "linecolor": "white",
            "showbackground": true,
            "ticks": "",
            "zerolinecolor": "white"
           },
           "yaxis": {
            "backgroundcolor": "#E5ECF6",
            "gridcolor": "white",
            "gridwidth": 2,
            "linecolor": "white",
            "showbackground": true,
            "ticks": "",
            "zerolinecolor": "white"
           },
           "zaxis": {
            "backgroundcolor": "#E5ECF6",
            "gridcolor": "white",
            "gridwidth": 2,
            "linecolor": "white",
            "showbackground": true,
            "ticks": "",
            "zerolinecolor": "white"
           }
          },
          "shapedefaults": {
           "line": {
            "color": "#2a3f5f"
           }
          },
          "ternary": {
           "aaxis": {
            "gridcolor": "white",
            "linecolor": "white",
            "ticks": ""
           },
           "baxis": {
            "gridcolor": "white",
            "linecolor": "white",
            "ticks": ""
           },
           "bgcolor": "#E5ECF6",
           "caxis": {
            "gridcolor": "white",
            "linecolor": "white",
            "ticks": ""
           }
          },
          "title": {
           "x": 0.05
          },
          "xaxis": {
           "automargin": true,
           "gridcolor": "white",
           "linecolor": "white",
           "ticks": "",
           "title": {
            "standoff": 15
           },
           "zerolinecolor": "white",
           "zerolinewidth": 2
          },
          "yaxis": {
           "automargin": true,
           "gridcolor": "white",
           "linecolor": "white",
           "ticks": "",
           "title": {
            "standoff": 15
           },
           "zerolinecolor": "white",
           "zerolinewidth": 2
          }
         }
        },
        "xaxis": {
         "anchor": "y",
         "categoryorder": "total descending",
         "domain": [
          0,
          1
         ],
         "title": {
          "text": "nat"
         }
        },
        "yaxis": {
         "anchor": "x",
         "domain": [
          0,
          1
         ],
         "title": {
          "text": "count"
         }
        }
       }
      },
      "text/html": [
       "<div>\n",
       "        \n",
       "        \n",
       "            <div id=\"2270cc31-d599-40d6-b684-1cc5c001a14c\" class=\"plotly-graph-div\" style=\"height:525px; width:100%;\"></div>\n",
       "            <script type=\"text/javascript\">\n",
       "                require([\"plotly\"], function(Plotly) {\n",
       "                    window.PLOTLYENV=window.PLOTLYENV || {};\n",
       "                    \n",
       "                if (document.getElementById(\"2270cc31-d599-40d6-b684-1cc5c001a14c\")) {\n",
       "                    Plotly.newPlot(\n",
       "                        '2270cc31-d599-40d6-b684-1cc5c001a14c',\n",
       "                        [{\"alignmentgroup\": \"True\", \"bingroup\": \"x\", \"hoverlabel\": {\"namelength\": 0}, \"hovertemplate\": \"survived=survived<br>nat=%{x}<br>count=%{y}\", \"legendgroup\": \"survived\", \"marker\": {\"color\": \"#636efa\"}, \"name\": \"survived\", \"offsetgroup\": \"survived\", \"orientation\": \"v\", \"showlegend\": true, \"type\": \"histogram\", \"x\": [\"American\", \"American\", \"American\", \"American\", \"American\", \"American\", \"American\", \"American\", \"American\", \"American\", \"American\", \"American\", \"American\", \"American\", \"American\", \"American\", \"American\", \"American\", \"American\", \"American\", \"American\", \"American\", \"American\", \"American\", \"American\", \"American\", \"American\", \"American\", \"American\", \"American\", \"American\", \"American\", \"American\", \"American\", \"American\", \"American\", \"American\", \"American\", \"American\", \"American\", \"American\", \"American\", \"American\", \"American\", \"American\", \"American\", \"American\", \"American\", \"American\", \"American\", \"American\", \"American\", \"American\", \"American\", \"American\", \"American\", \"American\", \"American\", \"American\", \"American\", \"American\", \"American\", \"American\", \"American\", \"American\", \"American\", \"American\", \"American\", \"American\", \"American\", \"American\", \"American\", \"American\", \"American\", \"American\", \"American\", \"American\", \"American\", \"American\", \"American\", \"American\", \"American\", \"American\", \"American\", \"American\", \"American\", \"American\", \"American\", \"American\", \"American\", \"American\", \"American\", \"American\", \"American\", \"American\", \"American\", \"American\", \"American\", \"American\", \"American\", \"American\", \"American\", \"American\", \"American\", \"American\", \"American\", \"American\", \"American\", \"American\", \"American\", \"American\", \"American\", \"American\", \"American\", \"American\", \"American\", \"American\", \"American\", \"American\", \"American\", \"American\", \"American\", \"American\", \"American\", \"American\", \"American\", \"American\", \"American\", \"American\", \"American\", \"American\", \"American\", \"American\", \"American\", \"American\", \"American\", \"American\", \"American\", \"American\", \"American\", \"American\", \"American\", \"American\", \"American\", \"American\", \"American\", \"American\", \"American\", \"American\", \"American\", \"American\", \"American\", \"American\", \"American\", \"American\", \"American\", \"American\", \"Belgian\", \"Belgian\", \"Belgian\", \"Belgian\", \"Belgian\", \"Belgian\", \"Belgian\", \"Canadian\", \"Canadian\", \"Canadian\", \"Canadian\", \"Canadian\", \"Canadian\", \"Canadian\", \"Canadian\", \"Canadian\", \"Canadian\", \"Canadian\", \"Canadian\", \"Canadian\", \"Canadian\", \"Canadian\", \"Channel Islander\", \"Channel Islander\", \"Channel Islander\", \"Channel Islander\", \"Channel Islander\", \"Chinese\", \"Chinese\", \"Chinese\", \"Chinese\", \"Chinese\", \"Chinese\", \"Croatian\", \"Croatian\", \"Croatian\", \"Danish\", \"Egyptian\", \"English\", \"English\", \"English\", \"English\", \"English\", \"English\", \"English\", \"English\", \"English\", \"English\", \"English\", \"English\", \"English\", \"English\", \"English\", \"English\", \"English\", \"English\", \"English\", \"English\", \"English\", \"English\", \"English\", \"English\", \"English\", \"English\", \"English\", \"English\", \"English\", \"English\", \"English\", \"English\", \"English\", \"English\", \"English\", \"English\", \"English\", \"English\", \"English\", \"English\", \"English\", \"English\", \"English\", \"English\", \"English\", \"English\", \"English\", \"English\", \"English\", \"English\", \"English\", \"English\", \"English\", \"English\", \"English\", \"English\", \"English\", \"English\", \"English\", \"English\", \"English\", \"English\", \"English\", \"English\", \"English\", \"English\", \"English\", \"English\", \"English\", \"English\", \"English\", \"English\", \"English\", \"English\", \"English\", \"English\", \"English\", \"English\", \"English\", \"English\", \"English\", \"English\", \"English\", \"English\", \"English\", \"English\", \"English\", \"English\", \"English\", \"English\", \"English\", \"English\", \"English\", \"English\", \"English\", \"English\", \"English\", \"English\", \"English\", \"English\", \"English\", \"English\", \"English\", \"English\", \"Finnish\", \"Finnish\", \"Finnish\", \"Finnish\", \"Finnish\", \"Finnish\", \"Finnish\", \"Finnish\", \"Finnish\", \"Finnish\", \"Finnish\", \"Finnish\", \"Finnish\", \"Finnish\", \"Finnish\", \"Finnish\", \"Finnish\", \"Finnish\", \"Finnish\", \"Finnish\", \"French\", \"French\", \"French\", \"French\", \"French\", \"French\", \"French\", \"French\", \"French\", \"French\", \"French\", \"French\", \"French\", \"French\", \"French\", \"French\", \"French\", \"German\", \"German\", \"German\", \"German\", \"Irish\", \"Irish\", \"Irish\", \"Irish\", \"Irish\", \"Irish\", \"Irish\", \"Irish\", \"Irish\", \"Irish\", \"Irish\", \"Irish\", \"Irish\", \"Irish\", \"Irish\", \"Irish\", \"Irish\", \"Irish\", \"Irish\", \"Irish\", \"Irish\", \"Irish\", \"Irish\", \"Irish\", \"Irish\", \"Irish\", \"Irish\", \"Irish\", \"Irish\", \"Irish\", \"Irish\", \"Irish\", \"Irish\", \"Irish\", \"Irish\", \"Irish\", \"Irish\", \"Irish\", \"Irish\", \"Irish\", \"Irish\", \"Irish\", \"Irish\", \"Irish\", \"Italian\", \"Italian\", \"Italian\", \"Japanese\", \"Norwegian\", \"Norwegian\", \"Norwegian\", \"Norwegian\", \"Norwegian\", \"Norwegian\", \"Norwegian\", \"Norwegian\", \"Norwegian\", \"Polish\", \"Polish\", \"Polish\", \"Polish\", \"Russian\", \"Russian\", \"Russian\", \"Russian\", \"Russian\", \"Scottish\", \"Scottish\", \"Scottish\", \"Scottish\", \"Scottish\", \"Siamese\", \"Slovenian\", \"Slovenian\", \"South African\", \"Spanish\", \"Spanish\", \"Spanish\", \"Spanish\", \"Spanish\", \"Spanish\", \"Spanish\", \"Swedish\", \"Swedish\", \"Swedish\", \"Swedish\", \"Swedish\", \"Swedish\", \"Swedish\", \"Swedish\", \"Swedish\", \"Swedish\", \"Swedish\", \"Swedish\", \"Swedish\", \"Swedish\", \"Swedish\", \"Swedish\", \"Swedish\", \"Swedish\", \"Swedish\", \"Swedish\", \"Swedish\", \"Swedish\", \"Swedish\", \"Swedish\", \"Swedish\", \"Swedish\", \"Swedish\", \"Swedish\", \"Swedish\", \"Swedish\", \"Swedish\", \"Swiss\", \"Swiss\", \"Swiss\", \"Swiss\", \"Swiss\", \"Swiss\", \"Swiss\", \"Swiss\", \"Swiss\", \"Swiss\", \"Swiss\", \"Syrian\", \"Syrian\", \"Syrian\", \"Syrian\", \"Syrian\", \"Syrian\", \"Syrian\", \"Syrian\", \"Syrian\", \"Syrian\", \"Syrian\", \"Syrian\", \"Syrian\", \"Syrian\", \"Syrian\", \"Syrian\", \"Syrian\", \"Syrian\", \"Syrian\", \"Syrian\", \"Syrian\", \"Syrian\", \"Syrian\", \"Syrian\", \"Syrian\", \"Syrian\", \"Syrian\", \"Syrian\", \"Syrian\", \"Syrian\", \"Syrian\", \"Syrian\", \"Syrian\", \"Turkish\", \"Turkish\", \"Welsh\"], \"xaxis\": \"x\", \"yaxis\": \"y\"}, {\"alignmentgroup\": \"True\", \"bingroup\": \"x\", \"hoverlabel\": {\"namelength\": 0}, \"hovertemplate\": \"survived=died<br>nat=%{x}<br>count=%{y}\", \"legendgroup\": \"died\", \"marker\": {\"color\": \"#EF553B\"}, \"name\": \"died\", \"offsetgroup\": \"died\", \"orientation\": \"v\", \"showlegend\": true, \"type\": \"histogram\", \"x\": [\"American\", \"American\", \"American\", \"American\", \"American\", \"American\", \"American\", \"American\", \"American\", \"American\", \"American\", \"American\", \"American\", \"American\", \"American\", \"American\", \"American\", \"American\", \"American\", \"American\", \"American\", \"American\", \"American\", \"American\", \"American\", \"American\", \"American\", \"American\", \"American\", \"American\", \"American\", \"American\", \"American\", \"American\", \"American\", \"American\", \"American\", \"American\", \"American\", \"American\", \"American\", \"American\", \"American\", \"American\", \"American\", \"American\", \"American\", \"American\", \"American\", \"American\", \"American\", \"American\", \"American\", \"American\", \"American\", \"American\", \"American\", \"American\", \"American\", \"American\", \"American\", \"American\", \"American\", \"American\", \"American\", \"American\", \"American\", \"American\", \"American\", \"American\", \"American\", \"American\", \"American\", \"American\", \"American\", \"American\", \"American\", \"American\", \"American\", \"American\", \"American\", \"American\", \"American\", \"American\", \"American\", \"American\", \"American\", \"American\", \"American\", \"American\", \"American\", \"American\", \"American\", \"American\", \"American\", \"American\", \"American\", \"American\", \"American\", \"American\", \"American\", \"American\", \"Argentinian\", \"Australian\", \"Australian\", \"Austrian\", \"Austrian\", \"Austrian\", \"Austrian\", \"Austrian\", \"Austrian\", \"Austrian\", \"Austrian\", \"Belgian\", \"Belgian\", \"Belgian\", \"Belgian\", \"Belgian\", \"Belgian\", \"Belgian\", \"Belgian\", \"Bosnian\", \"Bosnian\", \"Bosnian\", \"Bosnian\", \"Bulgarian\", \"Bulgarian\", \"Bulgarian\", \"Bulgarian\", \"Bulgarian\", \"Bulgarian\", \"Bulgarian\", \"Bulgarian\", \"Bulgarian\", \"Bulgarian\", \"Bulgarian\", \"Bulgarian\", \"Bulgarian\", \"Bulgarian\", \"Bulgarian\", \"Bulgarian\", \"Bulgarian\", \"Bulgarian\", \"Bulgarian\", \"Bulgarian\", \"Bulgarian\", \"Bulgarian\", \"Bulgarian\", \"Bulgarian\", \"Bulgarian\", \"Bulgarian\", \"Canadian\", \"Canadian\", \"Canadian\", \"Canadian\", \"Canadian\", \"Canadian\", \"Canadian\", \"Canadian\", \"Canadian\", \"Canadian\", \"Canadian\", \"Canadian\", \"Canadian\", \"Canadian\", \"Canadian\", \"Canadian\", \"Canadian\", \"Canadian\", \"Canadian\", \"Canadian\", \"Canadian\", \"Channel Islander\", \"Channel Islander\", \"Channel Islander\", \"Channel Islander\", \"Channel Islander\", \"Channel Islander\", \"Channel Islander\", \"Channel Islander\", \"Channel Islander\", \"Channel Islander\", \"Chinese\", \"Chinese\", \"Croatian\", \"Croatian\", \"Croatian\", \"Croatian\", \"Croatian\", \"Croatian\", \"Croatian\", \"Croatian\", \"Croatian\", \"Croatian\", \"Croatian\", \"Croatian\", \"Croatian\", \"Croatian\", \"Croatian\", \"Croatian\", \"Croatian\", \"Croatian\", \"Croatian\", \"Croatian\", \"Croatian\", \"Croatian\", \"Croatian\", \"Croatian\", \"Croatian\", \"Croatian\", \"Croatian\", \"Czech\", \"Danish\", \"Danish\", \"Danish\", \"Danish\", \"Danish\", \"Danish\", \"Danish\", \"Danish\", \"Danish\", \"Dutch\", \"English\", \"English\", \"English\", \"English\", \"English\", \"English\", \"English\", \"English\", \"English\", \"English\", \"English\", \"English\", \"English\", \"English\", \"English\", \"English\", \"English\", \"English\", \"English\", \"English\", \"English\", \"English\", \"English\", \"English\", \"English\", \"English\", \"English\", \"English\", \"English\", \"English\", \"English\", \"English\", \"English\", \"English\", \"English\", \"English\", \"English\", \"English\", \"English\", \"English\", \"English\", \"English\", \"English\", \"English\", \"English\", \"English\", \"English\", \"English\", \"English\", \"English\", \"English\", \"English\", \"English\", \"English\", \"English\", \"English\", \"English\", \"English\", \"English\", \"English\", \"English\", \"English\", \"English\", \"English\", \"English\", \"English\", \"English\", \"English\", \"English\", \"English\", \"English\", \"English\", \"English\", \"English\", \"English\", \"English\", \"English\", \"English\", \"English\", \"English\", \"English\", \"English\", \"English\", \"English\", \"English\", \"English\", \"English\", \"English\", \"English\", \"English\", \"English\", \"English\", \"English\", \"English\", \"English\", \"English\", \"English\", \"English\", \"English\", \"English\", \"English\", \"English\", \"English\", \"English\", \"English\", \"English\", \"English\", \"English\", \"English\", \"English\", \"English\", \"English\", \"English\", \"English\", \"English\", \"English\", \"English\", \"English\", \"English\", \"English\", \"English\", \"English\", \"English\", \"English\", \"English\", \"English\", \"English\", \"English\", \"English\", \"English\", \"English\", \"English\", \"English\", \"English\", \"English\", \"English\", \"English\", \"English\", \"English\", \"English\", \"English\", \"English\", \"English\", \"English\", \"English\", \"English\", \"English\", \"English\", \"English\", \"English\", \"English\", \"English\", \"English\", \"English\", \"English\", \"English\", \"English\", \"English\", \"English\", \"English\", \"English\", \"English\", \"English\", \"English\", \"English\", \"English\", \"English\", \"English\", \"English\", \"English\", \"English\", \"English\", \"English\", \"English\", \"English\", \"English\", \"English\", \"English\", \"English\", \"English\", \"English\", \"English\", \"English\", \"English\", \"English\", \"English\", \"English\", \"English\", \"English\", \"English\", \"English\", \"English\", \"English\", \"English\", \"English\", \"English\", \"English\", \"English\", \"English\", \"English\", \"English\", \"English\", \"English\", \"English\", \"English\", \"English\", \"English\", \"English\", \"English\", \"English\", \"English\", \"English\", \"English\", \"English\", \"English\", \"English\", \"Finnish\", \"Finnish\", \"Finnish\", \"Finnish\", \"Finnish\", \"Finnish\", \"Finnish\", \"Finnish\", \"Finnish\", \"Finnish\", \"Finnish\", \"Finnish\", \"Finnish\", \"Finnish\", \"Finnish\", \"Finnish\", \"Finnish\", \"Finnish\", \"Finnish\", \"Finnish\", \"Finnish\", \"Finnish\", \"Finnish\", \"Finnish\", \"Finnish\", \"Finnish\", \"Finnish\", \"Finnish\", \"Finnish\", \"Finnish\", \"Finnish\", \"Finnish\", \"Finnish\", \"Finnish\", \"Finnish\", \"Finnish\", \"Finnish\", \"Finnish\", \"Finnish\", \"Finnish\", \"French\", \"French\", \"French\", \"French\", \"French\", \"French\", \"French\", \"French\", \"French\", \"French\", \"French\", \"French\", \"French\", \"French\", \"French\", \"German\", \"German\", \"German\", \"German\", \"German\", \"German\", \"Greek\", \"Greek\", \"Greek\", \"Greek\", \"Hungarian\", \"Irish\", \"Irish\", \"Irish\", \"Irish\", \"Irish\", \"Irish\", \"Irish\", \"Irish\", \"Irish\", \"Irish\", \"Irish\", \"Irish\", \"Irish\", \"Irish\", \"Irish\", \"Irish\", \"Irish\", \"Irish\", \"Irish\", \"Irish\", \"Irish\", \"Irish\", \"Irish\", \"Irish\", \"Irish\", \"Irish\", \"Irish\", \"Irish\", \"Irish\", \"Irish\", \"Irish\", \"Irish\", \"Irish\", \"Irish\", \"Irish\", \"Irish\", \"Irish\", \"Irish\", \"Irish\", \"Irish\", \"Irish\", \"Irish\", \"Irish\", \"Irish\", \"Irish\", \"Irish\", \"Irish\", \"Irish\", \"Irish\", \"Irish\", \"Irish\", \"Irish\", \"Irish\", \"Irish\", \"Irish\", \"Irish\", \"Irish\", \"Irish\", \"Irish\", \"Irish\", \"Irish\", \"Irish\", \"Irish\", \"Irish\", \"Irish\", \"Irish\", \"Irish\", \"Irish\", \"Irish\", \"Irish\", \"Irish\", \"Irish\", \"Irish\", \"Irish\", \"Irish\", \"Irish\", \"Irish\", \"Irish\", \"Irish\", \"Irish\", \"Irish\", \"Irish\", \"Italian\", \"Italian\", \"Italian\", \"Italian\", \"Italian\", \"Italian\", \"Latvian\", \"Lithuanian\", \"Lithuanian\", \"Macedonian\", \"Mexican\", \"Norwegian\", \"Norwegian\", \"Norwegian\", \"Norwegian\", \"Norwegian\", \"Norwegian\", \"Norwegian\", \"Norwegian\", \"Norwegian\", \"Norwegian\", \"Norwegian\", \"Norwegian\", \"Norwegian\", \"Norwegian\", \"Norwegian\", \"Norwegian\", \"Norwegian\", \"Norwegian\", \"Norwegian\", \"Norwegian\", \"Polish\", \"Polish\", \"Polish\", \"Portuguese\", \"Portuguese\", \"Portuguese\", \"Portuguese\", \"Russian\", \"Russian\", \"Russian\", \"Russian\", \"Russian\", \"Russian\", \"Russian\", \"Russian\", \"Russian\", \"Russian\", \"Scottish\", \"Scottish\", \"Scottish\", \"Scottish\", \"Scottish\", \"Scottish\", \"Scottish\", \"Scottish\", \"Scottish\", \"Scottish\", \"Scottish\", \"Scottish\", \"Slovenian\", \"Slovenian\", \"South African\", \"South African\", \"South African\", \"Spanish\", \"Spanish\", \"Swedish\", \"Swedish\", \"Swedish\", \"Swedish\", \"Swedish\", \"Swedish\", \"Swedish\", \"Swedish\", \"Swedish\", \"Swedish\", \"Swedish\", \"Swedish\", \"Swedish\", \"Swedish\", \"Swedish\", \"Swedish\", \"Swedish\", \"Swedish\", \"Swedish\", \"Swedish\", \"Swedish\", \"Swedish\", \"Swedish\", \"Swedish\", \"Swedish\", \"Swedish\", \"Swedish\", \"Swedish\", \"Swedish\", \"Swedish\", \"Swedish\", \"Swedish\", \"Swedish\", \"Swedish\", \"Swedish\", \"Swedish\", \"Swedish\", \"Swedish\", \"Swedish\", \"Swedish\", \"Swedish\", \"Swedish\", \"Swedish\", \"Swedish\", \"Swedish\", \"Swedish\", \"Swedish\", \"Swedish\", \"Swedish\", \"Swedish\", \"Swedish\", \"Swedish\", \"Swedish\", \"Swedish\", \"Swedish\", \"Swedish\", \"Swedish\", \"Swedish\", \"Swedish\", \"Swedish\", \"Swedish\", \"Swedish\", \"Swedish\", \"Swedish\", \"Swedish\", \"Swedish\", \"Swedish\", \"Swedish\", \"Swedish\", \"Swedish\", \"Swedish\", \"Swedish\", \"Swedish\", \"Swedish\", \"Swedish\", \"Swedish\", \"Swedish\", \"Swedish\", \"Swedish\", \"Swedish\", \"Swedish\", \"Swiss\", \"Swiss\", \"Swiss\", \"Swiss\", \"Swiss\", \"Swiss\", \"Syrian\", \"Syrian\", \"Syrian\", \"Syrian\", \"Syrian\", \"Syrian\", \"Syrian\", \"Syrian\", \"Syrian\", \"Syrian\", \"Syrian\", \"Syrian\", \"Syrian\", \"Syrian\", \"Syrian\", \"Syrian\", \"Syrian\", \"Syrian\", \"Syrian\", \"Syrian\", \"Syrian\", \"Syrian\", \"Syrian\", \"Syrian\", \"Syrian\", \"Syrian\", \"Syrian\", \"Syrian\", \"Syrian\", \"Syrian\", \"Syrian\", \"Syrian\", \"Syrian\", \"Syrian\", \"Syrian\", \"Syrian\", \"Syrian\", \"Syrian\", \"Syrian\", \"Syrian\", \"Syrian\", \"Syrian\", \"Syrian\", \"Syrian\", \"Syrian\", \"Syrian\", \"Syrian\", \"Syrian\", \"Syrian\", \"Syrian\", \"Syrian\", \"Syrian\", \"Syrian\", \"Turkish\", \"Turkish\", \"Turkish\", \"Turkish\", \"Uruguayan\", \"Uruguayan\", \"Uruguayan\", \"Welsh\", \"Welsh\", \"Welsh\", \"Welsh\", \"Welsh\", \"Welsh\", \"Welsh\", \"Welsh\", \"Welsh\", \"Welsh\", \"Welsh\", \"Welsh\", \"Welsh\", \"Welsh\", \"Welsh\", \"Welsh\", \"Welsh\"], \"xaxis\": \"x\", \"yaxis\": \"y\"}],\n",
       "                        {\"barmode\": \"relative\", \"legend\": {\"title\": {\"text\": \"survived\"}, \"tracegroupgap\": 0}, \"margin\": {\"t\": 60}, \"template\": {\"data\": {\"bar\": [{\"error_x\": {\"color\": \"#2a3f5f\"}, \"error_y\": {\"color\": \"#2a3f5f\"}, \"marker\": {\"line\": {\"color\": \"#E5ECF6\", \"width\": 0.5}}, \"type\": \"bar\"}], \"barpolar\": [{\"marker\": {\"line\": {\"color\": \"#E5ECF6\", \"width\": 0.5}}, \"type\": \"barpolar\"}], \"carpet\": [{\"aaxis\": {\"endlinecolor\": \"#2a3f5f\", \"gridcolor\": \"white\", \"linecolor\": \"white\", \"minorgridcolor\": \"white\", \"startlinecolor\": \"#2a3f5f\"}, \"baxis\": {\"endlinecolor\": \"#2a3f5f\", \"gridcolor\": \"white\", \"linecolor\": \"white\", \"minorgridcolor\": \"white\", \"startlinecolor\": \"#2a3f5f\"}, \"type\": \"carpet\"}], \"choropleth\": [{\"colorbar\": {\"outlinewidth\": 0, \"ticks\": \"\"}, \"type\": \"choropleth\"}], \"contour\": [{\"colorbar\": {\"outlinewidth\": 0, \"ticks\": \"\"}, \"colorscale\": [[0.0, \"#0d0887\"], [0.1111111111111111, \"#46039f\"], [0.2222222222222222, \"#7201a8\"], [0.3333333333333333, \"#9c179e\"], [0.4444444444444444, \"#bd3786\"], [0.5555555555555556, \"#d8576b\"], [0.6666666666666666, \"#ed7953\"], [0.7777777777777778, \"#fb9f3a\"], [0.8888888888888888, \"#fdca26\"], [1.0, \"#f0f921\"]], \"type\": \"contour\"}], \"contourcarpet\": [{\"colorbar\": {\"outlinewidth\": 0, \"ticks\": \"\"}, \"type\": \"contourcarpet\"}], \"heatmap\": [{\"colorbar\": {\"outlinewidth\": 0, \"ticks\": \"\"}, \"colorscale\": [[0.0, \"#0d0887\"], [0.1111111111111111, \"#46039f\"], [0.2222222222222222, \"#7201a8\"], [0.3333333333333333, \"#9c179e\"], [0.4444444444444444, \"#bd3786\"], [0.5555555555555556, \"#d8576b\"], [0.6666666666666666, \"#ed7953\"], [0.7777777777777778, \"#fb9f3a\"], [0.8888888888888888, \"#fdca26\"], [1.0, \"#f0f921\"]], \"type\": \"heatmap\"}], \"heatmapgl\": [{\"colorbar\": {\"outlinewidth\": 0, \"ticks\": \"\"}, \"colorscale\": [[0.0, \"#0d0887\"], [0.1111111111111111, \"#46039f\"], [0.2222222222222222, \"#7201a8\"], [0.3333333333333333, \"#9c179e\"], [0.4444444444444444, \"#bd3786\"], [0.5555555555555556, \"#d8576b\"], [0.6666666666666666, \"#ed7953\"], [0.7777777777777778, \"#fb9f3a\"], [0.8888888888888888, \"#fdca26\"], [1.0, \"#f0f921\"]], \"type\": \"heatmapgl\"}], \"histogram\": [{\"marker\": {\"colorbar\": {\"outlinewidth\": 0, \"ticks\": \"\"}}, \"type\": \"histogram\"}], \"histogram2d\": [{\"colorbar\": {\"outlinewidth\": 0, \"ticks\": \"\"}, \"colorscale\": [[0.0, \"#0d0887\"], [0.1111111111111111, \"#46039f\"], [0.2222222222222222, \"#7201a8\"], [0.3333333333333333, \"#9c179e\"], [0.4444444444444444, \"#bd3786\"], [0.5555555555555556, \"#d8576b\"], [0.6666666666666666, \"#ed7953\"], [0.7777777777777778, \"#fb9f3a\"], [0.8888888888888888, \"#fdca26\"], [1.0, \"#f0f921\"]], \"type\": \"histogram2d\"}], \"histogram2dcontour\": [{\"colorbar\": {\"outlinewidth\": 0, \"ticks\": \"\"}, \"colorscale\": [[0.0, \"#0d0887\"], [0.1111111111111111, \"#46039f\"], [0.2222222222222222, \"#7201a8\"], [0.3333333333333333, \"#9c179e\"], [0.4444444444444444, \"#bd3786\"], [0.5555555555555556, \"#d8576b\"], [0.6666666666666666, \"#ed7953\"], [0.7777777777777778, \"#fb9f3a\"], [0.8888888888888888, \"#fdca26\"], [1.0, \"#f0f921\"]], \"type\": \"histogram2dcontour\"}], \"mesh3d\": [{\"colorbar\": {\"outlinewidth\": 0, \"ticks\": \"\"}, \"type\": \"mesh3d\"}], \"parcoords\": [{\"line\": {\"colorbar\": {\"outlinewidth\": 0, \"ticks\": \"\"}}, \"type\": \"parcoords\"}], \"pie\": [{\"automargin\": true, \"type\": \"pie\"}], \"scatter\": [{\"marker\": {\"colorbar\": {\"outlinewidth\": 0, \"ticks\": \"\"}}, \"type\": \"scatter\"}], \"scatter3d\": [{\"line\": {\"colorbar\": {\"outlinewidth\": 0, \"ticks\": \"\"}}, \"marker\": {\"colorbar\": {\"outlinewidth\": 0, \"ticks\": \"\"}}, \"type\": \"scatter3d\"}], \"scattercarpet\": [{\"marker\": {\"colorbar\": {\"outlinewidth\": 0, \"ticks\": \"\"}}, \"type\": \"scattercarpet\"}], \"scattergeo\": [{\"marker\": {\"colorbar\": {\"outlinewidth\": 0, \"ticks\": \"\"}}, \"type\": \"scattergeo\"}], \"scattergl\": [{\"marker\": {\"colorbar\": {\"outlinewidth\": 0, \"ticks\": \"\"}}, \"type\": \"scattergl\"}], \"scattermapbox\": [{\"marker\": {\"colorbar\": {\"outlinewidth\": 0, \"ticks\": \"\"}}, \"type\": \"scattermapbox\"}], \"scatterpolar\": [{\"marker\": {\"colorbar\": {\"outlinewidth\": 0, \"ticks\": \"\"}}, \"type\": \"scatterpolar\"}], \"scatterpolargl\": [{\"marker\": {\"colorbar\": {\"outlinewidth\": 0, \"ticks\": \"\"}}, \"type\": \"scatterpolargl\"}], \"scatterternary\": [{\"marker\": {\"colorbar\": {\"outlinewidth\": 0, \"ticks\": \"\"}}, \"type\": \"scatterternary\"}], \"surface\": [{\"colorbar\": {\"outlinewidth\": 0, \"ticks\": \"\"}, \"colorscale\": [[0.0, \"#0d0887\"], [0.1111111111111111, \"#46039f\"], [0.2222222222222222, \"#7201a8\"], [0.3333333333333333, \"#9c179e\"], [0.4444444444444444, \"#bd3786\"], [0.5555555555555556, \"#d8576b\"], [0.6666666666666666, \"#ed7953\"], [0.7777777777777778, \"#fb9f3a\"], [0.8888888888888888, \"#fdca26\"], [1.0, \"#f0f921\"]], \"type\": \"surface\"}], \"table\": [{\"cells\": {\"fill\": {\"color\": \"#EBF0F8\"}, \"line\": {\"color\": \"white\"}}, \"header\": {\"fill\": {\"color\": \"#C8D4E3\"}, \"line\": {\"color\": \"white\"}}, \"type\": \"table\"}]}, \"layout\": {\"annotationdefaults\": {\"arrowcolor\": \"#2a3f5f\", \"arrowhead\": 0, \"arrowwidth\": 1}, \"coloraxis\": {\"colorbar\": {\"outlinewidth\": 0, \"ticks\": \"\"}}, \"colorscale\": {\"diverging\": [[0, \"#8e0152\"], [0.1, \"#c51b7d\"], [0.2, \"#de77ae\"], [0.3, \"#f1b6da\"], [0.4, \"#fde0ef\"], [0.5, \"#f7f7f7\"], [0.6, \"#e6f5d0\"], [0.7, \"#b8e186\"], [0.8, \"#7fbc41\"], [0.9, \"#4d9221\"], [1, \"#276419\"]], \"sequential\": [[0.0, \"#0d0887\"], [0.1111111111111111, \"#46039f\"], [0.2222222222222222, \"#7201a8\"], [0.3333333333333333, \"#9c179e\"], [0.4444444444444444, \"#bd3786\"], [0.5555555555555556, \"#d8576b\"], [0.6666666666666666, \"#ed7953\"], [0.7777777777777778, \"#fb9f3a\"], [0.8888888888888888, \"#fdca26\"], [1.0, \"#f0f921\"]], \"sequentialminus\": [[0.0, \"#0d0887\"], [0.1111111111111111, \"#46039f\"], [0.2222222222222222, \"#7201a8\"], [0.3333333333333333, \"#9c179e\"], [0.4444444444444444, \"#bd3786\"], [0.5555555555555556, \"#d8576b\"], [0.6666666666666666, \"#ed7953\"], [0.7777777777777778, \"#fb9f3a\"], [0.8888888888888888, \"#fdca26\"], [1.0, \"#f0f921\"]]}, \"colorway\": [\"#636efa\", \"#EF553B\", \"#00cc96\", \"#ab63fa\", \"#FFA15A\", \"#19d3f3\", \"#FF6692\", \"#B6E880\", \"#FF97FF\", \"#FECB52\"], \"font\": {\"color\": \"#2a3f5f\"}, \"geo\": {\"bgcolor\": \"white\", \"lakecolor\": \"white\", \"landcolor\": \"#E5ECF6\", \"showlakes\": true, \"showland\": true, \"subunitcolor\": \"white\"}, \"hoverlabel\": {\"align\": \"left\"}, \"hovermode\": \"closest\", \"mapbox\": {\"style\": \"light\"}, \"paper_bgcolor\": \"white\", \"plot_bgcolor\": \"#E5ECF6\", \"polar\": {\"angularaxis\": {\"gridcolor\": \"white\", \"linecolor\": \"white\", \"ticks\": \"\"}, \"bgcolor\": \"#E5ECF6\", \"radialaxis\": {\"gridcolor\": \"white\", \"linecolor\": \"white\", \"ticks\": \"\"}}, \"scene\": {\"xaxis\": {\"backgroundcolor\": \"#E5ECF6\", \"gridcolor\": \"white\", \"gridwidth\": 2, \"linecolor\": \"white\", \"showbackground\": true, \"ticks\": \"\", \"zerolinecolor\": \"white\"}, \"yaxis\": {\"backgroundcolor\": \"#E5ECF6\", \"gridcolor\": \"white\", \"gridwidth\": 2, \"linecolor\": \"white\", \"showbackground\": true, \"ticks\": \"\", \"zerolinecolor\": \"white\"}, \"zaxis\": {\"backgroundcolor\": \"#E5ECF6\", \"gridcolor\": \"white\", \"gridwidth\": 2, \"linecolor\": \"white\", \"showbackground\": true, \"ticks\": \"\", \"zerolinecolor\": \"white\"}}, \"shapedefaults\": {\"line\": {\"color\": \"#2a3f5f\"}}, \"ternary\": {\"aaxis\": {\"gridcolor\": \"white\", \"linecolor\": \"white\", \"ticks\": \"\"}, \"baxis\": {\"gridcolor\": \"white\", \"linecolor\": \"white\", \"ticks\": \"\"}, \"bgcolor\": \"#E5ECF6\", \"caxis\": {\"gridcolor\": \"white\", \"linecolor\": \"white\", \"ticks\": \"\"}}, \"title\": {\"x\": 0.05}, \"xaxis\": {\"automargin\": true, \"gridcolor\": \"white\", \"linecolor\": \"white\", \"ticks\": \"\", \"title\": {\"standoff\": 15}, \"zerolinecolor\": \"white\", \"zerolinewidth\": 2}, \"yaxis\": {\"automargin\": true, \"gridcolor\": \"white\", \"linecolor\": \"white\", \"ticks\": \"\", \"title\": {\"standoff\": 15}, \"zerolinecolor\": \"white\", \"zerolinewidth\": 2}}}, \"xaxis\": {\"anchor\": \"y\", \"categoryorder\": \"total descending\", \"domain\": [0.0, 1.0], \"title\": {\"text\": \"nat\"}}, \"yaxis\": {\"anchor\": \"x\", \"domain\": [0.0, 1.0], \"title\": {\"text\": \"count\"}}},\n",
       "                        {\"responsive\": true}\n",
       "                    ).then(function(){\n",
       "                            \n",
       "var gd = document.getElementById('2270cc31-d599-40d6-b684-1cc5c001a14c');\n",
       "var x = new MutationObserver(function (mutations, observer) {{\n",
       "        var display = window.getComputedStyle(gd).display;\n",
       "        if (!display || display === 'none') {{\n",
       "            console.log([gd, 'removed!']);\n",
       "            Plotly.purge(gd);\n",
       "            observer.disconnect();\n",
       "        }}\n",
       "}});\n",
       "\n",
       "// Listen for the removal of the full notebook cells\n",
       "var notebookContainer = gd.closest('#notebook-container');\n",
       "if (notebookContainer) {{\n",
       "    x.observe(notebookContainer, {childList: true});\n",
       "}}\n",
       "\n",
       "// Listen for the clearing of the current output cell\n",
       "var outputEl = gd.closest('.output');\n",
       "if (outputEl) {{\n",
       "    x.observe(outputEl, {childList: true});\n",
       "}}\n",
       "\n",
       "                        })\n",
       "                };\n",
       "                });\n",
       "            </script>\n",
       "        </div>"
      ]
     },
     "metadata": {},
     "output_type": "display_data"
    }
   ],
   "source": [
    "fig = px.histogram(df, x=\"nat\", color=\"survived\").update_xaxes(categoryorder='total descending')\n",
    "fig.show()"
   ]
  },
  {
   "cell_type": "code",
   "execution_count": null,
   "metadata": {},
   "outputs": [],
   "source": []
  },
  {
   "cell_type": "code",
   "execution_count": null,
   "metadata": {},
   "outputs": [],
   "source": []
  },
  {
   "cell_type": "code",
   "execution_count": null,
   "metadata": {},
   "outputs": [],
   "source": []
  },
  {
   "cell_type": "code",
   "execution_count": null,
   "metadata": {},
   "outputs": [],
   "source": []
  },
  {
   "cell_type": "code",
   "execution_count": null,
   "metadata": {},
   "outputs": [],
   "source": []
  },
  {
   "cell_type": "code",
   "execution_count": null,
   "metadata": {},
   "outputs": [],
   "source": [
    "²²"
   ]
  }
 ],
 "metadata": {
  "kernelspec": {
   "display_name": "Python 3",
   "language": "python",
   "name": "python3"
  },
  "language_info": {
   "codemirror_mode": {
    "name": "ipython",
    "version": 3
   },
   "file_extension": ".py",
   "mimetype": "text/x-python",
   "name": "python",
   "nbconvert_exporter": "python",
   "pygments_lexer": "ipython3",
   "version": "3.7.4"
  }
 },
 "nbformat": 4,
 "nbformat_minor": 2
}
