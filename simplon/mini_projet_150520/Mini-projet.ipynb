{
 "cells": [
  {
   "cell_type": "markdown",
   "metadata": {},
   "source": [
    "# Mini-projet"
   ]
  },
  {
   "cell_type": "markdown",
   "metadata": {},
   "source": [
    "Etant un client disposant d'une base de données dont je doute de la valeur ajoutée, je fais appel à vous (spécialistes) pour faire parler ma base."
   ]
  },
  {
   "cell_type": "markdown",
   "metadata": {},
   "source": [
    "### Choisissez une base au choix et faites-la parler. Quelles informations pertinentes non visibles se cachent dans cette base."
   ]
  },
  {
   "cell_type": "markdown",
   "metadata": {},
   "source": [
    "1. Exploration de la base : datavisualisation (4 graphiques au moins)\n",
    "2. Modélisation : algorithmes pertinents et adaptés à la problématique étudiée. \n",
    "3. Pour conclure, ne retenir qu'un seul algorithme. Justfier votre choix. "
   ]
  }
 ],
 "metadata": {
  "kernelspec": {
   "display_name": "Python 3",
   "language": "python",
   "name": "python3"
  },
  "language_info": {
   "codemirror_mode": {
    "name": "ipython",
    "version": 3
   },
   "file_extension": ".py",
   "mimetype": "text/x-python",
   "name": "python",
   "nbconvert_exporter": "python",
   "pygments_lexer": "ipython3",
   "version": "3.7.6"
  }
 },
 "nbformat": 4,
 "nbformat_minor": 4
}