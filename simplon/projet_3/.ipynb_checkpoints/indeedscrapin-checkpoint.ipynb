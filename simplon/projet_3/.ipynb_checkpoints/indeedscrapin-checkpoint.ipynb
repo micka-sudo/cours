{
 "cells": [
  {
   "cell_type": "code",
   "execution_count": null,
   "metadata": {
    "jupyter": {
     "source_hidden": true
    }
   },
   "outputs": [],
   "source": [
    "##########################################\n",
    "#          _ _,---._                     #\n",
    "#       ,-','       `-.___               #\n",
    "#      /-;'               `._            #\n",
    "#     /\\/          ._   _,'o \\           #\n",
    "#    ( /\\       _,--'\\,','\"`. )          #\n",
    "#     |\\      ,'o     \\'    //\\          #\n",
    "#     |      \\        /   ,--'\"\"`-.      #\n",
    "#     :       \\_    _/ ,-'         `-._  #\n",
    "#      \\        `--'  /                ) #\n",
    "#       `.  \\`._    ,'     ________,','  #\n",
    "#         .--`     ,'  ,--` __\\___,;'    #\n",
    "#          \\`.,-- ,' ,`_)--'  /`.,'      #\n",
    "#           \\( ;  | | )      (`-/        #\n",
    "#             `--'| |)       |-/         #\n",
    "#               | | |        | |         #\n",
    "#               | | |,.,-.   | |_        #\n",
    "#               | `./ /   )---`  )       #\n",
    "#              _|  /    ,',   ,-'        #\n",
    "#             ,'|_(    /-<._,' |--,      #\n",
    "#             |    `--'---.     \\/ \\     #\n",
    "#             |          / \\    /\\  \\    #\n",
    "#           ,-^---._     |  \\  /  \\  \\   #\n",
    "#        ,-'        \\----'   \\/    \\--`. #\n",
    "#       /            \\              \\   \\#\n",
    "##########################################\n",
    "#                  Gruy                  #\n",
    "##########################################"
   ]
  },
  {
   "cell_type": "markdown",
   "metadata": {},
   "source": [
    "### import libraries"
   ]
  },
  {
   "cell_type": "code",
   "execution_count": 2,
   "metadata": {},
   "outputs": [],
   "source": [
    "import requests\n",
    "from bs4 import BeautifulSoup\n",
    "from firebase import firebase\n",
    "import time\n",
    "import matplotlib.pyplot as plt\n",
    "import plotly.graph_objects as go\n",
    "import numpy as np\n",
    "#firebase = firebase.FirebaseApplication(\"https://salaire-data.firebaseio.com/\", None)"
   ]
  },
  {
   "cell_type": "markdown",
   "metadata": {},
   "source": [
    "### scrappin"
   ]
  },
  {
   "cell_type": "code",
   "execution_count": 6,
   "metadata": {},
   "outputs": [],
   "source": [
    "def scrap_indeed():\n",
    "    rejets = []\n",
    "    mes_offres=[]\n",
    "    deja_dans_la_liste=[]\n",
    "    #il faut faire varier le parametre de la requete pour recuperer toutes les pages\n",
    "    for elt in range (0, 20):\n",
    "        #delai d'attente min entre deux requetes (certains sites n'apprecie pas d'etre scrapé)\n",
    "        time.sleep(1)\n",
    "        URL = 'https://www.indeed.fr/emplois?q=data+analyst&l=&radius=1&limit=50&start={}'.format(elt*50)\n",
    "        page = requests.get(URL)\n",
    "        \n",
    "        #parsage du html\n",
    "        soup = BeautifulSoup(page.content, 'html.parser')\n",
    "        \n",
    "        #je recupere l'objet conteneur de tous les resultats\n",
    "        results = soup.find(id=\"resultsCol\")\n",
    "        \n",
    "        #tableau des elements contenant chacun un resultat\n",
    "        job_elems = results.find_all('div', class_=\"jobsearch-SerpJobCard\")\n",
    "        \n",
    "    \n",
    "        \n",
    "        for job_elem in job_elems :\n",
    "            #recuperation (poste, entreprise, ville)\n",
    "            title_elem = job_elem.find('a', class_='jobtitle turnstileLink')\n",
    "            company_elem = job_elem.find('span', class_='company')\n",
    "            location_elem = job_elem.find('span', class_='location accessible-contrast-color-location')\n",
    "            \n",
    "            #le site à l'air mal codé: parfois la ville est dans un span parfois dans une div...\n",
    "            if location_elem == None :\n",
    "                location_elem = job_elem.find('div', class_='location accessible-contrast-color-location')\n",
    "            # si une des trois infos principales manque : on passe\n",
    "            if None in (title_elem, company_elem, location_elem):\n",
    "                rejets.append([title_elem, company_elem, location_elem])\n",
    "                continue\n",
    "            #le salaire est rarement present et mal formaté...\n",
    "            salary_elem = job_elem.find('span', class_='salaryText')\n",
    "            if salary_elem != None:\n",
    "                mon_element = [title_elem.text.strip(), company_elem.text.strip(), location_elem.text.strip(), salary_elem.text.strip()]\n",
    "            else:\n",
    "                mon_element = [title_elem.text.strip(), company_elem.text.strip(), location_elem.text.strip(), \"\"]\n",
    "    \n",
    "    \n",
    "            if mon_element not in mes_offres:\n",
    "                mes_offres.append(mon_element)\n",
    "            else:\n",
    "               deja_dans_la_liste.append(mon_element)\n",
    "            \n",
    "            \n",
    "    print(len(mes_offres))\n",
    "    return [mes_offres, deja_dans_la_liste, rejets]"
   ]
  },
  {
   "cell_type": "markdown",
   "metadata": {},
   "source": [
    "### DataBase"
   ]
  },
  {
   "cell_type": "code",
   "execution_count": 7,
   "metadata": {},
   "outputs": [],
   "source": [
    "# enregistrement en bdd :\n",
    "def save_bdd(liste_offre_sans_doublon):\n",
    "    for job in liste_offre_sans_doublon:\n",
    "        data = {\n",
    "                'Poste' : job[0],\n",
    "                'Entreprise' : job[1],\n",
    "                'Ville' : job[2],\n",
    "                'Salaire' : job[3]\n",
    "                }\n",
    "        firebase.post('/salaire-data/job', data)\n",
    "\n",
    "#recuperation des données depuis la bdd\n",
    "def recup_bdd():   \n",
    "    print('in')\n",
    "    results = firebase.get(\"/salaire-data/job\", '')\n",
    "    print('results retrieve')\n",
    "    jobs_in_bdd = []\n",
    "    tab_id = []\n",
    "    for key in results :\n",
    "        temp_tab = []\n",
    "        \n",
    "        tab_id.append(key)\n",
    "        temp_tab.append(results[key]['Poste'])\n",
    "        temp_tab.append(results[key]['Entreprise'])\n",
    "        temp_tab.append(results[key]['Ville'])\n",
    "        temp_tab.append(results[key]['Salaire'])\n",
    "        \n",
    "        jobs_in_bdd.append(temp_tab)\n",
    "        \n",
    "    return(jobs_in_bdd, tab_id)"
   ]
  },
  {
   "cell_type": "markdown",
   "metadata": {},
   "source": [
    "### préparation des données"
   ]
  },
  {
   "cell_type": "code",
   "execution_count": 8,
   "metadata": {},
   "outputs": [],
   "source": [
    "def clean_doublon_scrapVSbdd(liste_offre_scrappe, liste_offre_bdd) :       \n",
    "    count = 0\n",
    "    liste_offre_sans_doublon = []\n",
    "    for elem in liste_offre_scrappe: \n",
    "        if elem not in liste_offre_bdd:\n",
    "            liste_offre_sans_doublon.append(elem)\n",
    "            count +=1\n",
    "    print(\"nbr offre à ajouter : \" + str(count))\n",
    "    return liste_offre_sans_doublon"
   ]
  },
  {
   "cell_type": "code",
   "execution_count": null,
   "metadata": {},
   "outputs": [],
   "source": [
    "def recuperation_job_avec_salaire (liste_job_bdd) :\n",
    "    jobs_avec_salaire = []\n",
    "    for job in liste_job_bdd :\n",
    "        if job[3] != \"\" :\n",
    "            jobs_avec_salaire.append(job)\n",
    "    return jobs_avec_salaire"
   ]
  },
  {
   "cell_type": "code",
   "execution_count": 13,
   "metadata": {},
   "outputs": [],
   "source": [
    "def nettoyage_bdd (mes_job_bdd, tab_id):\n",
    "    count = 0    \n",
    "    for i in range (len(mes_job_bdd)-1) :\n",
    "        if mes_job_bdd[i] in mes_job_bdd[i+1 : len(mes_job_bdd)-1] :\n",
    "            print(str(count))\n",
    "            count += 1\n",
    "            firebase.delete('/salaire-data/job', tab_id[i])\n",
    "    print('nbr doublon = '+str(count))"
   ]
  },
  {
   "cell_type": "code",
   "execution_count": 9,
   "metadata": {},
   "outputs": [],
   "source": [
    "def calculJobSalaire(jobs_avec_salaire) :\n",
    "    \n",
    "    nbr_salaire_par_an = 0\n",
    "    nbr_salaire_par_mois = 0\n",
    "    resultats_finaux = []\n",
    "    resultat_parisien = 0\n",
    "    ma_liste_paris = [\"92\", \"75\", \"77\", \"78\", \"91\", \"93\", \"94\", \"95\", \"paris\"]\n",
    "    salaire_parisien = 0\n",
    "    \n",
    "    for job in jobs_avec_salaire :\n",
    "           \n",
    "        if 'an' in job[3] :\n",
    "            offre_en_nbr = [int(s) for s in job[3].split() if s.isdigit()]\n",
    "            for dept in ma_liste_paris :\n",
    "                if dept in job[2].lower() :\n",
    "                    resultat_parisien += 1\n",
    "                    break\n",
    "            \n",
    "            # cas ou ce n'est pas unhe fourchette\n",
    "            if len(offre_en_nbr) == 2 :\n",
    "                #print (offre_en_nbr[0]*1000)\n",
    "                salaire_annuel = offre_en_nbr[0]*1000\n",
    "                resultats_finaux.append([job[0] , salaire_annuel])\n",
    "                nbr_salaire_par_an += 1\n",
    "            # calcul du centre de classe\n",
    "            elif len(offre_en_nbr) == 4 :\n",
    "                #print ( int((offre_en_nbr[0] + offre_en_nbr[2]) / 2)*1000)\n",
    "                salaire_annuel = int((offre_en_nbr[0] + offre_en_nbr[2]) / 2)*1000\n",
    "                resultats_finaux.append([job[0], salaire_annuel])\n",
    "                nbr_salaire_par_an += 1               \n",
    "        \n",
    "        # si le salaire est : par mois       \n",
    "        elif 'mois' in job[3]:\n",
    "            #print (job[\"Salaire\"])\n",
    "            offre_en_nbr = [int(s) for s in job[3].split() if s.isdigit()]\n",
    "            for dept in ma_liste_paris :\n",
    "                if dept in job[2].lower() :\n",
    "                    resultat_parisien += 1\n",
    "                    break\n",
    "            \n",
    "            if len(offre_en_nbr) == 1:\n",
    "                #print(offre_en_nbr[0]*12)\n",
    "                salaire_annuel = offre_en_nbr[0]*12\n",
    "                resultats_finaux.append([job[0] , salaire_annuel])\n",
    "                nbr_salaire_par_mois += 1\n",
    "                #print('enregistré!')\n",
    "    \n",
    "            elif len(offre_en_nbr) == 4 :\n",
    "                premiere_fourchette = offre_en_nbr[0] * 1000 + offre_en_nbr[1]\n",
    "                seconde_fourchette = offre_en_nbr[2] * 1000 + offre_en_nbr[3]\n",
    "                salaire_annuel = int((premiere_fourchette + seconde_fourchette)/2)*12\n",
    "                \n",
    "                #print(salaire_annuel)\n",
    "                resultats_finaux.append([job[0] , salaire_annuel])\n",
    "                nbr_salaire_par_mois += 1\n",
    "                #print('enregistré!')\n",
    "                \n",
    "            elif len(offre_en_nbr) == 2 and offre_en_nbr[0] < 10:\n",
    "                #print(offre_en_nbr)\n",
    "                salaire_annuel = (offre_en_nbr[0] * 1000 + offre_en_nbr[1])*12\n",
    "                #print(salaire_annuel)\n",
    "                resultats_finaux.append([job[0] , salaire_annuel])\n",
    "                nbr_salaire_par_mois += 1\n",
    "                #print('enregistré!')\n",
    "                \n",
    "            elif len(offre_en_nbr) == 2 and offre_en_nbr[0] >10:   \n",
    "                salaire_annuel = int(((offre_en_nbr[0] + offre_en_nbr[1])/2)*12)\n",
    "                #print(salaire_annuel)\n",
    "                resultats_finaux.append([job[0] , salaire_annuel])\n",
    "                nbr_salaire_par_mois += 1\n",
    "\n",
    "    return (resultats_finaux, nbr_salaire_par_an, nbr_salaire_par_mois, resultat_parisien)"
   ]
  },
  {
   "cell_type": "markdown",
   "metadata": {},
   "source": [
    "### BDD"
   ]
  },
  {
   "cell_type": "code",
   "execution_count": null,
   "metadata": {},
   "outputs": [],
   "source": [
    "mes_job_bdd = recup_bdd()[0]\n",
    "\"\"\"\n",
    "#Compare les offre scrapper aux offres en bdd\n",
    "mes_jobs_scrape_sans_doublon_en_bdd = clean_doublon_scrapVSbdd(mes_job_scrape, mes_job_bdd)\n",
    "\n",
    "#Sauvegarde   \n",
    "save_bdd(mes_jobs_scrape_sans_doublon_en_bdd)"
   ]
  },
  {
   "cell_type": "code",
   "execution_count": null,
   "metadata": {},
   "outputs": [],
   "source": [
    "#tableau des id en vue de nettoyage\n",
    "#tab_id = recup_bdd()[1]\n",
    "\n",
    "jobs_avec_salaire = recuperation_job_avec_salaire(mes_job_bdd)\n",
    "\n",
    "#nettoyage_bdd(mes_job_bdd, tab_id)"
   ]
  },
  {
   "cell_type": "code",
   "execution_count": 10,
   "metadata": {
    "collapsed": true,
    "jupyter": {
     "outputs_hidden": true
    }
   },
   "outputs": [
    {
     "ename": "NameError",
     "evalue": "name 'jobs_avec_salaire' is not defined",
     "output_type": "error",
     "traceback": [
      "\u001b[1;31m---------------------------------------------------------------------------\u001b[0m",
      "\u001b[1;31mNameError\u001b[0m                                 Traceback (most recent call last)",
      "\u001b[1;32m<ipython-input-10-bab24703e415>\u001b[0m in \u001b[0;36m<module>\u001b[1;34m\u001b[0m\n\u001b[1;32m----> 1\u001b[1;33m \u001b[0mresults_stat\u001b[0m \u001b[1;33m=\u001b[0m \u001b[0mcalculJobSalaire\u001b[0m\u001b[1;33m(\u001b[0m\u001b[0mjobs_avec_salaire\u001b[0m\u001b[1;33m)\u001b[0m\u001b[1;33m\u001b[0m\u001b[1;33m\u001b[0m\u001b[0m\n\u001b[0m\u001b[0;32m      2\u001b[0m \u001b[0mresultats_finaux\u001b[0m \u001b[1;33m=\u001b[0m \u001b[0mresults_stat\u001b[0m\u001b[1;33m[\u001b[0m\u001b[1;36m0\u001b[0m\u001b[1;33m]\u001b[0m\u001b[1;33m\u001b[0m\u001b[1;33m\u001b[0m\u001b[0m\n\u001b[0;32m      3\u001b[0m \u001b[1;33m\u001b[0m\u001b[0m\n\u001b[0;32m      4\u001b[0m \u001b[0mnbr_salaire_par_an\u001b[0m \u001b[1;33m=\u001b[0m \u001b[0mresults_stat\u001b[0m\u001b[1;33m[\u001b[0m\u001b[1;36m1\u001b[0m\u001b[1;33m]\u001b[0m\u001b[1;33m\u001b[0m\u001b[1;33m\u001b[0m\u001b[0m\n\u001b[0;32m      5\u001b[0m \u001b[0mnbr_salaire_par_mois\u001b[0m \u001b[1;33m=\u001b[0m \u001b[0mresults_stat\u001b[0m\u001b[1;33m[\u001b[0m\u001b[1;36m2\u001b[0m\u001b[1;33m]\u001b[0m\u001b[1;33m\u001b[0m\u001b[1;33m\u001b[0m\u001b[0m\n",
      "\u001b[1;31mNameError\u001b[0m: name 'jobs_avec_salaire' is not defined"
     ]
    }
   ],
   "source": [
    "results_stat = calculJobSalaire(jobs_avec_salaire)\n",
    "resultats_finaux = results_stat[0]\n",
    "\n",
    "nbr_salaire_par_an = results_stat[1]\n",
    "nbr_salaire_par_mois = results_stat[2]\n",
    "nbr_offre_parisienne = results_stat[3]\n",
    "\n",
    "print(\"offre parisienne = \"+str(nbr_offre_parisienne))"
   ]
  },
  {
   "cell_type": "code",
   "execution_count": null,
   "metadata": {},
   "outputs": [],
   "source": []
  },
  {
   "cell_type": "markdown",
   "metadata": {},
   "source": [
    "### Analyse de donnée "
   ]
  },
  {
   "cell_type": "code",
   "execution_count": 11,
   "metadata": {
    "collapsed": true,
    "jupyter": {
     "outputs_hidden": true
    }
   },
   "outputs": [
    {
     "ename": "NameError",
     "evalue": "name 'mes_job_bdd' is not defined",
     "output_type": "error",
     "traceback": [
      "\u001b[1;31m---------------------------------------------------------------------------\u001b[0m",
      "\u001b[1;31mNameError\u001b[0m                                 Traceback (most recent call last)",
      "\u001b[1;32m<ipython-input-11-07ef61ba8943>\u001b[0m in \u001b[0;36m<module>\u001b[1;34m\u001b[0m\n\u001b[1;32m----> 1\u001b[1;33m \u001b[0mnbr_offre\u001b[0m \u001b[1;33m=\u001b[0m \u001b[0mlen\u001b[0m\u001b[1;33m(\u001b[0m\u001b[0mmes_job_bdd\u001b[0m\u001b[1;33m)\u001b[0m\u001b[1;33m\u001b[0m\u001b[1;33m\u001b[0m\u001b[0m\n\u001b[0m\u001b[0;32m      2\u001b[0m \u001b[0mnbr_offre_avec_salaire\u001b[0m \u001b[1;33m=\u001b[0m \u001b[0mlen\u001b[0m\u001b[1;33m(\u001b[0m\u001b[0mjobs_avec_salaire\u001b[0m\u001b[1;33m)\u001b[0m\u001b[1;33m\u001b[0m\u001b[1;33m\u001b[0m\u001b[0m\n\u001b[0;32m      3\u001b[0m \u001b[0mnbr_salaire_par_jour\u001b[0m \u001b[1;33m=\u001b[0m \u001b[1;33m(\u001b[0m\u001b[0mnbr_offre_avec_salaire\u001b[0m \u001b[1;33m-\u001b[0m \u001b[0mnbr_salaire_par_an\u001b[0m \u001b[1;33m-\u001b[0m \u001b[0mnbr_salaire_par_mois\u001b[0m\u001b[1;33m)\u001b[0m\u001b[1;33m\u001b[0m\u001b[1;33m\u001b[0m\u001b[0m\n\u001b[0;32m      4\u001b[0m \u001b[0mpourcentage_offre_salaire\u001b[0m \u001b[1;33m=\u001b[0m \u001b[0mround\u001b[0m\u001b[1;33m(\u001b[0m\u001b[0mnbr_offre_avec_salaire\u001b[0m \u001b[1;33m*\u001b[0m \u001b[1;36m100\u001b[0m \u001b[1;33m/\u001b[0m \u001b[0mnbr_offre\u001b[0m \u001b[1;33m,\u001b[0m\u001b[1;36m2\u001b[0m\u001b[1;33m)\u001b[0m\u001b[1;33m\u001b[0m\u001b[1;33m\u001b[0m\u001b[0m\n\u001b[0;32m      5\u001b[0m \u001b[1;33m\u001b[0m\u001b[0m\n",
      "\u001b[1;31mNameError\u001b[0m: name 'mes_job_bdd' is not defined"
     ]
    }
   ],
   "source": [
    "nbr_offre = len(mes_job_bdd)        \n",
    "nbr_offre_avec_salaire = len(jobs_avec_salaire)\n",
    "nbr_salaire_par_jour = (nbr_offre_avec_salaire - nbr_salaire_par_an - nbr_salaire_par_mois)\n",
    "pourcentage_offre_salaire = round(nbr_offre_avec_salaire * 100 / nbr_offre ,2)\n",
    "\n",
    "print(\"----------------------------------------------------------------------\")\n",
    "print(\"nombre d'offre : \"+ str(nbr_offre))\n",
    "print(\"nombre d'offre avac salaire : \" + str(nbr_offre_avec_salaire))\n",
    "print(\"les offres avec salaire representent : \" +str(pourcentage_offre_salaire)+\" %\")\n",
    "\n",
    "print(\"----------------------------------------------------------------------\")"
   ]
  },
  {
   "cell_type": "code",
   "execution_count": null,
   "metadata": {},
   "outputs": [],
   "source": [
    "pourcentage_salaire_an = round(nbr_salaire_par_an * 100 / nbr_offre_avec_salaire,2)\n",
    "pourcentage_salaire_mois = round(nbr_salaire_par_mois * 100 / nbr_offre_avec_salaire,2)\n",
    "pourcentage_salaire_jour = round(100 - (pourcentage_salaire_an + pourcentage_salaire_mois),2)\n",
    "\n",
    "print(\"pourcentage des offres avec salaire donné par mois : \" + str(int(pourcentage_salaire_mois)) + \"% (\" +str(nbr_salaire_par_mois) +\" offres)\")\n",
    "print(\"pourcentage des offres avec salaire donné par an : \" + str(int(pourcentage_salaire_an)) + \"% (\" +str(nbr_salaire_par_an) +\" offres)\")\n",
    "print(\"pourcentage des offres avec salaire donné par jour : \" + str(int(pourcentage_salaire_jour)) + \"% (\" +str(nbr_salaire_par_jour) +\" offres)\")\n",
    "\n",
    "\n",
    "print(\"----------------------------------------------------------------------\")"
   ]
  },
  {
   "cell_type": "code",
   "execution_count": 14,
   "metadata": {
    "collapsed": true,
    "jupyter": {
     "outputs_hidden": true,
     "source_hidden": true
    }
   },
   "outputs": [
    {
     "ename": "NameError",
     "evalue": "name 'resultats_finaux' is not defined",
     "output_type": "error",
     "traceback": [
      "\u001b[1;31m---------------------------------------------------------------------------\u001b[0m",
      "\u001b[1;31mNameError\u001b[0m                                 Traceback (most recent call last)",
      "\u001b[1;32m<ipython-input-14-a1f8629522f7>\u001b[0m in \u001b[0;36m<module>\u001b[1;34m\u001b[0m\n\u001b[0;32m      6\u001b[0m \u001b[1;33m\u001b[0m\u001b[0m\n\u001b[0;32m      7\u001b[0m \u001b[1;33m\u001b[0m\u001b[0m\n\u001b[1;32m----> 8\u001b[1;33m \u001b[1;32mfor\u001b[0m \u001b[0melt\u001b[0m \u001b[1;32min\u001b[0m \u001b[0mresultats_finaux\u001b[0m\u001b[1;33m:\u001b[0m\u001b[1;33m\u001b[0m\u001b[1;33m\u001b[0m\u001b[0m\n\u001b[0m\u001b[0;32m      9\u001b[0m \u001b[1;33m\u001b[0m\u001b[0m\n\u001b[0;32m     10\u001b[0m     \u001b[1;32mif\u001b[0m \u001b[0melt\u001b[0m\u001b[1;33m[\u001b[0m\u001b[1;36m1\u001b[0m\u001b[1;33m]\u001b[0m \u001b[1;33m>\u001b[0m \u001b[1;36m18000\u001b[0m \u001b[1;33m:\u001b[0m\u001b[1;33m\u001b[0m\u001b[1;33m\u001b[0m\u001b[0m\n",
      "\u001b[1;31mNameError\u001b[0m: name 'resultats_finaux' is not defined"
     ]
    }
   ],
   "source": [
    "somme_salaire = 0\n",
    "somme_salaire_stagiaire = 0\n",
    "nbr_salaire_utilise = 0\n",
    "nbr_salaire_stagiaire = 0\n",
    "resultats_sans_stagiaire =[]\n",
    "\n",
    "\n",
    "for elt in resultats_finaux:\n",
    "\n",
    "    if elt[1] > 18000 :\n",
    "        somme_salaire += elt[1]\n",
    "        nbr_salaire_utilise += 1\n",
    "        resultats_sans_stagiaire.append(elt[1])\n",
    "        #if elt[1] <21000 :\n",
    "            #print(elt[0])\n",
    "    else :\n",
    "        somme_salaire_stagiaire += elt[1]\n",
    "        nbr_salaire_stagiaire += 1\n",
    "        \n",
    "\n",
    "nbr_salaire_rejete = nbr_offre_avec_salaire - nbr_salaire_utilise\n",
    "moyenne_salaire = somme_salaire / nbr_salaire_utilise\n",
    "print(\"on exclu les salaires journaliers !\")\n",
    "print(\"nombre d'offre en stage : \" +str(nbr_salaire_stagiaire))\n",
    "print(\"nombre d'offre en emploi : \" +str(nbr_salaire_utilise))\n",
    "print(\"salaire annuel moyen des stagiaires : \" + str(int(somme_salaire_stagiaire / nbr_salaire_stagiaire)) + \" euros\")\n",
    "print(\"salaire annuel moyen des personnes travaillant dans la data : \" + str(int(somme_salaire / nbr_salaire_utilise))+ \" euros\")\n",
    "print(\"----------------------------------------------------------------------\")"
   ]
  },
  {
   "cell_type": "markdown",
   "metadata": {},
   "source": [
    "### viz"
   ]
  },
  {
   "cell_type": "code",
   "execution_count": null,
   "metadata": {},
   "outputs": [],
   "source": [
    "plt.hist(resultats_sans_stagiaire, range = (15000, 60000), bins = 10, color = 'grey',\n",
    "            edgecolor = 'red')\n",
    "plt.xlabel('salaire annuel')\n",
    "plt.ylabel('nombres d\\'occurences')\n",
    "plt.title('Repartition des salaires dans la data')\n",
    "\n",
    "\n",
    "plt.figure(figsize = (6, 6))\n",
    "x = [pourcentage_salaire_an, pourcentage_salaire_mois, pourcentage_salaire_jour]\n",
    "plt.pie(x, labels = ['Salaire par année', 'Salaire par mois', 'salaire par jour'])\n",
    "plt.legend()"
   ]
  },
  {
   "cell_type": "code",
   "execution_count": null,
   "metadata": {},
   "outputs": [],
   "source": [
    "fig, ax = plt.subplots(figsize=(6, 3), subplot_kw=dict(aspect=\"equal\"))\n",
    "\n",
    "recipe = [\"Offres Parisiennes\",\n",
    "          \"Offres Provinciales\"]\n",
    "\n",
    "data = [nbr_offre_parisienne, nbr_offre_avec_salaire - nbr_offre_parisienne]\n",
    "\n",
    "wedges, texts = ax.pie(data, wedgeprops=dict(width=0.5), startangle=-40)\n",
    "\n",
    "bbox_props = dict(boxstyle=\"square,pad=0.3\", fc=\"w\", ec=\"k\", lw=0.72)\n",
    "kw = dict(arrowprops=dict(arrowstyle=\"-\"),\n",
    "          bbox=bbox_props, zorder=0, va=\"center\")"
   ]
  },
  {
   "cell_type": "code",
   "execution_count": 12,
   "metadata": {},
   "outputs": [
    {
     "ename": "NameError",
     "evalue": "name 'wedges' is not defined",
     "output_type": "error",
     "traceback": [
      "\u001b[1;31m---------------------------------------------------------------------------\u001b[0m",
      "\u001b[1;31mNameError\u001b[0m                                 Traceback (most recent call last)",
      "\u001b[1;32m<ipython-input-12-05e26f781a53>\u001b[0m in \u001b[0;36m<module>\u001b[1;34m\u001b[0m\n\u001b[1;32m----> 1\u001b[1;33m \u001b[1;32mfor\u001b[0m \u001b[0mi\u001b[0m\u001b[1;33m,\u001b[0m \u001b[0mp\u001b[0m \u001b[1;32min\u001b[0m \u001b[0menumerate\u001b[0m\u001b[1;33m(\u001b[0m\u001b[0mwedges\u001b[0m\u001b[1;33m)\u001b[0m\u001b[1;33m:\u001b[0m\u001b[1;33m\u001b[0m\u001b[1;33m\u001b[0m\u001b[0m\n\u001b[0m\u001b[0;32m      2\u001b[0m     \u001b[0mang\u001b[0m \u001b[1;33m=\u001b[0m \u001b[1;33m(\u001b[0m\u001b[0mp\u001b[0m\u001b[1;33m.\u001b[0m\u001b[0mtheta2\u001b[0m \u001b[1;33m-\u001b[0m \u001b[0mp\u001b[0m\u001b[1;33m.\u001b[0m\u001b[0mtheta1\u001b[0m\u001b[1;33m)\u001b[0m\u001b[1;33m/\u001b[0m\u001b[1;36m2.\u001b[0m \u001b[1;33m+\u001b[0m \u001b[0mp\u001b[0m\u001b[1;33m.\u001b[0m\u001b[0mtheta1\u001b[0m\u001b[1;33m\u001b[0m\u001b[1;33m\u001b[0m\u001b[0m\n\u001b[0;32m      3\u001b[0m     \u001b[0my\u001b[0m \u001b[1;33m=\u001b[0m \u001b[0mnp\u001b[0m\u001b[1;33m.\u001b[0m\u001b[0msin\u001b[0m\u001b[1;33m(\u001b[0m\u001b[0mnp\u001b[0m\u001b[1;33m.\u001b[0m\u001b[0mdeg2rad\u001b[0m\u001b[1;33m(\u001b[0m\u001b[0mang\u001b[0m\u001b[1;33m)\u001b[0m\u001b[1;33m)\u001b[0m\u001b[1;33m\u001b[0m\u001b[1;33m\u001b[0m\u001b[0m\n\u001b[0;32m      4\u001b[0m     \u001b[0mx\u001b[0m \u001b[1;33m=\u001b[0m \u001b[0mnp\u001b[0m\u001b[1;33m.\u001b[0m\u001b[0mcos\u001b[0m\u001b[1;33m(\u001b[0m\u001b[0mnp\u001b[0m\u001b[1;33m.\u001b[0m\u001b[0mdeg2rad\u001b[0m\u001b[1;33m(\u001b[0m\u001b[0mang\u001b[0m\u001b[1;33m)\u001b[0m\u001b[1;33m)\u001b[0m\u001b[1;33m\u001b[0m\u001b[1;33m\u001b[0m\u001b[0m\n\u001b[0;32m      5\u001b[0m     \u001b[0mhorizontalalignment\u001b[0m \u001b[1;33m=\u001b[0m \u001b[1;33m{\u001b[0m\u001b[1;33m-\u001b[0m\u001b[1;36m1\u001b[0m\u001b[1;33m:\u001b[0m \u001b[1;34m\"right\"\u001b[0m\u001b[1;33m,\u001b[0m \u001b[1;36m1\u001b[0m\u001b[1;33m:\u001b[0m \u001b[1;34m\"left\"\u001b[0m\u001b[1;33m}\u001b[0m\u001b[1;33m[\u001b[0m\u001b[0mint\u001b[0m\u001b[1;33m(\u001b[0m\u001b[0mnp\u001b[0m\u001b[1;33m.\u001b[0m\u001b[0msign\u001b[0m\u001b[1;33m(\u001b[0m\u001b[0mx\u001b[0m\u001b[1;33m)\u001b[0m\u001b[1;33m)\u001b[0m\u001b[1;33m]\u001b[0m\u001b[1;33m\u001b[0m\u001b[1;33m\u001b[0m\u001b[0m\n",
      "\u001b[1;31mNameError\u001b[0m: name 'wedges' is not defined"
     ]
    }
   ],
   "source": [
    "for i, p in enumerate(wedges):\n",
    "    ang = (p.theta2 - p.theta1)/2. + p.theta1\n",
    "    y = np.sin(np.deg2rad(ang))\n",
    "    x = np.cos(np.deg2rad(ang))\n",
    "    horizontalalignment = {-1: \"right\", 1: \"left\"}[int(np.sign(x))]\n",
    "    connectionstyle = \"angle,angleA=0,angleB={}\".format(ang)\n",
    "    kw[\"arrowprops\"].update({\"connectionstyle\": connectionstyle})\n",
    "    ax.annotate(recipe[i], xy=(x, y), xytext=(1.35*np.sign(x), 1.4*y),\n",
    "                horizontalalignment=horizontalalignment, **kw)\n",
    "\n",
    "ax.legend(wedges, recipe,\n",
    "          title=\"repartition géograpgique des offres\",\n",
    "          loc=\"center left\",\n",
    "          bbox_to_anchor=(1, 0, 0.5, 1))\n",
    "\n",
    "plt.show()"
   ]
  },
  {
   "cell_type": "code",
   "execution_count": null,
   "metadata": {},
   "outputs": [],
   "source": []
  }
 ],
 "metadata": {
  "kernelspec": {
   "display_name": "Python 3",
   "language": "python",
   "name": "python3"
  },
  "language_info": {
   "codemirror_mode": {
    "name": "ipython",
    "version": 3
   },
   "file_extension": ".py",
   "mimetype": "text/x-python",
   "name": "python",
   "nbconvert_exporter": "python",
   "pygments_lexer": "ipython3",
   "version": "3.7.6"
  }
 },
 "nbformat": 4,
 "nbformat_minor": 4
}
