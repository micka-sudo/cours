{
 "cells": [
  {
   "cell_type": "code",
   "execution_count": null,
   "metadata": {},
   "outputs": [],
   "source": []
  },
  {
   "cell_type": "code",
   "execution_count": 11,
   "metadata": {},
   "outputs": [],
   "source": [
    "from selenium import webdriver\n",
    "import pandas as pd \n",
    "from bs4 import BeautifulSoup\n",
    "from webdriver_manager.chrome import ChromeDriverManager\n",
    "import time, datetime\n",
    "import random"
   ]
  },
  {
   "cell_type": "code",
   "execution_count": 7,
   "metadata": {},
   "outputs": [
    {
     "name": "stderr",
     "output_type": "stream",
     "text": [
      "[WDM] - Looking for [chromedriver 81.0.4044.138 win32] driver in cache \n",
      "[WDM] - File found in cache by path [C:\\Users\\gruy6\\.wdm\\drivers\\chromedriver\\81.0.4044.138\\win32\\chromedriver.exe]\n"
     ]
    }
   ],
   "source": [
    "options = webdriver.ChromeOptions()\n",
    "driver = webdriver.Chrome(ChromeDriverManager().install())"
   ]
  },
  {
   "cell_type": "code",
   "execution_count": null,
   "metadata": {},
   "outputs": [],
   "source": []
  },
  {
   "cell_type": "code",
   "execution_count": 3,
   "metadata": {
    "jupyter": {
     "source_hidden": true
    }
   },
   "outputs": [],
   "source": [
    "\n",
    "df = pd.DataFrame(columns=[\"Title\",\"Location\",\"Company\",\"Salary\",\"Sponsored\",\"Description\"])\n",
    "\n",
    "for i in range(0,500,10):\n",
    "\tdriver.get(\"https://www.indeed.fr/emplois?q=data+scientist&l=paris\"+str(i))\n",
    "\tjobs = []\n",
    "\tdriver.implicitly_wait(4)\n",
    "\t\n",
    "\tfor job in driver.find_elements_by_class_name('result'):\n",
    "\n",
    "\t\tsoup = BeautifulSoup(job.get_attribute('innerHTML'),'html.parser')\n",
    "\t\t\n",
    "\t\ttry:\n",
    "\t\t\ttitle = soup.find(\"a\",class_=\"jobtitle\").text.replace(\"\\n\",\"\").strip()\n",
    "\t\t\t\n",
    "\t\texcept:\n",
    "\t\t\ttitle = 'None'\n",
    "\n",
    "\t\ttry:\n",
    "\t\t\tlocation = soup.find(class_=\"location\").text\n",
    "\t\texcept:\n",
    "\t\t\tlocation = 'None'\n",
    "\n",
    "\t\ttry:\n",
    "\t\t\tcompany = soup.find(class_=\"company\").text.replace(\"\\n\",\"\").strip()\n",
    "\t\texcept:\n",
    "\t\t\tcompany = 'None'\n",
    "\n",
    "\t\ttry:\n",
    "\t\t\tsalary = soup.find(class_=\"salary\").text.replace(\"\\n\",\"\").strip()\n",
    "\t\texcept:\n",
    "\t\t\tsalary = 'None'\n",
    "\n",
    "\t\ttry:\n",
    "\t\t\tsponsored = soup.find(class_=\"sponsoredGray\").text\n",
    "\t\t\tsponsored = \"Sponsored\"\n",
    "\t\texcept:\n",
    "\t\t\tsponsored = \"Organic\"\t\t\t\t\n",
    "\n",
    "\t\t\n",
    "\t\tsum_div = job.find_element_by_xpath('./div[3]')\n",
    "\t\ttry:\n",
    "\t\t\tsum_div.click()\n",
    "\t\texcept:\n",
    "\t\t\tclose_button = driver.find_elements_by_class_name('popover-x-button-close')[0]\n",
    "\t\t\tclose_button.click()\n",
    "\t\t\tsum_div.click()\t\n",
    "\t\tjob_desc = driver.find_element_by_id('vjs-desc').text\n",
    "\n",
    "\t\tdf = df.append({'Title':title,'Location':location,\"Company\":company,\"Salary\":salary,\n",
    "\t\t\t\t\t\t\"Sponsored\":sponsored,\"Description\":job_desc},ignore_index=True)\n",
    "\n",
    "\t\tprint(\"Got these many results:\",df.shape)\n",
    "\n",
    "\n",
    "df.to_csv(\"ai.csv\",index=False)\t"
   ]
  },
  {
   "cell_type": "code",
   "execution_count": 12,
   "metadata": {},
   "outputs": [],
   "source": [
    "def random_time():\n",
    "    return random.randrange(1, 5)"
   ]
  },
  {
   "cell_type": "code",
   "execution_count": 13,
   "metadata": {},
   "outputs": [
    {
     "ename": "NameError",
     "evalue": "name 'jobspage' is not defined",
     "output_type": "error",
     "traceback": [
      "\u001b[1;31m---------------------------------------------------------------------------\u001b[0m",
      "\u001b[1;31mNameError\u001b[0m                                 Traceback (most recent call last)",
      "\u001b[1;32m<ipython-input-13-23cfcf00524e>\u001b[0m in \u001b[0;36m<module>\u001b[1;34m\u001b[0m\n\u001b[0;32m      1\u001b[0m \u001b[0mtime\u001b[0m\u001b[1;33m.\u001b[0m\u001b[0msleep\u001b[0m\u001b[1;33m(\u001b[0m\u001b[0mrandom_time\u001b[0m\u001b[1;33m(\u001b[0m\u001b[1;33m)\u001b[0m\u001b[1;33m)\u001b[0m\u001b[1;33m\u001b[0m\u001b[1;33m\u001b[0m\u001b[0m\n\u001b[1;32m----> 2\u001b[1;33m \u001b[0mdriver\u001b[0m\u001b[1;33m.\u001b[0m\u001b[0mget\u001b[0m\u001b[1;33m(\u001b[0m\u001b[0mjobspage\u001b[0m\u001b[1;33m)\u001b[0m\u001b[1;33m\u001b[0m\u001b[1;33m\u001b[0m\u001b[0m\n\u001b[0m\u001b[0;32m      3\u001b[0m \u001b[0mtime\u001b[0m\u001b[1;33m.\u001b[0m\u001b[0msleep\u001b[0m\u001b[1;33m(\u001b[0m\u001b[0mrandom_time\u001b[0m\u001b[1;33m(\u001b[0m\u001b[1;33m)\u001b[0m\u001b[1;33m)\u001b[0m\u001b[1;33m\u001b[0m\u001b[1;33m\u001b[0m\u001b[0m\n\u001b[0;32m      4\u001b[0m \u001b[0mdriver\u001b[0m\u001b[1;33m.\u001b[0m\u001b[0mfind_element_by_css_selector\u001b[0m\u001b[1;33m(\u001b[0m\u001b[1;34m\"[id='text-input-what']\"\u001b[0m\u001b[1;33m)\u001b[0m\u001b[1;33m.\u001b[0m\u001b[0msend_keys\u001b[0m\u001b[1;33m(\u001b[0m\u001b[0mELEMENTS\u001b[0m\u001b[1;33m[\u001b[0m\u001b[1;34m'search'\u001b[0m\u001b[1;33m]\u001b[0m\u001b[1;33m[\u001b[0m\u001b[1;34m'jobsname'\u001b[0m\u001b[1;33m]\u001b[0m\u001b[1;33m[\u001b[0m\u001b[1;36m1\u001b[0m\u001b[1;33m]\u001b[0m\u001b[1;33m)\u001b[0m \u001b[1;31m#JOBS NAME\u001b[0m\u001b[1;33m\u001b[0m\u001b[1;33m\u001b[0m\u001b[0m\n\u001b[0;32m      5\u001b[0m \u001b[0mtime\u001b[0m\u001b[1;33m.\u001b[0m\u001b[0msleep\u001b[0m\u001b[1;33m(\u001b[0m\u001b[0mrandom_time\u001b[0m\u001b[1;33m(\u001b[0m\u001b[1;33m)\u001b[0m\u001b[1;33m)\u001b[0m\u001b[1;33m\u001b[0m\u001b[1;33m\u001b[0m\u001b[0m\n",
      "\u001b[1;31mNameError\u001b[0m: name 'jobspage' is not defined"
     ]
    }
   ],
   "source": [
    "time.sleep(random_time())\n",
    "    driver.get(jobspage)\n",
    "    time.sleep(random_time())\n",
    "    driver.find_element_by_css_selector(\"[id='text-input-what']\").send_keys(ELEMENTS['search']['jobsname'][1]) #JOBS NAME\n",
    "    time.sleep(random_time())\n",
    "    driver.find_element_by_id(\"text-input-where\").send_keys(Keys.CONTROL + \"a\")\n",
    "    driver.find_element_by_css_selector(\"[id='text-input-where']\").send_keys(ELEMENTS['location']['region'][-1]) #CITY\n",
    "    time.sleep(random_time())\n",
    "    driver.find_element_by_css_selector(\".icl-WhatWhere-button\").click()"
   ]
  },
  {
   "cell_type": "code",
   "execution_count": null,
   "metadata": {},
   "outputs": [],
   "source": []
  },
  {
   "cell_type": "code",
   "execution_count": null,
   "metadata": {},
   "outputs": [],
   "source": []
  },
  {
   "cell_type": "code",
   "execution_count": null,
   "metadata": {},
   "outputs": [],
   "source": []
  }
 ],
 "metadata": {
  "kernelspec": {
   "display_name": "Python 3",
   "language": "python",
   "name": "python3"
  },
  "language_info": {
   "codemirror_mode": {
    "name": "ipython",
    "version": 3
   },
   "file_extension": ".py",
   "mimetype": "text/x-python",
   "name": "python",
   "nbconvert_exporter": "python",
   "pygments_lexer": "ipython3",
   "version": "3.7.6"
  }
 },
 "nbformat": 4,
 "nbformat_minor": 4
}
