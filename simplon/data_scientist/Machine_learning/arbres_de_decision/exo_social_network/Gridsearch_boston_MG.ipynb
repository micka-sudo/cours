{
 "cells": [
  {
   "cell_type": "code",
   "execution_count": 1,
   "metadata": {
    "jupyter": {
     "source_hidden": true
    }
   },
   "outputs": [],
   "source": [
    "#       _ _,---._\n",
    "#    ,-','       `-.___\n",
    "#   /-;'               `._\n",
    "#  /\\/          ._   _,'o \\\n",
    "# ( /\\       _,--'\\,','\"`. )\n",
    "#  |\\      ,'o     \\'    //\\\n",
    "#  |      \\        /   ,--'\"\"`-.\n",
    "#  :       \\_    _/ ,-'         `-._\n",
    "#   \\        `--'  /                )\n",
    "#    `.  \\`._    ,'     ________,','\n",
    "#      .--`     ,'  ,--` __\\___,;'\n",
    "#       \\`.,-- ,' ,`_)--'  /`.,'\n",
    "#        \\( ;  | | )      (`-/\n",
    "#          `--'| |)       |-/\n",
    "#            | | |        | |\n",
    "#            | | |,.,-.   | |_\n",
    "#            | `./ /   )---`  )\n",
    "#           _|  /    ,',   ,-'\n",
    "#          ,'|_(    /-<._,' |--,\n",
    "#          |    `--'---.     \\/ \\\n",
    "#          |          / \\    /\\  \\\n",
    "#        ,-^---._     |  \\  /  \\  \\\n",
    "#     ,-'        \\----'   \\/    \\--`.\n",
    "#    /            \\              \\   \\\n",
    "#######################################\n",
    "#                Gruy                 #                  \n",
    "#######################################"
   ]
  },
  {
   "cell_type": "code",
   "execution_count": 70,
   "metadata": {},
   "outputs": [],
   "source": [
    "import pandas as pd\n",
    "import numpy as np\n",
    "from sklearn.datasets import load_boston\n",
    "from sklearn.model_selection import train_test_split\n",
    "from sklearn.tree import DecisionTreeRegressor\n",
    "from sklearn import tree\n",
    "from sklearn.metrics import mean_squared_error, mean_absolute_error, r2_score\n",
    "from sklearn.model_selection import GridSearchCV\n",
    "from sklearn.metrics import make_scorer\n",
    "from sklearn.model_selection import ShuffleSplit\n",
    "from sklearn.model_selection import cross_val_score"
   ]
  },
  {
   "cell_type": "markdown",
   "metadata": {},
   "source": [
    "### Import Base"
   ]
  },
  {
   "cell_type": "code",
   "execution_count": 56,
   "metadata": {},
   "outputs": [],
   "source": [
    "boston = load_boston()\n",
    "X = boston.data\n",
    "y= boston.target"
   ]
  },
  {
   "cell_type": "markdown",
   "metadata": {},
   "source": [
    "### Creation performance metric"
   ]
  },
  {
   "cell_type": "code",
   "execution_count": 45,
   "metadata": {},
   "outputs": [],
   "source": [
    "from sklearn.metrics import r2_score"
   ]
  },
  {
   "cell_type": "code",
   "execution_count": 82,
   "metadata": {},
   "outputs": [],
   "source": [
    "def performance_metric(y_true, y_predict):\n",
    "    \"\"\" Calculates and returns the performance score between \n",
    "        true and predicted values based on the metric chosen. \"\"\"\n",
    "\n",
    "    # TODO: Calculate the performance score between 'y_true' and 'y_predict'\n",
    "    score = r2_score(y_true, y_predict)\n",
    "\n",
    "    # Return the score\n",
    "    return score"
   ]
  },
  {
   "cell_type": "markdown",
   "metadata": {},
   "source": [
    "### creation foncion Gridsearch"
   ]
  },
  {
   "cell_type": "code",
   "execution_count": 83,
   "metadata": {},
   "outputs": [],
   "source": [
    "def GrisSearchTreeRgression(X, y):\n",
    "    # creation cross valdiation\n",
    "    # Shuffle split \n",
    "    cv_sets = ShuffleSplit(X.shape[0], test_size = 0.2, random_state =0)\n",
    "    # creation reg tree object\n",
    "    clf = tree.DecisionTreeRegressor(random_state =0)\n",
    "    # autre facon de faire les param params = dict(max_depth=dt_range)\n",
    "    params={'criterion':['mse','mae'],'max_depth':np.arange(1,10),'max_features':np.arange(2,8)}\n",
    "    scoring_fnc = make_scorer(performance_metric)\n",
    "    grid = GridSearchCV(clf, params, cv=cv_sets, scoring=scoring_fnc)\n",
    "    grid = grid.fit(X, y)\n",
    "    return grid.best_estimator_, grid.best_params_"
   ]
  },
  {
   "cell_type": "code",
   "execution_count": 84,
   "metadata": {},
   "outputs": [
    {
     "name": "stdout",
     "output_type": "stream",
     "text": [
      "(DecisionTreeRegressor(ccp_alpha=0.0, criterion='mse', max_depth=5,\n",
      "                      max_features=4, max_leaf_nodes=None,\n",
      "                      min_impurity_decrease=0.0, min_impurity_split=None,\n",
      "                      min_samples_leaf=1, min_samples_split=2,\n",
      "                      min_weight_fraction_leaf=0.0, presort='deprecated',\n",
      "                      random_state=0, splitter='best'), {'criterion': 'mse', 'max_depth': 5, 'max_features': 4})\n"
     ]
    }
   ],
   "source": [
    "grid = GrisSearchTreeRgression(X,y)\n",
    "print(grid)"
   ]
  },
  {
   "cell_type": "code",
   "execution_count": 85,
   "metadata": {},
   "outputs": [
    {
     "name": "stdout",
     "output_type": "stream",
     "text": [
      "{'criterion': 'mse', 'max_depth': 5, 'max_features': 4}\n"
     ]
    }
   ],
   "source": [
    "# pour avoir le best params\n",
    "print(grid[1])"
   ]
  },
  {
   "cell_type": "code",
   "execution_count": null,
   "metadata": {},
   "outputs": [],
   "source": []
  }
 ],
 "metadata": {
  "kernelspec": {
   "display_name": "Python 3",
   "language": "python",
   "name": "python3"
  },
  "language_info": {
   "codemirror_mode": {
    "name": "ipython",
    "version": 3
   },
   "file_extension": ".py",
   "mimetype": "text/x-python",
   "name": "python",
   "nbconvert_exporter": "python",
   "pygments_lexer": "ipython3",
   "version": "3.7.6"
  }
 },
 "nbformat": 4,
 "nbformat_minor": 4
}
