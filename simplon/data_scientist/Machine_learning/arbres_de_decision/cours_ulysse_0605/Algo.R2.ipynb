{
 "cells": [
  {
   "cell_type": "markdown",
   "metadata": {},
   "source": [
    "<center>MACHINE LEARNING AVEC R"
   ]
  },
  {
   "cell_type": "code",
   "execution_count": null,
   "metadata": {},
   "outputs": [],
   "source": []
  },
  {
   "cell_type": "markdown",
   "metadata": {},
   "source": [
    ">Chargement des librairies nécessaires"
   ]
  },
  {
   "cell_type": "code",
   "execution_count": 1,
   "metadata": {},
   "outputs": [
    {
     "name": "stderr",
     "output_type": "stream",
     "text": [
      "Loading required package: parallel\n",
      "\n",
      "Loading required package: doSNOW\n",
      "\n",
      "Warning message:\n",
      "\"package 'doSNOW' was built under R version 3.5.3\"\n",
      "Loading required package: foreach\n",
      "\n",
      "Loading required package: iterators\n",
      "\n",
      "Loading required package: snow\n",
      "\n",
      "\n",
      "Attaching package: 'snow'\n",
      "\n",
      "\n",
      "The following objects are masked from 'package:parallel':\n",
      "\n",
      "    clusterApply, clusterApplyLB, clusterCall, clusterEvalQ,\n",
      "    clusterExport, clusterMap, clusterSplit, makeCluster, parApply,\n",
      "    parCapply, parLapply, parRapply, parSapply, splitIndices,\n",
      "    stopCluster\n",
      "\n",
      "\n",
      "Loading required package: caret\n",
      "\n",
      "Warning message:\n",
      "\"package 'caret' was built under R version 3.5.3\"\n",
      "Loading required package: lattice\n",
      "\n",
      "Warning message:\n",
      "\"package 'lattice' was built under R version 3.5.3\"\n",
      "Loading required package: ggplot2\n",
      "\n",
      "Loading required package: C50\n",
      "\n",
      "Warning message:\n",
      "\"package 'C50' was built under R version 3.5.3\"\n",
      "Loading required package: ade4\n",
      "\n",
      "Warning message:\n",
      "\"package 'ade4' was built under R version 3.5.3\"\n",
      "Loading required package: glmnet\n",
      "\n",
      "Loading required package: Matrix\n",
      "\n",
      "Loaded glmnet 2.0-16\n",
      "\n",
      "\n",
      "Loading required package: pROC\n",
      "\n",
      "Warning message:\n",
      "\"package 'pROC' was built under R version 3.5.3\"\n",
      "Type 'citation(\"pROC\")' for a citation.\n",
      "\n",
      "\n",
      "Attaching package: 'pROC'\n",
      "\n",
      "\n",
      "The following object is masked from 'package:glmnet':\n",
      "\n",
      "    auc\n",
      "\n",
      "\n",
      "The following objects are masked from 'package:stats':\n",
      "\n",
      "    cov, smooth, var\n",
      "\n",
      "\n",
      "Loading required package: ROCR\n",
      "\n",
      "Loading required package: gplots\n",
      "\n",
      "\n",
      "Attaching package: 'gplots'\n",
      "\n",
      "\n",
      "The following object is masked from 'package:stats':\n",
      "\n",
      "    lowess\n",
      "\n",
      "\n",
      "Loading required package: rpart\n",
      "\n",
      "Loading required package: rpart.plot\n",
      "\n",
      "Warning message:\n",
      "\"package 'rpart.plot' was built under R version 3.5.3\"\n",
      "Loading required package: nnet\n",
      "\n"
     ]
    }
   ],
   "source": [
    "if (require(\"parallel\")==FALSE) install.packages(\"parallel\")## Parallélisation : travailler sur tous les coeurs de votre PC\n",
    "if (require(\"doSNOW\")==FALSE) install.packages(\"doSNOW\")\n",
    "if (require(\"caret\")==FALSE) install.packages(\"caret\")\n",
    "if (require(\"C50\")==FALSE) install.packages(\"C50\")\n",
    "if (require(\"ade4\")==FALSE) install.packages(\"ade4\")\n",
    "if (require(\"ggplot2\")==FALSE) install.packages(\"ggplot2\")\n",
    "if (require(\"glmnet\")==FALSE) install.packages(\"glmnet\")\n",
    "if (require(\"pROC\")==FALSE) install.packages(\"pROC\")\n",
    "if (require(\"ROCR\")==FALSE) install.packages(\"ROCR\")\n",
    "if (require(\"rpart\")==FALSE) install.packages(\"rpart\")\n",
    "if (require(\"rpart.plot\")==FALSE) install.packages(\"rpart.plot\")\n",
    "if (require(\"nnet\")==FALSE) install.packages(\"nnet\")"
   ]
  },
  {
   "cell_type": "code",
   "execution_count": 2,
   "metadata": {},
   "outputs": [],
   "source": [
    "library(parallel)\n",
    "library(doSNOW)\n",
    "library(caret)\n",
    "library(C50)\n",
    "library(ade4)\n",
    "library(ggplot2)\n",
    "library(glmnet)\n",
    "library(pROC)\n",
    "library(ROCR)\n",
    "library(rpart)\n",
    "library(rpart.plot)\n",
    "library(nnet)"
   ]
  },
  {
   "cell_type": "markdown",
   "metadata": {},
   "source": [
    ">Parallélisation des traitements"
   ]
  },
  {
   "cell_type": "markdown",
   "metadata": {},
   "source": [
    "### Pour réduire les temps de traitements longs, il existe plusieurs solutions quand on utilise R. Nous utiliserons un moyen simple d'augmenter significativement la vitesse des calculs en parallélisant les traitements sur plusieurs coeurs (si la machine en possède) et quand les tâches qui doivent être exécutées sont indépendentes les unes des autres.  Nous utiliserons si besoin la librairie \"parallel\".\n",
    "### Pour plus de détail : https://stat.ethz.ch/R-manual/R-patched/library/parallel/doc/parallel.pdf"
   ]
  },
  {
   "cell_type": "code",
   "execution_count": null,
   "metadata": {},
   "outputs": [],
   "source": [
    "detectCores() # détecter le nombre de coeurs du PC\n",
    "detectCores(logical = FALSE) # détecter le nombre de coeurs logiques du PC\n",
    "cl <- makeCluster(4)\n",
    "registerDoSNOW(cl) # Parallélisation"
   ]
  },
  {
   "cell_type": "markdown",
   "metadata": {},
   "source": [
    ">Cas pratiques sur des jeux de données (utilisation des algorithmes de ML)"
   ]
  },
  {
   "cell_type": "markdown",
   "metadata": {},
   "source": [
    ">><font color='green'>Chargement des données à utiliser</font>"
   ]
  },
  {
   "cell_type": "code",
   "execution_count": 3,
   "metadata": {
    "scrolled": true
   },
   "outputs": [
    {
     "data": {
      "text/html": [
       "<table>\n",
       "<caption>A data.frame: 1000 × 20</caption>\n",
       "<thead>\n",
       "\t<tr><th scope=col>Comptes</th><th scope=col>Duree_credit</th><th scope=col>Historique_credit</th><th scope=col>Objet_credit</th><th scope=col>Montant_credit</th><th scope=col>Epargne</th><th scope=col>Anciennete_emploi</th><th scope=col>Taux_effort</th><th scope=col>Situation_familiale</th><th scope=col>Garanties</th><th scope=col>Anciennete_domicile</th><th scope=col>Biens</th><th scope=col>Age</th><th scope=col>Autres_credits</th><th scope=col>Statut_domicile</th><th scope=col>Nb_credits</th><th scope=col>Type_emploi</th><th scope=col>Nb_pers_charge</th><th scope=col>Telephone</th><th scope=col>Cible</th></tr>\n",
       "\t<tr><th scope=col>&lt;int&gt;</th><th scope=col>&lt;int&gt;</th><th scope=col>&lt;fct&gt;</th><th scope=col>&lt;fct&gt;</th><th scope=col>&lt;int&gt;</th><th scope=col>&lt;int&gt;</th><th scope=col>&lt;int&gt;</th><th scope=col>&lt;int&gt;</th><th scope=col>&lt;fct&gt;</th><th scope=col>&lt;fct&gt;</th><th scope=col>&lt;int&gt;</th><th scope=col>&lt;fct&gt;</th><th scope=col>&lt;int&gt;</th><th scope=col>&lt;fct&gt;</th><th scope=col>&lt;fct&gt;</th><th scope=col>&lt;int&gt;</th><th scope=col>&lt;fct&gt;</th><th scope=col>&lt;int&gt;</th><th scope=col>&lt;fct&gt;</th><th scope=col>&lt;int&gt;</th></tr>\n",
       "</thead>\n",
       "<tbody>\n",
       "\t<tr><td>1</td><td> 6</td><td>A34</td><td>A43</td><td> 1169</td><td>0</td><td>5</td><td>4</td><td>A93</td><td>A101</td><td>4</td><td>A121</td><td>67</td><td>A143</td><td>A152</td><td>2</td><td>A173</td><td>1</td><td>A192</td><td>0</td></tr>\n",
       "\t<tr><td>2</td><td>48</td><td>A32</td><td>A43</td><td> 5951</td><td>1</td><td>3</td><td>2</td><td>A92</td><td>A101</td><td>2</td><td>A121</td><td>22</td><td>A143</td><td>A152</td><td>1</td><td>A173</td><td>1</td><td>A191</td><td>1</td></tr>\n",
       "\t<tr><td>4</td><td>12</td><td>A34</td><td>A46</td><td> 2096</td><td>1</td><td>4</td><td>2</td><td>A93</td><td>A101</td><td>3</td><td>A121</td><td>49</td><td>A143</td><td>A152</td><td>1</td><td>A172</td><td>2</td><td>A191</td><td>0</td></tr>\n",
       "\t<tr><td>1</td><td>42</td><td>A32</td><td>A42</td><td> 7882</td><td>1</td><td>4</td><td>2</td><td>A93</td><td>A103</td><td>4</td><td>A122</td><td>45</td><td>A143</td><td>A153</td><td>1</td><td>A173</td><td>2</td><td>A191</td><td>0</td></tr>\n",
       "\t<tr><td>1</td><td>24</td><td>A33</td><td>A40</td><td> 4870</td><td>1</td><td>3</td><td>3</td><td>A93</td><td>A101</td><td>4</td><td>A124</td><td>53</td><td>A143</td><td>A153</td><td>2</td><td>A173</td><td>2</td><td>A191</td><td>1</td></tr>\n",
       "\t<tr><td>4</td><td>36</td><td>A32</td><td>A46</td><td> 9055</td><td>0</td><td>3</td><td>2</td><td>A93</td><td>A101</td><td>4</td><td>A124</td><td>35</td><td>A143</td><td>A153</td><td>1</td><td>A172</td><td>2</td><td>A192</td><td>0</td></tr>\n",
       "\t<tr><td>4</td><td>24</td><td>A32</td><td>A42</td><td> 2835</td><td>3</td><td>5</td><td>3</td><td>A93</td><td>A101</td><td>4</td><td>A122</td><td>53</td><td>A143</td><td>A152</td><td>1</td><td>A173</td><td>1</td><td>A191</td><td>0</td></tr>\n",
       "\t<tr><td>2</td><td>36</td><td>A32</td><td>A41</td><td> 6948</td><td>1</td><td>3</td><td>2</td><td>A93</td><td>A101</td><td>2</td><td>A123</td><td>35</td><td>A143</td><td>A151</td><td>1</td><td>A174</td><td>1</td><td>A192</td><td>0</td></tr>\n",
       "\t<tr><td>4</td><td>12</td><td>A32</td><td>A43</td><td> 3059</td><td>4</td><td>4</td><td>2</td><td>A91</td><td>A101</td><td>4</td><td>A121</td><td>61</td><td>A143</td><td>A152</td><td>1</td><td>A172</td><td>1</td><td>A191</td><td>0</td></tr>\n",
       "\t<tr><td>2</td><td>30</td><td>A34</td><td>A40</td><td> 5234</td><td>1</td><td>1</td><td>4</td><td>A94</td><td>A101</td><td>2</td><td>A123</td><td>28</td><td>A143</td><td>A152</td><td>2</td><td>A174</td><td>1</td><td>A191</td><td>1</td></tr>\n",
       "\t<tr><td>2</td><td>12</td><td>A32</td><td>A40</td><td> 1295</td><td>1</td><td>2</td><td>3</td><td>A92</td><td>A101</td><td>1</td><td>A123</td><td>25</td><td>A143</td><td>A151</td><td>1</td><td>A173</td><td>1</td><td>A191</td><td>1</td></tr>\n",
       "\t<tr><td>1</td><td>48</td><td>A32</td><td>A49</td><td> 4308</td><td>1</td><td>2</td><td>3</td><td>A92</td><td>A101</td><td>4</td><td>A122</td><td>24</td><td>A143</td><td>A151</td><td>1</td><td>A173</td><td>1</td><td>A191</td><td>1</td></tr>\n",
       "\t<tr><td>2</td><td>12</td><td>A32</td><td>A43</td><td> 1567</td><td>1</td><td>3</td><td>1</td><td>A92</td><td>A101</td><td>1</td><td>A123</td><td>22</td><td>A143</td><td>A152</td><td>1</td><td>A173</td><td>1</td><td>A192</td><td>0</td></tr>\n",
       "\t<tr><td>1</td><td>24</td><td>A34</td><td>A40</td><td> 1199</td><td>1</td><td>5</td><td>4</td><td>A93</td><td>A101</td><td>4</td><td>A123</td><td>60</td><td>A143</td><td>A152</td><td>2</td><td>A172</td><td>1</td><td>A191</td><td>1</td></tr>\n",
       "\t<tr><td>1</td><td>15</td><td>A32</td><td>A40</td><td> 1403</td><td>1</td><td>3</td><td>2</td><td>A92</td><td>A101</td><td>4</td><td>A123</td><td>28</td><td>A143</td><td>A151</td><td>1</td><td>A173</td><td>1</td><td>A191</td><td>0</td></tr>\n",
       "\t<tr><td>1</td><td>24</td><td>A32</td><td>A43</td><td> 1282</td><td>2</td><td>3</td><td>4</td><td>A92</td><td>A101</td><td>2</td><td>A123</td><td>32</td><td>A143</td><td>A152</td><td>1</td><td>A172</td><td>1</td><td>A191</td><td>1</td></tr>\n",
       "\t<tr><td>4</td><td>24</td><td>A34</td><td>A43</td><td> 2424</td><td>0</td><td>5</td><td>4</td><td>A93</td><td>A101</td><td>4</td><td>A122</td><td>53</td><td>A143</td><td>A152</td><td>2</td><td>A173</td><td>1</td><td>A191</td><td>0</td></tr>\n",
       "\t<tr><td>1</td><td>30</td><td>A30</td><td>A49</td><td> 8072</td><td>0</td><td>2</td><td>2</td><td>A93</td><td>A101</td><td>3</td><td>A123</td><td>25</td><td>A141</td><td>A152</td><td>3</td><td>A173</td><td>1</td><td>A191</td><td>0</td></tr>\n",
       "\t<tr><td>2</td><td>24</td><td>A32</td><td>A41</td><td>12579</td><td>1</td><td>5</td><td>4</td><td>A92</td><td>A101</td><td>2</td><td>A124</td><td>44</td><td>A143</td><td>A153</td><td>1</td><td>A174</td><td>1</td><td>A192</td><td>1</td></tr>\n",
       "\t<tr><td>4</td><td>24</td><td>A32</td><td>A43</td><td> 3430</td><td>3</td><td>5</td><td>3</td><td>A93</td><td>A101</td><td>2</td><td>A123</td><td>31</td><td>A143</td><td>A152</td><td>1</td><td>A173</td><td>2</td><td>A192</td><td>0</td></tr>\n",
       "\t<tr><td>4</td><td> 9</td><td>A34</td><td>A40</td><td> 2134</td><td>1</td><td>3</td><td>4</td><td>A93</td><td>A101</td><td>4</td><td>A123</td><td>48</td><td>A143</td><td>A152</td><td>3</td><td>A173</td><td>1</td><td>A192</td><td>0</td></tr>\n",
       "\t<tr><td>1</td><td> 6</td><td>A32</td><td>A43</td><td> 2647</td><td>3</td><td>3</td><td>2</td><td>A93</td><td>A101</td><td>3</td><td>A121</td><td>44</td><td>A143</td><td>A151</td><td>1</td><td>A173</td><td>2</td><td>A191</td><td>0</td></tr>\n",
       "\t<tr><td>1</td><td>10</td><td>A34</td><td>A40</td><td> 2241</td><td>1</td><td>2</td><td>1</td><td>A93</td><td>A101</td><td>3</td><td>A121</td><td>48</td><td>A143</td><td>A151</td><td>2</td><td>A172</td><td>2</td><td>A191</td><td>0</td></tr>\n",
       "\t<tr><td>2</td><td>12</td><td>A34</td><td>A41</td><td> 1804</td><td>2</td><td>2</td><td>3</td><td>A93</td><td>A101</td><td>4</td><td>A122</td><td>44</td><td>A143</td><td>A152</td><td>1</td><td>A173</td><td>1</td><td>A191</td><td>0</td></tr>\n",
       "\t<tr><td>4</td><td>10</td><td>A34</td><td>A42</td><td> 2069</td><td>0</td><td>3</td><td>2</td><td>A94</td><td>A101</td><td>1</td><td>A123</td><td>26</td><td>A143</td><td>A152</td><td>2</td><td>A173</td><td>1</td><td>A191</td><td>0</td></tr>\n",
       "\t<tr><td>1</td><td> 6</td><td>A32</td><td>A42</td><td> 1374</td><td>1</td><td>3</td><td>1</td><td>A93</td><td>A101</td><td>2</td><td>A121</td><td>36</td><td>A141</td><td>A152</td><td>1</td><td>A172</td><td>1</td><td>A192</td><td>0</td></tr>\n",
       "\t<tr><td>4</td><td> 6</td><td>A30</td><td>A43</td><td>  426</td><td>1</td><td>5</td><td>4</td><td>A94</td><td>A101</td><td>4</td><td>A123</td><td>39</td><td>A143</td><td>A152</td><td>1</td><td>A172</td><td>1</td><td>A191</td><td>0</td></tr>\n",
       "\t<tr><td>3</td><td>12</td><td>A31</td><td>A43</td><td>  409</td><td>4</td><td>3</td><td>3</td><td>A92</td><td>A101</td><td>3</td><td>A121</td><td>42</td><td>A143</td><td>A151</td><td>2</td><td>A173</td><td>1</td><td>A191</td><td>0</td></tr>\n",
       "\t<tr><td>2</td><td> 7</td><td>A32</td><td>A43</td><td> 2415</td><td>1</td><td>3</td><td>3</td><td>A93</td><td>A103</td><td>2</td><td>A121</td><td>34</td><td>A143</td><td>A152</td><td>1</td><td>A173</td><td>1</td><td>A191</td><td>0</td></tr>\n",
       "\t<tr><td>1</td><td>60</td><td>A33</td><td>A49</td><td> 6836</td><td>1</td><td>5</td><td>3</td><td>A93</td><td>A101</td><td>4</td><td>A124</td><td>63</td><td>A143</td><td>A152</td><td>2</td><td>A173</td><td>1</td><td>A192</td><td>1</td></tr>\n",
       "\t<tr><td>...</td><td>...</td><td>...</td><td>...</td><td>...</td><td>...</td><td>...</td><td>...</td><td>...</td><td>...</td><td>...</td><td>...</td><td>...</td><td>...</td><td>...</td><td>...</td><td>...</td><td>...</td><td>...</td><td>...</td></tr>\n",
       "\t<tr><td>2</td><td>15</td><td>A32</td><td>A45</td><td>1514</td><td>2</td><td>3</td><td>4</td><td>A93</td><td>A103</td><td>2</td><td>A121</td><td>22</td><td>A143</td><td>A152</td><td>1</td><td>A173</td><td>1</td><td>A191</td><td>0</td></tr>\n",
       "\t<tr><td>4</td><td>24</td><td>A32</td><td>A40</td><td>7393</td><td>1</td><td>3</td><td>1</td><td>A93</td><td>A101</td><td>4</td><td>A122</td><td>43</td><td>A143</td><td>A152</td><td>1</td><td>A172</td><td>2</td><td>A191</td><td>0</td></tr>\n",
       "\t<tr><td>1</td><td>24</td><td>A31</td><td>A40</td><td>1193</td><td>1</td><td>1</td><td>1</td><td>A92</td><td>A102</td><td>4</td><td>A124</td><td>29</td><td>A143</td><td>A151</td><td>2</td><td>A171</td><td>1</td><td>A191</td><td>1</td></tr>\n",
       "\t<tr><td>1</td><td>60</td><td>A32</td><td>A49</td><td>7297</td><td>1</td><td>5</td><td>4</td><td>A93</td><td>A102</td><td>4</td><td>A124</td><td>36</td><td>A143</td><td>A151</td><td>1</td><td>A173</td><td>1</td><td>A191</td><td>1</td></tr>\n",
       "\t<tr><td>4</td><td>30</td><td>A34</td><td>A43</td><td>2831</td><td>1</td><td>3</td><td>4</td><td>A92</td><td>A101</td><td>2</td><td>A123</td><td>33</td><td>A143</td><td>A152</td><td>1</td><td>A173</td><td>1</td><td>A192</td><td>0</td></tr>\n",
       "\t<tr><td>3</td><td>24</td><td>A32</td><td>A43</td><td>1258</td><td>3</td><td>3</td><td>3</td><td>A92</td><td>A101</td><td>3</td><td>A123</td><td>57</td><td>A143</td><td>A152</td><td>1</td><td>A172</td><td>1</td><td>A191</td><td>0</td></tr>\n",
       "\t<tr><td>2</td><td> 6</td><td>A32</td><td>A43</td><td> 753</td><td>1</td><td>3</td><td>2</td><td>A92</td><td>A103</td><td>3</td><td>A121</td><td>64</td><td>A143</td><td>A152</td><td>1</td><td>A173</td><td>1</td><td>A191</td><td>0</td></tr>\n",
       "\t<tr><td>2</td><td>18</td><td>A33</td><td>A49</td><td>2427</td><td>0</td><td>5</td><td>4</td><td>A93</td><td>A101</td><td>2</td><td>A122</td><td>42</td><td>A143</td><td>A152</td><td>2</td><td>A173</td><td>1</td><td>A191</td><td>0</td></tr>\n",
       "\t<tr><td>4</td><td>24</td><td>A33</td><td>A40</td><td>2538</td><td>1</td><td>5</td><td>4</td><td>A93</td><td>A101</td><td>4</td><td>A123</td><td>47</td><td>A143</td><td>A152</td><td>2</td><td>A172</td><td>2</td><td>A191</td><td>1</td></tr>\n",
       "\t<tr><td>2</td><td>15</td><td>A31</td><td>A40</td><td>1264</td><td>2</td><td>3</td><td>2</td><td>A94</td><td>A101</td><td>2</td><td>A122</td><td>25</td><td>A143</td><td>A151</td><td>1</td><td>A173</td><td>1</td><td>A191</td><td>1</td></tr>\n",
       "\t<tr><td>2</td><td>30</td><td>A34</td><td>A42</td><td>8386</td><td>1</td><td>4</td><td>2</td><td>A93</td><td>A101</td><td>2</td><td>A122</td><td>49</td><td>A143</td><td>A152</td><td>1</td><td>A173</td><td>1</td><td>A191</td><td>1</td></tr>\n",
       "\t<tr><td>4</td><td>48</td><td>A32</td><td>A49</td><td>4844</td><td>1</td><td>1</td><td>3</td><td>A93</td><td>A101</td><td>2</td><td>A123</td><td>33</td><td>A141</td><td>A151</td><td>1</td><td>A174</td><td>1</td><td>A192</td><td>1</td></tr>\n",
       "\t<tr><td>3</td><td>21</td><td>A32</td><td>A40</td><td>2923</td><td>2</td><td>3</td><td>1</td><td>A92</td><td>A101</td><td>1</td><td>A123</td><td>28</td><td>A141</td><td>A152</td><td>1</td><td>A174</td><td>1</td><td>A192</td><td>0</td></tr>\n",
       "\t<tr><td>1</td><td>36</td><td>A32</td><td>A41</td><td>8229</td><td>1</td><td>3</td><td>2</td><td>A93</td><td>A101</td><td>2</td><td>A122</td><td>26</td><td>A143</td><td>A152</td><td>1</td><td>A173</td><td>2</td><td>A191</td><td>1</td></tr>\n",
       "\t<tr><td>4</td><td>24</td><td>A34</td><td>A42</td><td>2028</td><td>1</td><td>4</td><td>2</td><td>A93</td><td>A101</td><td>2</td><td>A122</td><td>30</td><td>A143</td><td>A152</td><td>2</td><td>A172</td><td>1</td><td>A191</td><td>0</td></tr>\n",
       "\t<tr><td>1</td><td>15</td><td>A34</td><td>A42</td><td>1433</td><td>1</td><td>3</td><td>4</td><td>A92</td><td>A101</td><td>3</td><td>A122</td><td>25</td><td>A143</td><td>A151</td><td>2</td><td>A173</td><td>1</td><td>A191</td><td>0</td></tr>\n",
       "\t<tr><td>3</td><td>42</td><td>A30</td><td>A49</td><td>6289</td><td>1</td><td>2</td><td>2</td><td>A91</td><td>A101</td><td>1</td><td>A122</td><td>33</td><td>A143</td><td>A152</td><td>2</td><td>A173</td><td>1</td><td>A191</td><td>0</td></tr>\n",
       "\t<tr><td>4</td><td>13</td><td>A32</td><td>A43</td><td>1409</td><td>2</td><td>1</td><td>2</td><td>A92</td><td>A101</td><td>4</td><td>A121</td><td>64</td><td>A143</td><td>A152</td><td>1</td><td>A173</td><td>1</td><td>A191</td><td>0</td></tr>\n",
       "\t<tr><td>1</td><td>24</td><td>A32</td><td>A41</td><td>6579</td><td>1</td><td>1</td><td>4</td><td>A93</td><td>A101</td><td>2</td><td>A124</td><td>29</td><td>A143</td><td>A153</td><td>1</td><td>A174</td><td>1</td><td>A192</td><td>0</td></tr>\n",
       "\t<tr><td>2</td><td>24</td><td>A34</td><td>A43</td><td>1743</td><td>1</td><td>5</td><td>4</td><td>A93</td><td>A101</td><td>2</td><td>A122</td><td>48</td><td>A143</td><td>A152</td><td>2</td><td>A172</td><td>1</td><td>A191</td><td>0</td></tr>\n",
       "\t<tr><td>4</td><td>12</td><td>A34</td><td>A46</td><td>3565</td><td>0</td><td>2</td><td>2</td><td>A93</td><td>A101</td><td>1</td><td>A122</td><td>37</td><td>A143</td><td>A152</td><td>2</td><td>A172</td><td>2</td><td>A191</td><td>0</td></tr>\n",
       "\t<tr><td>4</td><td>15</td><td>A31</td><td>A43</td><td>1569</td><td>2</td><td>5</td><td>4</td><td>A93</td><td>A101</td><td>4</td><td>A123</td><td>34</td><td>A141</td><td>A152</td><td>1</td><td>A172</td><td>2</td><td>A191</td><td>0</td></tr>\n",
       "\t<tr><td>1</td><td>18</td><td>A32</td><td>A43</td><td>1936</td><td>0</td><td>4</td><td>2</td><td>A94</td><td>A101</td><td>4</td><td>A123</td><td>23</td><td>A143</td><td>A151</td><td>2</td><td>A172</td><td>1</td><td>A191</td><td>0</td></tr>\n",
       "\t<tr><td>1</td><td>36</td><td>A32</td><td>A42</td><td>3959</td><td>1</td><td>1</td><td>4</td><td>A93</td><td>A101</td><td>3</td><td>A122</td><td>30</td><td>A143</td><td>A152</td><td>1</td><td>A174</td><td>1</td><td>A192</td><td>0</td></tr>\n",
       "\t<tr><td>4</td><td>12</td><td>A32</td><td>A40</td><td>2390</td><td>0</td><td>5</td><td>4</td><td>A93</td><td>A101</td><td>3</td><td>A123</td><td>50</td><td>A143</td><td>A152</td><td>1</td><td>A173</td><td>1</td><td>A192</td><td>0</td></tr>\n",
       "\t<tr><td>4</td><td>12</td><td>A32</td><td>A42</td><td>1736</td><td>1</td><td>4</td><td>3</td><td>A92</td><td>A101</td><td>4</td><td>A121</td><td>31</td><td>A143</td><td>A152</td><td>1</td><td>A172</td><td>1</td><td>A191</td><td>0</td></tr>\n",
       "\t<tr><td>1</td><td>30</td><td>A32</td><td>A41</td><td>3857</td><td>1</td><td>3</td><td>4</td><td>A91</td><td>A101</td><td>4</td><td>A122</td><td>40</td><td>A143</td><td>A152</td><td>1</td><td>A174</td><td>1</td><td>A192</td><td>0</td></tr>\n",
       "\t<tr><td>4</td><td>12</td><td>A32</td><td>A43</td><td> 804</td><td>1</td><td>5</td><td>4</td><td>A93</td><td>A101</td><td>4</td><td>A123</td><td>38</td><td>A143</td><td>A152</td><td>1</td><td>A173</td><td>1</td><td>A191</td><td>0</td></tr>\n",
       "\t<tr><td>1</td><td>45</td><td>A32</td><td>A43</td><td>1845</td><td>1</td><td>3</td><td>4</td><td>A93</td><td>A101</td><td>4</td><td>A124</td><td>23</td><td>A143</td><td>A153</td><td>1</td><td>A173</td><td>1</td><td>A192</td><td>1</td></tr>\n",
       "\t<tr><td>2</td><td>45</td><td>A34</td><td>A41</td><td>4576</td><td>2</td><td>1</td><td>3</td><td>A93</td><td>A101</td><td>4</td><td>A123</td><td>27</td><td>A143</td><td>A152</td><td>1</td><td>A173</td><td>1</td><td>A191</td><td>0</td></tr>\n",
       "</tbody>\n",
       "</table>\n"
      ],
      "text/latex": [
       "A data.frame: 1000 × 20\n",
       "\\begin{tabular}{llllllllllllllllllll}\n",
       " Comptes & Duree\\_credit & Historique\\_credit & Objet\\_credit & Montant\\_credit & Epargne & Anciennete\\_emploi & Taux\\_effort & Situation\\_familiale & Garanties & Anciennete\\_domicile & Biens & Age & Autres\\_credits & Statut\\_domicile & Nb\\_credits & Type\\_emploi & Nb\\_pers\\_charge & Telephone & Cible\\\\\n",
       " <int> & <int> & <fct> & <fct> & <int> & <int> & <int> & <int> & <fct> & <fct> & <int> & <fct> & <int> & <fct> & <fct> & <int> & <fct> & <int> & <fct> & <int>\\\\\n",
       "\\hline\n",
       "\t 1 &  6 & A34 & A43 &  1169 & 0 & 5 & 4 & A93 & A101 & 4 & A121 & 67 & A143 & A152 & 2 & A173 & 1 & A192 & 0\\\\\n",
       "\t 2 & 48 & A32 & A43 &  5951 & 1 & 3 & 2 & A92 & A101 & 2 & A121 & 22 & A143 & A152 & 1 & A173 & 1 & A191 & 1\\\\\n",
       "\t 4 & 12 & A34 & A46 &  2096 & 1 & 4 & 2 & A93 & A101 & 3 & A121 & 49 & A143 & A152 & 1 & A172 & 2 & A191 & 0\\\\\n",
       "\t 1 & 42 & A32 & A42 &  7882 & 1 & 4 & 2 & A93 & A103 & 4 & A122 & 45 & A143 & A153 & 1 & A173 & 2 & A191 & 0\\\\\n",
       "\t 1 & 24 & A33 & A40 &  4870 & 1 & 3 & 3 & A93 & A101 & 4 & A124 & 53 & A143 & A153 & 2 & A173 & 2 & A191 & 1\\\\\n",
       "\t 4 & 36 & A32 & A46 &  9055 & 0 & 3 & 2 & A93 & A101 & 4 & A124 & 35 & A143 & A153 & 1 & A172 & 2 & A192 & 0\\\\\n",
       "\t 4 & 24 & A32 & A42 &  2835 & 3 & 5 & 3 & A93 & A101 & 4 & A122 & 53 & A143 & A152 & 1 & A173 & 1 & A191 & 0\\\\\n",
       "\t 2 & 36 & A32 & A41 &  6948 & 1 & 3 & 2 & A93 & A101 & 2 & A123 & 35 & A143 & A151 & 1 & A174 & 1 & A192 & 0\\\\\n",
       "\t 4 & 12 & A32 & A43 &  3059 & 4 & 4 & 2 & A91 & A101 & 4 & A121 & 61 & A143 & A152 & 1 & A172 & 1 & A191 & 0\\\\\n",
       "\t 2 & 30 & A34 & A40 &  5234 & 1 & 1 & 4 & A94 & A101 & 2 & A123 & 28 & A143 & A152 & 2 & A174 & 1 & A191 & 1\\\\\n",
       "\t 2 & 12 & A32 & A40 &  1295 & 1 & 2 & 3 & A92 & A101 & 1 & A123 & 25 & A143 & A151 & 1 & A173 & 1 & A191 & 1\\\\\n",
       "\t 1 & 48 & A32 & A49 &  4308 & 1 & 2 & 3 & A92 & A101 & 4 & A122 & 24 & A143 & A151 & 1 & A173 & 1 & A191 & 1\\\\\n",
       "\t 2 & 12 & A32 & A43 &  1567 & 1 & 3 & 1 & A92 & A101 & 1 & A123 & 22 & A143 & A152 & 1 & A173 & 1 & A192 & 0\\\\\n",
       "\t 1 & 24 & A34 & A40 &  1199 & 1 & 5 & 4 & A93 & A101 & 4 & A123 & 60 & A143 & A152 & 2 & A172 & 1 & A191 & 1\\\\\n",
       "\t 1 & 15 & A32 & A40 &  1403 & 1 & 3 & 2 & A92 & A101 & 4 & A123 & 28 & A143 & A151 & 1 & A173 & 1 & A191 & 0\\\\\n",
       "\t 1 & 24 & A32 & A43 &  1282 & 2 & 3 & 4 & A92 & A101 & 2 & A123 & 32 & A143 & A152 & 1 & A172 & 1 & A191 & 1\\\\\n",
       "\t 4 & 24 & A34 & A43 &  2424 & 0 & 5 & 4 & A93 & A101 & 4 & A122 & 53 & A143 & A152 & 2 & A173 & 1 & A191 & 0\\\\\n",
       "\t 1 & 30 & A30 & A49 &  8072 & 0 & 2 & 2 & A93 & A101 & 3 & A123 & 25 & A141 & A152 & 3 & A173 & 1 & A191 & 0\\\\\n",
       "\t 2 & 24 & A32 & A41 & 12579 & 1 & 5 & 4 & A92 & A101 & 2 & A124 & 44 & A143 & A153 & 1 & A174 & 1 & A192 & 1\\\\\n",
       "\t 4 & 24 & A32 & A43 &  3430 & 3 & 5 & 3 & A93 & A101 & 2 & A123 & 31 & A143 & A152 & 1 & A173 & 2 & A192 & 0\\\\\n",
       "\t 4 &  9 & A34 & A40 &  2134 & 1 & 3 & 4 & A93 & A101 & 4 & A123 & 48 & A143 & A152 & 3 & A173 & 1 & A192 & 0\\\\\n",
       "\t 1 &  6 & A32 & A43 &  2647 & 3 & 3 & 2 & A93 & A101 & 3 & A121 & 44 & A143 & A151 & 1 & A173 & 2 & A191 & 0\\\\\n",
       "\t 1 & 10 & A34 & A40 &  2241 & 1 & 2 & 1 & A93 & A101 & 3 & A121 & 48 & A143 & A151 & 2 & A172 & 2 & A191 & 0\\\\\n",
       "\t 2 & 12 & A34 & A41 &  1804 & 2 & 2 & 3 & A93 & A101 & 4 & A122 & 44 & A143 & A152 & 1 & A173 & 1 & A191 & 0\\\\\n",
       "\t 4 & 10 & A34 & A42 &  2069 & 0 & 3 & 2 & A94 & A101 & 1 & A123 & 26 & A143 & A152 & 2 & A173 & 1 & A191 & 0\\\\\n",
       "\t 1 &  6 & A32 & A42 &  1374 & 1 & 3 & 1 & A93 & A101 & 2 & A121 & 36 & A141 & A152 & 1 & A172 & 1 & A192 & 0\\\\\n",
       "\t 4 &  6 & A30 & A43 &   426 & 1 & 5 & 4 & A94 & A101 & 4 & A123 & 39 & A143 & A152 & 1 & A172 & 1 & A191 & 0\\\\\n",
       "\t 3 & 12 & A31 & A43 &   409 & 4 & 3 & 3 & A92 & A101 & 3 & A121 & 42 & A143 & A151 & 2 & A173 & 1 & A191 & 0\\\\\n",
       "\t 2 &  7 & A32 & A43 &  2415 & 1 & 3 & 3 & A93 & A103 & 2 & A121 & 34 & A143 & A152 & 1 & A173 & 1 & A191 & 0\\\\\n",
       "\t 1 & 60 & A33 & A49 &  6836 & 1 & 5 & 3 & A93 & A101 & 4 & A124 & 63 & A143 & A152 & 2 & A173 & 1 & A192 & 1\\\\\n",
       "\t ... & ... & ... & ... & ... & ... & ... & ... & ... & ... & ... & ... & ... & ... & ... & ... & ... & ... & ... & ...\\\\\n",
       "\t 2 & 15 & A32 & A45 & 1514 & 2 & 3 & 4 & A93 & A103 & 2 & A121 & 22 & A143 & A152 & 1 & A173 & 1 & A191 & 0\\\\\n",
       "\t 4 & 24 & A32 & A40 & 7393 & 1 & 3 & 1 & A93 & A101 & 4 & A122 & 43 & A143 & A152 & 1 & A172 & 2 & A191 & 0\\\\\n",
       "\t 1 & 24 & A31 & A40 & 1193 & 1 & 1 & 1 & A92 & A102 & 4 & A124 & 29 & A143 & A151 & 2 & A171 & 1 & A191 & 1\\\\\n",
       "\t 1 & 60 & A32 & A49 & 7297 & 1 & 5 & 4 & A93 & A102 & 4 & A124 & 36 & A143 & A151 & 1 & A173 & 1 & A191 & 1\\\\\n",
       "\t 4 & 30 & A34 & A43 & 2831 & 1 & 3 & 4 & A92 & A101 & 2 & A123 & 33 & A143 & A152 & 1 & A173 & 1 & A192 & 0\\\\\n",
       "\t 3 & 24 & A32 & A43 & 1258 & 3 & 3 & 3 & A92 & A101 & 3 & A123 & 57 & A143 & A152 & 1 & A172 & 1 & A191 & 0\\\\\n",
       "\t 2 &  6 & A32 & A43 &  753 & 1 & 3 & 2 & A92 & A103 & 3 & A121 & 64 & A143 & A152 & 1 & A173 & 1 & A191 & 0\\\\\n",
       "\t 2 & 18 & A33 & A49 & 2427 & 0 & 5 & 4 & A93 & A101 & 2 & A122 & 42 & A143 & A152 & 2 & A173 & 1 & A191 & 0\\\\\n",
       "\t 4 & 24 & A33 & A40 & 2538 & 1 & 5 & 4 & A93 & A101 & 4 & A123 & 47 & A143 & A152 & 2 & A172 & 2 & A191 & 1\\\\\n",
       "\t 2 & 15 & A31 & A40 & 1264 & 2 & 3 & 2 & A94 & A101 & 2 & A122 & 25 & A143 & A151 & 1 & A173 & 1 & A191 & 1\\\\\n",
       "\t 2 & 30 & A34 & A42 & 8386 & 1 & 4 & 2 & A93 & A101 & 2 & A122 & 49 & A143 & A152 & 1 & A173 & 1 & A191 & 1\\\\\n",
       "\t 4 & 48 & A32 & A49 & 4844 & 1 & 1 & 3 & A93 & A101 & 2 & A123 & 33 & A141 & A151 & 1 & A174 & 1 & A192 & 1\\\\\n",
       "\t 3 & 21 & A32 & A40 & 2923 & 2 & 3 & 1 & A92 & A101 & 1 & A123 & 28 & A141 & A152 & 1 & A174 & 1 & A192 & 0\\\\\n",
       "\t 1 & 36 & A32 & A41 & 8229 & 1 & 3 & 2 & A93 & A101 & 2 & A122 & 26 & A143 & A152 & 1 & A173 & 2 & A191 & 1\\\\\n",
       "\t 4 & 24 & A34 & A42 & 2028 & 1 & 4 & 2 & A93 & A101 & 2 & A122 & 30 & A143 & A152 & 2 & A172 & 1 & A191 & 0\\\\\n",
       "\t 1 & 15 & A34 & A42 & 1433 & 1 & 3 & 4 & A92 & A101 & 3 & A122 & 25 & A143 & A151 & 2 & A173 & 1 & A191 & 0\\\\\n",
       "\t 3 & 42 & A30 & A49 & 6289 & 1 & 2 & 2 & A91 & A101 & 1 & A122 & 33 & A143 & A152 & 2 & A173 & 1 & A191 & 0\\\\\n",
       "\t 4 & 13 & A32 & A43 & 1409 & 2 & 1 & 2 & A92 & A101 & 4 & A121 & 64 & A143 & A152 & 1 & A173 & 1 & A191 & 0\\\\\n",
       "\t 1 & 24 & A32 & A41 & 6579 & 1 & 1 & 4 & A93 & A101 & 2 & A124 & 29 & A143 & A153 & 1 & A174 & 1 & A192 & 0\\\\\n",
       "\t 2 & 24 & A34 & A43 & 1743 & 1 & 5 & 4 & A93 & A101 & 2 & A122 & 48 & A143 & A152 & 2 & A172 & 1 & A191 & 0\\\\\n",
       "\t 4 & 12 & A34 & A46 & 3565 & 0 & 2 & 2 & A93 & A101 & 1 & A122 & 37 & A143 & A152 & 2 & A172 & 2 & A191 & 0\\\\\n",
       "\t 4 & 15 & A31 & A43 & 1569 & 2 & 5 & 4 & A93 & A101 & 4 & A123 & 34 & A141 & A152 & 1 & A172 & 2 & A191 & 0\\\\\n",
       "\t 1 & 18 & A32 & A43 & 1936 & 0 & 4 & 2 & A94 & A101 & 4 & A123 & 23 & A143 & A151 & 2 & A172 & 1 & A191 & 0\\\\\n",
       "\t 1 & 36 & A32 & A42 & 3959 & 1 & 1 & 4 & A93 & A101 & 3 & A122 & 30 & A143 & A152 & 1 & A174 & 1 & A192 & 0\\\\\n",
       "\t 4 & 12 & A32 & A40 & 2390 & 0 & 5 & 4 & A93 & A101 & 3 & A123 & 50 & A143 & A152 & 1 & A173 & 1 & A192 & 0\\\\\n",
       "\t 4 & 12 & A32 & A42 & 1736 & 1 & 4 & 3 & A92 & A101 & 4 & A121 & 31 & A143 & A152 & 1 & A172 & 1 & A191 & 0\\\\\n",
       "\t 1 & 30 & A32 & A41 & 3857 & 1 & 3 & 4 & A91 & A101 & 4 & A122 & 40 & A143 & A152 & 1 & A174 & 1 & A192 & 0\\\\\n",
       "\t 4 & 12 & A32 & A43 &  804 & 1 & 5 & 4 & A93 & A101 & 4 & A123 & 38 & A143 & A152 & 1 & A173 & 1 & A191 & 0\\\\\n",
       "\t 1 & 45 & A32 & A43 & 1845 & 1 & 3 & 4 & A93 & A101 & 4 & A124 & 23 & A143 & A153 & 1 & A173 & 1 & A192 & 1\\\\\n",
       "\t 2 & 45 & A34 & A41 & 4576 & 2 & 1 & 3 & A93 & A101 & 4 & A123 & 27 & A143 & A152 & 1 & A173 & 1 & A191 & 0\\\\\n",
       "\\end{tabular}\n"
      ],
      "text/markdown": [
       "\n",
       "A data.frame: 1000 × 20\n",
       "\n",
       "| Comptes &lt;int&gt; | Duree_credit &lt;int&gt; | Historique_credit &lt;fct&gt; | Objet_credit &lt;fct&gt; | Montant_credit &lt;int&gt; | Epargne &lt;int&gt; | Anciennete_emploi &lt;int&gt; | Taux_effort &lt;int&gt; | Situation_familiale &lt;fct&gt; | Garanties &lt;fct&gt; | Anciennete_domicile &lt;int&gt; | Biens &lt;fct&gt; | Age &lt;int&gt; | Autres_credits &lt;fct&gt; | Statut_domicile &lt;fct&gt; | Nb_credits &lt;int&gt; | Type_emploi &lt;fct&gt; | Nb_pers_charge &lt;int&gt; | Telephone &lt;fct&gt; | Cible &lt;int&gt; |\n",
       "|---|---|---|---|---|---|---|---|---|---|---|---|---|---|---|---|---|---|---|---|\n",
       "| 1 |  6 | A34 | A43 |  1169 | 0 | 5 | 4 | A93 | A101 | 4 | A121 | 67 | A143 | A152 | 2 | A173 | 1 | A192 | 0 |\n",
       "| 2 | 48 | A32 | A43 |  5951 | 1 | 3 | 2 | A92 | A101 | 2 | A121 | 22 | A143 | A152 | 1 | A173 | 1 | A191 | 1 |\n",
       "| 4 | 12 | A34 | A46 |  2096 | 1 | 4 | 2 | A93 | A101 | 3 | A121 | 49 | A143 | A152 | 1 | A172 | 2 | A191 | 0 |\n",
       "| 1 | 42 | A32 | A42 |  7882 | 1 | 4 | 2 | A93 | A103 | 4 | A122 | 45 | A143 | A153 | 1 | A173 | 2 | A191 | 0 |\n",
       "| 1 | 24 | A33 | A40 |  4870 | 1 | 3 | 3 | A93 | A101 | 4 | A124 | 53 | A143 | A153 | 2 | A173 | 2 | A191 | 1 |\n",
       "| 4 | 36 | A32 | A46 |  9055 | 0 | 3 | 2 | A93 | A101 | 4 | A124 | 35 | A143 | A153 | 1 | A172 | 2 | A192 | 0 |\n",
       "| 4 | 24 | A32 | A42 |  2835 | 3 | 5 | 3 | A93 | A101 | 4 | A122 | 53 | A143 | A152 | 1 | A173 | 1 | A191 | 0 |\n",
       "| 2 | 36 | A32 | A41 |  6948 | 1 | 3 | 2 | A93 | A101 | 2 | A123 | 35 | A143 | A151 | 1 | A174 | 1 | A192 | 0 |\n",
       "| 4 | 12 | A32 | A43 |  3059 | 4 | 4 | 2 | A91 | A101 | 4 | A121 | 61 | A143 | A152 | 1 | A172 | 1 | A191 | 0 |\n",
       "| 2 | 30 | A34 | A40 |  5234 | 1 | 1 | 4 | A94 | A101 | 2 | A123 | 28 | A143 | A152 | 2 | A174 | 1 | A191 | 1 |\n",
       "| 2 | 12 | A32 | A40 |  1295 | 1 | 2 | 3 | A92 | A101 | 1 | A123 | 25 | A143 | A151 | 1 | A173 | 1 | A191 | 1 |\n",
       "| 1 | 48 | A32 | A49 |  4308 | 1 | 2 | 3 | A92 | A101 | 4 | A122 | 24 | A143 | A151 | 1 | A173 | 1 | A191 | 1 |\n",
       "| 2 | 12 | A32 | A43 |  1567 | 1 | 3 | 1 | A92 | A101 | 1 | A123 | 22 | A143 | A152 | 1 | A173 | 1 | A192 | 0 |\n",
       "| 1 | 24 | A34 | A40 |  1199 | 1 | 5 | 4 | A93 | A101 | 4 | A123 | 60 | A143 | A152 | 2 | A172 | 1 | A191 | 1 |\n",
       "| 1 | 15 | A32 | A40 |  1403 | 1 | 3 | 2 | A92 | A101 | 4 | A123 | 28 | A143 | A151 | 1 | A173 | 1 | A191 | 0 |\n",
       "| 1 | 24 | A32 | A43 |  1282 | 2 | 3 | 4 | A92 | A101 | 2 | A123 | 32 | A143 | A152 | 1 | A172 | 1 | A191 | 1 |\n",
       "| 4 | 24 | A34 | A43 |  2424 | 0 | 5 | 4 | A93 | A101 | 4 | A122 | 53 | A143 | A152 | 2 | A173 | 1 | A191 | 0 |\n",
       "| 1 | 30 | A30 | A49 |  8072 | 0 | 2 | 2 | A93 | A101 | 3 | A123 | 25 | A141 | A152 | 3 | A173 | 1 | A191 | 0 |\n",
       "| 2 | 24 | A32 | A41 | 12579 | 1 | 5 | 4 | A92 | A101 | 2 | A124 | 44 | A143 | A153 | 1 | A174 | 1 | A192 | 1 |\n",
       "| 4 | 24 | A32 | A43 |  3430 | 3 | 5 | 3 | A93 | A101 | 2 | A123 | 31 | A143 | A152 | 1 | A173 | 2 | A192 | 0 |\n",
       "| 4 |  9 | A34 | A40 |  2134 | 1 | 3 | 4 | A93 | A101 | 4 | A123 | 48 | A143 | A152 | 3 | A173 | 1 | A192 | 0 |\n",
       "| 1 |  6 | A32 | A43 |  2647 | 3 | 3 | 2 | A93 | A101 | 3 | A121 | 44 | A143 | A151 | 1 | A173 | 2 | A191 | 0 |\n",
       "| 1 | 10 | A34 | A40 |  2241 | 1 | 2 | 1 | A93 | A101 | 3 | A121 | 48 | A143 | A151 | 2 | A172 | 2 | A191 | 0 |\n",
       "| 2 | 12 | A34 | A41 |  1804 | 2 | 2 | 3 | A93 | A101 | 4 | A122 | 44 | A143 | A152 | 1 | A173 | 1 | A191 | 0 |\n",
       "| 4 | 10 | A34 | A42 |  2069 | 0 | 3 | 2 | A94 | A101 | 1 | A123 | 26 | A143 | A152 | 2 | A173 | 1 | A191 | 0 |\n",
       "| 1 |  6 | A32 | A42 |  1374 | 1 | 3 | 1 | A93 | A101 | 2 | A121 | 36 | A141 | A152 | 1 | A172 | 1 | A192 | 0 |\n",
       "| 4 |  6 | A30 | A43 |   426 | 1 | 5 | 4 | A94 | A101 | 4 | A123 | 39 | A143 | A152 | 1 | A172 | 1 | A191 | 0 |\n",
       "| 3 | 12 | A31 | A43 |   409 | 4 | 3 | 3 | A92 | A101 | 3 | A121 | 42 | A143 | A151 | 2 | A173 | 1 | A191 | 0 |\n",
       "| 2 |  7 | A32 | A43 |  2415 | 1 | 3 | 3 | A93 | A103 | 2 | A121 | 34 | A143 | A152 | 1 | A173 | 1 | A191 | 0 |\n",
       "| 1 | 60 | A33 | A49 |  6836 | 1 | 5 | 3 | A93 | A101 | 4 | A124 | 63 | A143 | A152 | 2 | A173 | 1 | A192 | 1 |\n",
       "| ... | ... | ... | ... | ... | ... | ... | ... | ... | ... | ... | ... | ... | ... | ... | ... | ... | ... | ... | ... |\n",
       "| 2 | 15 | A32 | A45 | 1514 | 2 | 3 | 4 | A93 | A103 | 2 | A121 | 22 | A143 | A152 | 1 | A173 | 1 | A191 | 0 |\n",
       "| 4 | 24 | A32 | A40 | 7393 | 1 | 3 | 1 | A93 | A101 | 4 | A122 | 43 | A143 | A152 | 1 | A172 | 2 | A191 | 0 |\n",
       "| 1 | 24 | A31 | A40 | 1193 | 1 | 1 | 1 | A92 | A102 | 4 | A124 | 29 | A143 | A151 | 2 | A171 | 1 | A191 | 1 |\n",
       "| 1 | 60 | A32 | A49 | 7297 | 1 | 5 | 4 | A93 | A102 | 4 | A124 | 36 | A143 | A151 | 1 | A173 | 1 | A191 | 1 |\n",
       "| 4 | 30 | A34 | A43 | 2831 | 1 | 3 | 4 | A92 | A101 | 2 | A123 | 33 | A143 | A152 | 1 | A173 | 1 | A192 | 0 |\n",
       "| 3 | 24 | A32 | A43 | 1258 | 3 | 3 | 3 | A92 | A101 | 3 | A123 | 57 | A143 | A152 | 1 | A172 | 1 | A191 | 0 |\n",
       "| 2 |  6 | A32 | A43 |  753 | 1 | 3 | 2 | A92 | A103 | 3 | A121 | 64 | A143 | A152 | 1 | A173 | 1 | A191 | 0 |\n",
       "| 2 | 18 | A33 | A49 | 2427 | 0 | 5 | 4 | A93 | A101 | 2 | A122 | 42 | A143 | A152 | 2 | A173 | 1 | A191 | 0 |\n",
       "| 4 | 24 | A33 | A40 | 2538 | 1 | 5 | 4 | A93 | A101 | 4 | A123 | 47 | A143 | A152 | 2 | A172 | 2 | A191 | 1 |\n",
       "| 2 | 15 | A31 | A40 | 1264 | 2 | 3 | 2 | A94 | A101 | 2 | A122 | 25 | A143 | A151 | 1 | A173 | 1 | A191 | 1 |\n",
       "| 2 | 30 | A34 | A42 | 8386 | 1 | 4 | 2 | A93 | A101 | 2 | A122 | 49 | A143 | A152 | 1 | A173 | 1 | A191 | 1 |\n",
       "| 4 | 48 | A32 | A49 | 4844 | 1 | 1 | 3 | A93 | A101 | 2 | A123 | 33 | A141 | A151 | 1 | A174 | 1 | A192 | 1 |\n",
       "| 3 | 21 | A32 | A40 | 2923 | 2 | 3 | 1 | A92 | A101 | 1 | A123 | 28 | A141 | A152 | 1 | A174 | 1 | A192 | 0 |\n",
       "| 1 | 36 | A32 | A41 | 8229 | 1 | 3 | 2 | A93 | A101 | 2 | A122 | 26 | A143 | A152 | 1 | A173 | 2 | A191 | 1 |\n",
       "| 4 | 24 | A34 | A42 | 2028 | 1 | 4 | 2 | A93 | A101 | 2 | A122 | 30 | A143 | A152 | 2 | A172 | 1 | A191 | 0 |\n",
       "| 1 | 15 | A34 | A42 | 1433 | 1 | 3 | 4 | A92 | A101 | 3 | A122 | 25 | A143 | A151 | 2 | A173 | 1 | A191 | 0 |\n",
       "| 3 | 42 | A30 | A49 | 6289 | 1 | 2 | 2 | A91 | A101 | 1 | A122 | 33 | A143 | A152 | 2 | A173 | 1 | A191 | 0 |\n",
       "| 4 | 13 | A32 | A43 | 1409 | 2 | 1 | 2 | A92 | A101 | 4 | A121 | 64 | A143 | A152 | 1 | A173 | 1 | A191 | 0 |\n",
       "| 1 | 24 | A32 | A41 | 6579 | 1 | 1 | 4 | A93 | A101 | 2 | A124 | 29 | A143 | A153 | 1 | A174 | 1 | A192 | 0 |\n",
       "| 2 | 24 | A34 | A43 | 1743 | 1 | 5 | 4 | A93 | A101 | 2 | A122 | 48 | A143 | A152 | 2 | A172 | 1 | A191 | 0 |\n",
       "| 4 | 12 | A34 | A46 | 3565 | 0 | 2 | 2 | A93 | A101 | 1 | A122 | 37 | A143 | A152 | 2 | A172 | 2 | A191 | 0 |\n",
       "| 4 | 15 | A31 | A43 | 1569 | 2 | 5 | 4 | A93 | A101 | 4 | A123 | 34 | A141 | A152 | 1 | A172 | 2 | A191 | 0 |\n",
       "| 1 | 18 | A32 | A43 | 1936 | 0 | 4 | 2 | A94 | A101 | 4 | A123 | 23 | A143 | A151 | 2 | A172 | 1 | A191 | 0 |\n",
       "| 1 | 36 | A32 | A42 | 3959 | 1 | 1 | 4 | A93 | A101 | 3 | A122 | 30 | A143 | A152 | 1 | A174 | 1 | A192 | 0 |\n",
       "| 4 | 12 | A32 | A40 | 2390 | 0 | 5 | 4 | A93 | A101 | 3 | A123 | 50 | A143 | A152 | 1 | A173 | 1 | A192 | 0 |\n",
       "| 4 | 12 | A32 | A42 | 1736 | 1 | 4 | 3 | A92 | A101 | 4 | A121 | 31 | A143 | A152 | 1 | A172 | 1 | A191 | 0 |\n",
       "| 1 | 30 | A32 | A41 | 3857 | 1 | 3 | 4 | A91 | A101 | 4 | A122 | 40 | A143 | A152 | 1 | A174 | 1 | A192 | 0 |\n",
       "| 4 | 12 | A32 | A43 |  804 | 1 | 5 | 4 | A93 | A101 | 4 | A123 | 38 | A143 | A152 | 1 | A173 | 1 | A191 | 0 |\n",
       "| 1 | 45 | A32 | A43 | 1845 | 1 | 3 | 4 | A93 | A101 | 4 | A124 | 23 | A143 | A153 | 1 | A173 | 1 | A192 | 1 |\n",
       "| 2 | 45 | A34 | A41 | 4576 | 2 | 1 | 3 | A93 | A101 | 4 | A123 | 27 | A143 | A152 | 1 | A173 | 1 | A191 | 0 |\n",
       "\n"
      ],
      "text/plain": [
       "     Comptes Duree_credit Historique_credit Objet_credit Montant_credit Epargne\n",
       "1    1        6           A34               A43           1169          0      \n",
       "2    2       48           A32               A43           5951          1      \n",
       "3    4       12           A34               A46           2096          1      \n",
       "4    1       42           A32               A42           7882          1      \n",
       "5    1       24           A33               A40           4870          1      \n",
       "6    4       36           A32               A46           9055          0      \n",
       "7    4       24           A32               A42           2835          3      \n",
       "8    2       36           A32               A41           6948          1      \n",
       "9    4       12           A32               A43           3059          4      \n",
       "10   2       30           A34               A40           5234          1      \n",
       "11   2       12           A32               A40           1295          1      \n",
       "12   1       48           A32               A49           4308          1      \n",
       "13   2       12           A32               A43           1567          1      \n",
       "14   1       24           A34               A40           1199          1      \n",
       "15   1       15           A32               A40           1403          1      \n",
       "16   1       24           A32               A43           1282          2      \n",
       "17   4       24           A34               A43           2424          0      \n",
       "18   1       30           A30               A49           8072          0      \n",
       "19   2       24           A32               A41          12579          1      \n",
       "20   4       24           A32               A43           3430          3      \n",
       "21   4        9           A34               A40           2134          1      \n",
       "22   1        6           A32               A43           2647          3      \n",
       "23   1       10           A34               A40           2241          1      \n",
       "24   2       12           A34               A41           1804          2      \n",
       "25   4       10           A34               A42           2069          0      \n",
       "26   1        6           A32               A42           1374          1      \n",
       "27   4        6           A30               A43            426          1      \n",
       "28   3       12           A31               A43            409          4      \n",
       "29   2        7           A32               A43           2415          1      \n",
       "30   1       60           A33               A49           6836          1      \n",
       "...  ...     ...          ...               ...          ...            ...    \n",
       "971  2       15           A32               A45          1514           2      \n",
       "972  4       24           A32               A40          7393           1      \n",
       "973  1       24           A31               A40          1193           1      \n",
       "974  1       60           A32               A49          7297           1      \n",
       "975  4       30           A34               A43          2831           1      \n",
       "976  3       24           A32               A43          1258           3      \n",
       "977  2        6           A32               A43           753           1      \n",
       "978  2       18           A33               A49          2427           0      \n",
       "979  4       24           A33               A40          2538           1      \n",
       "980  2       15           A31               A40          1264           2      \n",
       "981  2       30           A34               A42          8386           1      \n",
       "982  4       48           A32               A49          4844           1      \n",
       "983  3       21           A32               A40          2923           2      \n",
       "984  1       36           A32               A41          8229           1      \n",
       "985  4       24           A34               A42          2028           1      \n",
       "986  1       15           A34               A42          1433           1      \n",
       "987  3       42           A30               A49          6289           1      \n",
       "988  4       13           A32               A43          1409           2      \n",
       "989  1       24           A32               A41          6579           1      \n",
       "990  2       24           A34               A43          1743           1      \n",
       "991  4       12           A34               A46          3565           0      \n",
       "992  4       15           A31               A43          1569           2      \n",
       "993  1       18           A32               A43          1936           0      \n",
       "994  1       36           A32               A42          3959           1      \n",
       "995  4       12           A32               A40          2390           0      \n",
       "996  4       12           A32               A42          1736           1      \n",
       "997  1       30           A32               A41          3857           1      \n",
       "998  4       12           A32               A43           804           1      \n",
       "999  1       45           A32               A43          1845           1      \n",
       "1000 2       45           A34               A41          4576           2      \n",
       "     Anciennete_emploi Taux_effort Situation_familiale Garanties\n",
       "1    5                 4           A93                 A101     \n",
       "2    3                 2           A92                 A101     \n",
       "3    4                 2           A93                 A101     \n",
       "4    4                 2           A93                 A103     \n",
       "5    3                 3           A93                 A101     \n",
       "6    3                 2           A93                 A101     \n",
       "7    5                 3           A93                 A101     \n",
       "8    3                 2           A93                 A101     \n",
       "9    4                 2           A91                 A101     \n",
       "10   1                 4           A94                 A101     \n",
       "11   2                 3           A92                 A101     \n",
       "12   2                 3           A92                 A101     \n",
       "13   3                 1           A92                 A101     \n",
       "14   5                 4           A93                 A101     \n",
       "15   3                 2           A92                 A101     \n",
       "16   3                 4           A92                 A101     \n",
       "17   5                 4           A93                 A101     \n",
       "18   2                 2           A93                 A101     \n",
       "19   5                 4           A92                 A101     \n",
       "20   5                 3           A93                 A101     \n",
       "21   3                 4           A93                 A101     \n",
       "22   3                 2           A93                 A101     \n",
       "23   2                 1           A93                 A101     \n",
       "24   2                 3           A93                 A101     \n",
       "25   3                 2           A94                 A101     \n",
       "26   3                 1           A93                 A101     \n",
       "27   5                 4           A94                 A101     \n",
       "28   3                 3           A92                 A101     \n",
       "29   3                 3           A93                 A103     \n",
       "30   5                 3           A93                 A101     \n",
       "...  ...               ...         ...                 ...      \n",
       "971  3                 4           A93                 A103     \n",
       "972  3                 1           A93                 A101     \n",
       "973  1                 1           A92                 A102     \n",
       "974  5                 4           A93                 A102     \n",
       "975  3                 4           A92                 A101     \n",
       "976  3                 3           A92                 A101     \n",
       "977  3                 2           A92                 A103     \n",
       "978  5                 4           A93                 A101     \n",
       "979  5                 4           A93                 A101     \n",
       "980  3                 2           A94                 A101     \n",
       "981  4                 2           A93                 A101     \n",
       "982  1                 3           A93                 A101     \n",
       "983  3                 1           A92                 A101     \n",
       "984  3                 2           A93                 A101     \n",
       "985  4                 2           A93                 A101     \n",
       "986  3                 4           A92                 A101     \n",
       "987  2                 2           A91                 A101     \n",
       "988  1                 2           A92                 A101     \n",
       "989  1                 4           A93                 A101     \n",
       "990  5                 4           A93                 A101     \n",
       "991  2                 2           A93                 A101     \n",
       "992  5                 4           A93                 A101     \n",
       "993  4                 2           A94                 A101     \n",
       "994  1                 4           A93                 A101     \n",
       "995  5                 4           A93                 A101     \n",
       "996  4                 3           A92                 A101     \n",
       "997  3                 4           A91                 A101     \n",
       "998  5                 4           A93                 A101     \n",
       "999  3                 4           A93                 A101     \n",
       "1000 1                 3           A93                 A101     \n",
       "     Anciennete_domicile Biens Age Autres_credits Statut_domicile Nb_credits\n",
       "1    4                   A121  67  A143           A152            2         \n",
       "2    2                   A121  22  A143           A152            1         \n",
       "3    3                   A121  49  A143           A152            1         \n",
       "4    4                   A122  45  A143           A153            1         \n",
       "5    4                   A124  53  A143           A153            2         \n",
       "6    4                   A124  35  A143           A153            1         \n",
       "7    4                   A122  53  A143           A152            1         \n",
       "8    2                   A123  35  A143           A151            1         \n",
       "9    4                   A121  61  A143           A152            1         \n",
       "10   2                   A123  28  A143           A152            2         \n",
       "11   1                   A123  25  A143           A151            1         \n",
       "12   4                   A122  24  A143           A151            1         \n",
       "13   1                   A123  22  A143           A152            1         \n",
       "14   4                   A123  60  A143           A152            2         \n",
       "15   4                   A123  28  A143           A151            1         \n",
       "16   2                   A123  32  A143           A152            1         \n",
       "17   4                   A122  53  A143           A152            2         \n",
       "18   3                   A123  25  A141           A152            3         \n",
       "19   2                   A124  44  A143           A153            1         \n",
       "20   2                   A123  31  A143           A152            1         \n",
       "21   4                   A123  48  A143           A152            3         \n",
       "22   3                   A121  44  A143           A151            1         \n",
       "23   3                   A121  48  A143           A151            2         \n",
       "24   4                   A122  44  A143           A152            1         \n",
       "25   1                   A123  26  A143           A152            2         \n",
       "26   2                   A121  36  A141           A152            1         \n",
       "27   4                   A123  39  A143           A152            1         \n",
       "28   3                   A121  42  A143           A151            2         \n",
       "29   2                   A121  34  A143           A152            1         \n",
       "30   4                   A124  63  A143           A152            2         \n",
       "...  ...                 ...   ... ...            ...             ...       \n",
       "971  2                   A121  22  A143           A152            1         \n",
       "972  4                   A122  43  A143           A152            1         \n",
       "973  4                   A124  29  A143           A151            2         \n",
       "974  4                   A124  36  A143           A151            1         \n",
       "975  2                   A123  33  A143           A152            1         \n",
       "976  3                   A123  57  A143           A152            1         \n",
       "977  3                   A121  64  A143           A152            1         \n",
       "978  2                   A122  42  A143           A152            2         \n",
       "979  4                   A123  47  A143           A152            2         \n",
       "980  2                   A122  25  A143           A151            1         \n",
       "981  2                   A122  49  A143           A152            1         \n",
       "982  2                   A123  33  A141           A151            1         \n",
       "983  1                   A123  28  A141           A152            1         \n",
       "984  2                   A122  26  A143           A152            1         \n",
       "985  2                   A122  30  A143           A152            2         \n",
       "986  3                   A122  25  A143           A151            2         \n",
       "987  1                   A122  33  A143           A152            2         \n",
       "988  4                   A121  64  A143           A152            1         \n",
       "989  2                   A124  29  A143           A153            1         \n",
       "990  2                   A122  48  A143           A152            2         \n",
       "991  1                   A122  37  A143           A152            2         \n",
       "992  4                   A123  34  A141           A152            1         \n",
       "993  4                   A123  23  A143           A151            2         \n",
       "994  3                   A122  30  A143           A152            1         \n",
       "995  3                   A123  50  A143           A152            1         \n",
       "996  4                   A121  31  A143           A152            1         \n",
       "997  4                   A122  40  A143           A152            1         \n",
       "998  4                   A123  38  A143           A152            1         \n",
       "999  4                   A124  23  A143           A153            1         \n",
       "1000 4                   A123  27  A143           A152            1         \n",
       "     Type_emploi Nb_pers_charge Telephone Cible\n",
       "1    A173        1              A192      0    \n",
       "2    A173        1              A191      1    \n",
       "3    A172        2              A191      0    \n",
       "4    A173        2              A191      0    \n",
       "5    A173        2              A191      1    \n",
       "6    A172        2              A192      0    \n",
       "7    A173        1              A191      0    \n",
       "8    A174        1              A192      0    \n",
       "9    A172        1              A191      0    \n",
       "10   A174        1              A191      1    \n",
       "11   A173        1              A191      1    \n",
       "12   A173        1              A191      1    \n",
       "13   A173        1              A192      0    \n",
       "14   A172        1              A191      1    \n",
       "15   A173        1              A191      0    \n",
       "16   A172        1              A191      1    \n",
       "17   A173        1              A191      0    \n",
       "18   A173        1              A191      0    \n",
       "19   A174        1              A192      1    \n",
       "20   A173        2              A192      0    \n",
       "21   A173        1              A192      0    \n",
       "22   A173        2              A191      0    \n",
       "23   A172        2              A191      0    \n",
       "24   A173        1              A191      0    \n",
       "25   A173        1              A191      0    \n",
       "26   A172        1              A192      0    \n",
       "27   A172        1              A191      0    \n",
       "28   A173        1              A191      0    \n",
       "29   A173        1              A191      0    \n",
       "30   A173        1              A192      1    \n",
       "...  ...         ...            ...       ...  \n",
       "971  A173        1              A191      0    \n",
       "972  A172        2              A191      0    \n",
       "973  A171        1              A191      1    \n",
       "974  A173        1              A191      1    \n",
       "975  A173        1              A192      0    \n",
       "976  A172        1              A191      0    \n",
       "977  A173        1              A191      0    \n",
       "978  A173        1              A191      0    \n",
       "979  A172        2              A191      1    \n",
       "980  A173        1              A191      1    \n",
       "981  A173        1              A191      1    \n",
       "982  A174        1              A192      1    \n",
       "983  A174        1              A192      0    \n",
       "984  A173        2              A191      1    \n",
       "985  A172        1              A191      0    \n",
       "986  A173        1              A191      0    \n",
       "987  A173        1              A191      0    \n",
       "988  A173        1              A191      0    \n",
       "989  A174        1              A192      0    \n",
       "990  A172        1              A191      0    \n",
       "991  A172        2              A191      0    \n",
       "992  A172        2              A191      0    \n",
       "993  A172        1              A191      0    \n",
       "994  A174        1              A192      0    \n",
       "995  A173        1              A192      0    \n",
       "996  A172        1              A191      0    \n",
       "997  A174        1              A192      0    \n",
       "998  A173        1              A191      0    \n",
       "999  A173        1              A192      1    \n",
       "1000 A173        1              A191      0    "
      ]
     },
     "metadata": {},
     "output_type": "display_data"
    }
   ],
   "source": [
    "credit <- read.csv(\"D:/Programmation/Mes cours/SIMPLON/Différentes prez Formateur/Promo IA Nancy/R/Data/credit.csv\", sep = ',', header=TRUE)\n",
    "# credit1 <- read.csv(\"D:/Programmation/Mes cours/SIMPLON/Différentes prez Formateur/Promo IA Nancy/R/Data/credit3.csv\", sep = ',', header=TRUE)\n",
    "credit <-credit[,-c(1,22)]\n",
    "# credit1 <-credit1[,-c(1,22)]\n",
    "credit"
   ]
  },
  {
   "cell_type": "code",
   "execution_count": 4,
   "metadata": {},
   "outputs": [],
   "source": [
    "# Création du train et test set\n",
    "set.seed(2)\n",
    "p <- createDataPartition(y=credit$Cible, p=70/100, list=FALSE)\n",
    "train <- credit[p,]\n",
    "test <- credit[-p,]\n",
    "\n",
    "# Création du train et test set\n",
    "# set.seed(2)\n",
    "# p <- createDataPartition(y=credit1$Cible, p=70/100, list=FALSE)\n",
    "# train_ <- credit1[p,]\n",
    "# test_ <- credit1[-p,]"
   ]
  },
  {
   "cell_type": "markdown",
   "metadata": {},
   "source": [
    ">><font color='green'>Régression linéaire</font>"
   ]
  },
  {
   "cell_type": "code",
   "execution_count": 5,
   "metadata": {},
   "outputs": [
    {
     "data": {
      "text/plain": [
       "\n",
       "Call:\n",
       "lm(formula = Cible ~ ., data = train)\n",
       "\n",
       "Residuals:\n",
       "     Min       1Q   Median       3Q      Max \n",
       "-0.92726 -0.28002 -0.08971  0.30351  0.99646 \n",
       "\n",
       "Coefficients:\n",
       "                         Estimate Std. Error t value Pr(>|t|)    \n",
       "(Intercept)             6.332e-01  1.981e-01   3.197 0.001457 ** \n",
       "Comptes                -8.764e-02  1.296e-02  -6.760 3.04e-11 ***\n",
       "Duree_credit            5.794e-03  1.726e-03   3.356 0.000835 ***\n",
       "Historique_creditA31   -2.417e-02  1.104e-01  -0.219 0.826753    \n",
       "Historique_creditA32   -1.756e-01  8.715e-02  -2.014 0.044376 *  \n",
       "Historique_creditA33   -2.917e-01  9.520e-02  -3.064 0.002274 ** \n",
       "Historique_creditA34   -3.109e-01  8.757e-02  -3.550 0.000413 ***\n",
       "Objet_creditA41        -2.490e-01  6.145e-02  -4.052 5.68e-05 ***\n",
       "Objet_creditA410       -2.452e-01  1.587e-01  -1.545 0.122887    \n",
       "Objet_creditA42        -1.135e-01  4.967e-02  -2.285 0.022617 *  \n",
       "Objet_creditA43        -9.222e-02  4.453e-02  -2.071 0.038744 *  \n",
       "Objet_creditA44        -1.124e-01  1.488e-01  -0.755 0.450426    \n",
       "Objet_creditA45        -3.432e-02  1.050e-01  -0.327 0.743866    \n",
       "Objet_creditA46         2.373e-02  7.498e-02   0.317 0.751703    \n",
       "Objet_creditA48        -2.423e-01  1.598e-01  -1.516 0.130030    \n",
       "Objet_creditA49        -9.132e-02  6.224e-02  -1.467 0.142807    \n",
       "Montant_credit          2.100e-05  8.447e-06   2.487 0.013144 *  \n",
       "Epargne                -1.756e-03  1.675e-02  -0.105 0.916527    \n",
       "Anciennete_emploi      -2.562e-02  1.483e-02  -1.727 0.084635 .  \n",
       "Taux_effort             5.648e-02  1.607e-02   3.515 0.000470 ***\n",
       "Situation_familialeA92 -7.637e-02  7.383e-02  -1.034 0.301304    \n",
       "Situation_familialeA93 -1.716e-01  7.261e-02  -2.363 0.018396 *  \n",
       "Situation_familialeA94 -1.700e-01  8.935e-02  -1.903 0.057462 .  \n",
       "GarantiesA102           1.468e-01  8.050e-02   1.823 0.068685 .  \n",
       "GarantiesA103          -1.813e-01  7.247e-02  -2.501 0.012610 *  \n",
       "Anciennete_domicile    -9.604e-04  1.566e-02  -0.061 0.951126    \n",
       "BiensA122               4.334e-02  4.516e-02   0.960 0.337591    \n",
       "BiensA123               2.405e-02  4.241e-02   0.567 0.570912    \n",
       "BiensA124               8.035e-02  7.339e-02   1.095 0.274008    \n",
       "Age                    -2.612e-03  1.572e-03  -1.661 0.097122 .  \n",
       "Autres_creditsA142     -6.141e-02  8.333e-02  -0.737 0.461398    \n",
       "Autres_creditsA143     -8.852e-02  4.569e-02  -1.937 0.053128 .  \n",
       "Statut_domicileA152    -6.048e-02  4.495e-02  -1.345 0.178965    \n",
       "Statut_domicileA153    -4.267e-02  8.562e-02  -0.498 0.618418    \n",
       "Nb_credits              7.471e-02  3.398e-02   2.199 0.028251 *  \n",
       "Type_emploiA172         9.381e-02  1.128e-01   0.832 0.405959    \n",
       "Type_emploiA173         8.044e-02  1.104e-01   0.729 0.466430    \n",
       "Type_emploiA174         1.235e-01  1.173e-01   1.053 0.292919    \n",
       "Nb_pers_charge          6.651e-02  4.603e-02   1.445 0.148912    \n",
       "TelephoneA192          -6.158e-02  3.624e-02  -1.699 0.089759 .  \n",
       "---\n",
       "Signif. codes:  0 '***' 0.001 '**' 0.01 '*' 0.05 '.' 0.1 ' ' 1\n",
       "\n",
       "Residual standard error: 0.4021 on 660 degrees of freedom\n",
       "Multiple R-squared:  0.2816,\tAdjusted R-squared:  0.2392 \n",
       "F-statistic: 6.634 on 39 and 660 DF,  p-value: < 2.2e-16\n"
      ]
     },
     "metadata": {},
     "output_type": "display_data"
    }
   ],
   "source": [
    "lm <- lm(Cible~., data=train)\n",
    "summary(lm)"
   ]
  },
  {
   "cell_type": "markdown",
   "metadata": {},
   "source": [
    ">><font color='green'>Régression logistique</font>"
   ]
  },
  {
   "cell_type": "markdown",
   "metadata": {},
   "source": [
    "### 1er modèle"
   ]
  },
  {
   "cell_type": "code",
   "execution_count": 7,
   "metadata": {
    "scrolled": false
   },
   "outputs": [
    {
     "data": {
      "text/plain": [
       "\n",
       "Call:\n",
       "glm(formula = Cible ~ ., family = binomial(link = \"logit\"), data = train)\n",
       "\n",
       "Deviance Residuals: \n",
       "    Min       1Q   Median       3Q      Max  \n",
       "-2.3779  -0.7054  -0.3978   0.7252   2.5150  \n",
       "\n",
       "Coefficients:\n",
       "                         Estimate Std. Error z value Pr(>|z|)    \n",
       "(Intercept)             6.967e-01  1.212e+00   0.575 0.565421    \n",
       "Comptes                -5.372e-01  8.518e-02  -6.307 2.84e-10 ***\n",
       "Duree_credit            3.384e-02  1.056e-02   3.203 0.001361 ** \n",
       "Historique_creditA31   -7.473e-02  6.497e-01  -0.115 0.908432    \n",
       "Historique_creditA32   -7.561e-01  5.169e-01  -1.463 0.143523    \n",
       "Historique_creditA33   -1.473e+00  5.736e-01  -2.567 0.010246 *  \n",
       "Historique_creditA34   -1.685e+00  5.277e-01  -3.193 0.001406 ** \n",
       "Objet_creditA41        -1.704e+00  4.545e-01  -3.748 0.000178 ***\n",
       "Objet_creditA410       -1.471e+00  1.000e+00  -1.471 0.141389    \n",
       "Objet_creditA42        -7.478e-01  3.108e-01  -2.406 0.016116 *  \n",
       "Objet_creditA43        -5.865e-01  2.844e-01  -2.063 0.039153 *  \n",
       "Objet_creditA44        -1.044e+00  1.076e+00  -0.970 0.331883    \n",
       "Objet_creditA45        -1.911e-01  6.491e-01  -0.294 0.768513    \n",
       "Objet_creditA46         7.560e-02  4.535e-01   0.167 0.867601    \n",
       "Objet_creditA48        -1.377e+00  1.181e+00  -1.166 0.243586    \n",
       "Objet_creditA49        -5.812e-01  3.893e-01  -1.493 0.135400    \n",
       "Montant_credit          1.330e-04  5.086e-05   2.614 0.008942 ** \n",
       "Epargne                 1.688e-02  1.186e-01   0.142 0.886763    \n",
       "Anciennete_emploi      -1.573e-01  9.496e-02  -1.656 0.097644 .  \n",
       "Taux_effort             3.702e-01  1.051e-01   3.522 0.000428 ***\n",
       "Situation_familialeA92 -4.970e-01  4.486e-01  -1.108 0.267986    \n",
       "Situation_familialeA93 -1.138e+00  4.464e-01  -2.548 0.010823 *  \n",
       "Situation_familialeA94 -1.084e+00  5.641e-01  -1.922 0.054600 .  \n",
       "GarantiesA102           8.692e-01  4.640e-01   1.873 0.061056 .  \n",
       "GarantiesA103          -1.165e+00  5.417e-01  -2.151 0.031463 *  \n",
       "Anciennete_domicile    -6.071e-03  1.004e-01  -0.060 0.951803    \n",
       "BiensA122               2.570e-01  2.971e-01   0.865 0.386894    \n",
       "BiensA123               1.415e-01  2.756e-01   0.513 0.607611    \n",
       "BiensA124               4.548e-01  4.705e-01   0.967 0.333727    \n",
       "Age                    -2.105e-02  1.082e-02  -1.946 0.051618 .  \n",
       "Autres_creditsA142     -4.053e-01  4.989e-01  -0.812 0.416637    \n",
       "Autres_creditsA143     -6.321e-01  2.759e-01  -2.291 0.021941 *  \n",
       "Statut_domicileA152    -3.121e-01  2.775e-01  -1.125 0.260706    \n",
       "Statut_domicileA153    -1.129e-01  5.352e-01  -0.211 0.832875    \n",
       "Nb_credits              5.053e-01  2.245e-01   2.251 0.024415 *  \n",
       "Type_emploiA172         6.049e-01  7.051e-01   0.858 0.390949    \n",
       "Type_emploiA173         4.868e-01  6.876e-01   0.708 0.479036    \n",
       "Type_emploiA174         8.082e-01  7.315e-01   1.105 0.269242    \n",
       "Nb_pers_charge          4.505e-01  2.933e-01   1.536 0.124482    \n",
       "TelephoneA192          -3.994e-01  2.442e-01  -1.636 0.101907    \n",
       "---\n",
       "Signif. codes:  0 '***' 0.001 '**' 0.01 '*' 0.05 '.' 0.1 ' ' 1\n",
       "\n",
       "(Dispersion parameter for binomial family taken to be 1)\n",
       "\n",
       "    Null deviance: 861.88  on 699  degrees of freedom\n",
       "Residual deviance: 640.51  on 660  degrees of freedom\n",
       "AIC: 720.51\n",
       "\n",
       "Number of Fisher Scoring iterations: 5\n"
      ]
     },
     "metadata": {},
     "output_type": "display_data"
    },
    {
     "data": {
      "text/html": [
       "<style>\n",
       ".dl-inline {width: auto; margin:0; padding: 0}\n",
       ".dl-inline>dt, .dl-inline>dd {float: none; width: auto; display: inline-block}\n",
       ".dl-inline>dt::after {content: \":\\0020\"; padding-right: .5ex}\n",
       ".dl-inline>dt:not(:first-of-type) {padding-left: .5ex}\n",
       "</style><dl class=dl-inline><dt>(Intercept)</dt><dd>0.696739416994721</dd><dt>Comptes</dt><dd>-0.537238691963847</dd><dt>Duree_credit</dt><dd>0.0338359856148784</dd><dt>Historique_creditA31</dt><dd>-0.0747311250478183</dd><dt>Historique_creditA32</dt><dd>-0.756137185293578</dd><dt>Historique_creditA33</dt><dd>-1.47256745701129</dd><dt>Historique_creditA34</dt><dd>-1.68520100235223</dd><dt>Objet_creditA41</dt><dd>-1.70350324135254</dd><dt>Objet_creditA410</dt><dd>-1.47076352129895</dd><dt>Objet_creditA42</dt><dd>-0.747794421870737</dd><dt>Objet_creditA43</dt><dd>-0.586523179515862</dd><dt>Objet_creditA44</dt><dd>-1.04376791621333</dd><dt>Objet_creditA45</dt><dd>-0.19105191580753</dd><dt>Objet_creditA46</dt><dd>0.0755971335163092</dd><dt>Objet_creditA48</dt><dd>-1.37712040253425</dd><dt>Objet_creditA49</dt><dd>-0.581242426830245</dd><dt>Montant_credit</dt><dd>0.000132973880636349</dd><dt>Epargne</dt><dd>0.0168818318961538</dd><dt>Anciennete_emploi</dt><dd>-0.157284140793658</dd><dt>Taux_effort</dt><dd>0.37021737975395</dd><dt>Situation_familialeA92</dt><dd>-0.496974226250131</dd><dt>Situation_familialeA93</dt><dd>-1.1375329589868</dd><dt>Situation_familialeA94</dt><dd>-1.08425282929278</dd><dt>GarantiesA102</dt><dd>0.86916189332373</dd><dt>GarantiesA103</dt><dd>-1.16530729435104</dd><dt>Anciennete_domicile</dt><dd>-0.00607066641340581</dd><dt>BiensA122</dt><dd>0.257045437651029</dd><dt>BiensA123</dt><dd>0.141497908595693</dd><dt>BiensA124</dt><dd>0.454763252214333</dd><dt>Age</dt><dd>-0.021050822059231</dd><dt>Autres_creditsA142</dt><dd>-0.405264006417947</dd><dt>Autres_creditsA143</dt><dd>-0.632141370118605</dd><dt>Statut_domicileA152</dt><dd>-0.312108132786451</dd><dt>Statut_domicileA153</dt><dd>-0.112934537255591</dd><dt>Nb_credits</dt><dd>0.505333644077388</dd><dt>Type_emploiA172</dt><dd>0.604882106910412</dd><dt>Type_emploiA173</dt><dd>0.486754708865507</dd><dt>Type_emploiA174</dt><dd>0.808151683592668</dd><dt>Nb_pers_charge</dt><dd>0.450546510927768</dd><dt>TelephoneA192</dt><dd>-0.399443176761144</dd></dl>\n"
      ],
      "text/latex": [
       "\\begin{description*}\n",
       "\\item[(Intercept)] 0.696739416994721\n",
       "\\item[Comptes] -0.537238691963847\n",
       "\\item[Duree\\textbackslash{}\\_credit] 0.0338359856148784\n",
       "\\item[Historique\\textbackslash{}\\_creditA31] -0.0747311250478183\n",
       "\\item[Historique\\textbackslash{}\\_creditA32] -0.756137185293578\n",
       "\\item[Historique\\textbackslash{}\\_creditA33] -1.47256745701129\n",
       "\\item[Historique\\textbackslash{}\\_creditA34] -1.68520100235223\n",
       "\\item[Objet\\textbackslash{}\\_creditA41] -1.70350324135254\n",
       "\\item[Objet\\textbackslash{}\\_creditA410] -1.47076352129895\n",
       "\\item[Objet\\textbackslash{}\\_creditA42] -0.747794421870737\n",
       "\\item[Objet\\textbackslash{}\\_creditA43] -0.586523179515862\n",
       "\\item[Objet\\textbackslash{}\\_creditA44] -1.04376791621333\n",
       "\\item[Objet\\textbackslash{}\\_creditA45] -0.19105191580753\n",
       "\\item[Objet\\textbackslash{}\\_creditA46] 0.0755971335163092\n",
       "\\item[Objet\\textbackslash{}\\_creditA48] -1.37712040253425\n",
       "\\item[Objet\\textbackslash{}\\_creditA49] -0.581242426830245\n",
       "\\item[Montant\\textbackslash{}\\_credit] 0.000132973880636349\n",
       "\\item[Epargne] 0.0168818318961538\n",
       "\\item[Anciennete\\textbackslash{}\\_emploi] -0.157284140793658\n",
       "\\item[Taux\\textbackslash{}\\_effort] 0.37021737975395\n",
       "\\item[Situation\\textbackslash{}\\_familialeA92] -0.496974226250131\n",
       "\\item[Situation\\textbackslash{}\\_familialeA93] -1.1375329589868\n",
       "\\item[Situation\\textbackslash{}\\_familialeA94] -1.08425282929278\n",
       "\\item[GarantiesA102] 0.86916189332373\n",
       "\\item[GarantiesA103] -1.16530729435104\n",
       "\\item[Anciennete\\textbackslash{}\\_domicile] -0.00607066641340581\n",
       "\\item[BiensA122] 0.257045437651029\n",
       "\\item[BiensA123] 0.141497908595693\n",
       "\\item[BiensA124] 0.454763252214333\n",
       "\\item[Age] -0.021050822059231\n",
       "\\item[Autres\\textbackslash{}\\_creditsA142] -0.405264006417947\n",
       "\\item[Autres\\textbackslash{}\\_creditsA143] -0.632141370118605\n",
       "\\item[Statut\\textbackslash{}\\_domicileA152] -0.312108132786451\n",
       "\\item[Statut\\textbackslash{}\\_domicileA153] -0.112934537255591\n",
       "\\item[Nb\\textbackslash{}\\_credits] 0.505333644077388\n",
       "\\item[Type\\textbackslash{}\\_emploiA172] 0.604882106910412\n",
       "\\item[Type\\textbackslash{}\\_emploiA173] 0.486754708865507\n",
       "\\item[Type\\textbackslash{}\\_emploiA174] 0.808151683592668\n",
       "\\item[Nb\\textbackslash{}\\_pers\\textbackslash{}\\_charge] 0.450546510927768\n",
       "\\item[TelephoneA192] -0.399443176761144\n",
       "\\end{description*}\n"
      ],
      "text/markdown": [
       "(Intercept)\n",
       ":   0.696739416994721Comptes\n",
       ":   -0.537238691963847Duree_credit\n",
       ":   0.0338359856148784Historique_creditA31\n",
       ":   -0.0747311250478183Historique_creditA32\n",
       ":   -0.756137185293578Historique_creditA33\n",
       ":   -1.47256745701129Historique_creditA34\n",
       ":   -1.68520100235223Objet_creditA41\n",
       ":   -1.70350324135254Objet_creditA410\n",
       ":   -1.47076352129895Objet_creditA42\n",
       ":   -0.747794421870737Objet_creditA43\n",
       ":   -0.586523179515862Objet_creditA44\n",
       ":   -1.04376791621333Objet_creditA45\n",
       ":   -0.19105191580753Objet_creditA46\n",
       ":   0.0755971335163092Objet_creditA48\n",
       ":   -1.37712040253425Objet_creditA49\n",
       ":   -0.581242426830245Montant_credit\n",
       ":   0.000132973880636349Epargne\n",
       ":   0.0168818318961538Anciennete_emploi\n",
       ":   -0.157284140793658Taux_effort\n",
       ":   0.37021737975395Situation_familialeA92\n",
       ":   -0.496974226250131Situation_familialeA93\n",
       ":   -1.1375329589868Situation_familialeA94\n",
       ":   -1.08425282929278GarantiesA102\n",
       ":   0.86916189332373GarantiesA103\n",
       ":   -1.16530729435104Anciennete_domicile\n",
       ":   -0.00607066641340581BiensA122\n",
       ":   0.257045437651029BiensA123\n",
       ":   0.141497908595693BiensA124\n",
       ":   0.454763252214333Age\n",
       ":   -0.021050822059231Autres_creditsA142\n",
       ":   -0.405264006417947Autres_creditsA143\n",
       ":   -0.632141370118605Statut_domicileA152\n",
       ":   -0.312108132786451Statut_domicileA153\n",
       ":   -0.112934537255591Nb_credits\n",
       ":   0.505333644077388Type_emploiA172\n",
       ":   0.604882106910412Type_emploiA173\n",
       ":   0.486754708865507Type_emploiA174\n",
       ":   0.808151683592668Nb_pers_charge\n",
       ":   0.450546510927768TelephoneA192\n",
       ":   -0.399443176761144\n",
       "\n"
      ],
      "text/plain": [
       "           (Intercept)                Comptes           Duree_credit \n",
       "          0.6967394170          -0.5372386920           0.0338359856 \n",
       "  Historique_creditA31   Historique_creditA32   Historique_creditA33 \n",
       "         -0.0747311250          -0.7561371853          -1.4725674570 \n",
       "  Historique_creditA34        Objet_creditA41       Objet_creditA410 \n",
       "         -1.6852010024          -1.7035032414          -1.4707635213 \n",
       "       Objet_creditA42        Objet_creditA43        Objet_creditA44 \n",
       "         -0.7477944219          -0.5865231795          -1.0437679162 \n",
       "       Objet_creditA45        Objet_creditA46        Objet_creditA48 \n",
       "         -0.1910519158           0.0755971335          -1.3771204025 \n",
       "       Objet_creditA49         Montant_credit                Epargne \n",
       "         -0.5812424268           0.0001329739           0.0168818319 \n",
       "     Anciennete_emploi            Taux_effort Situation_familialeA92 \n",
       "         -0.1572841408           0.3702173798          -0.4969742263 \n",
       "Situation_familialeA93 Situation_familialeA94          GarantiesA102 \n",
       "         -1.1375329590          -1.0842528293           0.8691618933 \n",
       "         GarantiesA103    Anciennete_domicile              BiensA122 \n",
       "         -1.1653072944          -0.0060706664           0.2570454377 \n",
       "             BiensA123              BiensA124                    Age \n",
       "          0.1414979086           0.4547632522          -0.0210508221 \n",
       "    Autres_creditsA142     Autres_creditsA143    Statut_domicileA152 \n",
       "         -0.4052640064          -0.6321413701          -0.3121081328 \n",
       "   Statut_domicileA153             Nb_credits        Type_emploiA172 \n",
       "         -0.1129345373           0.5053336441           0.6048821069 \n",
       "       Type_emploiA173        Type_emploiA174         Nb_pers_charge \n",
       "          0.4867547089           0.8081516836           0.4505465109 \n",
       "         TelephoneA192 \n",
       "         -0.3994431768 "
      ]
     },
     "metadata": {},
     "output_type": "display_data"
    }
   ],
   "source": [
    "logit <- glm(Cible~.,data=train,family=binomial(link = \"logit\"))\n",
    "summary(logit)\n",
    "logit$coefficients"
   ]
  },
  {
   "cell_type": "raw",
   "metadata": {},
   "source": [
    "Avec ce premier modèle, nous avons affiché toutes les variables de notre base avec leurs degrés de significativités. Aussi nous avons un AIC sur lequel, on ne peut se prononcer (on ne peut le comparer à un autre)"
   ]
  },
  {
   "cell_type": "code",
   "execution_count": 8,
   "metadata": {
    "scrolled": false
   },
   "outputs": [
    {
     "name": "stdout",
     "output_type": "stream",
     "text": [
      "Start:  AIC=902.56\n",
      "Cible ~ Comptes + Duree_credit + Historique_credit + Objet_credit + \n",
      "    Montant_credit + Epargne + Anciennete_emploi + Taux_effort + \n",
      "    Situation_familiale + Garanties + Anciennete_domicile + Biens + \n",
      "    Age + Autres_credits + Statut_domicile + Nb_credits + Type_emploi + \n",
      "    Nb_pers_charge + Telephone\n",
      "\n",
      "                      Df Deviance    AIC\n",
      "- Objet_credit         9   662.78 865.86\n",
      "- Biens                3   641.80 884.19\n",
      "- Type_emploi          3   642.32 884.71\n",
      "- Statut_domicile      2   641.80 890.74\n",
      "- Situation_familiale  3   651.55 893.94\n",
      "- Autres_credits       2   645.71 894.65\n",
      "- Anciennete_domicile  1   640.52 896.01\n",
      "- Epargne              1   640.53 896.03\n",
      "- Historique_credit    4   661.17 897.01\n",
      "- Nb_pers_charge       1   642.85 898.34\n",
      "- Telephone            1   643.23 898.72\n",
      "- Garanties            2   649.80 898.74\n",
      "- Anciennete_emploi    1   643.26 898.75\n",
      "- Age                  1   644.42 899.91\n",
      "- Nb_credits           1   645.64 901.14\n",
      "<none>                     640.51 902.56\n",
      "- Montant_credit       1   647.46 902.95\n",
      "- Duree_credit         1   650.94 906.43\n",
      "- Taux_effort          1   653.48 908.97\n",
      "- Comptes              1   683.39 938.88\n",
      "\n",
      "Step:  AIC=865.86\n",
      "Cible ~ Comptes + Duree_credit + Historique_credit + Montant_credit + \n",
      "    Epargne + Anciennete_emploi + Taux_effort + Situation_familiale + \n",
      "    Garanties + Anciennete_domicile + Biens + Age + Autres_credits + \n",
      "    Statut_domicile + Nb_credits + Type_emploi + Nb_pers_charge + \n",
      "    Telephone\n",
      "\n",
      "                      Df Deviance    AIC\n",
      "- Type_emploi          3   663.65 847.08\n",
      "- Biens                3   664.74 848.17\n",
      "- Statut_domicile      2   663.93 853.91\n",
      "- Situation_familiale  3   674.08 857.51\n",
      "- Autres_credits       2   667.75 857.74\n",
      "- Historique_credit    4   682.41 859.29\n",
      "- Epargne              1   662.78 859.31\n",
      "- Anciennete_domicile  1   662.88 859.41\n",
      "- Age                  1   665.34 861.87\n",
      "- Telephone            1   665.79 862.32\n",
      "- Nb_pers_charge       1   666.04 862.57\n",
      "- Anciennete_emploi    1   666.37 862.90\n",
      "- Garanties            2   673.27 863.25\n",
      "- Nb_credits           1   668.19 864.73\n",
      "- Montant_credit       1   668.22 864.75\n",
      "<none>                     662.78 865.86\n",
      "- Duree_credit         1   672.31 868.85\n",
      "- Taux_effort          1   677.57 874.10\n",
      "- Comptes              1   710.94 907.47\n",
      "\n",
      "Step:  AIC=847.08\n",
      "Cible ~ Comptes + Duree_credit + Historique_credit + Montant_credit + \n",
      "    Epargne + Anciennete_emploi + Taux_effort + Situation_familiale + \n",
      "    Garanties + Anciennete_domicile + Biens + Age + Autres_credits + \n",
      "    Statut_domicile + Nb_credits + Nb_pers_charge + Telephone\n",
      "\n",
      "                      Df Deviance    AIC\n",
      "- Biens                3   665.51 829.29\n",
      "- Statut_domicile      2   664.81 835.14\n",
      "- Situation_familiale  3   674.81 838.59\n",
      "- Autres_credits       2   668.91 839.23\n",
      "- Historique_credit    4   682.97 840.20\n",
      "- Epargne              1   663.66 840.53\n",
      "- Anciennete_domicile  1   663.75 840.63\n",
      "- Age                  1   666.19 843.07\n",
      "- Telephone            1   666.94 843.82\n",
      "- Anciennete_emploi    1   667.19 844.07\n",
      "- Nb_pers_charge       1   667.28 844.16\n",
      "- Garanties            2   673.94 844.26\n",
      "- Nb_credits           1   668.78 845.66\n",
      "- Montant_credit       1   669.73 846.61\n",
      "<none>                     663.65 847.08\n",
      "- Duree_credit         1   673.21 850.09\n",
      "- Taux_effort          1   679.13 856.01\n",
      "- Comptes              1   711.76 888.64\n",
      "\n",
      "Step:  AIC=829.29\n",
      "Cible ~ Comptes + Duree_credit + Historique_credit + Montant_credit + \n",
      "    Epargne + Anciennete_emploi + Taux_effort + Situation_familiale + \n",
      "    Garanties + Anciennete_domicile + Age + Autres_credits + \n",
      "    Statut_domicile + Nb_credits + Nb_pers_charge + Telephone\n",
      "\n",
      "                      Df Deviance    AIC\n",
      "- Statut_domicile      2   667.81 818.48\n",
      "- Situation_familiale  3   676.76 820.88\n",
      "- Autres_credits       2   671.50 822.17\n",
      "- Historique_credit    4   684.67 822.25\n",
      "- Epargne              1   665.52 822.74\n",
      "- Anciennete_domicile  1   665.59 822.82\n",
      "- Age                  1   667.95 825.18\n",
      "- Telephone            1   668.42 825.65\n",
      "- Nb_pers_charge       1   669.01 826.23\n",
      "- Anciennete_emploi    1   669.24 826.47\n",
      "- Garanties            2   676.22 826.89\n",
      "- Nb_credits           1   670.33 827.56\n",
      "<none>                     665.51 829.29\n",
      "- Montant_credit       1   672.45 829.68\n",
      "- Duree_credit         1   675.54 832.76\n",
      "- Taux_effort          1   682.36 839.58\n",
      "- Comptes              1   714.37 871.60\n",
      "\n",
      "Step:  AIC=818.48\n",
      "Cible ~ Comptes + Duree_credit + Historique_credit + Montant_credit + \n",
      "    Epargne + Anciennete_emploi + Taux_effort + Situation_familiale + \n",
      "    Garanties + Anciennete_domicile + Age + Autres_credits + \n",
      "    Nb_credits + Nb_pers_charge + Telephone\n",
      "\n",
      "                      Df Deviance    AIC\n",
      "- Situation_familiale  3   679.63 810.65\n",
      "- Autres_credits       2   673.78 811.35\n",
      "- Epargne              1   667.81 811.94\n",
      "- Anciennete_domicile  1   667.84 811.97\n",
      "- Historique_credit    4   688.24 812.71\n",
      "- Age                  1   670.34 814.47\n",
      "- Telephone            1   670.96 815.09\n",
      "- Nb_pers_charge       1   671.72 815.84\n",
      "- Anciennete_emploi    1   671.85 815.98\n",
      "- Nb_credits           1   672.54 816.66\n",
      "- Garanties            2   679.26 816.84\n",
      "<none>                     667.81 818.48\n",
      "- Montant_credit       1   675.64 819.76\n",
      "- Duree_credit         1   677.96 822.09\n",
      "- Taux_effort          1   684.40 828.52\n",
      "- Comptes              1   719.75 863.87\n",
      "\n",
      "Step:  AIC=810.65\n",
      "Cible ~ Comptes + Duree_credit + Historique_credit + Montant_credit + \n",
      "    Epargne + Anciennete_emploi + Taux_effort + Garanties + Anciennete_domicile + \n",
      "    Age + Autres_credits + Nb_credits + Nb_pers_charge + Telephone\n",
      "\n",
      "                      Df Deviance    AIC\n",
      "- Autres_credits       2   685.27 803.19\n",
      "- Epargne              1   679.63 804.10\n",
      "- Anciennete_domicile  1   679.74 804.21\n",
      "- Nb_pers_charge       1   681.19 805.66\n",
      "- Historique_credit    4   701.78 806.59\n",
      "- Age                  1   682.39 806.86\n",
      "- Telephone            1   683.13 807.60\n",
      "- Garanties            2   690.58 808.50\n",
      "- Nb_credits           1   684.49 808.96\n",
      "- Anciennete_emploi    1   686.18 810.65\n",
      "<none>                     679.63 810.65\n",
      "- Montant_credit       1   686.26 810.73\n",
      "- Duree_credit         1   690.37 814.84\n",
      "- Taux_effort          1   691.86 816.33\n",
      "- Comptes              1   732.59 857.06\n",
      "\n",
      "Step:  AIC=803.19\n",
      "Cible ~ Comptes + Duree_credit + Historique_credit + Montant_credit + \n",
      "    Epargne + Anciennete_emploi + Taux_effort + Garanties + Anciennete_domicile + \n",
      "    Age + Nb_credits + Nb_pers_charge + Telephone\n",
      "\n",
      "                      Df Deviance    AIC\n",
      "- Epargne              1   685.27 796.64\n",
      "- Anciennete_domicile  1   685.38 796.75\n",
      "- Nb_pers_charge       1   687.11 798.48\n",
      "- Age                  1   687.54 798.91\n",
      "- Garanties            2   695.40 800.21\n",
      "- Telephone            1   689.13 800.50\n",
      "- Nb_credits           1   690.24 801.61\n",
      "- Historique_credit    4   710.52 802.23\n",
      "- Anciennete_emploi    1   691.25 802.62\n",
      "<none>                     685.27 803.19\n",
      "- Montant_credit       1   692.17 803.54\n",
      "- Duree_credit         1   695.61 806.98\n",
      "- Taux_effort          1   697.64 809.00\n",
      "- Comptes              1   737.27 848.64\n",
      "\n",
      "Step:  AIC=796.64\n",
      "Cible ~ Comptes + Duree_credit + Historique_credit + Montant_credit + \n",
      "    Anciennete_emploi + Taux_effort + Garanties + Anciennete_domicile + \n",
      "    Age + Nb_credits + Nb_pers_charge + Telephone\n",
      "\n",
      "                      Df Deviance    AIC\n",
      "- Anciennete_domicile  1   685.38 790.20\n",
      "- Nb_pers_charge       1   687.12 791.94\n",
      "- Age                  1   687.54 792.36\n",
      "- Garanties            2   695.40 793.66\n",
      "- Telephone            1   689.14 793.95\n",
      "- Nb_credits           1   690.24 795.06\n",
      "- Historique_credit    4   710.52 795.68\n",
      "- Anciennete_emploi    1   691.26 796.07\n",
      "<none>                     685.27 796.64\n",
      "- Montant_credit       1   692.24 797.05\n",
      "- Duree_credit         1   695.61 800.43\n",
      "- Taux_effort          1   697.67 802.49\n",
      "- Comptes              1   737.49 842.30\n",
      "\n",
      "Step:  AIC=790.2\n",
      "Cible ~ Comptes + Duree_credit + Historique_credit + Montant_credit + \n",
      "    Anciennete_emploi + Taux_effort + Garanties + Age + Nb_credits + \n",
      "    Nb_pers_charge + Telephone\n",
      "\n",
      "                    Df Deviance    AIC\n",
      "- Nb_pers_charge     1   687.22 785.49\n",
      "- Age                1   687.55 785.81\n",
      "- Garanties          2   695.45 787.17\n",
      "- Telephone          1   689.17 787.44\n",
      "- Nb_credits         1   690.46 788.73\n",
      "- Historique_credit  4   710.54 789.16\n",
      "- Anciennete_emploi  1   691.27 789.54\n",
      "<none>                   685.38 790.20\n",
      "- Montant_credit     1   692.30 790.57\n",
      "- Duree_credit       1   695.79 794.06\n",
      "- Taux_effort        1   697.77 796.04\n",
      "- Comptes            1   738.94 837.21\n",
      "\n",
      "Step:  AIC=785.49\n",
      "Cible ~ Comptes + Duree_credit + Historique_credit + Montant_credit + \n",
      "    Anciennete_emploi + Taux_effort + Garanties + Age + Nb_credits + \n",
      "    Telephone\n",
      "\n",
      "                    Df Deviance    AIC\n",
      "- Age                1   689.04 780.76\n",
      "- Garanties          2   697.22 782.38\n",
      "- Telephone          1   690.81 782.53\n",
      "- Anciennete_emploi  1   692.72 784.44\n",
      "- Nb_credits         1   692.96 784.67\n",
      "- Historique_credit  4   712.79 784.85\n",
      "<none>                   687.22 785.49\n",
      "- Montant_credit     1   693.87 785.59\n",
      "- Duree_credit       1   697.45 789.16\n",
      "- Taux_effort        1   698.86 790.57\n",
      "- Comptes            1   741.56 833.28\n",
      "\n",
      "Step:  AIC=780.76\n",
      "Cible ~ Comptes + Duree_credit + Historique_credit + Montant_credit + \n",
      "    Anciennete_emploi + Taux_effort + Garanties + Nb_credits + \n",
      "    Telephone\n",
      "\n",
      "                    Df Deviance    AIC\n",
      "- Garanties          2   698.84 777.46\n",
      "- Telephone          1   693.06 778.23\n",
      "- Nb_credits         1   694.32 779.48\n",
      "- Montant_credit     1   695.11 780.27\n",
      "<none>                   689.04 780.76\n",
      "- Historique_credit  4   715.25 780.76\n",
      "- Anciennete_emploi  1   696.74 781.90\n",
      "- Taux_effort        1   700.23 785.40\n",
      "- Duree_credit       1   700.57 785.73\n",
      "- Comptes            1   744.14 829.30\n",
      "\n",
      "Step:  AIC=777.46\n",
      "Cible ~ Comptes + Duree_credit + Historique_credit + Montant_credit + \n",
      "    Anciennete_emploi + Taux_effort + Nb_credits + Telephone\n",
      "\n",
      "                    Df Deviance    AIC\n",
      "- Telephone          1   702.63 774.69\n",
      "- Historique_credit  4   723.09 775.50\n",
      "- Nb_credits         1   704.08 776.15\n",
      "<none>                   698.84 777.46\n",
      "- Montant_credit     1   706.62 778.68\n",
      "- Anciennete_emploi  1   707.17 779.23\n",
      "- Duree_credit       1   709.62 781.68\n",
      "- Taux_effort        1   710.71 782.77\n",
      "- Comptes            1   751.47 823.53\n",
      "\n",
      "Step:  AIC=774.69\n",
      "Cible ~ Comptes + Duree_credit + Historique_credit + Montant_credit + \n",
      "    Anciennete_emploi + Taux_effort + Nb_credits\n",
      "\n",
      "                    Df Deviance    AIC\n",
      "- Historique_credit  4   726.94 772.80\n",
      "- Nb_credits         1   707.31 772.82\n",
      "- Montant_credit     1   707.84 773.35\n",
      "<none>                   702.63 774.69\n",
      "- Anciennete_emploi  1   711.45 776.96\n",
      "- Taux_effort        1   713.21 778.72\n",
      "- Duree_credit       1   714.50 780.01\n",
      "- Comptes            1   757.15 822.66\n",
      "\n",
      "Step:  AIC=772.8\n",
      "Cible ~ Comptes + Duree_credit + Montant_credit + Anciennete_emploi + \n",
      "    Taux_effort + Nb_credits\n",
      "\n",
      "                    Df Deviance    AIC\n",
      "- Nb_credits         1   727.11 766.42\n",
      "- Montant_credit     1   731.89 771.20\n",
      "<none>                   726.94 772.80\n",
      "- Anciennete_emploi  1   737.32 776.62\n",
      "- Taux_effort        1   738.19 777.50\n",
      "- Duree_credit       1   739.55 778.86\n",
      "- Comptes            1   797.92 837.22\n",
      "\n",
      "Step:  AIC=766.42\n",
      "Cible ~ Comptes + Duree_credit + Montant_credit + Anciennete_emploi + \n",
      "    Taux_effort\n",
      "\n",
      "                    Df Deviance    AIC\n",
      "- Montant_credit     1   732.09 764.85\n",
      "<none>                   727.11 766.42\n",
      "- Anciennete_emploi  1   737.32 770.08\n",
      "- Taux_effort        1   738.39 771.14\n",
      "- Duree_credit       1   739.60 772.36\n",
      "- Comptes            1   798.11 830.87\n",
      "\n",
      "Step:  AIC=764.85\n",
      "Cible ~ Comptes + Duree_credit + Anciennete_emploi + Taux_effort\n",
      "\n",
      "                    Df Deviance    AIC\n",
      "<none>                   732.09 764.85\n",
      "- Taux_effort        1   739.26 765.47\n",
      "- Anciennete_emploi  1   742.08 768.29\n",
      "- Duree_credit       1   770.82 797.02\n",
      "- Comptes            1   802.60 828.80\n"
     ]
    }
   ],
   "source": [
    "# recherche maximale\n",
    "selection <- step(logit, direction=\"backward\",trace=TRUE, k = log(nrow(train)))"
   ]
  },
  {
   "cell_type": "markdown",
   "metadata": {},
   "source": [
    "#### 2ème modèle"
   ]
  },
  {
   "cell_type": "code",
   "execution_count": 9,
   "metadata": {
    "scrolled": false
   },
   "outputs": [
    {
     "data": {
      "text/plain": [
       "\n",
       "Call:\n",
       "glm(formula = Cible ~ Comptes + Duree_credit + Anciennete_emploi + \n",
       "    Taux_effort, family = binomial(link = \"logit\"), data = train)\n",
       "\n",
       "Deviance Residuals: \n",
       "    Min       1Q   Median       3Q      Max  \n",
       "-1.9182  -0.8126  -0.5220   0.9538   2.3256  \n",
       "\n",
       "Coefficients:\n",
       "                  Estimate Std. Error z value Pr(>|z|)    \n",
       "(Intercept)       -0.25130    0.40000  -0.628  0.52984    \n",
       "Comptes           -0.60879    0.07677  -7.930 2.18e-15 ***\n",
       "Duree_credit       0.04482    0.00742   6.041 1.54e-09 ***\n",
       "Anciennete_emploi -0.23943    0.07647  -3.131  0.00174 ** \n",
       "Taux_effort        0.22089    0.08363   2.641  0.00826 ** \n",
       "---\n",
       "Signif. codes:  0 '***' 0.001 '**' 0.01 '*' 0.05 '.' 0.1 ' ' 1\n",
       "\n",
       "(Dispersion parameter for binomial family taken to be 1)\n",
       "\n",
       "    Null deviance: 861.88  on 699  degrees of freedom\n",
       "Residual deviance: 732.09  on 695  degrees of freedom\n",
       "AIC: 742.09\n",
       "\n",
       "Number of Fisher Scoring iterations: 4\n"
      ]
     },
     "metadata": {},
     "output_type": "display_data"
    },
    {
     "data": {
      "text/html": [
       "<style>\n",
       ".dl-inline {width: auto; margin:0; padding: 0}\n",
       ".dl-inline>dt, .dl-inline>dd {float: none; width: auto; display: inline-block}\n",
       ".dl-inline>dt::after {content: \":\\0020\"; padding-right: .5ex}\n",
       ".dl-inline>dt:not(:first-of-type) {padding-left: .5ex}\n",
       "</style><dl class=dl-inline><dt>(Intercept)</dt><dd>-0.251299466210882</dd><dt>Comptes</dt><dd>-0.608793441715346</dd><dt>Duree_credit</dt><dd>0.0448233357363905</dd><dt>Anciennete_emploi</dt><dd>-0.239429384919077</dd><dt>Taux_effort</dt><dd>0.220893457490594</dd></dl>\n"
      ],
      "text/latex": [
       "\\begin{description*}\n",
       "\\item[(Intercept)] -0.251299466210882\n",
       "\\item[Comptes] -0.608793441715346\n",
       "\\item[Duree\\textbackslash{}\\_credit] 0.0448233357363905\n",
       "\\item[Anciennete\\textbackslash{}\\_emploi] -0.239429384919077\n",
       "\\item[Taux\\textbackslash{}\\_effort] 0.220893457490594\n",
       "\\end{description*}\n"
      ],
      "text/markdown": [
       "(Intercept)\n",
       ":   -0.251299466210882Comptes\n",
       ":   -0.608793441715346Duree_credit\n",
       ":   0.0448233357363905Anciennete_emploi\n",
       ":   -0.239429384919077Taux_effort\n",
       ":   0.220893457490594\n",
       "\n"
      ],
      "text/plain": [
       "      (Intercept)           Comptes      Duree_credit Anciennete_emploi \n",
       "      -0.25129947       -0.60879344        0.04482334       -0.23942938 \n",
       "      Taux_effort \n",
       "       0.22089346 "
      ]
     },
     "metadata": {},
     "output_type": "display_data"
    },
    {
     "data": {
      "text/html": [
       "<table>\n",
       "<caption>A data.frame: 5 × 2</caption>\n",
       "<thead>\n",
       "\t<tr><th></th><th scope=col>exp(logit$coefficients)</th><th scope=col>%</th></tr>\n",
       "\t<tr><th></th><th scope=col>&lt;dbl&gt;</th><th scope=col>&lt;dbl&gt;</th></tr>\n",
       "</thead>\n",
       "<tbody>\n",
       "\t<tr><th scope=row>(Intercept)</th><td>0.7777894</td><td>-22.221058</td></tr>\n",
       "\t<tr><th scope=row>Comptes</th><td>0.5440068</td><td>-45.599315</td></tr>\n",
       "\t<tr><th scope=row>Duree_credit</th><td>1.0458431</td><td>  4.584308</td></tr>\n",
       "\t<tr><th scope=row>Anciennete_emploi</th><td>0.7870769</td><td>-21.292315</td></tr>\n",
       "\t<tr><th scope=row>Taux_effort</th><td>1.2471905</td><td> 24.719054</td></tr>\n",
       "</tbody>\n",
       "</table>\n"
      ],
      "text/latex": [
       "A data.frame: 5 × 2\n",
       "\\begin{tabular}{r|ll}\n",
       "  & exp(logit\\$coefficients) & \\%\\\\\n",
       "  & <dbl> & <dbl>\\\\\n",
       "\\hline\n",
       "\t(Intercept) & 0.7777894 & -22.221058\\\\\n",
       "\tComptes & 0.5440068 & -45.599315\\\\\n",
       "\tDuree\\_credit & 1.0458431 &   4.584308\\\\\n",
       "\tAnciennete\\_emploi & 0.7870769 & -21.292315\\\\\n",
       "\tTaux\\_effort & 1.2471905 &  24.719054\\\\\n",
       "\\end{tabular}\n"
      ],
      "text/markdown": [
       "\n",
       "A data.frame: 5 × 2\n",
       "\n",
       "| <!--/--> | exp(logit$coefficients) &lt;dbl&gt; | % &lt;dbl&gt; |\n",
       "|---|---|---|\n",
       "| (Intercept) | 0.7777894 | -22.221058 |\n",
       "| Comptes | 0.5440068 | -45.599315 |\n",
       "| Duree_credit | 1.0458431 |   4.584308 |\n",
       "| Anciennete_emploi | 0.7870769 | -21.292315 |\n",
       "| Taux_effort | 1.2471905 |  24.719054 |\n",
       "\n"
      ],
      "text/plain": [
       "                  exp(logit$coefficients) %         \n",
       "(Intercept)       0.7777894               -22.221058\n",
       "Comptes           0.5440068               -45.599315\n",
       "Duree_credit      1.0458431                 4.584308\n",
       "Anciennete_emploi 0.7870769               -21.292315\n",
       "Taux_effort       1.2471905                24.719054"
      ]
     },
     "metadata": {},
     "output_type": "display_data"
    }
   ],
   "source": [
    "# Reprise de la régression logistique et interprétation des résultats\n",
    "logit <- glm(Cible ~ Comptes + Duree_credit + Anciennete_emploi + Taux_effort, data=train,family=binomial(link = \"logit\"))\n",
    "summary(logit)\n",
    "logit$coefficients\n",
    "OR = as.data.frame(exp(logit$coefficients))\n",
    "OR[\"%\"] <- (exp(logit$coefficients) -1)*100\n",
    "OR"
   ]
  },
  {
   "cell_type": "code",
   "execution_count": 10,
   "metadata": {},
   "outputs": [
    {
     "data": {
      "text/html": [
       "0.762442947185394"
      ],
      "text/latex": [
       "0.762442947185394"
      ],
      "text/markdown": [
       "0.762442947185394"
      ],
      "text/plain": [
       "[1] 0.7624429"
      ]
     },
     "metadata": {},
     "output_type": "display_data"
    },
    {
     "data": {
      "image/png": "[encoded data removed]",
      "text/plain": [
       "Plot with title \"Courbe ROC\""
      ]
     },
     "metadata": {
      "image/png": {
       "height": 420,
       "width": 420
      },
      "text/plain": {
       "height": 420,
       "width": 420
      }
     },
     "output_type": "display_data"
    }
   ],
   "source": [
    "# aire sous la courbe ROC\n",
    "library(ROCR)\n",
    "pred_test <- predict(logit, newdata=test, type=\"response\")\n",
    "predTest <- prediction(pred_test,test$Cible,label.ordering=c(0,1))\n",
    "performance(predTest,\"auc\")@y.values[[1]]\n",
    "\n",
    "# courbe ROC\n",
    "perf <- performance(predTest,\"tpr\",\"fpr\")\n",
    "plot(perf,main='Courbe ROC')\n",
    "segments(0,0,1,1,lty=3) # ajout diagonale en pointillés "
   ]
  },
  {
   "cell_type": "code",
   "execution_count": 23,
   "metadata": {},
   "outputs": [
    {
     "name": "stderr",
     "output_type": "stream",
     "text": [
      "Loading required package: grid\n",
      "\n"
     ]
    },
    {
     "data": {
      "text/plain": [
       "\n",
       "  0   1 \n",
       "840 630 "
      ]
     },
     "metadata": {},
     "output_type": "display_data"
    }
   ],
   "source": [
    "credit$Cible <- as.factor(credit$Cible)\n",
    "# Création du train et test set\n",
    "set.seed(2)\n",
    "p <- createDataPartition(y=credit$Cible, p=70/100, list=FALSE)\n",
    "train <- credit[p,]\n",
    "test <- credit[-p,]\n",
    "# train <- downSample(x = train[, -ncol(train)],\n",
    "#                          y = train$Cible)\n",
    "library(DMwR)\n",
    "\n",
    "set.seed(9560)\n",
    "train <- SMOTE(Cible ~ ., data  = train)                         \n",
    "table(train$Cible)"
   ]
  },
  {
   "cell_type": "code",
   "execution_count": 35,
   "metadata": {},
   "outputs": [
    {
     "data": {
      "text/plain": [
       "   pred\n",
       "      0   1\n",
       "  0 157  53\n",
       "  1  33  57"
      ]
     },
     "metadata": {},
     "output_type": "display_data"
    },
    {
     "name": "stdout",
     "output_type": "stream",
     "text": [
      "[1] 0.6333333\n"
     ]
    }
   ],
   "source": [
    "# Cross validation : k-fold cv\n",
    "fitControl <- trainControl(method = \"repeatedcv\", repeats = 10, classProbs = TRUE, summaryFunction = twoClassSummary)\n",
    "# Entrainement du modèle\n",
    "m <- train(make.names(Cible)~., data = train, method = \"glm\", trControl = fitControl, metric = \"ROC\", tuneLength = 7)\n",
    "# Prédiction\n",
    "pred <- predict(m, newdata = test)\n",
    "pred = as.factor(ifelse(pred == 'X0',0,1))\n",
    "# Récupération des probabilités\n",
    "mProbs <- predict(m, newdata = test, type = \"prob\")\n",
    "# Matrice de confusion\n",
    "MC = confusionMatrix(data = pred, test$Cible)\n",
    "mc<-table(as.factor(test$Cible),pred)\n",
    "mc\n",
    "#Taux de prédiction\n",
    "prediction=mc[2,2]/sum(mc[2,])\n",
    "print(prediction)"
   ]
  },
  {
   "cell_type": "code",
   "execution_count": 36,
   "metadata": {},
   "outputs": [
    {
     "name": "stderr",
     "output_type": "stream",
     "text": [
      "Setting levels: control = 0, case = 1\n",
      "\n",
      "Setting direction: controls < cases\n",
      "\n"
     ]
    },
    {
     "data": {
      "text/html": [
       "0.785925925925926"
      ],
      "text/latex": [
       "0.785925925925926"
      ],
      "text/markdown": [
       "0.785925925925926"
      ],
      "text/plain": [
       "Area under the curve: 0.7859"
      ]
     },
     "metadata": {},
     "output_type": "display_data"
    },
    {
     "data": {
      "image/png": "[encoded data removed]",
      "text/plain": [
       "plot without title"
      ]
     },
     "metadata": {
      "image/png": {
       "height": 420,
       "width": 420
      },
      "text/plain": {
       "height": 420,
       "width": 420
      }
     },
     "output_type": "display_data"
    }
   ],
   "source": [
    "# courbe ROC\n",
    "pred.m <- as.vector(mProbs)[,\"X1\"]\n",
    "roc.m <- pROC::roc(test$Cible, pred.m)\n",
    "auc <- pROC::auc(roc.m)\n",
    "auc\n",
    "plot(roc.m)"
   ]
  },
  {
   "cell_type": "code",
   "execution_count": 38,
   "metadata": {
    "scrolled": false
   },
   "outputs": [
    {
     "data": {
      "image/png": "[encoded data removed]",
      "text/plain": [
       "Plot with title \"Courbe de lift\""
      ]
     },
     "metadata": {
      "image/png": {
       "height": 420,
       "width": 420
      },
      "text/plain": {
       "height": 420,
       "width": 420
      }
     },
     "output_type": "display_data"
    }
   ],
   "source": [
    "library(ROCR)\n",
    "pred_test <- predict(m, newdata=test, type=\"raw\")\n",
    "pred_test = ifelse(pred_test == 'X0',0,1)\n",
    "predTest <- prediction(pred_test,test$Cible,label.ordering=c(0,1))\n",
    "# perf <- performance(predTest,\"tpr\",\"fpr\")\n",
    "# plot(perf,main='Courbe ROC')\n",
    "# segments(0,0,1,1,lty=3) # ajout diagonale en pointillés \n",
    "# courbe de lift\n",
    "lift <- performance(predTest,\"tpr\",\"rpp\")# rpp = (TP + FP) / (TP + FP +TN +FN)\n",
    "plot(lift,main='Courbe de lift')\n",
    "abline(v=0.2, col=\"blue\", lty=c(1,2))\n",
    "abline(h=0.34, col=\"blue\", lty=c(1,2))\n",
    "segments(0,0,1,1,lty=3) # ajout diagonale en pointillés "
   ]
  },
  {
   "cell_type": "markdown",
   "metadata": {},
   "source": [
    "#### Interprétation d'un point de vue markéting : On touche 34% de mauvais dossiers (potentiels crédits refusés) en touchant 20% des clients; ce qui n'est pas intéressant sur un plan financier pour l'entreprise"
   ]
  },
  {
   "cell_type": "markdown",
   "metadata": {},
   "source": [
    ">><font color='green'>Arbres de décision</font>"
   ]
  },
  {
   "cell_type": "markdown",
   "metadata": {},
   "source": [
    "#### rpart"
   ]
  },
  {
   "cell_type": "code",
   "execution_count": 39,
   "metadata": {},
   "outputs": [
    {
     "data": {
      "text/plain": [
       "   pred\n",
       "      0   1\n",
       "  0 151  59\n",
       "  1  34  56"
      ]
     },
     "metadata": {},
     "output_type": "display_data"
    },
    {
     "name": "stdout",
     "output_type": "stream",
     "text": [
      "[1] 0.6222222\n"
     ]
    }
   ],
   "source": [
    "# Cross validation : k-fold cv\n",
    "fitControl <- trainControl(method = \"repeatedcv\", repeats = 20, number = 15, classProbs = TRUE, summaryFunction = twoClassSummary)\n",
    "# Entrainement du modèle\n",
    "m <- train(make.names(Cible)~., data = train, method = \"rpart\", trControl = fitControl, metric = \"ROC\", tuneLength = 3)\n",
    "# Courbe des AUC\n",
    "# plot(m)\n",
    "# Prédiction\n",
    "pred <- predict(m, newdata = test)\n",
    "pred = as.factor(ifelse(pred == 'X0',0,1))\n",
    "# Récupération des probabilités\n",
    "mProbs <- predict(m, newdata = test, type = \"prob\")\n",
    "# Matrice de confusion\n",
    "MC <- confusionMatrix(data = pred, as.factor(test$Cible))\n",
    "mc<-table(as.factor(test$Cible),pred)\n",
    "mc\n",
    "#Taux de prédiction\n",
    "prediction=mc[2,2]/sum(mc[2,])\n",
    "print(prediction)"
   ]
  },
  {
   "cell_type": "code",
   "execution_count": 40,
   "metadata": {},
   "outputs": [
    {
     "name": "stderr",
     "output_type": "stream",
     "text": [
      "Setting levels: control = 0, case = 1\n",
      "\n",
      "Setting direction: controls < cases\n",
      "\n"
     ]
    },
    {
     "data": {
      "text/html": [
       "0.71973544973545"
      ],
      "text/latex": [
       "0.71973544973545"
      ],
      "text/markdown": [
       "0.71973544973545"
      ],
      "text/plain": [
       "Area under the curve: 0.7197"
      ]
     },
     "metadata": {},
     "output_type": "display_data"
    },
    {
     "data": {
      "image/png": "[encoded data removed]",
      "text/plain": [
       "plot without title"
      ]
     },
     "metadata": {
      "image/png": {
       "height": 420,
       "width": 420
      },
      "text/plain": {
       "height": 420,
       "width": 420
      }
     },
     "output_type": "display_data"
    }
   ],
   "source": [
    "pred.m <- as.vector(mProbs)[,\"X1\"]\n",
    "roc.m <- pROC::roc(test$Cible, pred.m)\n",
    "auc <- pROC::auc(roc.m)\n",
    "auc\n",
    "plot(roc.m)"
   ]
  },
  {
   "cell_type": "code",
   "execution_count": 42,
   "metadata": {
    "scrolled": false
   },
   "outputs": [
    {
     "data": {
      "image/png": "[encoded data removed]",
      "text/plain": [
       "Plot with title \"Courbe de lift\""
      ]
     },
     "metadata": {
      "image/png": {
       "height": 420,
       "width": 420
      },
      "text/plain": {
       "height": 420,
       "width": 420
      }
     },
     "output_type": "display_data"
    }
   ],
   "source": [
    "library(ROCR)\n",
    "pred_test <- predict(m, newdata=test, type=\"raw\")\n",
    "pred_test = ifelse(pred_test == 'X0',0,1)\n",
    "predTest <- prediction(pred_test,test$Cible,label.ordering=c(0,1))\n",
    "# perf <- performance(predTest,\"tpr\",\"fpr\")\n",
    "# plot(perf,main='Courbe ROC')\n",
    "# segments(0,0,1,1,lty=3) # ajout diagonale en pointillés \n",
    "# courbe de lift\n",
    "lift <- performance(predTest,\"tpr\",\"rpp\")\n",
    "plot(lift,main='Courbe de lift')\n",
    "abline(v=0.2, col=\"blue\", lty=c(1,2))\n",
    "abline(h=0.32, col=\"blue\", lty=c(1,2))\n",
    "segments(0,0,1,1,lty=3) # ajout diagonale en pointillés "
   ]
  },
  {
   "cell_type": "markdown",
   "metadata": {},
   "source": [
    "#### Interprétation d'un point de vue markéting : On touche 32% de mauvais dossiers (potentiels crédits refusés) en touchant 20% des clients; ce qui n'est pas intéressant sur un plan financier pour l'entreprise"
   ]
  },
  {
   "cell_type": "code",
   "execution_count": 43,
   "metadata": {},
   "outputs": [
    {
     "data": {
      "image/png": "[encoded data removed]",
      "text/plain": [
       "plot without title"
      ]
     },
     "metadata": {
      "image/png": {
       "height": 420,
       "width": 420
      },
      "text/plain": {
       "height": 420,
       "width": 420
      }
     },
     "output_type": "display_data"
    }
   ],
   "source": [
    "# utilisation de la fonction \"prune\" pour l'élagage\n",
    "prunedcart <- prune(m$finalModel,cp=m$bestTune$cp)\n",
    "prp(prunedcart,type=2,extra=1,split.box.col=\"lightgray\")"
   ]
  },
  {
   "cell_type": "markdown",
   "metadata": {},
   "source": [
    "#### Interprétation\n",
    "> Partir de la gauche vers la droite\n",
    "> Si condition remplie alors \"gauche\" sinon \"droite\"\n",
    "\n",
    "#### Concrêtement dans ce cas\n",
    "\n",
    "> Si le client a sur son compte au moins 4 000 €, la probabilité d'avoir un crédit est élevée\n",
    "> Si le client a sur son compte moins de 4000 €, la probabilité d'avoir un refus de crédit est élevée mais s'il demande une durée de crédit inférieur à 12 moins, la probabilité d'avoir le crédit est élevée \n"
   ]
  },
  {
   "cell_type": "code",
   "execution_count": 44,
   "metadata": {},
   "outputs": [
    {
     "data": {
      "text/plain": [
       "rpart variable importance\n",
       "\n",
       "  only 20 most important variables shown (out of 39)\n",
       "\n",
       "                       Overall\n",
       "Comptes                 100.00\n",
       "Duree_credit             78.91\n",
       "Historique_creditA31     47.20\n",
       "Montant_credit           43.58\n",
       "Statut_domicileA152      26.43\n",
       "Nb_credits               21.20\n",
       "Taux_effort              18.32\n",
       "BiensA124                 0.00\n",
       "Historique_creditA33      0.00\n",
       "Anciennete_domicile       0.00\n",
       "Situation_familialeA93    0.00\n",
       "Autres_creditsA143        0.00\n",
       "Historique_creditA34      0.00\n",
       "TelephoneA192             0.00\n",
       "Objet_creditA46           0.00\n",
       "Objet_creditA49           0.00\n",
       "Type_emploiA172           0.00\n",
       "Age                       0.00\n",
       "Nb_pers_charge            0.00\n",
       "Objet_creditA41           0.00"
      ]
     },
     "metadata": {},
     "output_type": "display_data"
    }
   ],
   "source": [
    "# https://cran.r-project.org/web/packages/varImp/varImp.pdf\n",
    "vimp = varImp(object = m, measure = \"multiclass.Brier\")\n",
    "vimp"
   ]
  },
  {
   "cell_type": "markdown",
   "metadata": {},
   "source": [
    ">><font color='green'>Classification Ascendante Hiérachique(CAH) et kmeans</font>"
   ]
  },
  {
   "cell_type": "markdown",
   "metadata": {},
   "source": [
    "> Un très bon article répond à ce sujet : http://eric.univ-lyon2.fr/~ricco/cours/didacticiels/R/cah_kmeans_avec_r.pdf"
   ]
  },
  {
   "cell_type": "code",
   "execution_count": null,
   "metadata": {},
   "outputs": [],
   "source": []
  }
 ],
 "metadata": {
  "kernelspec": {
   "display_name": "R",
   "language": "R",
   "name": "ir"
  },
  "language_info": {
   "codemirror_mode": "r",
   "file_extension": ".r",
   "mimetype": "text/x-r-source",
   "name": "R",
   "pygments_lexer": "r",
   "version": "3.5.1"
  }
 },
 "nbformat": 4,
 "nbformat_minor": 2
}
