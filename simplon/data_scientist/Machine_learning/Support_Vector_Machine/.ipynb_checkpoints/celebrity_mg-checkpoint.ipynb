{
 "cells": [
  {
   "cell_type": "code",
   "execution_count": null,
   "metadata": {},
   "outputs": [],
   "source": []
  },
  {
   "cell_type": "code",
   "execution_count": null,
   "metadata": {},
   "outputs": [],
   "source": [
    "import numpy as np\n",
    "import pandas as pd\n",
    "from subprocess import check_output\n",
    "import numpy as np\n",
    "from numpy import asarray\n",
    "import cv2\n",
    "import os\n",
    "from PIL import Image"
   ]
  },
  {
   "cell_type": "code",
   "execution_count": null,
   "metadata": {},
   "outputs": [],
   "source": [
    "db = list()\n",
    "db_ = list()\n",
    "target_ = list()\n",
    "target1 = list()\n",
    "#load training dataset of the faces data\n",
    "for imgfolder in os.listdir('D:/Programmation/Mes cours/SIMPLON/Différentes prez Formateur/Promo IA Nancy/SVM/data/train/'): #iterate thru each of the 5 celeb folders\n",
    "    for filename in os.listdir('D:/Programmation/Mes cours/SIMPLON/Différentes prez Formateur/Promo IA Nancy/SVM/data/train/' + imgfolder):\n",
    "        filename = 'D:/Programmation/Mes cours/SIMPLON/Différentes prez Formateur/Promo IA Nancy/SVM/data/train/' + imgfolder + '/' + filename \n",
    "        img = Image.open(filename)\n",
    "        target = imgfolder\n",
    "        print(target) \n",
    "        plt.imshow(img, cmap = 'gray', interpolation = 'bicubic') \n",
    "        plt.xticks([]), plt.yticks([])\n",
    "        plt.show()\n",
    "        pixels = asarray(img)\n",
    "        (largeur, hauteur)= img.size\n",
    "        for x in range(largeur):\n",
    "            for y in range(hauteur):\n",
    "                db_.append(img.getpixel((x,y)))\n",
    "                target1.append(target)\n",
    "        db.append(img.size)\n",
    "        target_.append(target)"
   ]
  },
  {
   "cell_type": "code",
   "execution_count": null,
   "metadata": {},
   "outputs": [],
   "source": [
    "db = pd.DataFrame(db).dropna\n",
    "target_ = pd.DataFrame(target_)\n",
    "target1 = pd.DataFrame(target1)\n",
    "db1 = pd.DataFrame(db_)\n",
    "db1 = np.array(db1)\n",
    "db1 = pd.DataFrame(data=db1,columns=['c1','c2','c3','c4'])\n",
    "db1.drop('c4',1,inplace=True)\n",
    "print(db1)"
   ]
  },
  {
   "cell_type": "code",
   "execution_count": null,
   "metadata": {},
   "outputs": [],
   "source": [
    "from sklearn.model_selection import train_test_split\n",
    "X_train, X_test, y_train, y_test = train_test_split(db1, target1, test_size=0.3, random_state=42)"
   ]
  },
  {
   "cell_type": "code",
   "execution_count": null,
   "metadata": {},
   "outputs": [],
   "source": [
    "X_train"
   ]
  },
  {
   "cell_type": "code",
   "execution_count": null,
   "metadata": {},
   "outputs": [],
   "source": [
    "from sklearn.svm import SVC\n",
    "from sklearn.decomposition import PCA\n",
    "from sklearn.pipeline import make_pipeline\n",
    "\n",
    "pca = PCA(n_components=2, svd_solver='randomized', whiten=True, random_state=42)\n",
    "svc = SVC(kernel='rbf', class_weight='balanced', C=1E6, cache_size=4000)\n",
    "model = make_pipeline(pca, svc)"
   ]
  },
  {
   "cell_type": "code",
   "execution_count": null,
   "metadata": {},
   "outputs": [],
   "source": [
    "model.fit(X_train, y_train)\n",
    "y_pred = model.predict(X_test)\n",
    "\n",
    "from sklearn.metrics import classification_report\n",
    "print(classification_report(y_test, y_pred))"
   ]
  }
 ],
 "metadata": {
  "language_info": {
   "codemirror_mode": {
    "name": "ipython",
    "version": 3
   },
   "file_extension": ".py",
   "mimetype": "text/x-python",
   "name": "python",
   "nbconvert_exporter": "python",
   "pygments_lexer": "ipython3",
   "version": 3
  },
  "orig_nbformat": 2
 },
 "nbformat": 4,
 "nbformat_minor": 2
}