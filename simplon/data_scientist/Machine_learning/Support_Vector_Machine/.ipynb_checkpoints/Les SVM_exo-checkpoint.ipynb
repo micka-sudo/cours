{
 "cells": [
  {
   "cell_type": "markdown",
   "metadata": {},
   "source": [
    "# Exercices d'application des SVM"
   ]
  },
  {
   "cell_type": "markdown",
   "metadata": {},
   "source": [
    "### Exercice 1 \n",
    "\n",
    "#### Partie 1 : classifieur linéaire\n",
    "\n",
    "1. Importer les données Social_Network_Ads.csv et regarder ce qu'elles contiennent\n",
    "2. On utilisera dans un premier temps (par souci de visualisation) uniquement les 2 variables numériques du dataset comme features\n",
    "3. Diviser le dataset en training/test set\n",
    "4. Entraîner un classifieur linéaire (LinearSVC et SVC avec kernel='linear'. Quelle différence ?)\n",
    "5. Faire de prédictions sur X_test\n",
    "6. Afficher la matrice de confusion avec heatmap\n",
    "7. Faire le graphique affichant la frontière de décision, les zones en couleur et les points du dataset\n",
    "8. Recommencer les étapes 4, 5, 6 et 7 en effectuant une normalisation sur les features\n",
    "9. Recommencer les étapes 4,5 et 6 en intégrant les autres données disponibles dans votre matrice X et comparer les modèles\n",
    "\n",
    "#### Partie 1 : classifieur non-linéaire\n",
    "\n",
    "On repart du même dataset initial avec dans un premier temps uniquement les 2 variables numériques du dataset.\n",
    "\n",
    "1. Diviser le dataset en training/test set\n",
    "2. Normaliser les features\n",
    "3. Entraîner un classifieur SVC : tester les deux kernel='rbf' et 'poly'\n",
    "4. Faire de nouvelles prédictions sur X_test\n",
    "5. Afficher la matrice de confusion avec heatmap\n",
    "6. Recommencer les étapes 4,5 et 6 en intégrant les autres données disponibles dans votre matrice X et comparer les modèles"
   ]
  },
  {
   "cell_type": "markdown",
   "metadata": {},
   "source": [
    "### Exercice 2 :  classifieur non-linéaire\n",
    "\n"
   ]
  },
  {
   "cell_type": "markdown",
   "metadata": {},
   "source": [
    "1. Charger la base de données : \"Client.csv\"\n",
    "2. Faire une sélection de variables ; la variable cible est \"resilies\"\n",
    "3. Entraîner un classifieur non linéaire\n",
    "4. Faire de prédictions sur X_test\n",
    "5. Afficher la matrice de confusion avec heatmap"
   ]
  },
  {
   "cell_type": "markdown",
   "metadata": {},
   "source": [
    "### Exercice 3 :  reconnaissance faciale"
   ]
  },
  {
   "cell_type": "markdown",
   "metadata": {},
   "source": [
    "Télécharger les données suivantes : https://www.kaggle.com/dansbecker/5-celebrity-faces-dataset\n",
    "\n",
    "1. Diviser le dataset en training/test set\n",
    "2. Entraîner un classifieur non linéaire\n",
    "3. Faire des prédictions sur X_test\n",
    "4. Afficher la matrice de confusion avec heatmap"
   ]
  },
  {
   "cell_type": "markdown",
   "metadata": {},
   "source": []
  },
  {
   "cell_type": "code",
   "execution_count": null,
   "metadata": {},
   "outputs": [],
   "source": []
  }
 ],
 "metadata": {
  "kernelspec": {
   "display_name": "Python 3",
   "language": "python",
   "name": "python3"
  },
  "language_info": {
   "codemirror_mode": {
    "name": "ipython",
    "version": 3
   },
   "file_extension": ".py",
   "mimetype": "text/x-python",
   "name": "python",
   "nbconvert_exporter": "python",
   "pygments_lexer": "ipython3",
   "version": "3.7.6"
  }
 },
 "nbformat": 4,
 "nbformat_minor": 4
}
