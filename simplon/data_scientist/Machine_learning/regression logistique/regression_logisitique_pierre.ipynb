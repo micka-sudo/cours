{
 "cells": [
  {
   "cell_type": "markdown",
   "metadata": {
    "heading_collapsed": true
   },
   "source": [
    "# Imports"
   ]
  },
  {
   "cell_type": "markdown",
   "metadata": {
    "heading_collapsed": true
   },
   "source": [
    "# 1. Quel est l’intérêt de la régression logistique ?"
   ]
  },
  {
   "cell_type": "markdown",
   "metadata": {
    "hidden": true
   },
   "source": [
    "    Elle permet de mesurer l’association entre la survenue d’un évènement (variable expliquée qualitative) et \n",
    "    les facteurs susceptibles de l’influencer (variables explicatives)\n",
    "    Classification supervisee (discrimination)\n",
    "   \n",
    "    Differentes procedures :\n",
    "    2 classes : Regression logistique\n",
    "    >2 classes : Analyse discriminante, Arbres de decision, Reseaux deneurones,..."
   ]
  },
  {
   "cell_type": "markdown",
   "metadata": {
    "heading_collapsed": true
   },
   "source": [
    "# 2. Donner des exemples de problèmes auxquels la régression logistique permet de répondre ?"
   ]
  },
  {
   "cell_type": "markdown",
   "metadata": {
    "hidden": true
   },
   "source": [
    "    En médecine, elle permet par exemple de trouver les facteurs qui caractérisent un groupe de sujets malades par rapport \n",
    "    à des sujets sains. Tres utilisee en epidemiologie.\n",
    "   \n",
    "    Dans le domaine des assurances, elle permet de cibler une fraction de la clientèle qui sera sensible à une police \n",
    "    d’assurance sur tel ou tel risque particulier.\n",
    "    \n",
    "    Dans le domaine bancaire, pour détecter les groupes à risque lors de la souscription d’un crédit.\n",
    "    \n",
    "    En économétrie, pour expliquer une variable discrète. Par exemple, les intentions de vote aux élections."
   ]
  },
  {
   "cell_type": "markdown",
   "metadata": {
    "heading_collapsed": true
   },
   "source": [
    "# 3. Combien y -t-il de types de régressions logistiques ? Lesquels ?"
   ]
  },
  {
   "cell_type": "markdown",
   "metadata": {
    "hidden": true
   },
   "source": [
    "    3 types de regression logistique:\n",
    "        binaire:\n",
    "            VAE binaire (ex : vivant / deces\n",
    "        ordinale:\n",
    "            VAE ordinale (ex : stades de cancer)\n",
    "                prerequis : hypotheses complementaires fortes (proportionnalite entre les modalites de Y)\n",
    "        qualitative:\n",
    "            VAE qualitative (ex : types de cancer)\n",
    "                prerequis : Multinomiale: peut etre vue comme plusieurs regressions logistiques binaires. \n",
    "                L'interpretation des coefficients est plus difficile"
   ]
  },
  {
   "cell_type": "markdown",
   "metadata": {
    "heading_collapsed": true
   },
   "source": [
    "# 4. Pourquoi le nom de «régression logistique» ?"
   ]
  },
  {
   "cell_type": "markdown",
   "metadata": {
    "hidden": true
   },
   "source": [
    "    Logistic Regression is one of the basic and popular algorithm to solve a classification problem. \n",
    "    It is named as 'Logistic Regression', because it's underlying technique is quite the same as Linear Regression. \n",
    "    The term “Logistic” is taken from the Logit function that is used in this method of classification"
   ]
  },
  {
   "cell_type": "markdown",
   "metadata": {
    "heading_collapsed": true
   },
   "source": [
    "# 5. Que sont les False Positives et les False Negatives ?"
   ]
  },
  {
   "cell_type": "markdown",
   "metadata": {
    "hidden": true
   },
   "source": [
    "    Un faux positives est une valeur classifier positivement alors qu'elle est négative\n",
    "    Un faux negatives est une valeur classifier negativement alors qu'elle est positif\n",
    "    l'ensemble représente les erreurs de notre model"
   ]
  },
  {
   "cell_type": "markdown",
   "metadata": {
    "heading_collapsed": true
   },
   "source": [
    "# 6. Qu’appelle-t-on matrice de confusion ? Quel autre nom a-t-elle ?"
   ]
  },
  {
   "cell_type": "markdown",
   "metadata": {
    "hidden": true
   },
   "source": [
    "    une matrice qui mesure la qualité d'un système de classification. (grace aux faux positif et aux faux negatif)\n",
    "    une matrice d'erreur"
   ]
  },
  {
   "cell_type": "markdown",
   "metadata": {},
   "source": [
    "# 7. Que sont les notions de : "
   ]
  },
  {
   "cell_type": "markdown",
   "metadata": {},
   "source": [
    "## performance ou justesse ou accuracy"
   ]
  },
  {
   "cell_type": "markdown",
   "metadata": {},
   "source": [
    "    Cela représente la perfomance global du model"
   ]
  },
  {
   "cell_type": "markdown",
   "metadata": {},
   "source": [
    "## d’erreur"
   ]
  },
  {
   "cell_type": "markdown",
   "metadata": {},
   "source": [
    "    Cela représente le taux d'erreur du model"
   ]
  },
  {
   "cell_type": "markdown",
   "metadata": {},
   "source": [
    "## deprécision ou valeur prédictive positive"
   ]
  },
  {
   "cell_type": "markdown",
   "metadata": {},
   "source": [
    "    la probabilité que la condition soit présente lorsque le test est positif"
   ]
  },
  {
   "cell_type": "markdown",
   "metadata": {},
   "source": [
    "## desensibilité ou rappel ou recall"
   ]
  },
  {
   "cell_type": "markdown",
   "metadata": {},
   "source": [
    "    la probabilité que la condition ne soit pas présente lorsque le test est négatif"
   ]
  },
  {
   "cell_type": "markdown",
   "metadata": {},
   "source": [
    "## de spécificité"
   ]
  },
  {
   "cell_type": "markdown",
   "metadata": {},
   "source": [
    "    la sensibilité (ou sélectivité) d'un test mesure sa capacité à donner un résultat positif lorsqu'une hypothèse est vérifiée."
   ]
  },
  {
   "cell_type": "markdown",
   "metadata": {},
   "source": [
    "# 8. Comment interprète-t-on les coefficients de la régression logistique ?"
   ]
  },
  {
   "cell_type": "markdown",
   "metadata": {},
   "source": [
    "    Celà permets de connaître l'importance d'une variable expliquative x pour l'explication d'une variable expliqué x"
   ]
  },
  {
   "cell_type": "markdown",
   "metadata": {},
   "source": [
    "# 9. Que sont les odds ratio (rapport de côtes) ?"
   ]
  },
  {
   "cell_type": "markdown",
   "metadata": {},
   "source": [
    "    le degré de dépendance entre des variables aléatoires qualitatives"
   ]
  },
  {
   "cell_type": "markdown",
   "metadata": {},
   "source": [
    "# 10. Quel est le lien entre les odds ratio et les coefficients ?"
   ]
  },
  {
   "cell_type": "code",
   "execution_count": null,
   "metadata": {},
   "outputs": [],
   "source": []
  },
  {
   "cell_type": "markdown",
   "metadata": {},
   "source": [
    "# 11. Que sont les critères ROC et AUC ?"
   ]
  },
  {
   "cell_type": "code",
   "execution_count": null,
   "metadata": {},
   "outputs": [],
   "source": []
  }
 ],
 "metadata": {
  "kernelspec": {
   "display_name": "Python 3",
   "language": "python",
   "name": "python3"
  },
  "language_info": {
   "codemirror_mode": {
    "name": "ipython",
    "version": 3
   },
   "file_extension": ".py",
   "mimetype": "text/x-python",
   "name": "python",
   "nbconvert_exporter": "python",
   "pygments_lexer": "ipython3",
   "version": "3.7.4"
  }
 },
 "nbformat": 4,
 "nbformat_minor": 2
}
