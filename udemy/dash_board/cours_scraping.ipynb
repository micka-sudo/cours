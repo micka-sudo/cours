{
 "cells": [
  {
   "cell_type": "markdown",
   "metadata": {},
   "source": [
    "### Scraping"
   ]
  },
  {
   "cell_type": "markdown",
   "metadata": {},
   "source": [
    "#### Import libraries"
   ]
  },
  {
   "cell_type": "code",
   "execution_count": 1,
   "metadata": {},
   "outputs": [],
   "source": [
    "# request pour lancer les requete\n",
    "import requests\n",
    "from bs4 import BeautifulSoup as bs"
   ]
  },
  {
   "cell_type": "code",
   "execution_count": 2,
   "metadata": {},
   "outputs": [],
   "source": [
    "# http://www.journaldunet.com/management/ville/index/villes?pages=1\n",
    "url = \"http://www.journaldunet.com/management/ville/index/villes?pages=1\""
   ]
  },
  {
   "cell_type": "code",
   "execution_count": 3,
   "metadata": {},
   "outputs": [],
   "source": [
    "# on fait une requete sur notre url\n",
    "req = requests.get(url)"
   ]
  },
  {
   "cell_type": "code",
   "execution_count": 4,
   "metadata": {},
   "outputs": [],
   "source": [
    "# recuperation du contenue\n",
    "contenu = req.content"
   ]
  },
  {
   "cell_type": "code",
   "execution_count": 5,
   "metadata": {},
   "outputs": [],
   "source": [
    "# lire la \"soup\"\n",
    "# en 1 ligne soup = bs(requests.get(\"http://www.journaldunet.com/management/ville/index/villes?pages=1\").content, \"html.parser\")\n",
    "soup = bs(contenu, \"html.parser\")"
   ]
  },
  {
   "cell_type": "code",
   "execution_count": 14,
   "metadata": {},
   "outputs": [
    {
     "data": {
      "text/plain": [
       "2"
      ]
     },
     "execution_count": 14,
     "metadata": {},
     "output_type": "execute_result"
    }
   ],
   "source": [
    "# recherche dans la \"soup\", l\"ul\" de class=\"bloc size1of2 odSquareList\"\n",
    "groupe_listes = soup.findAll('ul', class_ = \"bloc size1of2 odSquareList\")\n",
    "len(groupe_listes)"
   ]
  },
  {
   "cell_type": "code",
   "execution_count": 15,
   "metadata": {},
   "outputs": [
    {
     "data": {
      "text/plain": [
       "25"
      ]
     },
     "execution_count": 15,
     "metadata": {},
     "output_type": "execute_result"
    }
   ],
   "source": [
    "# récupération des liens de notre liste\n",
    "tout_les_liens = groupe_listes[0].findAll(\"a\")\n",
    "len(tout_les_liens)"
   ]
  },
  {
   "cell_type": "code",
   "execution_count": 19,
   "metadata": {
    "collapsed": true,
    "jupyter": {
     "outputs_hidden": true
    }
   },
   "outputs": [
    {
     "name": "stdout",
     "output_type": "stream",
     "text": [
      "/management/ville/aast/ville-64001\n",
      "/management/ville/abainville/ville-55001\n",
      "/management/ville/abancourt/ville-59001\n",
      "/management/ville/abancourt/ville-60001\n",
      "/management/ville/abaucourt/ville-54001\n",
      "/management/ville/abaucourt-hautecourt/ville-55002\n",
      "/management/ville/abbans-dessous/ville-25001\n",
      "/management/ville/abbans-dessus/ville-25002\n",
      "/management/ville/abbaretz/ville-44001\n",
      "/management/ville/abbecourt/ville-02001\n",
      "/management/ville/abbecourt/ville-60002\n",
      "/management/ville/abbenans/ville-25003\n",
      "/management/ville/abbeville/ville-80001\n",
      "/management/ville/abbeville-la-riviere/ville-91001\n",
      "/management/ville/abbeville-les-conflans/ville-54002\n",
      "/management/ville/abbeville-saint-lucien/ville-60003\n",
      "/management/ville/abbevillers/ville-25004\n",
      "/management/ville/abeilhan/ville-34001\n",
      "/management/ville/abelcourt/ville-70001\n",
      "/management/ville/abere/ville-64002\n",
      "/management/ville/abergement-la-ronce/ville-39001\n",
      "/management/ville/abergement-le-grand/ville-39002\n",
      "/management/ville/abergement-le-petit/ville-39003\n",
      "/management/ville/abergement-les-thesy/ville-39004\n",
      "/management/ville/abidos/ville-64003\n"
     ]
    }
   ],
   "source": [
    "# itératioin dans notre liste de liens\n",
    "for lien in tout_les_liens:\n",
    "    # affiche l'élément href du lien\n",
    "    print(lien['href'])\n",
    "    # pour affiché le text du liesn\n",
    "    #print(lien.text)"
   ]
  },
  {
   "cell_type": "code",
   "execution_count": 22,
   "metadata": {},
   "outputs": [
    {
     "data": {
      "text/plain": [
       "268"
      ]
     },
     "execution_count": 22,
     "metadata": {},
     "output_type": "execute_result"
    }
   ],
   "source": [
    "# recuperation de TOUT les liens de la pages\n",
    "tout_les_liens = soup.findAll(\"a\")\n",
    "len(tout_les_liens)"
   ]
  },
  {
   "cell_type": "code",
   "execution_count": 24,
   "metadata": {
    "collapsed": true,
    "jupyter": {
     "outputs_hidden": true
    }
   },
   "outputs": [
    {
     "name": "stdout",
     "output_type": "stream",
     "text": [
      "/management/ville/\n",
      "/management/ville/index/villes\n",
      "/management/ville/index/villes/a\n",
      "/management/ville/index/villes/b\n",
      "/management/ville/index/villes/c\n",
      "/management/ville/index/villes/d\n",
      "/management/ville/index/villes/e\n",
      "/management/ville/index/villes/f\n",
      "/management/ville/index/villes/g\n",
      "/management/ville/index/villes/h\n",
      "/management/ville/index/villes/i\n",
      "/management/ville/index/villes/j\n",
      "/management/ville/index/villes/k\n",
      "/management/ville/index/villes/l\n",
      "/management/ville/index/villes/m\n",
      "/management/ville/index/villes/n\n",
      "/management/ville/index/villes/o\n",
      "/management/ville/index/villes/p\n",
      "/management/ville/index/villes/q\n",
      "/management/ville/index/villes/r\n",
      "/management/ville/index/villes/s\n",
      "/management/ville/index/villes/t\n",
      "/management/ville/index/villes/u\n",
      "/management/ville/index/villes/v\n",
      "/management/ville/index/villes/w\n",
      "/management/ville/index/villes/x\n",
      "/management/ville/index/villes/y\n",
      "/management/ville/index/villes/z\n",
      "/management/ville/aast/ville-64001\n",
      "/management/ville/abainville/ville-55001\n",
      "/management/ville/abancourt/ville-59001\n",
      "/management/ville/abancourt/ville-60001\n",
      "/management/ville/abaucourt/ville-54001\n",
      "/management/ville/abaucourt-hautecourt/ville-55002\n",
      "/management/ville/abbans-dessous/ville-25001\n",
      "/management/ville/abbans-dessus/ville-25002\n",
      "/management/ville/abbaretz/ville-44001\n",
      "/management/ville/abbecourt/ville-02001\n",
      "/management/ville/abbecourt/ville-60002\n",
      "/management/ville/abbenans/ville-25003\n",
      "/management/ville/abbeville/ville-80001\n",
      "/management/ville/abbeville-la-riviere/ville-91001\n",
      "/management/ville/abbeville-les-conflans/ville-54002\n",
      "/management/ville/abbeville-saint-lucien/ville-60003\n",
      "/management/ville/abbevillers/ville-25004\n",
      "/management/ville/abeilhan/ville-34001\n",
      "/management/ville/abelcourt/ville-70001\n",
      "/management/ville/abere/ville-64002\n",
      "/management/ville/abergement-la-ronce/ville-39001\n",
      "/management/ville/abergement-le-grand/ville-39002\n",
      "/management/ville/abergement-le-petit/ville-39003\n",
      "/management/ville/abergement-les-thesy/ville-39004\n",
      "/management/ville/abidos/ville-64003\n",
      "/management/ville/abilly/ville-37001\n",
      "/management/ville/abitain/ville-64004\n",
      "/management/ville/abjat-sur-bandiat/ville-24001\n",
      "/management/ville/ablain-saint-nazaire/ville-62001\n",
      "/management/ville/ablaincourt-pressoir/ville-80002\n",
      "/management/ville/ablainzevelle/ville-62002\n",
      "/management/ville/ablancourt/ville-51001\n",
      "/management/ville/ableiges/ville-95002\n",
      "/management/ville/ablis/ville-78003\n",
      "/management/ville/ablon/ville-14001\n",
      "/management/ville/ablon-sur-seine/ville-94001\n",
      "/management/ville/aboen/ville-42001\n",
      "/management/ville/aboncourt/ville-54003\n",
      "/management/ville/aboncourt/ville-57001\n",
      "/management/ville/aboncourt-gesincourt/ville-70002\n",
      "/management/ville/aboncourt-sur-seille/ville-57002\n",
      "/management/ville/abondance/ville-74001\n",
      "/management/ville/abondant/ville-28001\n",
      "/management/ville/abos/ville-64005\n",
      "/management/ville/abreschviller/ville-57003\n",
      "/management/ville/abrest/ville-03001\n",
      "/management/ville/abries-ristolas/ville-05001\n",
      "/management/ville/abscon/ville-59002\n",
      "/management/ville/abzac/ville-16001\n",
      "/management/ville/abzac/ville-33001\n",
      "/management/ville/index/villes?page=2\n",
      "/management/ville/index/villes\n",
      "/management/ville/index/villes?page=2\n",
      "/management/ville/index/villes?page=3\n",
      "/management/ville/index/villes?page=4\n",
      "/management/ville/index/villes?page=5\n",
      "/management/ville/index/villes?page=6\n",
      "/management/ville/index/villes?page=7\n",
      "/management/ville/index/villes?page=8\n",
      "/management/ville/index/villes?page=9\n",
      "/management/ville/index/villes?page=10\n",
      "http://www.journaldunet.com/management/ville/\n",
      "https://election-municipale.linternaute.com/resultats/resultat-des-municipales-a-paris-les-scores-par-arrondissement/ville-75056\n",
      "https://election-municipale.linternaute.com/resultats/resultat-municipale-lyon-collomb-face-a-la-vague-ecolo-les-scores-par-arrondissement/ville-69123\n",
      "https://election-municipale.linternaute.com/resultats/resultat-des-municipales-a-marseille-une-union-entre-la-gauche-et-les-ecologistes-menace-la-droite/ville-13055\n",
      "https://election-municipale.linternaute.com/resultats/resultat-des-municipale-a-toulouse-moudenc-loin-devant-selon-les-resultats-definitifs/ville-31555\n",
      "https://election-municipale.linternaute.com/resultats/resultat-des-municipales-a-nice-les-chiffres-du-premier-tour/ville-06088\n",
      "https://election-municipale.linternaute.com/resultats/resultat-des-municipales-a-nantes-les-dernieres-donnees-cles-sur-le-premier-tour-en-direct/ville-44109\n",
      "https://election-municipale.linternaute.com/resultats/resultat-des-municipales-a-montpellier-les-grandes-tendances-en-direct/ville-34172\n",
      "https://election-municipale.linternaute.com/resultats/resultat-des-municipales-a-strasbourg-premieres-donnees-sur-l-election/ville-67482\n",
      "https://election-municipale.linternaute.com/resultats/resultat-des-municipales-a-grenoble-les-premieres-tendances-et-les-dernieres-infos-direct/ville-38185\n",
      "https://election-municipale.linternaute.com/resultats/resultat-des-municipales-a-bordeaux-nicolas-florian-lr-ou-pierre-hurmic-eelv-en-tete/ville-33063\n",
      "https://election-municipale.linternaute.com/resultats/resultat-des-municipales-a-lille-premiers-indices-sur-l-election/ville-59350\n",
      "https://election-municipale.linternaute.com/resultats/resultat-des-municipales-a-rennes-les-premieres-tendances-devoilees-direct/ville-35238\n"
     ]
    }
   ],
   "source": [
    "for lien in tout_les_liens:\n",
    "    if \"/ville\" in lien[\"href\"]:\n",
    "        print(lien[\"href\"])"
   ]
  },
  {
   "cell_type": "code",
   "execution_count": null,
   "metadata": {},
   "outputs": [],
   "source": []
  },
  {
   "cell_type": "code",
   "execution_count": null,
   "metadata": {},
   "outputs": [],
   "source": []
  }
 ],
 "metadata": {
  "kernelspec": {
   "display_name": "Python 3",
   "language": "python",
   "name": "python3"
  },
  "language_info": {
   "codemirror_mode": {
    "name": "ipython",
    "version": 3
   },
   "file_extension": ".py",
   "mimetype": "text/x-python",
   "name": "python",
   "nbconvert_exporter": "python",
   "pygments_lexer": "ipython3",
   "version": "3.7.6"
  },
  "toc": {
   "base_numbering": 1,
   "nav_menu": {},
   "number_sections": true,
   "sideBar": true,
   "skip_h1_title": false,
   "title_cell": "Table of Contents",
   "title_sidebar": "Contents",
   "toc_cell": false,
   "toc_position": {},
   "toc_section_display": true,
   "toc_window_display": false
  },
  "varInspector": {
   "cols": {
    "lenName": 16,
    "lenType": 16,
    "lenVar": 40
   },
   "kernels_config": {
    "python": {
     "delete_cmd_postfix": "",
     "delete_cmd_prefix": "del ",
     "library": "var_list.py",
     "varRefreshCmd": "print(var_dic_list())"
    },
    "r": {
     "delete_cmd_postfix": ") ",
     "delete_cmd_prefix": "rm(",
     "library": "var_list.r",
     "varRefreshCmd": "cat(var_dic_list()) "
    }
   },
   "types_to_exclude": [
    "module",
    "function",
    "builtin_function_or_method",
    "instance",
    "_Feature"
   ],
   "window_display": false
  }
 },
 "nbformat": 4,
 "nbformat_minor": 4
}
