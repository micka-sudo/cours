{
 "cells": [
  {
   "cell_type": "markdown",
   "metadata": {
    "toc": true
   },
   "source": [
    "<h1>Table of Contents<span class=\"tocSkip\"></span></h1>\n",
    "<div class=\"toc\"><ul class=\"toc-item\"><li><span><a href=\"#librairies-et-dataset\" data-toc-modified-id=\"librairies-et-dataset-1\"><span class=\"toc-item-num\">1&nbsp;&nbsp;</span>librairies et dataset</a></span><ul class=\"toc-item\"><li><span><a href=\"#import-libraries\" data-toc-modified-id=\"import-libraries-1.1\"><span class=\"toc-item-num\">1.1&nbsp;&nbsp;</span>import libraries</a></span></li><li><span><a href=\"#Import-des-datasets\" data-toc-modified-id=\"Import-des-datasets-1.2\"><span class=\"toc-item-num\">1.2&nbsp;&nbsp;</span>Import des datasets</a></span></li><li><span><a href=\"#Pour-la-ville-sur-la-carte-de-france\" data-toc-modified-id=\"Pour-la-ville-sur-la-carte-de-france-1.3\"><span class=\"toc-item-num\">1.3&nbsp;&nbsp;</span>Pour la ville sur la carte de france</a></span></li></ul></li><li><span><a href=\"#Creation-dash-board\" data-toc-modified-id=\"Creation-dash-board-2\"><span class=\"toc-item-num\">2&nbsp;&nbsp;</span>Creation dash board</a></span><ul class=\"toc-item\"><li><span><a href=\"#Création-decorateur-et-function-pour-les-infos-générales\" data-toc-modified-id=\"Création-decorateur-et-function-pour-les-infos-générales-2.1\"><span class=\"toc-item-num\">2.1&nbsp;&nbsp;</span>Création decorateur et function pour les infos générales</a></span></li></ul></li></ul></div>"
   ]
  },
  {
   "cell_type": "markdown",
   "metadata": {},
   "source": [
    "### librairies et dataset"
   ]
  },
  {
   "cell_type": "markdown",
   "metadata": {},
   "source": [
    "#### import libraries"
   ]
  },
  {
   "cell_type": "code",
   "execution_count": 1,
   "metadata": {
    "ExecuteTime": {
     "end_time": "2020-05-20T15:54:34.899288Z",
     "start_time": "2020-05-20T15:54:34.230288Z"
    }
   },
   "outputs": [],
   "source": [
    "import dash\n",
    "import dash_core_components as dcc\n",
    "import dash_html_components as html\n",
    "import plotly\n",
    "import plotly.graph_objects as go\n",
    "from dash.dependencies import Input, Output\n",
    "import dash_table\n",
    "import pandas as pd\n",
    "import numpy as np"
   ]
  },
  {
   "cell_type": "markdown",
   "metadata": {},
   "source": [
    "#### Import des datasets"
   ]
  },
  {
   "cell_type": "code",
   "execution_count": 2,
   "metadata": {
    "ExecuteTime": {
     "end_time": "2020-05-20T15:54:39.821788Z",
     "start_time": "2020-05-20T15:54:36.868789Z"
    },
    "scrolled": false
   },
   "outputs": [
    {
     "name": "stdout",
     "output_type": "stream",
     "text": [
      "                ville                                      lien\n",
      "0        Aast (64460)        /management/ville/aast/ville-64001\n",
      "1  Abainville (55130)  /management/ville/abainville/ville-55001\n",
      "2   Abancourt (59268)   /management/ville/abancourt/ville-59001\n",
      "3   Abancourt (60220)   /management/ville/abancourt/ville-60001\n",
      "4   Abaucourt (54610)   /management/ville/abaucourt/ville-54001\n"
     ]
    }
   ],
   "source": [
    "df_auto = pd.read_csv(\"auto.csv\", dtype = \"unicode\")\n",
    "df_candidats = pd.read_csv(\"candidats_2019.csv\", dtype = \"unicode\")\n",
    "df_chomage = pd.read_csv(\"chomage.csv\", dtype = \"unicode\")\n",
    "df_csp = pd.read_csv(\"csp.csv\", dtype = \"unicode\")\n",
    "df_delinquance = pd.read_csv(\"delinquance.csv\", dtype = \"unicode\")\n",
    "df_demographie = pd.read_csv(\"demographie.csv\", dtype = \"unicode\")\n",
    "df_election = pd.read_csv(\"election.csv\", dtype = \"unicode\")\n",
    "df_emploi = pd.read_csv(\"emploi.csv\", dtype = \"unicode\")\n",
    "df_entreprises = pd.read_csv(\"entreprises.csv\", dtype = \"unicode\")\n",
    "df_immobilier = pd.read_csv(\"immobilier.csv\", dtype = \"unicode\")\n",
    "df_infos = pd.read_csv(\"infos.csv\", dtype = \"unicode\")\n",
    "df_liensVilles = pd.read_csv(\"liensVilles.csv\", dtype = \"unicode\")\n",
    "print(df_liensVilles.head())\n",
    "df_salaires = pd.read_csv(\"salaires.csv\", dtype = \"unicode\")\n",
    "df_santeSocial = pd.read_csv(\"santeSocial.csv\", dtype = \"unicode\")"
   ]
  },
  {
   "cell_type": "markdown",
   "metadata": {},
   "source": [
    "#### Pour la ville sur la carte de france\n",
    "- création variable villes à partir de df_liensVilles"
   ]
  },
  {
   "cell_type": "code",
   "execution_count": 3,
   "metadata": {
    "ExecuteTime": {
     "end_time": "2020-05-20T15:54:43.093787Z",
     "start_time": "2020-05-20T15:54:43.079289Z"
    }
   },
   "outputs": [],
   "source": [
    "# unique pour éviter les doublons\n",
    "villes = [{'label' : ville, \"value\": ville} for ville in df_liensVilles[\"ville\"].unique()]"
   ]
  },
  {
   "cell_type": "markdown",
   "metadata": {},
   "source": [
    "### Creation dash board"
   ]
  },
  {
   "cell_type": "code",
   "execution_count": 4,
   "metadata": {
    "ExecuteTime": {
     "end_time": "2020-05-20T15:54:46.993286Z",
     "start_time": "2020-05-20T15:54:46.975799Z"
    },
    "code_folding": []
   },
   "outputs": [],
   "source": [
    "# fonction dash de la class dash\n",
    "app = dash.Dash(__name__)\n",
    "# on creer un layout /\n",
    "app.layout = html.Div([\n",
    "    html.Div([\n",
    "        # Creation selecteur de ville\n",
    "        html.H4(\"Choisissez une ville :\"),\n",
    "        dcc.Dropdown(\n",
    "            id='ville-picker',\n",
    "            # pour le menu deroulant pour les villes\n",
    "            options=villes,\n",
    "            #pour avoir une ville par defaut\n",
    "            value= \"Paris (75000)\"\n",
    "            \n",
    "        )\n",
    "    ], style={\n",
    "        # taille\n",
    "        'width':'25%',\n",
    "        # bordure 1px taille, solid type, eee couleur\n",
    "        'border':'1px solid #eee',\n",
    "        # espace autour de la box top, right, down, bot\n",
    "        'padding':'30px 30px 30px 120px',\n",
    "        # ombre de la box \n",
    "        'box-shadow': '0 2px 2px #ccc',\n",
    "        # pour eviter les div a coter de notre drowp down\n",
    "        'display':'inline-block',\n",
    "        # pour l'alignement vertical\n",
    "        'verticalAlign': 'top'\n",
    "    }),\n",
    "    html.Div([\n",
    "        # creation tabs\n",
    "        dcc.Tabs(id = 'tabs', value = 'tab-1', children =[\n",
    "            # onglet infos generales\n",
    "            dcc.Tab(label = \"Info Générales\", children =[\n",
    "                # 1er Div\n",
    "                html.Div([\n",
    "                    # titre de taille h3\n",
    "                    html.H3(\"info Générale\")\n",
    "                ], style = {'background': 'blue', 'color' : 'white', 'textAlign': 'center','padding':'10px 0px 10px 0px'}),\n",
    "                # 2eme div dash table\n",
    "                html.Div([\n",
    "                    # création dash table\n",
    "                    dash_table.DataTable(\n",
    "                        id = 'Table_infos',\n",
    "                        \n",
    "                    )\n",
    "                ], style = {}),\n",
    "                # 3eme div Map\n",
    "                html.Div(id = \"Map\", style = {}),\n",
    "                \n",
    "            ]),\n",
    "            # onglet demographie\n",
    "            dcc.Tab(label = \" Demographie\"),\n",
    "            # onglet Santé social\n",
    "            dcc.Tab(label = \" Santé et Social\"),\n",
    "            # onglet immobilier\n",
    "            dcc.Tab(label = \" Immobilier\"),\n",
    "            # onglet Entreprises\n",
    "            dcc.Tab(label = \" Entreprises\"),\n",
    "            # onglet Emploi\n",
    "            dcc.Tab(label = \" Emploi\"),\n",
    "            # onglet Salaires\n",
    "            dcc.Tab(label = \" Salaires\"),\n",
    "            # onglet CSP\n",
    "            dcc.Tab(label = \" CSP\"),\n",
    "            # onglet Automobiles\n",
    "            dcc.Tab(label = \" Automobiles\"),\n",
    "            # onglet Délinquance\n",
    "            dcc.Tab(label = \" Délinquance\"),\n",
    "            # onglet Européennes\n",
    "            dcc.Tab(label = \" Européennes\"),\n",
    "            # onglet CHOMAGE EN FRANCE\n",
    "            dcc.Tab(label = \" CHOMAGE EN FRANCE\")\n",
    "            \n",
    "        ])\n",
    "    ])\n",
    "])"
   ]
  },
  {
   "cell_type": "markdown",
   "metadata": {},
   "source": [
    "#### Création decorateur et function pour les infos générales"
   ]
  },
  {
   "cell_type": "code",
   "execution_count": 5,
   "metadata": {
    "ExecuteTime": {
     "end_time": "2020-05-20T15:54:56.340290Z",
     "start_time": "2020-05-20T15:54:56.333792Z"
    }
   },
   "outputs": [],
   "source": [
    "@app.callback([Output('table_info','data'), Output('table_info', 'columns')],\n",
    "             [Input('ville-picker','value')])\n",
    "def update_generale(ville_choisie):\n",
    "    # var columns du data set infos\n",
    "    colonnes = df_infos.columns\n",
    "    # columns drop\n",
    "    colonnes_off = ['Taux de chômage (2015)','Etablissement public de coopération intercommunale (EPCI)','lien',\n",
    "                    'Unnamed: 0',\"Pavillon bleu\", \"Ville d'art et d'histoire\", \n",
    "                    \"Ville fleurie\", \"Ville internet\",'ville']\n",
    "    # recupération des infos qui nous interesse / pas presente dans colonnes_of\n",
    "    listeInfos = [info for info in colonnes if info not in colonnes_off]\n",
    "    \n",
    "    # recuperation intitulé columns et donnée du df\n",
    "    infos = {\n",
    "        'intitule': listeInfos,\n",
    "        'donnee' : [df_infos[df_infos['ville'] == ville_choisie][col].iloc[0] for col in listeInfos]\n",
    "    }\n",
    "    # convertion infos en data_frame\n",
    "    table = pd.DataFrame(infos)\n",
    "    # choix colonne\n",
    "    data = table.to_dict(\"rows\")\n",
    "    # creation de l'entetet\n",
    "    entete = {'id': 'intitule', 'name': \"   \"}, {'id': 'donnee', 'name': ville_choisie}\n",
    "\n",
    "    return data, entete\n",
    "    "
   ]
  },
  {
   "cell_type": "code",
   "execution_count": null,
   "metadata": {},
   "outputs": [],
   "source": []
  },
  {
   "cell_type": "code",
   "execution_count": null,
   "metadata": {},
   "outputs": [],
   "source": []
  },
  {
   "cell_type": "code",
   "execution_count": null,
   "metadata": {
    "ExecuteTime": {
     "start_time": "2020-05-20T15:55:05.705Z"
    },
    "code_folding": []
   },
   "outputs": [
    {
     "name": "stdout",
     "output_type": "stream",
     "text": [
      " * Serving Flask app \"__main__\" (lazy loading)\n",
      " * Environment: production\n",
      "   WARNING: This is a development server. Do not use it in a production deployment.\n",
      "   Use a production WSGI server instead.\n",
      " * Debug mode: off\n"
     ]
    },
    {
     "name": "stderr",
     "output_type": "stream",
     "text": [
      " * Running on http://127.0.0.1:8050/ (Press CTRL+C to quit)\n",
      "127.0.0.1 - - [20/May/2020 17:56:03] \"\u001b[37mGET / HTTP/1.1\u001b[0m\" 200 -\n",
      "127.0.0.1 - - [20/May/2020 17:56:03] \"\u001b[37mGET /_dash-dependencies HTTP/1.1\u001b[0m\" 200 -\n",
      "127.0.0.1 - - [20/May/2020 17:56:03] \"\u001b[37mGET /_dash-layout HTTP/1.1\u001b[0m\" 200 -\n",
      "127.0.0.1 - - [20/May/2020 18:05:09] \"\u001b[37mGET / HTTP/1.1\u001b[0m\" 200 -\n",
      "127.0.0.1 - - [20/May/2020 18:05:09] \"\u001b[37mGET /_dash-dependencies HTTP/1.1\u001b[0m\" 200 -\n",
      "127.0.0.1 - - [20/May/2020 18:05:09] \"\u001b[37mGET /_dash-layout HTTP/1.1\u001b[0m\" 200 -\n"
     ]
    }
   ],
   "source": [
    "server = app.server\n",
    "if __name__ == \"__main__\":\n",
    "    # pour lancer le serveur dash debug = True pour effectuer les changement en direct\n",
    "    # debug=True ne fonctionne pas a revoir\n",
    "    app.run_server()"
   ]
  },
  {
   "cell_type": "code",
   "execution_count": null,
   "metadata": {},
   "outputs": [],
   "source": []
  },
  {
   "cell_type": "code",
   "execution_count": null,
   "metadata": {},
   "outputs": [],
   "source": []
  },
  {
   "cell_type": "code",
   "execution_count": null,
   "metadata": {},
   "outputs": [],
   "source": []
  },
  {
   "cell_type": "code",
   "execution_count": null,
   "metadata": {},
   "outputs": [],
   "source": []
  },
  {
   "cell_type": "code",
   "execution_count": null,
   "metadata": {},
   "outputs": [],
   "source": []
  },
  {
   "cell_type": "code",
   "execution_count": null,
   "metadata": {},
   "outputs": [],
   "source": []
  },
  {
   "cell_type": "code",
   "execution_count": null,
   "metadata": {},
   "outputs": [],
   "source": []
  },
  {
   "cell_type": "code",
   "execution_count": null,
   "metadata": {},
   "outputs": [],
   "source": []
  },
  {
   "cell_type": "code",
   "execution_count": null,
   "metadata": {},
   "outputs": [],
   "source": []
  },
  {
   "cell_type": "code",
   "execution_count": null,
   "metadata": {},
   "outputs": [],
   "source": []
  }
 ],
 "metadata": {
  "gist": {
   "data": {
    "description": "Cours_udemy/dash_board/cours_dash.ipynb",
    "public": false
   },
   "id": ""
  },
  "kernelspec": {
   "display_name": "Python 3",
   "language": "python",
   "name": "python3"
  },
  "language_info": {
   "codemirror_mode": {
    "name": "ipython",
    "version": 3
   },
   "file_extension": ".py",
   "mimetype": "text/x-python",
   "name": "python",
   "nbconvert_exporter": "python",
   "pygments_lexer": "ipython3",
   "version": "3.7.6"
  },
  "toc": {
   "base_numbering": 1,
   "nav_menu": {},
   "number_sections": true,
   "sideBar": true,
   "skip_h1_title": false,
   "title_cell": "Table of Contents",
   "title_sidebar": "Contents",
   "toc_cell": true,
   "toc_position": {
    "height": "100px",
    "left": "1132px",
    "top": "567.25px",
    "width": "428.8px"
   },
   "toc_section_display": true,
   "toc_window_display": false
  },
  "varInspector": {
   "cols": {
    "lenName": 16,
    "lenType": 16,
    "lenVar": 40
   },
   "kernels_config": {
    "python": {
     "delete_cmd_postfix": "",
     "delete_cmd_prefix": "del ",
     "library": "var_list.py",
     "varRefreshCmd": "print(var_dic_list())"
    },
    "r": {
     "delete_cmd_postfix": ") ",
     "delete_cmd_prefix": "rm(",
     "library": "var_list.r",
     "varRefreshCmd": "cat(var_dic_list()) "
    }
   },
   "types_to_exclude": [
    "module",
    "function",
    "builtin_function_or_method",
    "instance",
    "_Feature"
   ],
   "window_display": false
  }
 },
 "nbformat": 4,
 "nbformat_minor": 4
}
